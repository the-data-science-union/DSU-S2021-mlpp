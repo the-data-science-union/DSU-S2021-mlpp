{
 "cells": [
  {
   "cell_type": "code",
   "execution_count": 1,
   "metadata": {},
   "outputs": [],
   "source": [
    "import sys\n",
    "sys.path.append('../..')\n",
    "from config import client"
   ]
  },
  {
   "cell_type": "code",
   "execution_count": 2,
   "metadata": {},
   "outputs": [
    {
     "data": {
      "text/plain": [
       "{'_id': 1039837703,\n",
       " 'beatmap_id': 208,\n",
       " 'user_id': 61093,\n",
       " 'score': 622234,\n",
       " 'maxcombo': 157,\n",
       " 'rank': 'B',\n",
       " 'count50': 4,\n",
       " 'count100': 27,\n",
       " 'count300': 277,\n",
       " 'countmiss': 14,\n",
       " 'countgeki': 276,\n",
       " 'countkatu': 27,\n",
       " 'perfect': 0,\n",
       " 'enabled_mods': 0,\n",
       " 'date': datetime.datetime(2013, 2, 1, 4, 23, 52),\n",
       " 'pp': 5.00729,\n",
       " 'replay': 0,\n",
       " 'hidden': 0,\n",
       " 'country_acronym': 'AU',\n",
       " 'mlpp': {'est_user_pp': 674.0879664132931,\n",
       "  'est_user_raw_pp': 643.9723823297451}}"
      ]
     },
     "execution_count": 2,
     "metadata": {},
     "output_type": "execute_result"
    }
   ],
   "source": [
    "client['osu_random_db'].osu_scores_high.find_one({})"
   ]
  },
  {
   "cell_type": "code",
   "execution_count": null,
   "metadata": {},
   "outputs": [],
   "source": []
  }
 ],
 "metadata": {
  "kernelspec": {
   "display_name": "dsu-mlpp-env",
   "language": "python",
   "name": "dsu-mlpp-env"
  },
  "language_info": {
   "codemirror_mode": {
    "name": "ipython",
    "version": 3
   },
   "file_extension": ".py",
   "mimetype": "text/x-python",
   "name": "python",
   "nbconvert_exporter": "python",
   "pygments_lexer": "ipython3",
   "version": "3.8.5"
  }
 },
 "nbformat": 4,
 "nbformat_minor": 4
}
