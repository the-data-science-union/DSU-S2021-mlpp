{
  "cells": [
    {
      "cell_type": "markdown",
      "source": "## Notebook Objective: Analyze the Most Popular Beatmaps and their Attributes",
      "metadata": {
        "cell_id": "00000-b3ed711f-3670-47ea-ac79-f3caa877a429",
        "deepnote_cell_type": "markdown"
      }
    },
    {
      "cell_type": "code",
      "metadata": {
        "cell_id": "00001-b7675bc8-e527-4b27-99e1-bc17c7f903a7",
        "deepnote_cell_type": "code"
      },
      "source": "import sys\nsys.path.append('../..')\nfrom pymongo import UpdateOne\nimport pandas as pd\nimport matplotlib.pyplot as plt\nfrom exploration.config import mongo_inst\nfrom pymongo import MongoClient\nimport seaborn as sns\nfrom mlpp.data_collection.sample import ScoresSubset, get_more_recent_than",
      "execution_count": null,
      "outputs": []
    },
    {
      "cell_type": "code",
      "metadata": {
        "cell_id": "00002-0f6b13ac-8fa7-4888-a7fe-dea7a50b838c",
        "deepnote_cell_type": "code"
      },
      "source": "client = MongoClient('localhost', 27017)\ndb = client.osu_random_db\ndata = mongo_inst[\"osu_random_db\"]\n\nosu_subset = ScoresSubset(data['osu_scores_high'], data['osu_user_stats'])",
      "execution_count": null,
      "outputs": []
    },
    {
      "cell_type": "code",
      "metadata": {
        "cell_id": "00003-e6fcbebe-ce56-4e3b-a5b3-94e01eef75c0",
        "deepnote_cell_type": "code"
      },
      "source": "new_subset, user_ids = osu_subset.init_random_sample(data['sample_scores_1M'], data['sample_users_1M'])\n#creating a new collection of 1 million scores",
      "execution_count": null,
      "outputs": []
    },
    {
      "cell_type": "code",
      "metadata": {
        "cell_id": "00004-29af0aeb-12c5-48c8-9085-8613d4b3901a",
        "deepnote_cell_type": "code"
      },
      "source": "collection = data[\"sample_scores_1M\"]\nget_more_recent_than(collection, 2018, 12, 1, 0, 0, 0, \"sample_scores_500k\")\n#got 500k sample scores more recent than 12/1/2018 (last 2 years)\n#get_more_recent_than function is in the file Sample.py",
      "execution_count": null,
      "outputs": []
    },
    {
      "cell_type": "code",
      "metadata": {
        "cell_id": "00005-1f381ed5-7585-4863-bd06-46a15bae5bb6",
        "deepnote_cell_type": "code"
      },
      "source": "collection2 = data[\"sample_scores_500k\"]",
      "execution_count": null,
      "outputs": []
    },
    {
      "cell_type": "code",
      "metadata": {
        "cell_id": "00006-0c56600a-da99-470e-b949-b94e9193b43a",
        "deepnote_cell_type": "code"
      },
      "source": "\"\"\"\nmax est user pp in collection of 500k\n\"\"\"\ncursor=db.sample_scores_500k.aggregate(\n   [\n     {\n       \"$group\":\n         {\n           \"_id\": {},\n           \"max\": { \"$max\": \"$mlpp.est_user_pp\" }\n         }\n     }\n   ]\n)\nfor document in cursor:\n    print(document)\nprint(document['max'])\nmax_pp = document['max']",
      "execution_count": null,
      "outputs": []
    },
    {
      "cell_type": "markdown",
      "source": "## Objective 1: Create a \"Uniform\" Collection ",
      "metadata": {
        "cell_id": "00007-3d19c193-1282-4b31-a999-6835d59a8809",
        "deepnote_cell_type": "markdown"
      }
    },
    {
      "cell_type": "code",
      "metadata": {
        "cell_id": "00008-1b740e89-63fe-42ea-8f90-c4b9f637cd06",
        "deepnote_cell_type": "code"
      },
      "source": "a = 0\nb = 100\n\nwhile b <= max_pp:\n    db.uniform_collection2.insert_many(\n        collection2.aggregate([\n        {\n        '$match': {\n            'mlpp.est_user_pp' : {\n                '$gt': a,\n                '$lt': b,\n            }\n        }\n    },\n    {'$sample': {\n        'size': 800\n    }\n}\n        \n])\n    )\n    a = b\n    b += 100\n# creates a new \"uniform\" collection",
      "execution_count": null,
      "outputs": []
    },
    {
      "cell_type": "markdown",
      "source": "## Objective 2: Create a Collection of the 1000 Most Popular Beatmaps",
      "metadata": {
        "cell_id": "00009-11807f83-b232-4e34-b523-2c0dfc780e49",
        "deepnote_cell_type": "markdown"
      }
    },
    {
      "cell_type": "code",
      "metadata": {
        "cell_id": "00010-a3af4a19-5a49-42ea-9970-944f631a5526",
        "deepnote_cell_type": "code"
      },
      "source": "#once you have a uniform collection, use this to have a collection with the most 1000 popular maps:\ndb.uniform_collection2.aggregate([\n    {\n        '$group': {\n            '_id': '$beatmap_id', \n            'count': {\n                '$sum': 1\n            }\n        }\n    }, {\n        '$sort': {\n            'count': -1\n        }\n    }, {\n        '$limit': 1000\n    }, {\n        '$out': 'oneThousand_most_popular_maps2'\n    }\n])",
      "execution_count": null,
      "outputs": []
    },
    {
      "cell_type": "markdown",
      "source": "## Objective 3: Relationship as Score Count Decreases",
      "metadata": {
        "cell_id": "00011-6136afd8-9b64-4882-af20-90b92d69f096",
        "deepnote_cell_type": "markdown"
      }
    },
    {
      "cell_type": "code",
      "metadata": {
        "cell_id": "00012-c0d86ea0-0ecb-46e2-8d86-7d2893c7210f",
        "deepnote_cell_type": "code"
      },
      "source": "g=[]\nh=[]\nx=db.oneThousand_most_popular_maps2\nx1=x.find({},{ \"_id\": 0, \"count\": 1}) #finds only the count column in the collection\ny1=x.find({},{ \"_id\": 1, \"count\": 0})\n\n# for i in x.find({},{ \"_id\": 0, \"count\": 1}):\n#     print(i)\n\nfor i in x1:\n    g.append(i['count'])\nfor i in x.find({},{ \"_id\": 1, \"count\": 0}):\n    h.append(i['_id'])\n\nplt.plot(g,'ro') #automatically index x \nplt.xlabel('index')\nplt.ylabel('count')\nplt.title('Relationship as Score Count Decreases')\n\n#Score count seems to decrease exponentially",
      "execution_count": null,
      "outputs": []
    },
    {
      "cell_type": "markdown",
      "source": "## Objective 4 & 6: Feature Distribution Analysis",
      "metadata": {
        "cell_id": "00013-4c714c84-4915-4d8f-acfc-19fc17ab07b9",
        "deepnote_cell_type": "markdown"
      }
    },
    {
      "cell_type": "code",
      "metadata": {
        "cell_id": "00014-722767e8-4658-4e61-9eaf-5f1f01091953",
        "deepnote_cell_type": "code"
      },
      "source": "collection = data[\"osu_beatmap_attribs\"]",
      "execution_count": null,
      "outputs": []
    },
    {
      "cell_type": "code",
      "metadata": {
        "cell_id": "00015-0c0ebecb-c197-4c37-b3b2-d81f20a92643",
        "deepnote_cell_type": "code"
      },
      "source": "db.osu_beatmaps_attribs_modZero.insert_many(\n    collection.aggregate([\n    {\n        '$match': {\n            'mods': 0\n            }\n    }\n]))\n\n#creating a collection from the beatmap_attrib with only documents containing mod zero",
      "execution_count": null,
      "outputs": []
    },
    {
      "cell_type": "code",
      "metadata": {
        "cell_id": "00016-5a676bc6-beb9-45a5-a9d0-bb8ca44416a1",
        "deepnote_cell_type": "code"
      },
      "source": "collection = data['oneThousand_most_popular_maps2']",
      "execution_count": null,
      "outputs": []
    },
    {
      "cell_type": "code",
      "metadata": {
        "cell_id": "00017-b3de9212-cc4f-4d08-8235-595969cc2951",
        "deepnote_cell_type": "code"
      },
      "source": "cursor = collection.find({},{\"_id\":1})\nl = []\nfor el in cursor:\n    l.append(el)\nlistOfIds = []\nfor i in range(1000):\n    listOfIds.append(l[i]['_id'])\n#list of id's among the 1k most popular beatmaps",
      "execution_count": null,
      "outputs": []
    },
    {
      "cell_type": "code",
      "metadata": {
        "cell_id": "00018-a16b07de-ecce-41a5-85d2-12ae4a747366",
        "deepnote_cell_type": "code"
      },
      "source": "collection2 = data['osu_beatmap_attribs']",
      "execution_count": null,
      "outputs": []
    },
    {
      "cell_type": "code",
      "metadata": {
        "cell_id": "00019-7fc819e4-27ca-4d46-acdc-85f4629ba4b2",
        "deepnote_cell_type": "code"
      },
      "source": "for _id in listOfIds:\n    db.oneThousand_Beatmaps_attribs.insert_many(\n        collection2.aggregate([\n                {'$match' : {\n                    \"_id\" : _id }\n                }\n            ] ))\n#from the beatmap attrib collection, creating a new collection with beatmap attrib for the 1k most popular maps",
      "execution_count": null,
      "outputs": []
    },
    {
      "cell_type": "code",
      "metadata": {
        "cell_id": "00020-ab8eb704-17f6-4282-ae68-d982d4d9d7d4",
        "deepnote_cell_type": "code"
      },
      "source": "collection = data[\"osu_beatmaps_attribs_modZero\"]",
      "execution_count": null,
      "outputs": []
    },
    {
      "cell_type": "markdown",
      "source": "Distribution for attribute 5",
      "metadata": {
        "cell_id": "00021-48aa94bf-6744-4226-ad7d-0fca56340e5e",
        "deepnote_cell_type": "markdown"
      }
    },
    {
      "cell_type": "code",
      "metadata": {
        "cell_id": "00022-a27fb176-fdc4-44f3-83cc-185e468f3135",
        "deepnote_cell_type": "code"
      },
      "source": "db.attrib_5.insert_many(\n        collection.aggregate([\n        {'$match':{\n        \"beatmap_id\": {\n            '$in': listOfIds\n        },\n        \"attrib_id\": 5,\n    } \n    }\n])\n    )",
      "execution_count": null,
      "outputs": []
    },
    {
      "cell_type": "code",
      "metadata": {
        "cell_id": "00023-cc22e9a5-01c9-4256-8558-b6451d64c51a",
        "deepnote_cell_type": "code"
      },
      "source": "c1=[]\nd=[]\nt=db.attrib_5\nx=t.find({},{ \"_id\": 1, \"count\": 0})\ny=t.find({},{ \"_id\": 0, \"value\": 1})\n\nfor i in y:\n    d.append(i['value'])\nfor i in x:\n    c1.append(i[\"beatmap_id\"])\n\nplt.hist(d)\nplt.show()",
      "execution_count": null,
      "outputs": []
    },
    {
      "cell_type": "markdown",
      "source": "Distribution for attribute 17",
      "metadata": {
        "cell_id": "00024-3dcb9d86-23fc-43bd-9e13-7bbf144463ca",
        "deepnote_cell_type": "markdown"
      }
    },
    {
      "cell_type": "code",
      "metadata": {
        "cell_id": "00025-739df2d4-0bfb-4d38-8d0d-a34c20988f11",
        "deepnote_cell_type": "code"
      },
      "source": "db.attrib_17.insert_many(\n    collection.aggregate([\n    {'$match':{\n    \"beatmap_id\": {\n        '$in': listOfIds\n    },\n    \"attrib_id\": 17,\n    } \n    }\n])\n    )",
      "execution_count": null,
      "outputs": []
    },
    {
      "cell_type": "code",
      "metadata": {
        "cell_id": "00026-0b2febe0-4642-42ea-8f77-3afdbe0328c8",
        "deepnote_cell_type": "code"
      },
      "source": "j=[]\nk=[]\nt=db.attrib_17\nx=t.find({},{ \"_id\": 1, \"count\": 0})\ny=t.find({},{ \"_id\": 0, \"value\": 1})\n\nfor i in y:\n    k.append(i['value'])\nfor i in x:\n    j.append(i[\"beatmap_id\"])\n    \nk\nplt.hist(k)\nplt.show()",
      "execution_count": null,
      "outputs": []
    },
    {
      "cell_type": "markdown",
      "source": "Distribution for attribute 1",
      "metadata": {
        "cell_id": "00027-46273cbf-583b-4195-a467-a36dfde98ba8",
        "deepnote_cell_type": "markdown"
      }
    },
    {
      "cell_type": "code",
      "metadata": {
        "cell_id": "00028-ee8fddf0-f9cb-4564-8dac-fb2d3ef202a7",
        "deepnote_cell_type": "code"
      },
      "source": "db.attrib_1.insert_many(\n    collection.aggregate([\n    {'$match':{\n    \"beatmap_id\": {\n        '$in': listOfIds\n    },\n    \"attrib_id\": 1,\n    } \n    }\n])\n    )",
      "execution_count": null,
      "outputs": []
    },
    {
      "cell_type": "code",
      "metadata": {
        "cell_id": "00029-b984eb96-dff2-4976-8df1-e11d396fc1b0",
        "deepnote_cell_type": "code"
      },
      "source": "j=[]\nk=[]\nt=db.attrib_1\nx=t.find({},{ \"_id\": 1, \"count\": 0})\ny=t.find({},{ \"_id\": 0, \"value\": 1})\n\nfor i in y:\n    k.append(i['value'])\nfor i in x:\n    j.append(i[\"beatmap_id\"])\n    \nk\nplt.hist(k)\nplt.show()",
      "execution_count": null,
      "outputs": []
    },
    {
      "cell_type": "markdown",
      "source": "Distribution for attribute 3",
      "metadata": {
        "cell_id": "00030-8aebfb96-00bb-4436-a81a-81af3cce7efe",
        "deepnote_cell_type": "markdown"
      }
    },
    {
      "cell_type": "code",
      "metadata": {
        "cell_id": "00031-7651f698-2f51-4c67-9c95-965a9ac022d9",
        "deepnote_cell_type": "code"
      },
      "source": "db.attrib_3.insert_many(\n    collection.aggregate([\n    {'$match':{\n    \"beatmap_id\": {\n        '$in': listOfIds\n    },\n    \"attrib_id\": 3,\n    } \n    }\n])\n    )",
      "execution_count": null,
      "outputs": []
    },
    {
      "cell_type": "code",
      "metadata": {
        "cell_id": "00032-1662d017-f348-48be-b20a-b6a82b25f072",
        "deepnote_cell_type": "code"
      },
      "source": "j=[]\nk=[]\nt=db.attrib_3\nx=t.find({},{ \"_id\": 1, \"count\": 0})\ny=t.find({},{ \"_id\": 0, \"value\": 1})\n\nfor i in y:\n    k.append(i['value'])\nfor i in x:\n    j.append(i[\"beatmap_id\"])\n    \nk\nplt.hist(k)\nplt.show()",
      "execution_count": null,
      "outputs": []
    },
    {
      "cell_type": "markdown",
      "source": "Distribution for Attribute 7",
      "metadata": {
        "cell_id": "00033-90a5bd11-f6ed-4361-9e8a-2e463459c78d",
        "deepnote_cell_type": "markdown"
      }
    },
    {
      "cell_type": "code",
      "metadata": {
        "cell_id": "00034-df4cc943-a0de-46d9-9132-c7e1dbcd7ece",
        "deepnote_cell_type": "code"
      },
      "source": "db.attrib_7.insert_many(\n    collection.aggregate([\n    {'$match':{\n    \"beatmap_id\": {\n        '$in': listOfIds\n    },\n    \"attrib_id\": 7,\n    } \n    }\n])\n    )",
      "execution_count": null,
      "outputs": []
    },
    {
      "cell_type": "code",
      "metadata": {
        "cell_id": "00035-ea293c1e-4245-4c78-a163-bbf767bf4c59",
        "deepnote_cell_type": "code"
      },
      "source": "j=[]\nk=[]\nt=db.attrib_7\nx=t.find({},{ \"_id\": 1, \"count\": 0})\ny=t.find({},{ \"_id\": 0, \"value\": 1})\n\nfor i in y:\n    k.append(i['value'])\nfor i in x:\n    j.append(i[\"beatmap_id\"])\n    \nk\nplt.hist(k)\nplt.show()",
      "execution_count": null,
      "outputs": []
    },
    {
      "cell_type": "markdown",
      "source": "Distribution for attribute 9",
      "metadata": {
        "cell_id": "00036-de372835-1eee-410a-9821-ecc7c59212c5",
        "deepnote_cell_type": "markdown"
      }
    },
    {
      "cell_type": "code",
      "metadata": {
        "cell_id": "00037-695525ea-d15b-4d29-b456-e2b57dd3380a",
        "deepnote_cell_type": "code"
      },
      "source": "db.attrib_9.insert_many(\n    collection.aggregate([\n    {'$match':{\n    \"beatmap_id\": {\n        '$in': listOfIds\n    },\n    \"attrib_id\": 9,\n    } \n    }\n])\n    )",
      "execution_count": null,
      "outputs": []
    },
    {
      "cell_type": "code",
      "metadata": {
        "cell_id": "00038-a03bd60b-9193-4cb4-b9a7-966dd34a96be",
        "deepnote_cell_type": "code"
      },
      "source": "j=[]\nk=[]\nt=db.attrib_9\nx=t.find({},{ \"_id\": 1, \"count\": 0})\ny=t.find({},{ \"_id\": 0, \"value\": 1})\n\nfor i in y:\n    k.append(i['value'])\nfor i in x:\n    j.append(i[\"beatmap_id\"])\n    \nk\nplt.hist(k)\nplt.show()",
      "execution_count": null,
      "outputs": []
    },
    {
      "cell_type": "markdown",
      "source": "Distribution for attribute 11",
      "metadata": {
        "cell_id": "00039-feb32b29-715f-4bb6-8442-213baaa02688",
        "deepnote_cell_type": "markdown"
      }
    },
    {
      "cell_type": "code",
      "metadata": {
        "cell_id": "00040-b7c1ef45-5d6b-434b-9357-256161fd3daa",
        "deepnote_cell_type": "code"
      },
      "source": "db.attrib_11.insert_many(\n    collection.aggregate([\n    {'$match':{\n    \"beatmap_id\": {\n        '$in': listOfIds\n    },\n    \"attrib_id\": 11,\n    } \n    }\n])\n    )",
      "execution_count": null,
      "outputs": []
    },
    {
      "cell_type": "code",
      "metadata": {
        "cell_id": "00041-8e8359f0-3a8e-4c3e-8b13-ae16606fb29d",
        "deepnote_cell_type": "code"
      },
      "source": "j=[]\nk=[]\nt=db.attrib_11\nx=t.find({},{ \"_id\": 1, \"count\": 0})\ny=t.find({},{ \"_id\": 0, \"value\": 1})\n\nfor i in y:\n    k.append(i['value'])\nfor i in x:\n    j.append(i[\"beatmap_id\"])\n    \nk\nplt.hist(k)\nplt.show()",
      "execution_count": null,
      "outputs": []
    },
    {
      "cell_type": "markdown",
      "source": "## Objective 5: Star/OD Correlation with Popularity of Beatmap",
      "metadata": {
        "cell_id": "00042-6fa21a3e-c936-44a9-9ef8-c80400ac3de7",
        "deepnote_cell_type": "markdown"
      }
    },
    {
      "cell_type": "code",
      "metadata": {
        "cell_id": "00043-5cf65c27-e4f3-457b-8690-03e9376b3d34",
        "deepnote_cell_type": "code"
      },
      "source": "df = pd.DataFrame(list(db.oneThousand_most_popular_maps2.find({})))\ndf.sort_values([\"_id\"], inplace = True)\ndf.reset_index(inplace = True)\na = df[\"count\"]",
      "execution_count": null,
      "outputs": []
    },
    {
      "cell_type": "code",
      "metadata": {
        "cell_id": "00044-a8fea01c-5b8c-4f0a-8b4a-39616b8b069a",
        "deepnote_cell_type": "code"
      },
      "source": "df1 = pd.DataFrame()\ndf1[\"beatmap_id\"] = j\ndf1['Star Difficulty'] = k\ndf1[\"count\"] = a\ndf1.sort_values(by = [\"count\"], axis = 0, ascending = False, inplace = True)\nc = df1[\"count\"]\nsd = df1[\"Star Difficulty\"]\ndf1",
      "execution_count": null,
      "outputs": []
    },
    {
      "cell_type": "code",
      "metadata": {
        "cell_id": "00045-a5c2725b-5d7e-40cd-9106-f726a2d94e7a",
        "deepnote_cell_type": "code"
      },
      "source": "plt.scatter(c, sd)",
      "execution_count": null,
      "outputs": []
    },
    {
      "cell_type": "code",
      "metadata": {
        "cell_id": "00046-5a214153-bd6c-4e2c-984a-ec2860535101",
        "deepnote_cell_type": "code"
      },
      "source": "df2 = pd.DataFrame()\ndf2[\"beatmap_id\"] = c1\ndf2['OD'] = d\ndf2[\"count\"] = a\ndf2\n\n#recall d is the list of OD values ",
      "execution_count": null,
      "outputs": []
    },
    {
      "cell_type": "code",
      "metadata": {
        "cell_id": "00047-097f9432-e946-42e9-90ea-c038f145ebe0",
        "deepnote_cell_type": "code"
      },
      "source": "c2 = df2[\"count\"]\nod = df2[\"OD\"]",
      "execution_count": null,
      "outputs": []
    },
    {
      "cell_type": "code",
      "metadata": {
        "cell_id": "00048-557eec3e-93f8-4dca-afe6-0c0c25ef041a",
        "deepnote_cell_type": "code"
      },
      "source": "plt.scatter(c2, od)",
      "execution_count": null,
      "outputs": []
    },
    {
      "cell_type": "markdown",
      "source": "## Objective 7: Heatmap of Correlation Between Attributes",
      "metadata": {
        "cell_id": "00049-b6e1f29c-4d9a-40ae-815e-e17211a1fd67",
        "deepnote_cell_type": "markdown"
      }
    },
    {
      "cell_type": "code",
      "metadata": {
        "cell_id": "00050-650e63cd-cedc-4694-a759-9c0fb585d5be",
        "deepnote_cell_type": "code"
      },
      "source": "df3 = pd.DataFrame(list(db.osu_beatmaps_attribs_modZero.find({})))\ndf3.drop([\"_id\",\"mods\"], axis = 1, inplace = True)",
      "execution_count": null,
      "outputs": []
    },
    {
      "cell_type": "code",
      "metadata": {
        "cell_id": "00051-7ad51031-90e2-41ef-bedb-702e7e9decf0",
        "deepnote_cell_type": "code"
      },
      "source": "df3.head(20)",
      "execution_count": null,
      "outputs": []
    },
    {
      "cell_type": "code",
      "metadata": {
        "cell_id": "00052-546bf316-0393-4d4c-b1dc-02dd0a64a3e0",
        "deepnote_cell_type": "code"
      },
      "source": "col = df3['attrib_id'].unique()\nind = df3['beatmap_id'].unique()\nDF = pd.DataFrame(columns=col, index=ind)\n\n\ng=df3.groupby(['beatmap_id', 'attrib_id'])\n\nfor name, group in g:\n    bmap = name[0]\n    attr = name[1]\n    val = float(group['value'])\n    DF.at[bmap, attr] = val\n\n\nDF.head()",
      "execution_count": null,
      "outputs": []
    },
    {
      "cell_type": "code",
      "metadata": {
        "cell_id": "00053-1c685cc6-9dff-49d8-b25e-992728c5f8ce",
        "deepnote_cell_type": "code"
      },
      "source": "DF.columns = [\"Aim\", \"Speed\", \"OD\", \"AR\", \"Max_Combo\", \"Strain\", \"Star Difficulty\"]",
      "execution_count": null,
      "outputs": []
    },
    {
      "cell_type": "code",
      "metadata": {
        "cell_id": "00054-816a48a2-0c15-4c0e-a616-99aa039684b5",
        "deepnote_cell_type": "code"
      },
      "source": "DF.reset_index()",
      "execution_count": null,
      "outputs": []
    },
    {
      "cell_type": "code",
      "metadata": {
        "cell_id": "00055-93eeda6d-ba78-423c-90c8-3e1246feaaef",
        "deepnote_cell_type": "code"
      },
      "source": "correlation = DF.astype('float64').corr()\nf, ax = plt.subplots(figsize = (14, 12))\nplt.title(\"Correlation of Attributes\")\nsns.heatmap(correlation, annot = True)\nplt.show()\n\n",
      "execution_count": null,
      "outputs": []
    },
    {
      "cell_type": "code",
      "metadata": {
        "cell_id": "00056-43757b2a-51c2-4949-b7da-9013ac4e889c",
        "deepnote_cell_type": "code"
      },
      "source": "# collections = db.list_collection_names() \n# print (\"collections:\", collections, \"\\n\")\n\n#All of the collection in the database",
      "execution_count": null,
      "outputs": []
    },
    {
      "cell_type": "markdown",
      "source": "## Objective 8: Conclusion",
      "metadata": {
        "cell_id": "00057-637ee2db-f0b2-4e90-9313-4d0f29bdd11d",
        "deepnote_cell_type": "markdown"
      }
    },
    {
      "cell_type": "code",
      "metadata": {
        "cell_id": "00058-a8fb9f97-2894-4efd-bfe2-63204c3f1ec4",
        "deepnote_cell_type": "code"
      },
      "source": "# Attribute AR is left skewed\n# Attrib Max Combo is right skewed\n# Aim and Star Difficulty, Strain and Star Dificulty are highly correlated \n# Speed and OD, AR and OD are highly correlated \n# Players tend ",
      "execution_count": null,
      "outputs": []
    },
    {
      "cell_type": "markdown",
      "source": "<a style='text-decoration:none;line-height:16px;display:flex;color:#5B5B62;padding:10px;justify-content:end;' href='https://deepnote.com?utm_source=created-in-deepnote-cell&projectId=f93d0822-db5a-47ef-9a78-57b8adfbeb20' target=\"_blank\">\n<img style='display:inline;max-height:16px;margin:0px;margin-right:7.5px;' src='data:image/svg+xml;base64,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' > </img>\nCreated in <span style='font-weight:600;margin-left:4px;'>Deepnote</span></a>",
      "metadata": {
        "tags": [],
        "created_in_deepnote_cell": true,
        "deepnote_cell_type": "markdown"
      }
    }
  ],
  "nbformat": 4,
  "nbformat_minor": 5,
  "metadata": {
    "kernelspec": {
      "display_name": "Python 3",
      "language": "python",
      "name": "python3"
    },
    "language_info": {
      "codemirror_mode": {
        "name": "ipython",
        "version": 3
      },
      "file_extension": ".py",
      "mimetype": "text/x-python",
      "name": "python",
      "nbconvert_exporter": "python",
      "pygments_lexer": "ipython3",
      "version": "3.8.5"
    },
    "deepnote_notebook_id": "30921bc0-c4f9-49cd-bfde-129388b5a2a8",
    "deepnote": {},
    "deepnote_execution_queue": []
  }
}