{
 "cells": [
  {
   "cell_type": "code",
   "execution_count": 3,
   "metadata": {},
   "outputs": [],
   "source": [
    "import sys\n",
    "sys.path.append('../..')\n",
    "from config import client\n",
    "\n",
    "from pymongo import UpdateOne\n",
    "from tqdm import tqdm\n",
    "\n",
    "from mlpp.data_collection.sample import ScoresSubset"
   ]
  },
  {
   "cell_type": "code",
   "execution_count": 4,
   "metadata": {},
   "outputs": [],
   "source": [
    "osu_db = client['osu_random_db']"
   ]
  },
  {
   "cell_type": "code",
   "execution_count": 5,
   "metadata": {},
   "outputs": [],
   "source": [
    "sample_3k = ScoresSubset(osu_db['scores_sample_3k'], osu_db['users_sample_3k'])"
   ]
  },
  {
   "cell_type": "code",
   "execution_count": 8,
   "metadata": {},
   "outputs": [],
   "source": [
    "def compute_acc(score):\n",
    "    c50, c100, c300, cmiss = score['count50'], score['count100'], score['count300'], score['countmiss']\n",
    "    return (c50 / 6 + c100 / 3 + c300) / (c50 + c100 + c300 + cmiss)"
   ]
  },
  {
   "cell_type": "code",
   "execution_count": 9,
   "metadata": {},
   "outputs": [],
   "source": [
    "def compare(s_i, s_j):\n",
    "    return compute_acc(s_i) < compute_acc(s_j)"
   ]
  },
  {
   "cell_type": "code",
   "execution_count": 10,
   "metadata": {},
   "outputs": [],
   "source": [
    "fields = {\n",
    "    'count50': 1,\n",
    "    'count100': 1,\n",
    "    'count300': 1,\n",
    "    'countmiss': 1,\n",
    "    'beatmap_id': 1,\n",
    "    'user_id': 1\n",
    "}"
   ]
  },
  {
   "cell_type": "code",
   "execution_count": 23,
   "metadata": {},
   "outputs": [],
   "source": [
    "count_fail = 0\n",
    "def beatmap_comparisons(user_id):\n",
    "    ordered_scores = list(sample_3k.scores_high.find({'user_id': user_id}, fields).sort('date'))\n",
    "    comparisons = []\n",
    "    global count_fail \n",
    "    \n",
    "    for i in range(len(ordered_scores) - 1):\n",
    "        s_i, s_j = ordered_scores[i], ordered_scores[i + 1]\n",
    "        \n",
    "        try: \n",
    "            i, j = s_i['beatmap_id'], s_j['beatmap_id']\n",
    "\n",
    "            obsv = [i, j] if compare(s_i, s_j) else [j, i]\n",
    "            comparisons.append(obsv)\n",
    "        except: \n",
    "            count_fail += 1\n",
    "    \n",
    "    return comparisons"
   ]
  },
  {
   "cell_type": "code",
   "execution_count": 12,
   "metadata": {},
   "outputs": [],
   "source": [
    "user_ids = [u['_id'] for u in sample_3k.user_stats.find({}, {'_id': 1})]"
   ]
  },
  {
   "cell_type": "code",
   "execution_count": 24,
   "metadata": {},
   "outputs": [
    {
     "name": "stderr",
     "output_type": "stream",
     "text": [
      "100%|██████████| 3000/3000 [16:38<00:00,  3.00it/s]\n"
     ]
    }
   ],
   "source": [
    "comps = []\n",
    "for user_id in tqdm(user_ids):\n",
    "    comps.extend(beatmap_comparisons(user_id))"
   ]
  }
 ],
 "metadata": {
  "kernelspec": {
   "display_name": "dsu-mlpp-env",
   "language": "python",
   "name": "dsu-mlpp-env"
  },
  "language_info": {
   "codemirror_mode": {
    "name": "ipython",
    "version": 3
   },
   "file_extension": ".py",
   "mimetype": "text/x-python",
   "name": "python",
   "nbconvert_exporter": "python",
   "pygments_lexer": "ipython3",
   "version": "3.8.5"
  }
 },
 "nbformat": 4,
 "nbformat_minor": 4
}
