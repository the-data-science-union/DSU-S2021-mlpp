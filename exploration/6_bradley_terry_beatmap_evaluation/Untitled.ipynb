{
 "cells": [
  {
   "cell_type": "code",
   "execution_count": null,
   "metadata": {},
   "outputs": [],
   "source": [
    "bms = list(osu_db['osu_beatmaps'].find({}, {'_id': 1}).sort('_id'))\n",
    "\n",
    "updates = []\n",
    "for i in range(len(bms)):\n",
    "    updates.append(\n",
    "        UpdateOne(\n",
    "            {\n",
    "                '_id': bms[i]['_id']\n",
    "            }\n",
    "            ,{\n",
    "                '$set': {\n",
    "                    'mlpp': {\n",
    "                        'order': i\n",
    "                    }\n",
    "                }\n",
    "            }\n",
    "        )\n",
    "    )\n",
    "\n",
    "osu_db['osu_beatmaps'].bulk_write(updates)\n",
    "\n",
    "bm_order = list(osu_db['osu_beatmaps'].find({}, {'mlpp.order': 1}))\n",
    "bm_order = {bm['_id']: bm['mlpp']['order'] for bm in bm_order}"
   ]
  }
 ],
 "metadata": {
  "kernelspec": {
   "display_name": "dsu-mlpp-env",
   "language": "python",
   "name": "dsu-mlpp-env"
  },
  "language_info": {
   "codemirror_mode": {
    "name": "ipython",
    "version": 3
   },
   "file_extension": ".py",
   "mimetype": "text/x-python",
   "name": "python",
   "nbconvert_exporter": "python",
   "pygments_lexer": "ipython3",
   "version": "3.8.5"
  }
 },
 "nbformat": 4,
 "nbformat_minor": 4
}
