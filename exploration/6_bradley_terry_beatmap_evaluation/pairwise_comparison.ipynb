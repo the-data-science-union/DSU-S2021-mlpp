{
 "cells": [
  {
   "cell_type": "code",
   "execution_count": 188,
   "metadata": {},
   "outputs": [],
   "source": [
    "import sys\n",
    "sys.path.append('../..')\n",
    "\n",
    "import numpy as np\n",
    "import choix\n",
    "\n",
    "from config import client"
   ]
  },
  {
   "cell_type": "code",
   "execution_count": 189,
   "metadata": {},
   "outputs": [],
   "source": [
    "osu_db = client['osu_random_db']"
   ]
  },
  {
   "cell_type": "code",
   "execution_count": 190,
   "metadata": {},
   "outputs": [],
   "source": [
    "comps = np.load(\"comparisons_3k.npy\")"
   ]
  },
  {
   "cell_type": "code",
   "execution_count": 191,
   "metadata": {},
   "outputs": [],
   "source": [
    "unique, counts = np.unique(comps, return_counts = True)\n",
    "\n",
    "freq = np.asarray((unique, counts)).T\n",
    "freq = freq[np.argsort(-freq[:, 1])]\n",
    "\n",
    "top_ids = list(freq[:1000][:, 0].tolist())\n",
    "top_ids_set = set(top_ids)"
   ]
  },
  {
   "cell_type": "code",
   "execution_count": 192,
   "metadata": {},
   "outputs": [],
   "source": [
    "filtered_comps = np.array(list(filter(lambda comp: comp[0] in top_ids_set and comp[1] in top_ids_set, comps.tolist())))"
   ]
  },
  {
   "cell_type": "code",
   "execution_count": 193,
   "metadata": {},
   "outputs": [],
   "source": [
    "index = {bm_id: i for i, bm_id in enumerate(top_ids)}"
   ]
  },
  {
   "cell_type": "code",
   "execution_count": 194,
   "metadata": {},
   "outputs": [],
   "source": [
    "to_index = np.vectorize(lambda bm_id: index[bm_id])"
   ]
  },
  {
   "cell_type": "code",
   "execution_count": 195,
   "metadata": {},
   "outputs": [],
   "source": [
    "index_comps = to_index(filtered_comps)"
   ]
  },
  {
   "cell_type": "code",
   "execution_count": 196,
   "metadata": {},
   "outputs": [],
   "source": [
    "params = choix.lsr_pairwise(1000, index_comps, alpha=.0001)"
   ]
  },
  {
   "cell_type": "code",
   "execution_count": 197,
   "metadata": {},
   "outputs": [],
   "source": [
    "from matplotlib import pyplot as plt"
   ]
  },
  {
   "cell_type": "code",
   "execution_count": 198,
   "metadata": {},
   "outputs": [
    {
     "data": {
      "text/plain": [
       "(array([ 4.,  4.,  8., 14., 20., 23., 27., 29., 36., 44., 56., 37., 48.,\n",
       "        56., 68., 50., 54., 59., 41., 43., 39., 45., 37., 30., 28., 22.,\n",
       "        22., 14., 12.,  4.,  6.,  4.,  3.,  2.,  1.,  3.,  2.,  0.,  1.,\n",
       "         1.,  0.,  0.,  0.,  0.,  0.,  0.,  0.,  1.,  1.,  1.]),\n",
       " array([-3.05513974, -2.86344291, -2.67174607, -2.48004924, -2.28835241,\n",
       "        -2.09665558, -1.90495874, -1.71326191, -1.52156508, -1.32986825,\n",
       "        -1.13817141, -0.94647458, -0.75477775, -0.56308092, -0.37138408,\n",
       "        -0.17968725,  0.01200958,  0.20370641,  0.39540325,  0.58710008,\n",
       "         0.77879691,  0.97049374,  1.16219058,  1.35388741,  1.54558424,\n",
       "         1.73728107,  1.92897791,  2.12067474,  2.31237157,  2.5040684 ,\n",
       "         2.69576524,  2.88746207,  3.0791589 ,  3.27085573,  3.46255257,\n",
       "         3.6542494 ,  3.84594623,  4.03764306,  4.2293399 ,  4.42103673,\n",
       "         4.61273356,  4.80443039,  4.99612723,  5.18782406,  5.37952089,\n",
       "         5.57121772,  5.76291456,  5.95461139,  6.14630822,  6.33800505,\n",
       "         6.52970189]),\n",
       " <BarContainer object of 50 artists>)"
      ]
     },
     "execution_count": 198,
     "metadata": {},
     "output_type": "execute_result"
    },
    {
     "data": {
      "image/png": "[encoded data removed]",
      "text/plain": [
       "<Figure size 432x288 with 1 Axes>"
      ]
     },
     "metadata": {
      "needs_background": "light"
     },
     "output_type": "display_data"
    }
   ],
   "source": [
    "plt.hist(params, bins = 50)"
   ]
  },
  {
   "cell_type": "code",
   "execution_count": 212,
   "metadata": {},
   "outputs": [],
   "source": [
    "new_diff = params + 3.4334830660000004"
   ]
  },
  {
   "cell_type": "code",
   "execution_count": 210,
   "metadata": {},
   "outputs": [],
   "source": [
    "bms = list(osu_db['osu_beatmaps'].find({'_id': {'$in': top_ids}}))\n",
    "bms.sort(key = lambda bm: index[bm['_id']])"
   ]
  },
  {
   "cell_type": "code",
   "execution_count": 217,
   "metadata": {},
   "outputs": [],
   "source": [
    "for i in range(1000):\n",
    "    bms[i]['new_difficulty'] = new_diff[i]\n",
    "df = pd.DataFrame(bms)"
   ]
  },
  {
   "cell_type": "code",
   "execution_count": 219,
   "metadata": {},
   "outputs": [],
   "source": [
    "df_slice = df[[\"_id\", \"filename\", \"new_difficulty\", \"difficultyrating\"]]"
   ]
  },
  {
   "cell_type": "code",
   "execution_count": 220,
   "metadata": {},
   "outputs": [
    {
     "data": {
      "text/html": [
       "<div>\n",
       "<style scoped>\n",
       "    .dataframe tbody tr th:only-of-type {\n",
       "        vertical-align: middle;\n",
       "    }\n",
       "\n",
       "    .dataframe tbody tr th {\n",
       "        vertical-align: top;\n",
       "    }\n",
       "\n",
       "    .dataframe thead th {\n",
       "        text-align: right;\n",
       "    }\n",
       "</style>\n",
       "<table border=\"1\" class=\"dataframe\">\n",
       "  <thead>\n",
       "    <tr style=\"text-align: right;\">\n",
       "      <th></th>\n",
       "      <th>_id</th>\n",
       "      <th>filename</th>\n",
       "      <th>new_difficulty</th>\n",
       "      <th>difficultyrating</th>\n",
       "    </tr>\n",
       "  </thead>\n",
       "  <tbody>\n",
       "    <tr>\n",
       "      <th>0</th>\n",
       "      <td>397536</td>\n",
       "      <td>Kuba Oms - My Love (W h i t e) [Normal].osu</td>\n",
       "      <td>1.656428</td>\n",
       "      <td>1.68301</td>\n",
       "    </tr>\n",
       "    <tr>\n",
       "      <th>1</th>\n",
       "      <td>351190</td>\n",
       "      <td>cYsmix feat. Emmy - Tear Rain (jonathanlfj) [N...</td>\n",
       "      <td>1.647620</td>\n",
       "      <td>1.84494</td>\n",
       "    </tr>\n",
       "    <tr>\n",
       "      <th>2</th>\n",
       "      <td>453359</td>\n",
       "      <td>Rameses B - Flaklypa (-kevincela-) [Normal].osu</td>\n",
       "      <td>2.024163</td>\n",
       "      <td>1.75883</td>\n",
       "    </tr>\n",
       "    <tr>\n",
       "      <th>3</th>\n",
       "      <td>315550</td>\n",
       "      <td>Rostik - Liquid (Paul Rosenthal Remix) (Charle...</td>\n",
       "      <td>1.164777</td>\n",
       "      <td>1.71815</td>\n",
       "    </tr>\n",
       "    <tr>\n",
       "      <th>4</th>\n",
       "      <td>397534</td>\n",
       "      <td>Kuba Oms - My Love (W h i t e) [Hard].osu</td>\n",
       "      <td>2.492378</td>\n",
       "      <td>2.67792</td>\n",
       "    </tr>\n",
       "    <tr>\n",
       "      <th>...</th>\n",
       "      <td>...</td>\n",
       "      <td>...</td>\n",
       "      <td>...</td>\n",
       "      <td>...</td>\n",
       "    </tr>\n",
       "    <tr>\n",
       "      <th>995</th>\n",
       "      <td>1036394</td>\n",
       "      <td>Sporty-O - Let Me Hit It (DeRandom Otaku) [Nor...</td>\n",
       "      <td>1.369269</td>\n",
       "      <td>1.93169</td>\n",
       "    </tr>\n",
       "    <tr>\n",
       "      <th>996</th>\n",
       "      <td>1498150</td>\n",
       "      <td>I SEE MONSTAS - Holdin On (Skrillex and Nero R...</td>\n",
       "      <td>3.701436</td>\n",
       "      <td>4.46414</td>\n",
       "    </tr>\n",
       "    <tr>\n",
       "      <th>997</th>\n",
       "      <td>345600</td>\n",
       "      <td>Jeff Williams - I Burn (feat. Casey Lee Willia...</td>\n",
       "      <td>5.335920</td>\n",
       "      <td>3.80678</td>\n",
       "    </tr>\n",
       "    <tr>\n",
       "      <th>998</th>\n",
       "      <td>1034482</td>\n",
       "      <td>namirin - Koi no Hime Hime Pettanko ([C u r i]...</td>\n",
       "      <td>4.845895</td>\n",
       "      <td>5.38669</td>\n",
       "    </tr>\n",
       "    <tr>\n",
       "      <th>999</th>\n",
       "      <td>872456</td>\n",
       "      <td>toby fox - Hopes and Dreams (pkk) [Normal].osu</td>\n",
       "      <td>1.883955</td>\n",
       "      <td>2.16526</td>\n",
       "    </tr>\n",
       "  </tbody>\n",
       "</table>\n",
       "<p>1000 rows × 4 columns</p>\n",
       "</div>"
      ],
      "text/plain": [
       "         _id                                           filename  \\\n",
       "0     397536        Kuba Oms - My Love (W h i t e) [Normal].osu   \n",
       "1     351190  cYsmix feat. Emmy - Tear Rain (jonathanlfj) [N...   \n",
       "2     453359    Rameses B - Flaklypa (-kevincela-) [Normal].osu   \n",
       "3     315550  Rostik - Liquid (Paul Rosenthal Remix) (Charle...   \n",
       "4     397534          Kuba Oms - My Love (W h i t e) [Hard].osu   \n",
       "..       ...                                                ...   \n",
       "995  1036394  Sporty-O - Let Me Hit It (DeRandom Otaku) [Nor...   \n",
       "996  1498150  I SEE MONSTAS - Holdin On (Skrillex and Nero R...   \n",
       "997   345600  Jeff Williams - I Burn (feat. Casey Lee Willia...   \n",
       "998  1034482  namirin - Koi no Hime Hime Pettanko ([C u r i]...   \n",
       "999   872456     toby fox - Hopes and Dreams (pkk) [Normal].osu   \n",
       "\n",
       "     new_difficulty  difficultyrating  \n",
       "0          1.656428           1.68301  \n",
       "1          1.647620           1.84494  \n",
       "2          2.024163           1.75883  \n",
       "3          1.164777           1.71815  \n",
       "4          2.492378           2.67792  \n",
       "..              ...               ...  \n",
       "995        1.369269           1.93169  \n",
       "996        3.701436           4.46414  \n",
       "997        5.335920           3.80678  \n",
       "998        4.845895           5.38669  \n",
       "999        1.883955           2.16526  \n",
       "\n",
       "[1000 rows x 4 columns]"
      ]
     },
     "execution_count": 220,
     "metadata": {},
     "output_type": "execute_result"
    }
   ],
   "source": [
    "params"
   ]
  },
  {
   "cell_type": "code",
   "execution_count": 222,
   "metadata": {},
   "outputs": [],
   "source": [
    "df_slice.to_csv('beatmap_diff_ratings.csv')"
   ]
  },
  {
   "cell_type": "code",
   "execution_count": 248,
   "metadata": {},
   "outputs": [
    {
     "data": {
      "application/vnd.jupyter.widget-view+json": {
       "model_id": "30bb7e41c1b04df1b109b37f23dff1ef",
       "version_major": 2,
       "version_minor": 0
      },
      "text/plain": [
       "Canvas(toolbar=Toolbar(toolitems=[('Home', 'Reset original view', 'home', 'home'), ('Back', 'Back to previous …"
      ]
     },
     "metadata": {},
     "output_type": "display_data"
    },
    {
     "data": {
      "text/plain": [
       "Text(1, 9, 'R-corr: .71')"
      ]
     },
     "execution_count": 248,
     "metadata": {},
     "output_type": "execute_result"
    }
   ],
   "source": [
    "%matplotlib widget\n",
    "\n",
    "m, b = np.polyfit(bm_rating, new_diff, 1)\n",
    "plt.scatter(bm_rating, new_diff, s = 10)\n",
    "plt.plot(bm_rating, m*bm_rating + b, c='y')\n",
    "plt.xlabel(\"Star Difficulty\")\n",
    "plt.ylabel(\"Bradley Terry\")\n",
    "plt.annotate('R-corr: .71', (1,9), weight = 'bold', fontsize=15)"
   ]
  },
  {
   "cell_type": "code",
   "execution_count": null,
   "metadata": {},
   "outputs": [],
   "source": []
  }
 ],
 "metadata": {
  "kernelspec": {
   "display_name": "dsu-mlpp-env",
   "language": "python",
   "name": "dsu-mlpp-env"
  },
  "language_info": {
   "codemirror_mode": {
    "name": "ipython",
    "version": 3
   },
   "file_extension": ".py",
   "mimetype": "text/x-python",
   "name": "python",
   "nbconvert_exporter": "python",
   "pygments_lexer": "ipython3",
   "version": "3.8.5"
  }
 },
 "nbformat": 4,
 "nbformat_minor": 4
}
