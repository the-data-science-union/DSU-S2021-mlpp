{
  "cells": [
    {
      "cell_type": "code",
      "metadata": {
        "cell_id": "00000-ae35a572-bd90-4e03-baff-0bcdfaf53a5a",
        "deepnote_to_be_reexecuted": false,
        "source_hash": "2149e4dd",
        "execution_millis": 6,
        "execution_start": 1614823676799,
        "deepnote_cell_type": "code"
      },
      "source": "import sys\nsys.path.append('../..')\nimport numpy as np\nimport matplotlib.pyplot as plt\nimport math\nfrom dsu_mlpp.exploration.config import mongo_inst",
      "outputs": [
        {
          "output_type": "error",
          "ename": "SyntaxError",
          "evalue": "invalid syntax (<ipython-input-2-0f501a030e8f>, line 6)",
          "traceback": [
            "\u001b[0;36m  File \u001b[0;32m\"<ipython-input-2-0f501a030e8f>\"\u001b[0;36m, line \u001b[0;32m6\u001b[0m\n\u001b[0;31m    from dsu-mlpp.exploration.config import mongo_inst\u001b[0m\n\u001b[0m            ^\u001b[0m\n\u001b[0;31mSyntaxError\u001b[0m\u001b[0;31m:\u001b[0m invalid syntax\n"
          ]
        }
      ],
      "execution_count": null
    },
    {
      "cell_type": "code",
      "metadata": {
        "cell_id": "00001-65cfa8db-70e3-4b56-8a0a-d4a5d6a1dce3",
        "deepnote_cell_type": "code"
      },
      "source": "osu_db = mongo_inst['osu_random_db']",
      "execution_count": null,
      "outputs": []
    },
    {
      "cell_type": "code",
      "metadata": {
        "cell_id": "00002-0d9dd626-6e79-4e7e-af7d-005ca8752146",
        "deepnote_cell_type": "code"
      },
      "source": "love = osu_db['beatmap_criteria_curve'].find_one({'_id': 104229})",
      "execution_count": null,
      "outputs": []
    },
    {
      "cell_type": "code",
      "metadata": {
        "cell_id": "00003-2df12829-9228-441a-a8d7-4ccae406671a",
        "deepnote_cell_type": "code"
      },
      "source": "plt.plot(np.asarray(love['no_mod']['n_pass'])/np.asarray(love['no_mod']['total']))",
      "execution_count": null,
      "outputs": []
    },
    {
      "cell_type": "code",
      "metadata": {
        "cell_id": "00004-4d9d8702-f644-4c23-b511-937bc00ccdb8",
        "deepnote_cell_type": "code"
      },
      "source": "bm_popularity_pipeline = [\n    {\n        '$group': {\n            '_id': '$beatmap_id',\n            'count': {\n                '$sum': 1\n            }\n        }\n    },\n    {\n        '$sort': {\n            'count': -1\n        }\n    }\n]",
      "execution_count": null,
      "outputs": []
    },
    {
      "cell_type": "code",
      "metadata": {
        "cell_id": "00005-e575d7c5-da41-429e-aa37-99aa57ba3d44",
        "deepnote_cell_type": "code"
      },
      "source": "top_bm = list(osu_db['osu_scores_high'].aggregate(bm_popularity_pipeline))",
      "execution_count": null,
      "outputs": []
    },
    {
      "cell_type": "code",
      "metadata": {
        "cell_id": "00006-32414bf0-ee98-437d-b40a-3f81d6d5f882",
        "deepnote_cell_type": "code"
      },
      "source": "for i, bm in enumerate(top_bm):\n    if bm['_id'] == 131891:\n        print(i)",
      "execution_count": null,
      "outputs": []
    },
    {
      "cell_type": "code",
      "metadata": {
        "cell_id": "00007-14630f01-b204-49a8-8300-5068e60a8678",
        "deepnote_cell_type": "code"
      },
      "source": "bins = [[] for i in range(7)]\ncnt = 0\nfor bm in top_bm:\n    bm_info = osu_db['osu_beatmaps'].find_one({'_id': bm['_id']})\n    if bm_info['difficultyrating'] < 1:\n        continue\n\n    b_i = min(math.floor(bm_info['difficultyrating']) - 1, 6)\n\n    if len(bins[b_i]) < 5:\n        bins[b_i].append([bm, bm_info['difficultyrating']])\n        cnt += 1\n    if cnt == 35:\n        break",
      "execution_count": null,
      "outputs": []
    },
    {
      "cell_type": "code",
      "metadata": {
        "cell_id": "00008-2f0bb267-7d0c-4db2-873a-cb9d7cd04442",
        "deepnote_cell_type": "code"
      },
      "source": "for bin in bins:\n    bin.sort(key = lambda x: x[1])",
      "execution_count": null,
      "outputs": []
    },
    {
      "cell_type": "code",
      "metadata": {
        "cell_id": "00009-839cb0fe-6d11-4e8e-a13a-78636639cec4",
        "deepnote_cell_type": "code"
      },
      "source": "for i, bin in enumerate(bins):\n    print(f\"\\nMost popular {i + 1}* - {i + 2}* beatmaps:\")\n    for bm, _ in bin:\n        compute_bm(bm)",
      "execution_count": null,
      "outputs": []
    },
    {
      "cell_type": "code",
      "metadata": {
        "cell_id": "00010-f14f8ece-11b2-4d48-a3ec-72001221f5a4",
        "deepnote_cell_type": "code"
      },
      "source": "def compute_acc(score):\n    c50, c100, c300, cmiss = score['count50'], score['count100'], score['count300'], score['countmiss']\n    return (c50 / 6 + c100 / 3 + c300) / (c50 + c100 + c300 + cmiss)",
      "execution_count": null,
      "outputs": []
    },
    {
      "cell_type": "code",
      "metadata": {
        "cell_id": "00011-1f7f0d76-d879-4ab4-916e-127037341ec6",
        "deepnote_cell_type": "code"
      },
      "source": "compute_bm({'_id': 2596018})",
      "execution_count": null,
      "outputs": []
    },
    {
      "cell_type": "code",
      "metadata": {
        "cell_id": "00012-622b9db6-40fa-40f6-958a-c4421d7cf60a",
        "deepnote_cell_type": "code"
      },
      "source": "def compute_bm(bm):\n    bm_id = bm['_id']\n\n    bm_scores = list(osu_db['osu_scores_high'].find({'beatmap_id': bm_id, 'enabled_mods': 0}, {'count50': 1, 'count100': 1, 'count300': 1, 'countmiss': 1, 'mlpp.est_user_pp': 1}))\n    bm = osu_db['osu_beatmaps'].find_one({'_id': bm_id})\n\n    acc_scores = np.array([[s['mlpp']['est_user_pp'], compute_acc(s)] for s in bm_scores])\n    est_pp, acc = acc_scores.T\n    est_pp.sort()\n\n    eval = est_pp[len(acc_scores) - np.sum(acc > .9)]\n\n    diff, name = bm['difficultyrating'], bm['filename']\n\n    print(f'({bm_id}) {diff}* {name} - {eval}')",
      "execution_count": null,
      "outputs": []
    },
    {
      "cell_type": "code",
      "metadata": {
        "cell_id": "00013-01939d74-5d65-48d8-9a31-4e36bd39bd13",
        "deepnote_cell_type": "code"
      },
      "source": "MIN_ACC, PP_RANGE, PP_INTERVAL, MAX_PP = .9, 200, 50, 10000\nINTERVALS = math.ceil((MAX_PP - PP_RANGE) / PP_INTERVAL)",
      "execution_count": null,
      "outputs": []
    },
    {
      "cell_type": "code",
      "metadata": {
        "cell_id": "00014-1c118365-e215-41c1-9810-f45461fb38cb",
        "deepnote_cell_type": "code"
      },
      "source": "acc_scores = np.array([[s['mlpp']['est_user_pp'], compute_acc(s)] for s in bm_scores])\n# est_pp, acc = acc_scores[np.argsort(acc_scores[:, 0])].T\nest_pp, acc = acc_scores.T\nacc = acc > MIN_ACC",
      "execution_count": null,
      "outputs": []
    },
    {
      "cell_type": "code",
      "metadata": {
        "cell_id": "00015-12987613-54f4-489a-bc57-e7b7f9d4a027",
        "deepnote_cell_type": "code"
      },
      "source": "np.sort(est_pp)[len(acc) - np.sum(acc)]",
      "execution_count": null,
      "outputs": []
    },
    {
      "cell_type": "code",
      "metadata": {
        "cell_id": "00016-6491538d-b302-47a9-ad46-d1403d09e03c",
        "deepnote_cell_type": "code"
      },
      "source": "total, n_pass = np.zeros(INTERVALS), np.zeros(INTERVALS)\nj_s, j_e = 0, 0\n\nfor i in range(INTERVALS):\n    b = i * PP_INTERVAL\n\n    while j_s < len(est_pp) - 1 and est_pp[j_s] < b:\n        j_s+=1\n    \n    while j_e < len(est_pp) - 1 and est_pp[j_e] < b + PP_RANGE:\n        j_e+=1\n    \n    total[i] = j_e - j_s\n    n_pass[i] = acc[j_e] - acc[j_s]",
      "execution_count": null,
      "outputs": []
    },
    {
      "cell_type": "code",
      "metadata": {
        "cell_id": "00017-72fd48c7-7ee2-4e39-80b4-12c8ec646442",
        "deepnote_cell_type": "code"
      },
      "source": "total, n_pass = np.zeros(INTERVALS), np.zeros(INTERVALS)\n\nfor i in range(INTERVALS):\n    b = i * PP_INTERVAL\n\n    for j in range(len(est_pp)):\n        if b < est_pp[j] < b + PP_RANGE:\n            total[i] += 1\n            n_pass[i] += acc[j]",
      "execution_count": null,
      "outputs": []
    },
    {
      "cell_type": "code",
      "metadata": {
        "cell_id": "00018-c79b3a2c-c7fd-489f-8b74-4815a497e3b9",
        "deepnote_cell_type": "code"
      },
      "source": "x = np.arange(0, INTERVALS) * PP_INTERVAL\nplt.plot(x, n_pass / total)",
      "execution_count": null,
      "outputs": []
    },
    {
      "cell_type": "markdown",
      "source": "<a style='text-decoration:none;line-height:16px;display:flex;color:#5B5B62;padding:10px;justify-content:end;' href='https://deepnote.com?utm_source=created-in-deepnote-cell&projectId=f93d0822-db5a-47ef-9a78-57b8adfbeb20' target=\"_blank\">\n<img style='display:inline;max-height:16px;margin:0px;margin-right:7.5px;' src='data:image/svg+xml;base64,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' > </img>\nCreated in <span style='font-weight:600;margin-left:4px;'>Deepnote</span></a>",
      "metadata": {
        "tags": [],
        "created_in_deepnote_cell": true,
        "deepnote_cell_type": "markdown"
      }
    }
  ],
  "nbformat": 4,
  "nbformat_minor": 2,
  "metadata": {
    "kernelspec": {
      "display_name": "Python 3",
      "language": "python",
      "name": "python3"
    },
    "language_info": {
      "codemirror_mode": {
        "name": "ipython"
      },
      "file_extension": ".py",
      "mimetype": "text/x-python",
      "name": "python",
      "nbconvert_exporter": "python"
    },
    "deepnote_notebook_id": "6cb96215-1563-4700-ab93-954161217d36",
    "deepnote": {},
    "deepnote_execution_queue": []
  }
}