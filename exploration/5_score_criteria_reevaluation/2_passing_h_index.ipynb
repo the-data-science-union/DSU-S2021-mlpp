{
  "cells": [
    {
      "cell_type": "code",
      "metadata": {
        "cell_id": "00000-e90c3a31-314a-459d-b131-c7d976485758",
        "deepnote_cell_type": "code"
      },
      "source": "import sys\nsys.path.append('../..')\nimport numpy as np\nimport matplotlib.pyplot as plt\nimport math\nfrom exploration.config import mongo_inst",
      "outputs": [],
      "execution_count": null
    },
    {
      "cell_type": "code",
      "metadata": {
        "cell_id": "00001-14fedbef-72ed-49f2-b2f6-905ae250cb18",
        "deepnote_cell_type": "code"
      },
      "source": "osu_db = mongo_inst['osu_random_db']",
      "outputs": [],
      "execution_count": null
    },
    {
      "cell_type": "code",
      "metadata": {
        "cell_id": "00002-47b864bc-a996-4b44-a361-4fa924170f86",
        "deepnote_cell_type": "code"
      },
      "source": "love = osu_db['beatmap_criteria_curve'].find_one({'_id': 104229})",
      "outputs": [],
      "execution_count": null
    },
    {
      "cell_type": "code",
      "metadata": {
        "cell_id": "00003-ea37087a-5dba-4563-b628-ea1f136f28b5",
        "deepnote_cell_type": "code"
      },
      "source": "plt.plot(np.asarray(love['no_mod']['n_pass'])/np.asarray(love['no_mod']['total']))",
      "outputs": [
        {
          "name": "stderr",
          "output_type": "stream",
          "text": "<ipython-input-6-d8dd57577d08>:1: RuntimeWarning: invalid value encountered in true_divide\n  plt.plot(np.asarray(love['no_mod']['n_pass'])/np.asarray(love['no_mod']['total']))\n"
        },
        {
          "data": {
            "text/plain": "[<matplotlib.lines.Line2D at 0x43917d8>]"
          },
          "execution_count": 6,
          "metadata": {},
          "output_type": "execute_result"
        },
        {
          "data": {
            "image/png": "[encoded data removed]",
            "text/plain": "<Figure size 432x288 with 1 Axes>"
          },
          "metadata": {
            "needs_background": "light"
          },
          "output_type": "display_data"
        }
      ],
      "execution_count": null
    },
    {
      "cell_type": "code",
      "metadata": {
        "cell_id": "00004-fc69f58a-f2ca-4386-ae9b-44bc12fc093b",
        "deepnote_cell_type": "code"
      },
      "source": "bm_popularity_pipeline = [\n    {\n        '$group': {\n            '_id': '$beatmap_id',\n            'count': {\n                '$sum': 1\n            }\n        }\n    },\n    {\n        '$sort': {\n            'count': -1\n        }\n    }\n]",
      "outputs": [],
      "execution_count": null
    },
    {
      "cell_type": "code",
      "metadata": {
        "cell_id": "00005-dee8523a-da48-43ba-89c6-4d6ba57bdd89",
        "deepnote_cell_type": "code"
      },
      "source": "top_bm = list(osu_db['osu_scores_high'].aggregate(bm_popularity_pipeline))",
      "outputs": [],
      "execution_count": null
    },
    {
      "cell_type": "code",
      "metadata": {
        "cell_id": "00006-9e7def96-883a-40f2-b34b-dc8b618b8f30",
        "deepnote_cell_type": "code"
      },
      "source": "for i, bm in enumerate(top_bm):\n    if bm['_id'] == 131891:\n        print(i)",
      "outputs": [
        {
          "name": "stdout",
          "output_type": "stream",
          "text": "58\n"
        }
      ],
      "execution_count": null
    },
    {
      "cell_type": "code",
      "metadata": {
        "cell_id": "00007-20923d98-c4ec-435c-bfb6-f9b370b848cd",
        "deepnote_cell_type": "code"
      },
      "source": "bins = [[] for i in range(7)]\ncnt = 0\nfor bm in top_bm:\n    bm_info = osu_db['osu_beatmaps'].find_one({'_id': bm['_id']})\n    if bm_info['difficultyrating'] < 1:\n        continue\n\n    b_i = min(math.floor(bm_info['difficultyrating']) - 1, 6)\n\n    if len(bins[b_i]) < 5:\n        bins[b_i].append([bm, bm_info['difficultyrating']])\n        cnt += 1\n    if cnt == 35:\n        break",
      "outputs": [],
      "execution_count": null
    },
    {
      "cell_type": "code",
      "metadata": {
        "cell_id": "00008-09c6876b-1444-4558-9b0b-c9bb24fd6013",
        "deepnote_cell_type": "code"
      },
      "source": "for bin in bins:\n    bin.sort(key = lambda x: x[1])",
      "outputs": [],
      "execution_count": null
    },
    {
      "cell_type": "code",
      "metadata": {
        "cell_id": "00009-1839b99e-88f3-48fe-ba5b-0a3892889c34",
        "deepnote_cell_type": "code"
      },
      "source": "for i, bin in enumerate(bins):\n    print(f\"\\nMost popular {i + 1}* - {i + 2}* beatmaps:\")\n    for bm, _ in bin:\n        compute_bm(bm)",
      "outputs": [
        {
          "name": "stdout",
          "output_type": "stream",
          "text": "\nMost popular 1* - 2* beatmaps:\n(1036654) 1.62921* cYsmix - Fright March (Gero) [Easy].osu - 4.704492867688916\n(397536) 1.68301* Kuba Oms - My Love (W h i t e) [Normal].osu - 15.553854073334854\n(315550) 1.71815* Rostik - Liquid (Paul Rosenthal Remix) (Charles445) [Easy].osu - 5.481852458928977\n(453359) 1.75883* Rameses B - Flaklypa (-kevincela-) [Normal].osu - 19.80412776421369\n(351190) 1.84494* cYsmix feat. Emmy - Tear Rain (jonathanlfj) [Normal].osu - 18.13906372864761\n\nMost popular 2* - 3* beatmaps:\n(671413) 2.05844* raja - the light (Damnae) [Normal].osu - 39.73442788201299\n(374115) 2.08409* Chasers - Lost (ktgster) [Normal].osu - 21.17133120773235\n(557815) 2.09573* Soleily - Renatus (Gamu) [Normal].osu - 31.214629552257353\n(397534) 2.67792* Kuba Oms - My Love (W h i t e) [Hard].osu - 92.65260486644534\n(351188) 2.92811* cYsmix feat. Emmy - Tear Rain (jonathanlfj) [Hard].osu - 257.7079161815376\n\nMost popular 3* - 4* beatmaps:\n(315551) 3.00562* Rostik - Liquid (Paul Rosenthal Remix) (Charles445) [Hard].osu - 141.48687973632218\n(736216) 3.10295* Panda Eyes & Teminite - Highscore (Fort) [Hyper].osu - 352.2607668677677\n(453357) 3.12014* Rameses B - Flaklypa (-kevincela-) [Hard].osu - 223.58996151423537\n(1093529) 3.54518* RADWIMPS - Zen Zen Zense (movie ver.) (Monstrata) [Kalibe's Hard].osu - 357.40363740203173\n(397535) 3.80521* Kuba Oms - My Love (W h i t e) [Insane].osu - 693.396134268873\n\nMost popular 4* - 5* beatmaps:\n(1059390) 4.13184* Drop - Granat (Left) [Insane].osu - 525.3406369679972\n(554519) 4.28998* UNDEAD CORPORATION - Everything will freeze (Ekoro) [Insane].osu - 1039.6370533492377\n(827932) 4.29122* Station Earth - Cold Green Eyes ft. Roos Denayer (Bearizm) [apple's Insane].osu - 502.05470032290594\n(713935) 4.29888* Reol - No title (VINXIS) [Light Insane].osu - 783.4302835191139\n(736213) 4.81327* Panda Eyes & Teminite - Highscore (Fort) [Another].osu - 816.0808093189737\n\nMost popular 5* - 6* beatmaps:\n(1762724) 5.0677* Will Stetson - Harumachi Clover (Swing Arrangement) [Dictate Edit] (Sotarks) [Expert].osu - 1837.9425275695091\n(1262832) 5.16453* ClariS - Hitorigoto -TV MIX- (Doormat) [Soliloquy].osu - 1618.0727791828456\n(1059388) 5.18477* Drop - Granat (Left) [Extra].osu - 1636.154137748797\n(814293) 5.21719* Station Earth - Cold Green Eyes ft. Roos Denayer (Bearizm) [Divine].osu - 1255.4646603051026\n(1764213) 5.51627* Will Stetson - Harumachi Clover (Swing Arrangement) [Dictate Edit] (Sotarks) [Oh no!].osu - 3043.3400779071267\n\nMost popular 6* - 7* beatmaps:\n(954692) 6.03956* HO-KAGO TEA TIME - Kira Kira Days (Kagetsu) [Shiawase!!].osu - 1504.5946383302148\n(816600) 6.04585* Ni-Sokkususu - Blade Dance (Bearizm) [Kneesocks].osu - 2686.889241652762\n(736214) 6.08719* Panda Eyes & Teminite - Highscore (Fort) [Extra].osu - 2197.8093953291527\n(1619555) 6.09719* Aitsuki Nakuru - Monochrome Butterfly (Sotarks) [Uniform].osu - 2850.881488960877\n(131891) 6.80213* The Quick Brown Fox - The Big Black (Blue Dragon) [WHO'S AFRAID OF THE BIG BLACK].osu - 5679.850775045902\n\nMost popular 7* - 8* beatmaps:\n(1655981) 7.00786* Vickeblanka - Black Rover (TV Size) (Sotarks) [Extreme].osu - 3468.9371018007164\n(1489207) 7.04585* Panda Eyes & Teminite - Immortal Flame (feat. Anna Yvette) (Sotarks) [Eternal Blaze].osu - 3233.8757606969652\n(104229) 7.07838* Team Nekokan - Can't Defeat Airman (Blue Dragon) [Holy Shit! It's Airman!!].osu - 4141.617488760237\n(252238) 7.54919* Tatsh - IMAGE -MATERIAL- Version 0 (Scorpiour) [Scorpiour].osu - 6940.998108277455\n"
        },
        {
          "ename": "IndexError",
          "evalue": "index 517 is out of bounds for axis 0 with size 517",
          "output_type": "error",
          "traceback": [
            "\u001b[1;31m---------------------------------------------------------------------------\u001b[0m",
            "\u001b[1;31mIndexError\u001b[0m                                Traceback (most recent call last)",
            "\u001b[1;32m<ipython-input-18-1a92233ab3ee>\u001b[0m in \u001b[0;36m<module>\u001b[1;34m\u001b[0m\n\u001b[0;32m      2\u001b[0m     \u001b[0mprint\u001b[0m\u001b[1;33m(\u001b[0m\u001b[1;34mf\"\\nMost popular {i + 1}* - {i + 2}* beatmaps:\"\u001b[0m\u001b[1;33m)\u001b[0m\u001b[1;33m\u001b[0m\u001b[1;33m\u001b[0m\u001b[0m\n\u001b[0;32m      3\u001b[0m     \u001b[1;32mfor\u001b[0m \u001b[0mbm\u001b[0m\u001b[1;33m,\u001b[0m \u001b[0m_\u001b[0m \u001b[1;32min\u001b[0m \u001b[0mbin\u001b[0m\u001b[1;33m:\u001b[0m\u001b[1;33m\u001b[0m\u001b[1;33m\u001b[0m\u001b[0m\n\u001b[1;32m----> 4\u001b[1;33m         \u001b[0mcompute_bm\u001b[0m\u001b[1;33m(\u001b[0m\u001b[0mbm\u001b[0m\u001b[1;33m)\u001b[0m\u001b[1;33m\u001b[0m\u001b[1;33m\u001b[0m\u001b[0m\n\u001b[0m",
            "\u001b[1;32m<ipython-input-17-829fdc43572f>\u001b[0m in \u001b[0;36mcompute_bm\u001b[1;34m(bm)\u001b[0m\n\u001b[0;32m      9\u001b[0m     \u001b[0mest_pp\u001b[0m\u001b[1;33m.\u001b[0m\u001b[0msort\u001b[0m\u001b[1;33m(\u001b[0m\u001b[1;33m)\u001b[0m\u001b[1;33m\u001b[0m\u001b[1;33m\u001b[0m\u001b[0m\n\u001b[0;32m     10\u001b[0m \u001b[1;33m\u001b[0m\u001b[0m\n\u001b[1;32m---> 11\u001b[1;33m     \u001b[0meval\u001b[0m \u001b[1;33m=\u001b[0m \u001b[0mest_pp\u001b[0m\u001b[1;33m[\u001b[0m\u001b[0mlen\u001b[0m\u001b[1;33m(\u001b[0m\u001b[0macc_scores\u001b[0m\u001b[1;33m)\u001b[0m \u001b[1;33m-\u001b[0m \u001b[0mnp\u001b[0m\u001b[1;33m.\u001b[0m\u001b[0msum\u001b[0m\u001b[1;33m(\u001b[0m\u001b[0macc\u001b[0m \u001b[1;33m>\u001b[0m \u001b[1;36m.9\u001b[0m\u001b[1;33m)\u001b[0m\u001b[1;33m]\u001b[0m\u001b[1;33m\u001b[0m\u001b[1;33m\u001b[0m\u001b[0m\n\u001b[0m\u001b[0;32m     12\u001b[0m \u001b[1;33m\u001b[0m\u001b[0m\n\u001b[0;32m     13\u001b[0m     \u001b[0mdiff\u001b[0m\u001b[1;33m,\u001b[0m \u001b[0mname\u001b[0m \u001b[1;33m=\u001b[0m \u001b[0mbm\u001b[0m\u001b[1;33m[\u001b[0m\u001b[1;34m'difficultyrating'\u001b[0m\u001b[1;33m]\u001b[0m\u001b[1;33m,\u001b[0m \u001b[0mbm\u001b[0m\u001b[1;33m[\u001b[0m\u001b[1;34m'filename'\u001b[0m\u001b[1;33m]\u001b[0m\u001b[1;33m\u001b[0m\u001b[1;33m\u001b[0m\u001b[0m\n",
            "\u001b[1;31mIndexError\u001b[0m: index 517 is out of bounds for axis 0 with size 517"
          ]
        }
      ],
      "execution_count": null
    },
    {
      "cell_type": "code",
      "metadata": {
        "cell_id": "00010-e83a6398-3709-4aa2-bdf2-c0bd0e9dfeac",
        "deepnote_cell_type": "code"
      },
      "source": "def compute_acc(score):\n    c50, c100, c300, cmiss = score['count50'], score['count100'], score['count300'], score['countmiss']\n    return (c50 / 6 + c100 / 3 + c300) / (c50 + c100 + c300 + cmiss)",
      "outputs": [],
      "execution_count": null
    },
    {
      "cell_type": "code",
      "metadata": {
        "cell_id": "00011-7b75b573-b106-455b-856f-242eb560b73e",
        "deepnote_cell_type": "code"
      },
      "source": "compute_bm({'_id': 2596018})",
      "outputs": [
        {
          "name": "stdout",
          "output_type": "stream",
          "text": "(2596018) 5.66818* Set It Off - Horrible Kids (My Angel Ram) [Kuki's Extra].osu - 2559.656331611526\n"
        }
      ],
      "execution_count": null
    },
    {
      "cell_type": "code",
      "metadata": {
        "cell_id": "00012-e577e1de-a101-4da5-a174-7cc6bf4eca18",
        "deepnote_cell_type": "code"
      },
      "source": "def compute_bm(bm):\n    bm_id = bm['_id']\n\n    bm_scores = list(osu_db['osu_scores_high'].find({'beatmap_id': bm_id, 'enabled_mods': 0}, {'count50': 1, 'count100': 1, 'count300': 1, 'countmiss': 1, 'mlpp.est_user_pp': 1}))\n    bm = osu_db['osu_beatmaps'].find_one({'_id': bm_id})\n\n    acc_scores = np.array([[s['mlpp']['est_user_pp'], compute_acc(s)] for s in bm_scores])\n    est_pp, acc = acc_scores.T\n    est_pp.sort()\n\n    eval = est_pp[len(acc_scores) - np.sum(acc > .9)]\n\n    diff, name = bm['difficultyrating'], bm['filename']\n\n    print(f'({bm_id}) {diff}* {name} - {eval}')",
      "outputs": [],
      "execution_count": null
    },
    {
      "cell_type": "code",
      "metadata": {
        "cell_id": "00013-0af71b27-d928-41be-b586-cf6463081d04",
        "deepnote_cell_type": "code"
      },
      "source": "MIN_ACC, PP_RANGE, PP_INTERVAL, MAX_PP = .9, 200, 50, 10000\nINTERVALS = math.ceil((MAX_PP - PP_RANGE) / PP_INTERVAL)",
      "outputs": [],
      "execution_count": null
    },
    {
      "cell_type": "code",
      "metadata": {
        "cell_id": "00014-c9293b14-a3c3-446b-b6a3-a5fa91413944",
        "deepnote_cell_type": "code"
      },
      "source": "acc_scores = np.array([[s['mlpp']['est_user_pp'], compute_acc(s)] for s in bm_scores])\n# est_pp, acc = acc_scores[np.argsort(acc_scores[:, 0])].T\nest_pp, acc = acc_scores.T\nacc = acc > MIN_ACC",
      "outputs": [
        {
          "ename": "NameError",
          "evalue": "name 'bm_scores' is not defined",
          "output_type": "error",
          "traceback": [
            "\u001b[1;31m---------------------------------------------------------------------------\u001b[0m",
            "\u001b[1;31mNameError\u001b[0m                                 Traceback (most recent call last)",
            "\u001b[1;32m<ipython-input-22-9d12fe612aa0>\u001b[0m in \u001b[0;36m<module>\u001b[1;34m\u001b[0m\n\u001b[1;32m----> 1\u001b[1;33m \u001b[0macc_scores\u001b[0m \u001b[1;33m=\u001b[0m \u001b[0mnp\u001b[0m\u001b[1;33m.\u001b[0m\u001b[0marray\u001b[0m\u001b[1;33m(\u001b[0m\u001b[1;33m[\u001b[0m\u001b[1;33m[\u001b[0m\u001b[0ms\u001b[0m\u001b[1;33m[\u001b[0m\u001b[1;34m'mlpp'\u001b[0m\u001b[1;33m]\u001b[0m\u001b[1;33m[\u001b[0m\u001b[1;34m'est_user_pp'\u001b[0m\u001b[1;33m]\u001b[0m\u001b[1;33m,\u001b[0m \u001b[0mcompute_acc\u001b[0m\u001b[1;33m(\u001b[0m\u001b[0ms\u001b[0m\u001b[1;33m)\u001b[0m\u001b[1;33m]\u001b[0m \u001b[1;32mfor\u001b[0m \u001b[0ms\u001b[0m \u001b[1;32min\u001b[0m \u001b[0mbm_scores\u001b[0m\u001b[1;33m]\u001b[0m\u001b[1;33m)\u001b[0m\u001b[1;33m\u001b[0m\u001b[1;33m\u001b[0m\u001b[0m\n\u001b[0m\u001b[0;32m      2\u001b[0m \u001b[1;31m# est_pp, acc = acc_scores[np.argsort(acc_scores[:, 0])].T\u001b[0m\u001b[1;33m\u001b[0m\u001b[1;33m\u001b[0m\u001b[1;33m\u001b[0m\u001b[0m\n\u001b[0;32m      3\u001b[0m \u001b[0mest_pp\u001b[0m\u001b[1;33m,\u001b[0m \u001b[0macc\u001b[0m \u001b[1;33m=\u001b[0m \u001b[0macc_scores\u001b[0m\u001b[1;33m.\u001b[0m\u001b[0mT\u001b[0m\u001b[1;33m\u001b[0m\u001b[1;33m\u001b[0m\u001b[0m\n\u001b[0;32m      4\u001b[0m \u001b[0macc\u001b[0m \u001b[1;33m=\u001b[0m \u001b[0macc\u001b[0m \u001b[1;33m>\u001b[0m \u001b[0mMIN_ACC\u001b[0m\u001b[1;33m\u001b[0m\u001b[1;33m\u001b[0m\u001b[0m\n",
            "\u001b[1;31mNameError\u001b[0m: name 'bm_scores' is not defined"
          ]
        }
      ],
      "execution_count": null
    },
    {
      "cell_type": "code",
      "metadata": {
        "cell_id": "00015-4e6226c8-7d0f-4770-a7f3-919bca1463a3",
        "deepnote_cell_type": "code"
      },
      "source": "np.sort(est_pp)[len(acc) - np.sum(acc)]",
      "execution_count": null,
      "outputs": []
    },
    {
      "cell_type": "code",
      "metadata": {
        "cell_id": "00016-29759f49-f1ae-4dc7-a0ba-31e954889485",
        "deepnote_cell_type": "code"
      },
      "source": "total, n_pass = np.zeros(INTERVALS), np.zeros(INTERVALS)\nj_s, j_e = 0, 0\n\nfor i in range(INTERVALS):\n    b = i * PP_INTERVAL\n\n    while j_s < len(est_pp) - 1 and est_pp[j_s] < b:\n        j_s+=1\n    \n    while j_e < len(est_pp) - 1 and est_pp[j_e] < b + PP_RANGE:\n        j_e+=1\n    \n    total[i] = j_e - j_s\n    n_pass[i] = acc[j_e] - acc[j_s]",
      "execution_count": null,
      "outputs": []
    },
    {
      "cell_type": "code",
      "metadata": {
        "cell_id": "00017-06e5d738-8ca2-47db-9b0d-0cf62d0a6a61",
        "deepnote_cell_type": "code"
      },
      "source": "total, n_pass = np.zeros(INTERVALS), np.zeros(INTERVALS)\n\nfor i in range(INTERVALS):\n    b = i * PP_INTERVAL\n\n    for j in range(len(est_pp)):\n        if b < est_pp[j] < b + PP_RANGE:\n            total[i] += 1\n            n_pass[i] += acc[j]",
      "execution_count": null,
      "outputs": []
    },
    {
      "cell_type": "code",
      "metadata": {
        "cell_id": "00018-ac374c9c-c4f8-4c32-87e1-7875809b6850",
        "deepnote_cell_type": "code"
      },
      "source": "x = np.arange(0, INTERVALS) * PP_INTERVAL\nplt.plot(x, n_pass / total)",
      "execution_count": null,
      "outputs": []
    },
    {
      "cell_type": "markdown",
      "source": "<a style='text-decoration:none;line-height:16px;display:flex;color:#5B5B62;padding:10px;justify-content:end;' href='https://deepnote.com?utm_source=created-in-deepnote-cell&projectId=f93d0822-db5a-47ef-9a78-57b8adfbeb20' target=\"_blank\">\n<img style='display:inline;max-height:16px;margin:0px;margin-right:7.5px;' src='data:image/svg+xml;base64,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' > </img>\nCreated in <span style='font-weight:600;margin-left:4px;'>Deepnote</span></a>",
      "metadata": {
        "tags": [],
        "created_in_deepnote_cell": true,
        "deepnote_cell_type": "markdown"
      }
    }
  ],
  "nbformat": 4,
  "nbformat_minor": 2,
  "metadata": {
    "kernelspec": {
      "display_name": "dsu-mlpp--LhWsJBy",
      "language": "python",
      "name": "dsu-mlpp--lhwsjby"
    },
    "language_info": {
      "codemirror_mode": {
        "name": "ipython",
        "version": 3
      },
      "file_extension": ".py",
      "mimetype": "text/x-python",
      "name": "python",
      "nbconvert_exporter": "python",
      "pygments_lexer": "ipython3",
      "version": "3.8.5"
    },
    "deepnote_notebook_id": "0e7853cb-734a-46c6-8ee9-d4769c95ddb8",
    "deepnote": {},
    "deepnote_execution_queue": []
  }
}