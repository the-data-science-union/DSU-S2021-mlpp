{
  "cells": [
    {
      "cell_type": "code",
      "metadata": {
        "cell_id": "00000-4a6424e1-2aa0-4d4a-98a4-8781109f1414",
        "deepnote_cell_type": "code"
      },
      "source": "# NOTES FROM MEETING\n# No cell should take more than 20 minutes to run\n# Please limit to one temporary collection (must be deleted at end of notebook). No external files\n# Try to reduce single-line cells\n\n# Mini-competition -\n# Challenge: Limit to 75 lines of code (100 for team 1)! (excluding imports)\n# Fit Success Rate: Fitting method with highest fit success rate\n# Fit Average error: Fitting method with lowest fit error rate\n# Fit Time complexity: Fitting method with lowest time expended\n# Notebook housekeeping: Cleanest-looking notebook win!",
      "execution_count": null,
      "outputs": []
    },
    {
      "cell_type": "markdown",
      "source": "# Sigmoid Criteria Curve Fitting: CDF Approach\n**Contributors:** Karen Nguyen, Sophie Yun, Emily Gong\n\n**Achievement:** \n\n**Requirements:**\n",
      "metadata": {
        "cell_id": "00001-9cd2f0fd-ce22-43ea-b54f-468e9c5ab208",
        "deepnote_cell_type": "markdown"
      }
    },
    {
      "cell_type": "markdown",
      "source": "## Import packages \n**This is a note:** Please have markdown before each cell. In this format!",
      "metadata": {
        "cell_id": "00002-f8b9ef3c-27b0-45e3-8031-11794fdd2946",
        "deepnote_cell_type": "markdown"
      }
    },
    {
      "cell_type": "code",
      "metadata": {
        "cell_id": "00003-da78831e-0bda-42b2-9423-681bf842d762",
        "deepnote_cell_type": "code"
      },
      "source": "import sys\nsys.path.append('../..')\nfrom pymongo import UpdateOne\nfrom pymongo import MongoClient\nfrom tqdm import tqdm\nimport matplotlib.pyplot as plt\nimport numpy as np\nimport scipy\nfrom scipy.stats import norm \nfrom scipy.optimize import curve_fit\nimport seaborn as sns\nfrom scipy.stats import t\nfrom mlpp.data_modeling.sigmoid_fitting import *\nimport pandas as pd",
      "execution_count": null,
      "outputs": []
    },
    {
      "cell_type": "markdown",
      "source": "## Instantiate mongo instance, classes, and any config/global vars",
      "metadata": {
        "cell_id": "00004-6dd92467-6407-41c3-8c15-6a7a75f97552",
        "deepnote_cell_type": "markdown"
      }
    },
    {
      "cell_type": "code",
      "metadata": {
        "cell_id": "00005-ad86773a-518d-443c-a89b-e1ae93d1626f",
        "deepnote_cell_type": "code"
      },
      "source": "client = MongoClient(port=27017)\ndb = client.osu_random_db\nbm_ids = list(map(lambda c: c['_id'], db['beatmap_criteria_curve'].find({}, {})))",
      "execution_count": null,
      "outputs": []
    },
    {
      "cell_type": "markdown",
      "source": "## Load the curve data\n**Note:** Get total and n_pass under no_mod for all beatmaps",
      "metadata": {
        "cell_id": "00006-e1f93b61-27b3-40f2-a803-fc4b3bddd763",
        "deepnote_cell_type": "markdown"
      }
    },
    {
      "cell_type": "code",
      "metadata": {
        "cell_id": "00007-3fd7aced-a90f-4c8d-b4cf-dffe6e3a4c94",
        "deepnote_cell_type": "code"
      },
      "source": "bm_data = {}\nfor i in bm_ids:\n    bm_data[i] = list(db['beatmap_criteria_curve'].find({\"_id\": i}, {\"_id\": 0, \"no_mod.total\": 1, \"no_mod.n_pass\": 1}))",
      "execution_count": null,
      "outputs": []
    },
    {
      "cell_type": "markdown",
      "source": "**Note:** Calculate the n_pass/total for each user with total = 0 removed",
      "metadata": {
        "cell_id": "00008-11d03ce9-bdc7-4664-8224-e1937c571b52",
        "deepnote_cell_type": "markdown"
      }
    },
    {
      "cell_type": "code",
      "metadata": {
        "cell_id": "00009-17f57981-f396-4cf6-ab87-1df6a9e8c998",
        "deepnote_cell_type": "code"
      },
      "source": "def find_nPassOverTotal_for_one_beatmap (bm):\n    bm_total_nPass = list (zip (bm_data[bm][0][\"no_mod\"][\"total\"], bm_data[bm][0][\"no_mod\"][\"n_pass\"]))\n    bm_total_nPass_noZero = [total_nPass for total_nPass in bm_total_nPass if total_nPass[0] != 0]\n    y = np.asarray(list(zip(*bm_total_nPass_noZero))[1]) / np.asarray(list(zip(*bm_total_nPass_noZero))[0])\n    return y\nbm_ys = {}\nfor i in bm_ids:\n    bm_ys[i] = find_nPassOverTotal_for_one_beatmap (i)",
      "execution_count": null,
      "outputs": []
    },
    {
      "cell_type": "markdown",
      "source": "## Run all Normal CDF curve fits and store in a collection",
      "metadata": {
        "cell_id": "00010-496be33b-520b-4dc9-9daa-1ac3dc7e1320",
        "deepnote_cell_type": "markdown"
      }
    },
    {
      "cell_type": "code",
      "metadata": {
        "cell_id": "00011-b266f861-7138-4b6f-a61a-9902767d8656",
        "deepnote_cell_type": "code"
      },
      "source": "fitted_curves_with_errors = {}\n\nfor i in bm_ys.keys():\n    fitted_curves_with_errors[i] = fit_normal_cdf(bm_ys[i])",
      "execution_count": null,
      "outputs": []
    },
    {
      "cell_type": "code",
      "metadata": {
        "cell_id": "00012-85427855-3736-4a57-a8fe-1a5f797af35e",
        "deepnote_cell_type": "code"
      },
      "source": "# visualization example beatmaps\ngood = 713935\nfig, (ax1, ax2) = plt.subplots(1, 2, figsize=(15, 5))\nfig.suptitle('Example of Norm CDF Fits with Low Error Rate VS High Error Rate')\nx1 = range(len(find_nPassOverTotal_for_one_beatmap(good)))\ny1 = find_nPassOverTotal_for_one_beatmap(good)\nax1.plot(scipy.stats.norm(find_nPassOverTotal_for_one_beatmap(good)[0]).cdf(x1))\nax1.scatter(x1, y1, color = \"orange\")\nax1.set(ylabel = \"nPass/total\")\n\nbad = 848233\nx2 = range(len(find_nPassOverTotal_for_one_beatmap(bad)))\ny2 = find_nPassOverTotal_for_one_beatmap(bad)\nax2.plot(scipy.stats.norm(find_nPassOverTotal_for_one_beatmap(bad)[0]).cdf(x2))\nax2.scatter(x2, y2, color = \"orange\")\nax2.set(ylabel = \"nPass/total\")",
      "execution_count": null,
      "outputs": []
    },
    {
      "cell_type": "code",
      "metadata": {
        "cell_id": "00013-302fea74-1c6c-4002-8d76-24dddd6a803b",
        "deepnote_cell_type": "code"
      },
      "source": "unsuccessful_bm = {id: fitAndMse for (id, fitAndMse) in fitted_curves_with_errors.items() if isinstance(fitAndMse, str)}\nn = len(fitted_curves_with_errors)\nsuccess_rate = (n - len(unsuccessful_bm))/n\navg_mse = np.mean([fitAndMse[1] for (id, fitAndMse) in fitted_curves_with_errors.items() if isinstance(fitAndMse[1], float)])\nprint(\"success rate for all is:\", success_rate)\nprint(\"average mse for all is:\", avg_mse)",
      "execution_count": null,
      "outputs": []
    },
    {
      "cell_type": "code",
      "metadata": {
        "cell_id": "00014-6085c83f-8a8e-4f4b-bc94-251a4f658383",
        "deepnote_cell_type": "code"
      },
      "source": "for el in bm_ids: \n    success = False if el in unsuccessful_bm.keys() else True\n    mean = None if el in unsuccessful_bm.keys() else fitted_curves_with_errors[el][0][0]\n    sd = None if el in unsuccessful_bm.keys() else fitted_curves_with_errors[el][0][1]\n    mse = None if el in unsuccessful_bm.keys() else fitted_curves_with_errors[el][1]\n    \n    db.beatmap_criteria_curve.update_one( \n        {\"_id\" : el},\n        {\"$set\": {\"no_mod.mlpp.normalCDF.success\" : success,\n                  \"no_mod.mlpp.normalCDF.params.mean\" : mean,\n                  \"no_mod.mlpp.normalCDF.params.sd\" : sd,\n                  \"no_mod.mlpp.normalCDF.mse\" : mse}}\n    )",
      "execution_count": null,
      "outputs": []
    },
    {
      "cell_type": "markdown",
      "source": "## Load the beatmap attribs data",
      "metadata": {
        "cell_id": "00015-52a70c2f-dd1d-4d16-b134-a151fc7a2525",
        "deepnote_cell_type": "markdown"
      }
    },
    {
      "cell_type": "code",
      "metadata": {
        "cell_id": "00016-53198415-6852-4134-92d9-1559aadcb2b9",
        "deepnote_cell_type": "code"
      },
      "source": "bm_attribs_data = {}\nfor i in bm_ids:\n    bm_attribs_data[i] = list(db['osu_beatmap_attribs'].find({\"beatmap_id\": i, \"mods\": 0, \"attrib_id\":17}, {\"_id\": 0, \"value\": 1}))",
      "execution_count": null,
      "outputs": []
    },
    {
      "cell_type": "markdown",
      "source": "## Dataframe of Correlation between CDF mean/std with attribs\n**Note:** Each beatmap maps the same mean, sd, mse mapped to its different attrib_ids",
      "metadata": {
        "cell_id": "00017-c945ff8c-5afa-4191-8acd-f2570bf058cf",
        "deepnote_cell_type": "markdown"
      }
    },
    {
      "cell_type": "code",
      "metadata": {
        "cell_id": "00018-1149db69-3a35-4054-9019-bbd204e94f3d",
        "deepnote_cell_type": "code"
      },
      "source": "# creating a dataframe with rows as bm_ids and columns as mean, std, mse, and star difficulties\nattrib_array = []\nmean_array = []\nsd_array = []\nmse_array = []\nsuccessful_ids = [bm for bm in bm_ids if bm not in unsuccessful_bm.keys()]\nfor bm in successful_ids:\n    attrib_array.append(bm_attribs_data[bm][0][\"value\"])\n    mean_array.append(fitted_curves_with_errors[bm][0][0]) \n    sd_array.append(fitted_curves_with_errors[bm][0][1]) \n    mse_array.append(fitted_curves_with_errors[bm][1])",
      "execution_count": null,
      "outputs": []
    },
    {
      "cell_type": "code",
      "metadata": {
        "cell_id": "00019-24cc4932-3bda-4e98-9645-8cbb375c33cb",
        "deepnote_cell_type": "code"
      },
      "source": "new_df = pd.DataFrame(successful_ids)\nnew_df[\"star\"] = np.array(attrib_array)\nnew_df[\"mean\"] = np.array(mean_array)\nnew_df[\"sd\"] = np.array(sd_array)\nnew_df[\"mse\"] = np.array(mse_array)\nnew_df.columns = [\"Successful_ids\", \"Star_difficulties\", \"Mean\", \"Sd\", \"MSE\"]\nnew_df",
      "execution_count": null,
      "outputs": []
    },
    {
      "cell_type": "markdown",
      "source": "## Summary Table of Success Rate and MSE for Normal CDF Curve Fit",
      "metadata": {
        "cell_id": "00020-ce756f53-ba8b-40b4-9130-5a9e26e5058e",
        "deepnote_cell_type": "markdown"
      }
    },
    {
      "cell_type": "code",
      "metadata": {
        "cell_id": "00021-fc6dc26f-d446-4fb0-98ca-5db7d6cdbd66",
        "deepnote_cell_type": "code"
      },
      "source": "unsuccessful_attrib_data = bm_attribs_data[list(unsuccessful_bm.keys())[0]]\nunsuccessful_attrib_array = [id_dict[\"value\"] for id_dict in unsuccessful_attrib_data]\n\nunsuccessful_attrib_low = [a for a in unsuccessful_attrib_array if a >= 1 and a < 4]\nunsuccessful_attrib_med = [a for a in unsuccessful_attrib_array if a >= 4 and a < 6]\nunsuccessful_attrib_high = [a for a in unsuccessful_attrib_array if a >= 6]\n\nsuccessful_attrib_low = [a for a in attrib_array if a >= 1 and a < 4]\nsuccessful_attrib_med = [a for a in attrib_array if a >= 4 and a < 6]\nsuccessful_attrib_high = [a for a in attrib_array if a >= 6]",
      "execution_count": null,
      "outputs": []
    },
    {
      "cell_type": "code",
      "metadata": {
        "cell_id": "00022-bc5391a5-4124-4819-a93e-3ae6c5fd6820",
        "deepnote_cell_type": "code"
      },
      "source": "attrib_and_mse = list(zip(attrib_array, mse_array))\nerror_low_array = [aAndM[1] for aAndM in attrib_and_mse if aAndM[0] >= 1 and aAndM[0] < 4]\nerror_med_array = [aAndM[1] for aAndM in attrib_and_mse if aAndM[0] >= 4 and aAndM[0] < 6]\nerror_high_array = [aAndM[1] for aAndM in attrib_and_mse if aAndM[0] >= 6]\nsuccess_error_summary = {\n    \"1-4\": [len(successful_attrib_low) / (len(unsuccessful_attrib_low) + len(successful_attrib_low)), np.mean(error_low_array)],\n    \"4-6\": [len(successful_attrib_med) / (len(unsuccessful_attrib_med) + len(successful_attrib_med)), np.mean(error_med_array)],\n    \"6+\": [len(successful_attrib_high) / (len(unsuccessful_attrib_high) + len(successful_attrib_high)), np.mean(error_high_array)],\n    \"All\": [len(attrib_array) / (len(unsuccessful_attrib_array) + len(attrib_array)), np.mean(mse_array)]\n}\nsuccess_error_summary_df = pd.DataFrame(success_error_summary)\nsuccess_error_summary_df.index = [\"Success_rate\", \"Error_rate\"]",
      "execution_count": null,
      "outputs": []
    },
    {
      "cell_type": "code",
      "metadata": {
        "cell_id": "00023-dbe020b6-c908-43a7-b801-0dff6385dfc9",
        "deepnote_cell_type": "code"
      },
      "source": "success_error_summary_df",
      "execution_count": null,
      "outputs": []
    },
    {
      "cell_type": "markdown",
      "source": "## Run all T CDF curve fits and store in a collection",
      "metadata": {
        "cell_id": "00024-9c1a3d8d-905a-4eb3-b81c-a4f55d127a70",
        "deepnote_cell_type": "markdown"
      }
    },
    {
      "cell_type": "code",
      "metadata": {
        "cell_id": "00025-f1ae70e8-a961-4de7-96de-9006503103b5",
        "deepnote_cell_type": "code"
      },
      "source": "fitted_tcdf_with_errors = {}\n\nfor i in bm_ys.keys():\n    fitted_tcdf_with_errors[i] = fit_t_cdf(bm_ys[i])",
      "execution_count": null,
      "outputs": []
    },
    {
      "cell_type": "code",
      "metadata": {
        "cell_id": "00026-dcda6bda-6268-40bf-a601-b94329dda847",
        "deepnote_cell_type": "code"
      },
      "source": "unsuccessful_bm = {id: fitAndMse for (id, fitAndMse) in fitted_tcdf_with_errors.items() if isinstance(fitAndMse, str)}\nn = len(fitted_curves_with_errors)\nsuccess_rate = (n - len(unsuccessful_bm))/n\navg_mse = np.mean([fitAndMse[1][0] for (id, fitAndMse) in fitted_tcdf_with_errors.items() if isinstance(fitAndMse[1][0], float)])\nprint(\"success rate for all is:\", success_rate)\nprint(\"average mse for all is:\", avg_mse)",
      "execution_count": null,
      "outputs": []
    },
    {
      "cell_type": "code",
      "metadata": {
        "cell_id": "00027-fd0e4987-bdb9-4c89-85d8-0717d8dde4db",
        "deepnote_cell_type": "code"
      },
      "source": "good = 1262009\nfig, (ax1, ax2) = plt.subplots(1, 2, figsize=(15, 5))\nfig.suptitle('Example of T-CDF Fits with Low Error Rate VS High Error Rate')\nx1 = range(len(find_nPassOverTotal_for_one_beatmap(good)))\ny1 = find_nPassOverTotal_for_one_beatmap(good)\ndf1,mse1 = fit_t_cdf(y1)\nax1.plot(scipy.stats.t(df1).cdf(x1), label = \"T CDF\")\nax1.plot(scipy.stats.norm(find_nPassOverTotal_for_one_beatmap(good)[0]).cdf(x1), color = \"red\", label = \"Normal CDF\")\nax1.scatter(x1, y1, color = \"orange\")\nax1.set(ylabel = \"nPass/total\")\nleg1 = ax1.legend();\n\nbad = 848233\nx2 = range(len(find_nPassOverTotal_for_one_beatmap(bad)))\ny2 = find_nPassOverTotal_for_one_beatmap(bad)\ndf2,mse2 = fit_t_cdf(y2)\nax2.plot(scipy.stats.t(df2).cdf(x2), label = \"T CDF\")\nax2.plot(scipy.stats.norm(find_nPassOverTotal_for_one_beatmap(bad)[0]).cdf(x2), color =  \"red\", label = \"Normal CDF\")\nax2.scatter(x2, y2, color = \"orange\")\nax2.set(ylabel = \"nPass/total\")\nleg2 = ax2.legend()",
      "execution_count": null,
      "outputs": []
    },
    {
      "cell_type": "code",
      "metadata": {
        "cell_id": "00028-46f75e36-4b02-40d6-a199-c21ccd2865b2",
        "deepnote_cell_type": "code"
      },
      "source": "for el in bm_ids: \n    success = False if el in unsuccessful_bm.keys() else True\n    df = None if el in unsuccessful_bm.keys() else fitted_tcdf_with_errors[el][0][0]\n    mse = None if el in unsuccessful_bm.keys() else fitted_tcdf_with_errors[el][1][0]\n    \n    db.beatmap_criteria_curve.update_one( \n        {\"_id\" : el},\n        {\"$set\": {\"no_mod.mlpp.tCDF.success\" : success,\n                  \"no_mod.mlpp.tCDF.params.df\" : df,\n                  \"no_mod.mlpp.tCDF.mse\" : mse}}\n    )",
      "execution_count": null,
      "outputs": []
    },
    {
      "cell_type": "markdown",
      "source": "<a style='text-decoration:none;line-height:16px;display:flex;color:#5B5B62;padding:10px;justify-content:end;' href='https://deepnote.com?utm_source=created-in-deepnote-cell&projectId=f93d0822-db5a-47ef-9a78-57b8adfbeb20' target=\"_blank\">\n<img style='display:inline;max-height:16px;margin:0px;margin-right:7.5px;' src='data:image/svg+xml;base64,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' > </img>\nCreated in <span style='font-weight:600;margin-left:4px;'>Deepnote</span></a>",
      "metadata": {
        "tags": [],
        "created_in_deepnote_cell": true,
        "deepnote_cell_type": "markdown"
      }
    }
  ],
  "nbformat": 4,
  "nbformat_minor": 2,
  "metadata": {
    "kernelspec": {
      "display_name": "Python 3",
      "language": "python",
      "name": "python3"
    },
    "language_info": {
      "codemirror_mode": {
        "name": "ipython"
      },
      "file_extension": ".py",
      "mimetype": "text/x-python",
      "name": "python",
      "nbconvert_exporter": "python"
    },
    "deepnote_notebook_id": "406fe400-5df3-4cf9-b6df-4619683ebc6b",
    "deepnote": {},
    "deepnote_execution_queue": []
  }
}