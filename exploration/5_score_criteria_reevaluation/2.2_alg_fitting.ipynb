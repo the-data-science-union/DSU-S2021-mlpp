{
    "cells": [
        {
            "cell_type": "code",
            "execution_count": null,
            "metadata": {},
            "outputs": [],
            "source": [
                "# NOTES FROM MEETING\n",
                "# No cell should take more than 20 minutes to run\n",
                "# Please limit to one temporary collection (must be deleted at end of notebook). No external files\n",
                "# Try to reduce single-line cells\n",
                "\n",
                "# Mini-competition -\n",
                "# Challenge: Limit to 50 lines of code (75 for team 1)! (excluding imports)\n",
                "# Fit Success Rate: Fitting method with highest fit success rate\n",
                "# Fit Average error: Fitting method with lowest fit error rate\n",
                "# Fit Time complexity: Fitting method with lowest time expended\n",
                "# Notebook housekeeping: Cleanest-looking notebook win!"
            ]
        },
        {
            "cell_type": "markdown",
            "metadata": {},
            "source": [
                "# Sigmoid Criteria Curve Fitting: Algebraic Approach\n",
                "**Contributors:** Justin Kaufman, Marco Scialanga\n",
                "\n",
                "**Achievement:** Curve fitting with scipy. Curves used: x^2 / sqrt(1+x^2) (algebraic) and the generalized logistic function.\n",
                "\n",
                "**Requirements:** \n"
            ]
        },
        {
            "cell_type": "markdown",
            "metadata": {},
            "source": [
                "## Example of cell markdown\n",
                "**This is a note:** Please have markdown before each cell. In this format!"
            ]
        },
        {
            "cell_type": "code",
            "execution_count": null,
            "metadata": {},
            "outputs": [],
            "source": [
                "# Import packages you need\n",
                "import sys\n",
                "sys.path.append('../..')\n",
                "import numpy as np\n",
                "import matplotlib.pyplot as plt\n",
                "from pymongo import MongoClient\n",
                "import math\n",
                "from scipy.optimize import curve_fit\n",
                "from exploration.config import mongo_inst\n",
                "import pandas as pd"
            ]
        },
        {
            "cell_type": "code",
            "execution_count": null,
            "metadata": {},
            "outputs": [],
            "source": [
                "# Instantiate your mongo instance, classes, and any config/global vars\n",
                "client = MongoClient('localhost', 27017)\n",
                "db = client.osu_random_db\n",
                "osu_db = mongo_inst[\"osu_random_db\"]"
            ]
        },
        {
            "cell_type": "code",
            "execution_count": null,
            "metadata": {},
            "outputs": [],
            "source": [
                "# Load the curve data\n",
                "cursor = db[\"beatmap_criteria_curve\"].find({},{\"_id\":1})\n",
                "l = []\n",
                "for el in cursor:\n",
                "    l.append(el)\n",
                "Ids = list(map(lambda x: x[\"_id\"], l))"
            ]
        },
        {
            "cell_type": "code",
            "execution_count": null,
            "metadata": {},
            "outputs": [],
            "source": [
                "# Run all CDF curve fits & store in beatmap_criteria_curve collection\n",
                "store_genLog()\n",
                "store_alg()"
            ]
        },
        {
            "cell_type": "code",
            "execution_count": null,
            "metadata": {},
            "outputs": [],
            "source": [
                "# fit success-rate summary table with (3 rows 1 for each CDF fit) (4 columns 1* - 4*, 4* - 6*, 6* plus, all)\n",
                "# will take around 3 minutes to run\n",
                "collection = db[\"osu_beatmaps_attribs_modZero\"]\n",
                "db.attrib_17.insert_many(\n",
                "    collection.aggregate([{'$match':{\"beatmap_id\": {'$in': Ids}, \"attrib_id\": 17}}]))\n",
                "\n",
                "fit_lowDiff()\n",
                "fit_mediumDiff()\n",
                "fit_highDiff()\n",
                "fit_all()\n",
                "\n",
                "db[\"attrib_17\"].drop()\n",
                "\n",
                "dfSuccess = pd.DataFrame()\n",
                "dfSuccess.insert(0, \"Function\", [\"Generalized Logistic\", \"Algebraic\"])\n",
                "dfSuccess.insert(1, \"SuccessRateLowDiff\", [genLogSuccessLow, algSuccessLow])\n",
                "dfSuccess.insert(2, \"SuccessRateMediumDiff\", [genLogSuccessMedium, algSuccessMedium])\n",
                "dfSuccess.insert(3, \"SuccessRateHighDiff\", [genLogSuccessHigh, algSuccessHigh])\n",
                "dfSuccess.insert(4, \"OverallSuccessRate\", [genLogSuccessAll, algSuccessAll])\n",
                "dfSuccess"
            ]
        },
        {
            "cell_type": "code",
            "execution_count": null,
            "metadata": {},
            "outputs": [],
            "source": [
                "# for curves that could be fit, error summary table with same layout as above\n",
                "# we already have the data from the cell above, it is now just a matter of building the table\n",
                "dfMse = pd.DataFrame()\n",
                "dfMse.insert(0, \"Function\", [\"Generalized Logistic\", \"Algebraic\"])\n",
                "dfMse.insert(1, \"AverageMseLowDiff\", [genLogAverageMseLow, algAverageMseLow])\n",
                "dfMse.insert(2, \"AverageMseMediumDiff\", [genLogAverageMseMedium, algAverageMseMedium])\n",
                "dfMse.insert(3, \"AverageMseHighDiff\", [genLogAverageMseHigh, algAverageMseHigh])\n",
                "dfMse.insert(4, \"OverallAverageMse\", [genLogAverageMseAll, algAverageMseAll])\n",
                "dfMse"
            ]
        },
        {
            "cell_type": "markdown",
            "metadata": {},
            "source": [
                "## Conclusion\n",
                "The algebraic (alg) function has a much higher success rate than the generalized logistic(genLog), probably because of the fewer parameters. Thus, the slight advantage of the genLog over the algebraic for the mean squared error does not justify using genLog instead of alg."
            ]
        },
        {
            "cell_type": "code",
            "execution_count": null,
            "metadata": {},
            "outputs": [],
            "source": [
                "def store_genLog():\n",
                "    for el in Ids: \n",
                "        if fit_genLog(el):\n",
                "            success = True\n",
                "        else: success = False\n",
                "    \n",
                "        db.beatmap_criteria_curve.update_one( \n",
                "            {\"_id\" : el},\n",
                "            {\"$set\": {\"no_mod.mlpp.genLogistic.success\" : success,\n",
                "                      \"no_mod.mlpp.genLogistic.params\" : fit_genLog(el),\n",
                "                      \"no_mod.mlpp.genLogistic.mse\" : mse_genLog(el)}})\n",
                "def store_alg():\n",
                "    for el in Ids: \n",
                "        if fit_alg(el):\n",
                "            success = True\n",
                "        else: success = False\n",
                "    \n",
                "    db.beatmap_criteria_curve.update_one( \n",
                "        {\"_id\" : el},\n",
                "        {\"$set\": {\"no_mod.mlpp.algebraic.success\" : success,\n",
                "                  \"no_mod.mlpp.algebraic.params\" : fit_alg(el),\n",
                "                  \"no_mod.mlpp.algebraic.mse\" : mse_alg(el)}})"
            ]
        },
        {
            "cell_type": "code",
            "execution_count": null,
            "metadata": {},
            "outputs": [],
            "source": [
                "def makeArr(x):\n",
                "    n=np.arange(0,x)\n",
                "    return n"
            ]
        },
        {
            "cell_type": "code",
            "execution_count": null,
            "metadata": {},
            "outputs": [],
            "source": [
                "def algFunc(x, A, x0, k, off):\n",
                "    f = A * (k*x - x0)/ (np.sqrt((k*x-x0)**2 + 1)) + off\n",
                "    return f\n",
                "\n",
                "def genLogFunc(x, A, K, B, Q, v):\n",
                "    f = A + (K-A)/(1+Q*np.exp(-B*x)**(1/v))\n",
                "    return f"
            ]
        },
        {
            "cell_type": "code",
            "execution_count": null,
            "metadata": {},
            "outputs": [],
            "source": [
                "def get_x_and_y(beatmap_id):\n",
                "    \n",
                "    beatmap = osu_db['beatmap_criteria_curve'].find_one({'_id': beatmap_id})\n",
                "    \n",
                "    x_temp = np.arange(0,98)\n",
                "    y_temp = np.asarray(beatmap['no_mod']['n_pass'])/np.asarray(beatmap['no_mod']['total'])\n",
                "    y = y_temp[np.logical_not(np.isnan(y_temp))]\n",
                "    x = makeArr(len(y))\n",
                "   \n",
                "    return x,y"
            ]
        },
        {
            "cell_type": "code",
            "execution_count": null,
            "metadata": {},
            "outputs": [],
            "source": [
                "def fit_alg(beatmap_id):\n",
                "    while True:\n",
                "        try:\n",
                "            x = get_x_and_y(beatmap_id)[0]\n",
                "            y = get_x_and_y(beatmap_id)[1]\n",
                "            popt, pcov = curve_fit(algFunc, x, y, maxfev = 1000)\n",
                "            popt=list(popt)\n",
                "            return popt\n",
                "        except RuntimeError:\n",
                "            return None\n",
                "        except TypeError:\n",
                "            return None\n",
                "    \n",
                "def fit_genLog(beatmap_id):\n",
                "    while True:\n",
                "        try:\n",
                "            x = get_x_and_y(beatmap_id)[0]\n",
                "            y = get_x_and_y(beatmap_id)[1]\n",
                "            popt, pcov = curve_fit(genLogFunc, x, y, maxfev = 1000)\n",
                "            popt=list(popt)\n",
                "            return popt\n",
                "        except RuntimeError:\n",
                "            return None\n",
                "        except TypeError:\n",
                "            return None"
            ]
        },
        {
            "cell_type": "code",
            "execution_count": null,
            "metadata": {},
            "outputs": [],
            "source": [
                "def plot_fit_alg(popt, beatmap_id):\n",
                "    \n",
                "    x = get_x_and_y(beatmap_id)[0]\n",
                "    y = get_x_and_y(beatmap_id)[1]\n",
                "    \n",
                "    f, ax = plt.subplots(figsize = (14, 12))\n",
                "    plt.title('Fitting algebraic function for beatmap %d' %(beatmap_id))\n",
                "    plt.plot(x,y,label = 'original')\n",
                "    plt.plot(x, algFunc(x, *popt), 'r-',label = 'Fitted logistic function')\n",
                "    plt.legend()\n",
                "    \n",
                "def plot_fit_genLog(popt, beatmap_id):\n",
                "    \n",
                "    x = get_x_and_y(beatmap_id)[0]\n",
                "    y = get_x_and_y(beatmap_id)[1]\n",
                "    \n",
                "    f, ax = plt.subplots(figsize = (14, 12))\n",
                "    plt.title('Fitting generalized logistic function for beatmap %d' %(beatmap_id))\n",
                "    plt.plot(x,y,label = 'original')\n",
                "    plt.plot(x, genLogFunc(x, *popt), 'r-',label = 'Fitted logistic function')\n",
                "    plt.legend()"
            ]
        },
        {
            "cell_type": "code",
            "execution_count": null,
            "metadata": {},
            "outputs": [],
            "source": [
                "def mse_alg(beatmap_id):\n",
                "    while True:\n",
                "        try:\n",
                "            x = get_x_and_y(beatmap_id)[0]\n",
                "            y = get_x_and_y(beatmap_id)[1]\n",
                "            popt, pcov = curve_fit(algFunc, x, y, maxfev = 1000)\n",
                "            mse = np.mean((y-algFunc(x, *popt))**2)\n",
                "            return mse\n",
                "        except RuntimeError:\n",
                "            return None\n",
                "        except TypeError:\n",
                "            return None\n",
                "\n",
                "def mse_genLog(beatmap_id):\n",
                "    while True:\n",
                "        try:\n",
                "            x = get_x_and_y(beatmap_id)[0]\n",
                "            y = get_x_and_y(beatmap_id)[1]\n",
                "            popt, pcov = curve_fit(genLogFunc, x, y, maxfev = 1000)\n",
                "            mse = np.mean((y-genLogFunc(x, *popt))**2)\n",
                "            return mse\n",
                "        except RuntimeError:\n",
                "            return None\n",
                "        except TypeError:\n",
                "            return None"
            ]
        },
        {
            "cell_type": "code",
            "execution_count": null,
            "metadata": {},
            "outputs": [],
            "source": [
                "beatmap_id = 104229\n",
                "f, ax = plt.subplots(figsize = (14, 12))\n",
                "\n",
                "x = get_x_and_y(beatmap_id)[0]\n",
                "y = get_x_and_y(beatmap_id)[1]\n",
                "\n",
                "popt = fit_alg(beatmap_id)\n",
                "plt.plot(x, algFunc(x, *popt), label = 'Fitted algebraic function')\n",
                "\n",
                "popt = fit_genLog(beatmap_id)\n",
                "plt.plot(x, genLogFunc(x, *popt), label = 'Fitted generalised logistic function')\n",
                "\n",
                "plt.plot(x,y,label = 'original')\n",
                "plt.title('Fitting functions for beatmap %d' %(beatmap_id))\n",
                "plt.legend()"
            ]
        },
        {
            "cell_type": "code",
            "execution_count": null,
            "metadata": {},
            "outputs": [],
            "source": [
                "def genLogSuccess(idList):\n",
                "    success = 0\n",
                "    for el in idList:\n",
                "        if fit_genLog(el):\n",
                "            success += 1\n",
                "    success_rate = success / len(idList)\n",
                "    return success_rate\n",
                "\n",
                "def algSuccess(idList):\n",
                "    success = 0\n",
                "    for el in idList:\n",
                "        if fit_alg(el):\n",
                "            success += 1\n",
                "    success_rate = success / len(idList)\n",
                "    return success_rate"
            ]
        },
        {
            "cell_type": "code",
            "execution_count": null,
            "metadata": {},
            "outputs": [],
            "source": [
                "def genLogAverageMse(idList):\n",
                "    totalMse = 0\n",
                "    success = 0\n",
                "    for el in idList:\n",
                "        if mse_genLog(el):\n",
                "            totalMse += mse_genLog(el)\n",
                "            success += 1\n",
                "    avgMse = totalMse / success\n",
                "    return avgMse\n",
                "\n",
                "def algAverageMse(idList):\n",
                "    totalMse = 0\n",
                "    success = 0\n",
                "    for el in idList:\n",
                "        if mse_alg(el):\n",
                "            totalMse += mse_alg(el)\n",
                "            success += 1\n",
                "    avgMse = totalMse / success\n",
                "    return avgMse"
            ]
        },
        {
            "cell_type": "code",
            "execution_count": null,
            "metadata": {},
            "outputs": [],
            "source": [
                "def fit_all():\n",
                "    cursor = db[\"beatmap_criteria_curve\"].find({},{\"_id\":1})\n",
                "    l = []\n",
                "    for el in cursor:\n",
                "        l.append(el)\n",
                "    Ids = list(map(lambda x: x[\"_id\"], l))\n",
                "    global genLogSuccessAll\n",
                "    global algSuccessAll\n",
                "    global genLogAverageMseAll\n",
                "    global algAverageMseAll\n",
                "    genLogSuccessAll = genLogSuccess(Ids)\n",
                "    algSuccessAll = algSuccess(Ids)\n",
                "    genLogAverageMseAll = genLogAverageMse(Ids)\n",
                "    algAverageMseAll = algAverageMse(Ids)"
            ]
        },
        {
            "cell_type": "code",
            "execution_count": null,
            "metadata": {},
            "outputs": [],
            "source": [
                "def fit_lowDiff():\n",
                "    collection = db[\"attrib_17\"]\n",
                "    cursor = db.attrib_17.aggregate([\n",
                "        {\"$match\" : {\"value\" : {\"$gte\" : 1, \"$lt\": 4}}},\n",
                "        {\"$project\" : {\"beatmap_id\" : \"$beatmap_id\"}}\n",
                "    ])\n",
                "    l = list(cursor)\n",
                "    lowIds = list(map(lambda x: x[\"beatmap_id\"], l))\n",
                "    global genLogSuccessLow\n",
                "    global algSuccessLow\n",
                "    global genLogAverageMseLow\n",
                "    global algAverageMseLow\n",
                "    genLogSuccessLow = genLogSuccess(lowIds)\n",
                "    algSuccessLow = algSuccess(lowIds)\n",
                "    genLogAverageMseLow = genLogAverageMse(lowIds)\n",
                "    algAverageMseLow = algAverageMse(lowIds)"
            ]
        },
        {
            "cell_type": "code",
            "execution_count": null,
            "metadata": {},
            "outputs": [],
            "source": [
                "def fit_mediumDiff():\n",
                "    cursor = db.attrib_17.aggregate([\n",
                "        {\"$match\" : {\"value\" : {\"$gte\" : 4, \"$lt\": 6}}},\n",
                "        {\"$project\" : {\"beatmap_id\" : \"$beatmap_id\"}}\n",
                "    ])\n",
                "    l = list(cursor)\n",
                "    mediumIds = list(map(lambda x: x[\"beatmap_id\"], l))\n",
                "    global genLogSuccessMedium\n",
                "    global algSuccessMedium\n",
                "    global genLogAverageMseMedium\n",
                "    global algAverageMseMedium\n",
                "    genLogSuccessMedium = genLogSuccess(mediumIds)\n",
                "    algSuccessMedium = algSuccess(mediumIds)\n",
                "    genLogAverageMseMedium = genLogAverageMse(mediumIds)\n",
                "    algAverageMseMedium = algAverageMse(mediumIds)"
            ]
        },
        {
            "cell_type": "code",
            "execution_count": null,
            "metadata": {},
            "outputs": [],
            "source": [
                "def fit_highDiff():\n",
                "    cursor = db.attrib_17.aggregate([\n",
                "        {\"$match\" : {\"value\" : {\"$gte\" : 6}}},\n",
                "        {\"$project\" : {\"beatmap_id\" : \"$beatmap_id\"}}\n",
                "    ])\n",
                "\n",
                "    l = list(cursor)\n",
                "    highIds = list(map(lambda x: x[\"beatmap_id\"], l))\n",
                "    global genLogSuccessHigh\n",
                "    global algSuccessHigh\n",
                "    global genLogAverageMseHigh\n",
                "    global algAverageMseHigh\n",
                "    genLogSuccessHigh = genLogSuccess(highIds)\n",
                "    algSuccessHigh = algSuccess(highIds)\n",
                "    genLogAverageMseHigh = genLogAverageMse(highIds)\n",
                "    algAverageMseHigh = algAverageMse(highIds)"
            ]
        }
    ],
    "metadata": {
        "kernelspec": {
            "display_name": "Python 3",
            "language": "python",
            "name": "python3"
        },
        "language_info": {
            "codemirror_mode": {
                "name": "ipython"
            },
            "file_extension": ".py",
            "mimetype": "text/x-python",
            "name": "python",
            "nbconvert_exporter": "python"
        }
    },
    "nbformat": 4,
    "nbformat_minor": 2
}
