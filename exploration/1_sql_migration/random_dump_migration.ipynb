{
  "cells": [
    {
      "cell_type": "markdown",
      "source": "# Aggergate osu random dumps into MongoDB\n**Contributors:** Victor Lin\n\n**Achievement:** Migrate osu_user_stats, osu_scores_high, osu_beatmaps, osu_beatmap_difficulty_attribs tables from several random data dumps into mongodb. Prioritize migrating more recent dumps to avoid duplicates. Created basic indecies on osu_scores_high & a unique compound index on osu_beatmap_attribs.\n\n**Requirements:**\n\n- External\n    - MySQL DB has imported osu random dumps from https://data.ppy.sh/",
      "metadata": {
        "cell_id": "00000-7255694e-6001-4717-8ddc-66633c2230b9",
        "deepnote_cell_type": "markdown"
      }
    },
    {
      "cell_type": "code",
      "metadata": {
        "cell_id": "00001-e76a5970-fd95-44fa-80af-f6f73ed35513",
        "deepnote_cell_type": "code"
      },
      "source": "import sys\nsys.path.append('../..')\nfrom exploration.config import sql_inst, mongo_inst\nfrom mlpp.data_collection.sql_migration import SqlDumpMigrator",
      "execution_count": null,
      "outputs": []
    },
    {
      "cell_type": "markdown",
      "source": "## Declare SQL dumps to migrate\n**Note:** Order does matter in the declaration. More recent dumps should be declared first in order to prioritize more recent user information. Duplicate users found in older dumps will be skipped.",
      "metadata": {
        "cell_id": "00002-8c7d2c9a-ffd3-477d-bcea-6406768d41e9",
        "deepnote_cell_type": "markdown"
      }
    },
    {
      "cell_type": "code",
      "metadata": {
        "cell_id": "00003-179d1d7f-594b-4da7-8c39-d95fe84c5171",
        "deepnote_cell_type": "code"
      },
      "source": "# Order of insertion matters\n\nSQL_DUMPS = [\n    \"osu_random_2021_02\",\n    \"osu_random_2020_12\",\n    \"osu_random_2020_11\",\n    \"osu_random_2020_10\",\n    \"osu_random_2020_09\",\n    \"osu_random_2020_08\"\n]\n\nmigrator = SqlDumpMigrator(sql_inst)\nosu_random_db = mongo_inst[\"osu_random_db\"]",
      "execution_count": null,
      "outputs": []
    },
    {
      "cell_type": "markdown",
      "source": "**TODO** : Code to create a compound index on (user_id, beatmap_id, and enabled_mods) would ensure score uniqueness. However, there are currently duplicates scores in some dumps that violates the uniqueness. Commented until further clarification from osu! devs.",
      "metadata": {
        "cell_id": "00004-35552efd-dc42-4e0e-8cda-b0df2242bcf3",
        "deepnote_cell_type": "markdown"
      }
    },
    {
      "cell_type": "code",
      "metadata": {
        "cell_id": "00005-907032a9-aeb6-48b9-b77e-e35e06fda52c",
        "deepnote_cell_type": "code"
      },
      "source": "# mongo_db['osu_scores_high'].create_index(\n#     [('user_id', pymongo.ASCENDING), ('beatmap_id', pymongo.ASCENDING) , ('enabled_mods', pymongo.ASCENDING)],\n#     unique=True\n# )",
      "execution_count": null,
      "outputs": []
    },
    {
      "cell_type": "markdown",
      "source": "## Migrating Tables: Users, Scores, Beatmaps, Attribs",
      "metadata": {
        "cell_id": "00006-1bb43f7b-2840-4bfb-b24e-6e8b9f41be7b",
        "deepnote_cell_type": "markdown"
      }
    },
    {
      "cell_type": "code",
      "metadata": {
        "cell_id": "00007-aa73b2ed-970e-414d-b42b-540470984ee0",
        "deepnote_cell_type": "code"
      },
      "source": "osu_random_db['osu_scores_high'].create_index('user_id')\nosu_random_db['osu_scores_high'].create_index('beatmap_id')\n\nmigrator.migrate_users_and_scores(SQL_DUMPS, osu_random_db)",
      "execution_count": null,
      "outputs": []
    },
    {
      "cell_type": "code",
      "metadata": {
        "cell_id": "00008-e3d81e85-5ed2-4dbb-af01-de3d1e62f73c",
        "deepnote_cell_type": "code"
      },
      "source": "migrator.migrate_beatmaps(SQL_DUMPS, osu_random_db)",
      "execution_count": null,
      "outputs": []
    },
    {
      "cell_type": "code",
      "metadata": {
        "cell_id": "00009-2d52fd9f-421b-4207-a666-c39739fd7d90",
        "deepnote_cell_type": "code"
      },
      "source": "migrator.migrate_beatmap_attribs(SQL_DUMPS, osu_random_db)",
      "execution_count": null,
      "outputs": []
    },
    {
      "cell_type": "markdown",
      "source": "<a style='text-decoration:none;line-height:16px;display:flex;color:#5B5B62;padding:10px;justify-content:end;' href='https://deepnote.com?utm_source=created-in-deepnote-cell&projectId=f93d0822-db5a-47ef-9a78-57b8adfbeb20' target=\"_blank\">\n<img style='display:inline;max-height:16px;margin:0px;margin-right:7.5px;' src='data:image/svg+xml;base64,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' > </img>\nCreated in <span style='font-weight:600;margin-left:4px;'>Deepnote</span></a>",
      "metadata": {
        "tags": [],
        "created_in_deepnote_cell": true,
        "deepnote_cell_type": "markdown"
      }
    }
  ],
  "nbformat": 4,
  "nbformat_minor": 2,
  "metadata": {
    "kernelspec": {
      "display_name": "Python 3",
      "language": "python",
      "name": "python3"
    },
    "language_info": {
      "codemirror_mode": {
        "name": "ipython"
      },
      "file_extension": ".py",
      "mimetype": "text/x-python",
      "name": "python",
      "nbconvert_exporter": "python"
    },
    "deepnote_notebook_id": "e8fc9733-e492-4049-9fb8-e412a3ee524a",
    "deepnote": {},
    "deepnote_execution_queue": []
  }
}