{
 "cells": [
  {
   "cell_type": "markdown",
   "metadata": {},
   "source": []
  },
  {
   "cell_type": "markdown",
   "metadata": {},
   "source": [
    "# Aggergate osu top 10k dump into MongoDB\n",
    "**Contributors:** Victor Lin\n",
    "\n",
    "**Achievement:** Migrated osu_user_stats, osu_scores_high into separate db osu_top_db. Migrated osu_beatmaps & osu_beatmap_attribs into existing osu_random_db collections to reduce redundancy.\n",
    "\n",
    "**Requirements:**\n",
    "\n",
    "- External\n",
    "    - MySQL DB has imported osu top 10k dump from https://data.ppy.sh/\n",
    "- Notebooks\n",
    "    - *exploration/sql_migration/random_dump_migration.ipynb*"
   ]
  },
  {
   "cell_type": "code",
   "execution_count": null,
   "metadata": {},
   "outputs": [],
   "source": [
    "import sys\n",
    "sys.path.append('../..')\n",
    "from exploration.config import sql_inst, mongo_inst\n",
    "from mlpp.data_collection.sql_migration import SqlDumpMigrator"
   ]
  },
  {
   "cell_type": "code",
   "execution_count": null,
   "metadata": {},
   "outputs": [],
   "source": [
    "# Order of insertion matters\n",
    "\n",
    "SQL_DUMPS = [\n",
    "    \"osu_top_2021_01\",\n",
    "]\n",
    "\n",
    "migrator = SqlDumpMigrator(sql_inst)\n",
    "osu_random_db, osu_top_db = mongo_inst[\"osu_random_db\"], mongo_inst[\"osu_top_db\"]"
   ]
  },
  {
   "cell_type": "code",
   "execution_count": null,
   "metadata": {},
   "outputs": [],
   "source": [
    "osu_top_db['osu_scores_high'].create_index('user_id')\n",
    "osu_top_db['osu_scores_high'].create_index('beatmap_id')\n",
    "osu_top_db['osu_scores_high'].create_index('date')\n",
    "\n",
    "migrator.migrate_users_and_scores(SQL_DUMPS, osu_top_db)"
   ]
  },
  {
   "cell_type": "code",
   "execution_count": null,
   "metadata": {},
   "outputs": [],
   "source": [
    "migrator.migrate_beatmaps(SQL_DUMPS, osu_random_db)"
   ]
  },
  {
   "cell_type": "code",
   "execution_count": null,
   "metadata": {},
   "outputs": [],
   "source": [
    "migrator.migrate_beatmap_attribs(SQL_DUMPS, osu_random_db)"
   ]
  }
 ],
 "metadata": {
  "kernelspec": {
   "display_name": "Python 3",
   "language": "python",
   "name": "python3"
  },
  "language_info": {
   "codemirror_mode": {
    "name": "ipython"
   },
   "file_extension": ".py",
   "mimetype": "text/x-python",
   "name": "python",
   "nbconvert_exporter": "python"
  }
 },
 "nbformat": 4,
 "nbformat_minor": 2
}
