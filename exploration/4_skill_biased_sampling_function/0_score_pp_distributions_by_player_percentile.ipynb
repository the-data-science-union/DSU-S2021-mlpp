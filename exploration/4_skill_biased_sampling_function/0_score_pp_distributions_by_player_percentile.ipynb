{
  "cells": [
    {
      "cell_type": "markdown",
      "source": "# Visualize Player Highscore pp Distribution\n**Contributors:** Victor Lin\n\n**Achievement:** By sampling 50 players at various pp percentiles, stacked pp distribution histograms are generated at each percentile, representing a point-value of the average highscore pp distribution at that percentile. The histograms show, regardless of skill, player highscores are generally evenly distributed for all players, except for peaks at the low pp range & the player's current pp range.\n\n**Requirements:** \n\n1. MongoDB Collections<br>\n1.1 *sql_migration/sql_to_mongo_migration.ipynb* -> osu_user_stats, osu_scores_high\n2. Cached Fields<br> \n2.1 *estimate_real_user_pp/user_pp_history.ipynb* -> osu_scores_high.mlpp.est_user_pp, osu_user_stats.mlpp.est_current_pp",
      "metadata": {
        "cell_id": "00000-d56807bc-f163-4ad7-bd8a-c94c46fda65d",
        "deepnote_cell_type": "markdown"
      }
    },
    {
      "cell_type": "code",
      "metadata": {
        "cell_id": "00001-4d3da822-c0a2-4344-830d-62b3a62ee96e",
        "deepnote_cell_type": "code"
      },
      "source": "import sys\nsys.path.append('../..')\nfrom pymongo import UpdateOne\nimport matplotlib.pyplot as plt\nfrom exploration.config import mongo_inst\nfrom mlpp.data_collection.pp_calculation import fast_pp_hist",
      "execution_count": null,
      "outputs": []
    },
    {
      "cell_type": "code",
      "metadata": {
        "cell_id": "00002-104884b7-c64e-48b1-bfd3-ae46313a85ce",
        "deepnote_cell_type": "code"
      },
      "source": "osu_random_db = mongo_inst['osu_random_db']\nuser_ids_by_pp = list(osu_random_db['osu_user_stats'].find({}, {'mlpp.est_current_pp': 1}).sort('mlpp.est_current_pp'))",
      "execution_count": null,
      "outputs": []
    },
    {
      "cell_type": "markdown",
      "source": "## Plotting pp Histograms\nUsers are selected at different percentiles (based on pp). Each percentiles's user scores are aggregated and plotted as a histogram (right). A histogram of the user's current pp is also plotted (left).",
      "metadata": {
        "cell_id": "00003-2adaac99-8570-4be6-acf7-de4db04846cb",
        "deepnote_cell_type": "markdown"
      }
    },
    {
      "cell_type": "code",
      "metadata": {
        "cell_id": "00004-108185db-4806-44d8-8c11-fd49b2ef62ef",
        "deepnote_cell_type": "code"
      },
      "source": "fig, axs = plt.subplots(4, 4)\nfor i in range(8):\n    start_i = 25000 + 5000 * i if i != 7 else -50\n\n    stack_hist = []\n    user_pps = []\n    for j in range(50):\n        user = user_ids_by_pp[start_i + j]\n        user_pps.append(user['mlpp']['est_current_pp'])\n\n        user_scores = list(osu_random_db['osu_scores_high'].find({'user_id': user['_id']}))\n        stack_hist.append([s['mlpp']['est_user_pp'] for s in user_scores])\n    \n    row  = i % 4\n    col = 2 * (i // 4)\n    \n    axs[row, col].hist(stack_hist, stacked = True)\n    pcnt = int(start_i * 100 / 60000) if i != 7 else 99\n\n    axs[row, col].set_title(f'{pcnt:.0f} percentile')\n    axs[row, col].set_xlabel('est user pp at time of score')\n    axs[row, col].set_ylabel('frequency')\n\n    axs[row, col + 1].hist(user_pps)\n\n    axs[row, col + 1].set_title('Est current pp of user')\n    axs[row, col + 1].set_xlabel('est user pp')\n    axs[row, col + 1].set_ylabel('frequency')\n\nfig.set_figheight(15)\nfig.set_figwidth(20)\nfig.suptitle('Est pp of all scores by 50 users in different percentiles', fontsize = 20)\nfig.tight_layout(rect=[0, 0.03, 1, 0.95])\n",
      "execution_count": null,
      "outputs": []
    },
    {
      "cell_type": "markdown",
      "source": "## Conclusion\n\n>We will ignore the 99 percentile plot, due to it's wide range of user pp distribution.\n\n>All other percentiles have a pp range of <= 1%, indicating the right histogram can be treated as a point value.\n\n>The score histograms across all percentiles show, on average, the player's highscores are evenly distributed across pp, with a spike of highscores at their current pp.\n\n>This is explained by the fact players are skill capped, and thus will have more highscores at their current skill level.\n\n>Some histograms also show a spike in the low pp range. This is less explainable and will require more exploration.",
      "metadata": {
        "cell_id": "00005-d51e5211-3025-4d6e-8453-adcb4dc87002",
        "deepnote_cell_type": "markdown"
      }
    },
    {
      "cell_type": "markdown",
      "source": "<a style='text-decoration:none;line-height:16px;display:flex;color:#5B5B62;padding:10px;justify-content:end;' href='https://deepnote.com?utm_source=created-in-deepnote-cell&projectId=f93d0822-db5a-47ef-9a78-57b8adfbeb20' target=\"_blank\">\n<img style='display:inline;max-height:16px;margin:0px;margin-right:7.5px;' src='data:image/svg+xml;base64,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' > </img>\nCreated in <span style='font-weight:600;margin-left:4px;'>Deepnote</span></a>",
      "metadata": {
        "tags": [],
        "created_in_deepnote_cell": true,
        "deepnote_cell_type": "markdown"
      }
    }
  ],
  "nbformat": 4,
  "nbformat_minor": 2,
  "metadata": {
    "kernelspec": {
      "display_name": "Python 3",
      "language": "python",
      "name": "python3"
    },
    "language_info": {
      "codemirror_mode": {
        "name": "ipython"
      },
      "file_extension": ".py",
      "mimetype": "text/x-python",
      "name": "python",
      "nbconvert_exporter": "python"
    },
    "deepnote_notebook_id": "ad3b148d-791e-4db6-b49a-afe4710ed54e",
    "deepnote": {},
    "deepnote_execution_queue": []
  }
}