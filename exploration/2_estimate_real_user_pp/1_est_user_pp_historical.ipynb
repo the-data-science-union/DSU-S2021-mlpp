{
  "cells": [
    {
      "cell_type": "markdown",
      "source": "# Estimate user pp at time of play\n**Contributors:** Victor Lin\n\n**Achievement:** Player pp at the time a score was set can be estimated by computing pp on all scores the player set before the play.\n\n**Requirements:**\n\n1. *sql_migration/sql_to_mongo_migration.ipynb*",
      "metadata": {
        "cell_id": "00000-c4b06e56-de4c-4779-8055-c006e6fa21c2",
        "deepnote_cell_type": "markdown"
      }
    },
    {
      "cell_type": "markdown",
      "source": "## Introduction\nExcept for very recent plays, a player's pp does not reflect their skill at the time a score was set. Therefore, the amount of useable data would increase significantly if an accurate estimate of the user's pp at the time of play can be calculated",
      "metadata": {
        "cell_id": "00001-ca48ee16-05aa-4880-a487-867808b32ae0",
        "deepnote_cell_type": "markdown"
      }
    },
    {
      "cell_type": "code",
      "metadata": {
        "cell_id": "00002-687100a5-1adb-4d6b-a270-31a05cb14ef8",
        "deepnote_cell_type": "code"
      },
      "source": "import sys\nsys.path.append('../..')\nfrom pymongo import UpdateOne\nfrom tqdm import tqdm\nimport numpy as np\nfrom exploration.config import mongo_inst\nfrom mlpp.data_collection.pp_calculation import fast_pp_hist",
      "execution_count": null,
      "outputs": []
    },
    {
      "cell_type": "code",
      "metadata": {
        "cell_id": "00003-130d03aa-cfc7-4a1c-babb-0b95880355e3",
        "deepnote_cell_type": "code"
      },
      "source": "osu_db = mongo_inst['val_random_db']",
      "execution_count": null,
      "outputs": []
    },
    {
      "cell_type": "code",
      "metadata": {
        "cell_id": "00004-4e04efa2-135b-4371-bfc5-c3f3ca17d060",
        "deepnote_cell_type": "code"
      },
      "source": "user_ids = list(map(lambda c: c['_id'], osu_db['osu_user_stats'].find({}, {})))",
      "execution_count": null,
      "outputs": []
    },
    {
      "cell_type": "code",
      "metadata": {
        "cell_id": "00005-e96d072e-7122-40d3-af5d-804e1e4c2071",
        "deepnote_cell_type": "code"
      },
      "source": "cnt_bonus = []\ncurr = 1\nfor i in range(100000):\n    curr *= .9994\n    cnt_bonus.append(416.6667 * (1 - curr))\ncnt_bonus = np.array(cnt_bonus)",
      "execution_count": null,
      "outputs": []
    },
    {
      "cell_type": "markdown",
      "source": "## Estimating scores for each Player\nfast_pp_history enables fast calculation of the player's estimated pp for a date-sorted list of scores. Score estimation calculations grouped by player.",
      "metadata": {
        "cell_id": "00006-cd1fe097-2a65-41d4-911f-3ed61cb97cd5",
        "deepnote_cell_type": "markdown"
      }
    },
    {
      "cell_type": "code",
      "metadata": {
        "cell_id": "00007-b582f0d3-570f-4aff-b7df-0c0d7ecb2f3d",
        "deepnote_cell_type": "code"
      },
      "source": "for user_id in tqdm(user_ids):\n    scores = list(osu_db['osu_scores_high'].find({'user_id': user_id}, {'pp': 1, 'date': 1}).sort('date'))\n    score_hist = list(map(lambda x: x['pp'] if x['pp'] else 0, scores))\n    pp_hist = np.array(fast_pp_hist(score_hist))\n    bonus_pp_hist = pp_hist + cnt_bonus[:len(pp_hist)]\n\n    score_updates = []\n    for i in range(len(scores)):\n        query = {'_id': scores[i]['_id']}\n        update = {\n            '$set': {\n                'mlpp.est_user_raw_pp': pp_hist[i],\n                'mlpp.est_user_pp': bonus_pp_hist[i]\n            }\n        }\n        score_updates.append(UpdateOne(query, update))\n    \n    if len(score_updates) > 0:\n        osu_db['osu_scores_high'].bulk_write(score_updates)\n\n        osu_db['osu_user_stats'].update_one({'_id': user_id}, {\n            '$set': {\n                'mlpp': {\n                    'est_current_raw_pp': pp_hist[-1],\n                    'est_current_pp': bonus_pp_hist[-1]\n                }\n    if len(score_updates) > 0:\n        osu_random_db['osu_scores_high'].bulk_write(score_updates)\n\n    osu_random_db['osu_user_stats'].update_one({'_id': user_id}, {\n        '$set': {\n            'mlpp': {\n                'est_current_raw_pp': pp_hist[-1],\n                'est_current_pp': bonus_pp_hist[-1]\n        osu_db['osu_user_stats'].update_one({'_id': user_id}, {\n            '$set': {\n                'mlpp': {\n                    'est_current_raw_pp': pp_hist[-1],\n                    'est_current_pp': bonus_pp_hist[-1]\n                }\n            }\n        })\n    else:\n        osu_db['osu_user_stats'].remove({'_id': user_id})",
      "execution_count": null,
      "outputs": []
    },
    {
      "cell_type": "markdown",
      "source": "<a style='text-decoration:none;line-height:16px;display:flex;color:#5B5B62;padding:10px;justify-content:end;' href='https://deepnote.com?utm_source=created-in-deepnote-cell&projectId=f93d0822-db5a-47ef-9a78-57b8adfbeb20' target=\"_blank\">\n<img style='display:inline;max-height:16px;margin:0px;margin-right:7.5px;' src='data:image/svg+xml;base64,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' > </img>\nCreated in <span style='font-weight:600;margin-left:4px;'>Deepnote</span></a>",
      "metadata": {
        "tags": [],
        "created_in_deepnote_cell": true,
        "deepnote_cell_type": "markdown"
      }
    }
  ],
  "nbformat": 4,
  "nbformat_minor": 2,
  "metadata": {
    "kernelspec": {
      "display_name": "Python 3",
      "language": "python",
      "name": "python3"
    },
    "language_info": {
      "codemirror_mode": {
        "name": "ipython"
      },
      "file_extension": ".py",
      "mimetype": "text/x-python",
      "name": "python",
      "nbconvert_exporter": "python"
    },
    "deepnote_notebook_id": "48a07d5a-1c8e-417c-a6e9-31e878cff714",
    "deepnote": {},
    "deepnote_execution_queue": []
  }
}