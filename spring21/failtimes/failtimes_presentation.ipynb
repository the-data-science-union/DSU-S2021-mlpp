{
 "cells": [
  {
   "cell_type": "markdown",
   "metadata": {},
   "source": [
    "# osu! Beatmaps Failtimes Prediction\n",
    "**Contributors:** Sophie Yun, Emily Gong, Sine Polcharoen\n",
    "\n",
    "# Introduction\n",
    "\n",
    "**Our Problem:** \n",
    "\n",
    "\n",
    "**Our Data:** In the original data source, each **Beatmap** is divided into 100 time intervals and **Failtimes** indicates the number of players failed at each interval. We assume that the **Failtimes** and the **Hit Objects** are closely correlated, so we extracted all the information about those two attributes, which include x, y, x1, y1, repeat_count, duration, d_time, and time. \n",
    "\n",
    "EXAMPLE: slider, spinning note\n",
    "All times are in milliseconds."
   ]
  },
  {
   "cell_type": "markdown",
   "metadata": {},
   "source": [
    "# Data Processing"
   ]
  },
  {
   "cell_type": "code",
   "execution_count": 1,
   "metadata": {},
   "outputs": [],
   "source": [
    "import sys\n",
    "sys.path.append('../..')\n",
    "import pandas as pd\n",
    "from pymongo import UpdateOne\n",
    "import numpy as np\n",
    "from config import client\n",
    "import seaborn as sns\n",
    "import matplotlib.pyplot as plt\n",
    "import numpy as np\n",
    "import pandas as pd\n",
    "import pylab \n",
    "\n",
    "from sklearn.metrics import mean_squared_error, r2_score\n",
    "from sklearn.linear_model import LinearRegression\n",
    "from sklearn.model_selection import train_test_split\n",
    "from sklearn.preprocessing import StandardScaler\n",
    "from sklearn.neighbors import KNeighborsRegressor\n",
    "from sklearn.pipeline import make_pipeline\n",
    "import scipy.stats as stats\n",
    "from preliminary_modeling_failtimes import Xgboost_est_pp_model\n",
    "\n",
    "from failtimes_functions import CREATE_ARRAY_FOR_MODEL, CREATE_COORDINATES_DIST_ARRAY_FOR_MODEL, CREATE_EASY_DF, CREATE_PARTITION_DF"
   ]
  },
  {
   "cell_type": "markdown",
   "metadata": {},
   "source": [
    "## Introduction and Data Retrieval"
   ]
  },
  {
   "cell_type": "code",
   "execution_count": 2,
   "metadata": {},
   "outputs": [],
   "source": [
    "db = client[\"osu_mlpp_db1\"]\n",
    "new_beatmaps = list(db.osu_beatmaps.find({\"difficultyrating\" : {\"$gte\": 1.5, \"$lt\": 2}}, \n",
    "                                         {\"_id\" : 1, \"mlpp.hit_objects\": 1, \"mlpp.fail\" : 1, \n",
    "                                          \"difficultyrating\" : 1, \"playcount\": 1, \n",
    "                                          \"total_length\": 1}).limit(500))"
   ]
  },
  {
   "cell_type": "markdown",
   "metadata": {},
   "source": [
    "## Data Processing"
   ]
  },
  {
   "cell_type": "markdown",
   "metadata": {},
   "source": [
    "### 1. By Time Intervals"
   ]
  },
  {
   "cell_type": "code",
   "execution_count": 3,
   "metadata": {},
   "outputs": [],
   "source": [
    "#remove hit_objects = none\n",
    "for bm in new_beatmaps:\n",
    "    if bm[\"mlpp\"][\"hit_objects\"] == None:\n",
    "        new_beatmaps.remove(bm)\n",
    "    if bm[\"mlpp\"][\"fail\"] == None:\n",
    "        new_beatmaps.remove(bm)"
   ]
  },
  {
   "cell_type": "code",
   "execution_count": 4,
   "metadata": {},
   "outputs": [
    {
     "data": {
      "text/html": [
       "<div>\n",
       "<style scoped>\n",
       "    .dataframe tbody tr th:only-of-type {\n",
       "        vertical-align: middle;\n",
       "    }\n",
       "\n",
       "    .dataframe tbody tr th {\n",
       "        vertical-align: top;\n",
       "    }\n",
       "\n",
       "    .dataframe thead th {\n",
       "        text-align: right;\n",
       "    }\n",
       "</style>\n",
       "<table border=\"1\" class=\"dataframe\">\n",
       "  <thead>\n",
       "    <tr style=\"text-align: right;\">\n",
       "      <th></th>\n",
       "      <th>x</th>\n",
       "      <th>y</th>\n",
       "      <th>x1</th>\n",
       "      <th>y1</th>\n",
       "      <th>repeat_count</th>\n",
       "      <th>duration</th>\n",
       "      <th>d_time</th>\n",
       "      <th>time</th>\n",
       "    </tr>\n",
       "  </thead>\n",
       "  <tbody>\n",
       "    <tr>\n",
       "      <th>0</th>\n",
       "      <td>64</td>\n",
       "      <td>320</td>\n",
       "      <td>64</td>\n",
       "      <td>320</td>\n",
       "      <td>1</td>\n",
       "      <td>0</td>\n",
       "      <td>5538</td>\n",
       "      <td>5538</td>\n",
       "    </tr>\n",
       "    <tr>\n",
       "      <th>1</th>\n",
       "      <td>64</td>\n",
       "      <td>192</td>\n",
       "      <td>64</td>\n",
       "      <td>192</td>\n",
       "      <td>1</td>\n",
       "      <td>0</td>\n",
       "      <td>697</td>\n",
       "      <td>6235</td>\n",
       "    </tr>\n",
       "    <tr>\n",
       "      <th>2</th>\n",
       "      <td>64</td>\n",
       "      <td>64</td>\n",
       "      <td>64</td>\n",
       "      <td>64</td>\n",
       "      <td>1</td>\n",
       "      <td>0</td>\n",
       "      <td>698</td>\n",
       "      <td>6933</td>\n",
       "    </tr>\n",
       "    <tr>\n",
       "      <th>3</th>\n",
       "      <td>448</td>\n",
       "      <td>64</td>\n",
       "      <td>448</td>\n",
       "      <td>64</td>\n",
       "      <td>1</td>\n",
       "      <td>0</td>\n",
       "      <td>1395</td>\n",
       "      <td>8328</td>\n",
       "    </tr>\n",
       "    <tr>\n",
       "      <th>4</th>\n",
       "      <td>448</td>\n",
       "      <td>192</td>\n",
       "      <td>448</td>\n",
       "      <td>192</td>\n",
       "      <td>1</td>\n",
       "      <td>0</td>\n",
       "      <td>698</td>\n",
       "      <td>9026</td>\n",
       "    </tr>\n",
       "    <tr>\n",
       "      <th>...</th>\n",
       "      <td>...</td>\n",
       "      <td>...</td>\n",
       "      <td>...</td>\n",
       "      <td>...</td>\n",
       "      <td>...</td>\n",
       "      <td>...</td>\n",
       "      <td>...</td>\n",
       "      <td>...</td>\n",
       "    </tr>\n",
       "    <tr>\n",
       "      <th>78</th>\n",
       "      <td>256</td>\n",
       "      <td>32</td>\n",
       "      <td>256</td>\n",
       "      <td>312</td>\n",
       "      <td>3</td>\n",
       "      <td>697</td>\n",
       "      <td>697</td>\n",
       "      <td>76700</td>\n",
       "    </tr>\n",
       "    <tr>\n",
       "      <th>79</th>\n",
       "      <td>64</td>\n",
       "      <td>64</td>\n",
       "      <td>64</td>\n",
       "      <td>64</td>\n",
       "      <td>1</td>\n",
       "      <td>0</td>\n",
       "      <td>2094</td>\n",
       "      <td>79491</td>\n",
       "    </tr>\n",
       "    <tr>\n",
       "      <th>80</th>\n",
       "      <td>160</td>\n",
       "      <td>64</td>\n",
       "      <td>440</td>\n",
       "      <td>258</td>\n",
       "      <td>1</td>\n",
       "      <td>1046</td>\n",
       "      <td>698</td>\n",
       "      <td>80189</td>\n",
       "    </tr>\n",
       "    <tr>\n",
       "      <th>81</th>\n",
       "      <td>448</td>\n",
       "      <td>160</td>\n",
       "      <td>448</td>\n",
       "      <td>160</td>\n",
       "      <td>1</td>\n",
       "      <td>0</td>\n",
       "      <td>349</td>\n",
       "      <td>81584</td>\n",
       "    </tr>\n",
       "    <tr>\n",
       "      <th>82</th>\n",
       "      <td>0</td>\n",
       "      <td>0</td>\n",
       "      <td>0</td>\n",
       "      <td>0</td>\n",
       "      <td>0</td>\n",
       "      <td>0</td>\n",
       "      <td>698</td>\n",
       "      <td>82282</td>\n",
       "    </tr>\n",
       "  </tbody>\n",
       "</table>\n",
       "<p>83 rows × 8 columns</p>\n",
       "</div>"
      ],
      "text/plain": [
       "      x    y   x1   y1  repeat_count  duration  d_time   time\n",
       "0    64  320   64  320             1         0    5538   5538\n",
       "1    64  192   64  192             1         0     697   6235\n",
       "2    64   64   64   64             1         0     698   6933\n",
       "3   448   64  448   64             1         0    1395   8328\n",
       "4   448  192  448  192             1         0     698   9026\n",
       "..  ...  ...  ...  ...           ...       ...     ...    ...\n",
       "78  256   32  256  312             3       697     697  76700\n",
       "79   64   64   64   64             1         0    2094  79491\n",
       "80  160   64  440  258             1      1046     698  80189\n",
       "81  448  160  448  160             1         0     349  81584\n",
       "82    0    0    0    0             0         0     698  82282\n",
       "\n",
       "[83 rows x 8 columns]"
      ]
     },
     "execution_count": 4,
     "metadata": {},
     "output_type": "execute_result"
    }
   ],
   "source": [
    "# check the dataframe for hit objects for one of the easiest beatmaps\n",
    "hit_objects_colnames = [\"x\",\"y\",\"x1\",\"y1\",\"repeat_count\",\"duration\", \"d_time\",\"time\"]\n",
    "\n",
    "new_df = pd.DataFrame(new_beatmaps[0][\"mlpp\"][\"hit_objects\"], \n",
    "                  columns = hit_objects_colnames)\n",
    "new_df"
   ]
  },
  {
   "cell_type": "markdown",
   "metadata": {},
   "source": [
    "#### Create a dataframe for all beatmaps \n",
    "* Each row represents one hundredth of the beatmap in time\n",
    "* failtimes_norm: failtimes / play counts\n",
    "* coord_dist_sum: distance between (x1, y1) and (x, y)\n",
    "    * sum of coord_dist of all hit objects in each time interval\n",
    "    * used help function CREATE_COORDINATES_DIST_ARRAY_FOR_MODEL\n",
    "* repeat_count_sum: number of movements for a hit object (i.e., a hit circle gets 0, a slider that moves from one location to another gets 1)\n",
    "    * sum of repeat_count of all hit objects in each time interval\n",
    "    * used help function CREATE_ARRAY_FOR_MODEL\n",
    "* duration_sum: time to complete a hit (i.e., a hit circle gets 0, a slider gets some greater positive number)\n",
    "    * sum of duration of all hit objects in each time interval\n",
    "    * used help function CREATE_ARRAY_FOR_MODEL\n",
    "* d_time_avg: time from the previous object to the current object\n",
    "    * average of d_time of all hit objects in each time interval\n",
    "    * used help function CREATE_ARRAY_FOR_MODEL"
   ]
  },
  {
   "cell_type": "code",
   "execution_count": 5,
   "metadata": {},
   "outputs": [
    {
     "data": {
      "text/html": [
       "<div>\n",
       "<style scoped>\n",
       "    .dataframe tbody tr th:only-of-type {\n",
       "        vertical-align: middle;\n",
       "    }\n",
       "\n",
       "    .dataframe tbody tr th {\n",
       "        vertical-align: top;\n",
       "    }\n",
       "\n",
       "    .dataframe thead th {\n",
       "        text-align: right;\n",
       "    }\n",
       "</style>\n",
       "<table border=\"1\" class=\"dataframe\">\n",
       "  <thead>\n",
       "    <tr style=\"text-align: right;\">\n",
       "      <th></th>\n",
       "      <th>time</th>\n",
       "      <th>failtimes</th>\n",
       "      <th>failtimes_norm</th>\n",
       "      <th>coord_dist_sum</th>\n",
       "      <th>repeat_count_sum</th>\n",
       "      <th>duration_sum</th>\n",
       "      <th>d_time_avg</th>\n",
       "    </tr>\n",
       "  </thead>\n",
       "  <tbody>\n",
       "    <tr>\n",
       "      <th>0</th>\n",
       "      <td>822.82</td>\n",
       "      <td>0</td>\n",
       "      <td>0.000000</td>\n",
       "      <td>0.0</td>\n",
       "      <td>0</td>\n",
       "      <td>0</td>\n",
       "      <td>0.000000</td>\n",
       "    </tr>\n",
       "    <tr>\n",
       "      <th>1</th>\n",
       "      <td>1645.64</td>\n",
       "      <td>0</td>\n",
       "      <td>0.000000</td>\n",
       "      <td>0.0</td>\n",
       "      <td>0</td>\n",
       "      <td>0</td>\n",
       "      <td>0.000000</td>\n",
       "    </tr>\n",
       "    <tr>\n",
       "      <th>2</th>\n",
       "      <td>2468.46</td>\n",
       "      <td>0</td>\n",
       "      <td>0.000000</td>\n",
       "      <td>0.0</td>\n",
       "      <td>0</td>\n",
       "      <td>0</td>\n",
       "      <td>0.000000</td>\n",
       "    </tr>\n",
       "    <tr>\n",
       "      <th>3</th>\n",
       "      <td>3291.28</td>\n",
       "      <td>0</td>\n",
       "      <td>0.000000</td>\n",
       "      <td>0.0</td>\n",
       "      <td>0</td>\n",
       "      <td>0</td>\n",
       "      <td>0.000000</td>\n",
       "    </tr>\n",
       "    <tr>\n",
       "      <th>4</th>\n",
       "      <td>4114.10</td>\n",
       "      <td>0</td>\n",
       "      <td>0.000000</td>\n",
       "      <td>0.0</td>\n",
       "      <td>0</td>\n",
       "      <td>0</td>\n",
       "      <td>0.000000</td>\n",
       "    </tr>\n",
       "    <tr>\n",
       "      <th>...</th>\n",
       "      <td>...</td>\n",
       "      <td>...</td>\n",
       "      <td>...</td>\n",
       "      <td>...</td>\n",
       "      <td>...</td>\n",
       "      <td>...</td>\n",
       "      <td>...</td>\n",
       "    </tr>\n",
       "    <tr>\n",
       "      <th>49995</th>\n",
       "      <td>76861.44</td>\n",
       "      <td>127</td>\n",
       "      <td>0.001172</td>\n",
       "      <td>0.0</td>\n",
       "      <td>0</td>\n",
       "      <td>0</td>\n",
       "      <td>0.000000</td>\n",
       "    </tr>\n",
       "    <tr>\n",
       "      <th>49996</th>\n",
       "      <td>77662.08</td>\n",
       "      <td>62</td>\n",
       "      <td>0.000572</td>\n",
       "      <td>0.0</td>\n",
       "      <td>0</td>\n",
       "      <td>0</td>\n",
       "      <td>0.000000</td>\n",
       "    </tr>\n",
       "    <tr>\n",
       "      <th>49997</th>\n",
       "      <td>78462.72</td>\n",
       "      <td>125</td>\n",
       "      <td>0.001154</td>\n",
       "      <td>0.0</td>\n",
       "      <td>3</td>\n",
       "      <td>0</td>\n",
       "      <td>322.666667</td>\n",
       "    </tr>\n",
       "    <tr>\n",
       "      <th>49998</th>\n",
       "      <td>79263.36</td>\n",
       "      <td>123</td>\n",
       "      <td>0.001135</td>\n",
       "      <td>0.0</td>\n",
       "      <td>3</td>\n",
       "      <td>0</td>\n",
       "      <td>242.000000</td>\n",
       "    </tr>\n",
       "    <tr>\n",
       "      <th>49999</th>\n",
       "      <td>80064.00</td>\n",
       "      <td>65</td>\n",
       "      <td>0.000600</td>\n",
       "      <td>0.0</td>\n",
       "      <td>3</td>\n",
       "      <td>0</td>\n",
       "      <td>241.666667</td>\n",
       "    </tr>\n",
       "  </tbody>\n",
       "</table>\n",
       "<p>50000 rows × 7 columns</p>\n",
       "</div>"
      ],
      "text/plain": [
       "           time  failtimes  failtimes_norm  coord_dist_sum  repeat_count_sum  \\\n",
       "0        822.82          0        0.000000             0.0                 0   \n",
       "1       1645.64          0        0.000000             0.0                 0   \n",
       "2       2468.46          0        0.000000             0.0                 0   \n",
       "3       3291.28          0        0.000000             0.0                 0   \n",
       "4       4114.10          0        0.000000             0.0                 0   \n",
       "...         ...        ...             ...             ...               ...   \n",
       "49995  76861.44        127        0.001172             0.0                 0   \n",
       "49996  77662.08         62        0.000572             0.0                 0   \n",
       "49997  78462.72        125        0.001154             0.0                 3   \n",
       "49998  79263.36        123        0.001135             0.0                 3   \n",
       "49999  80064.00         65        0.000600             0.0                 3   \n",
       "\n",
       "       duration_sum  d_time_avg  \n",
       "0                 0    0.000000  \n",
       "1                 0    0.000000  \n",
       "2                 0    0.000000  \n",
       "3                 0    0.000000  \n",
       "4                 0    0.000000  \n",
       "...             ...         ...  \n",
       "49995             0    0.000000  \n",
       "49996             0    0.000000  \n",
       "49997             0  322.666667  \n",
       "49998             0  242.000000  \n",
       "49999             0  241.666667  \n",
       "\n",
       "[50000 rows x 7 columns]"
      ]
     },
     "execution_count": 5,
     "metadata": {},
     "output_type": "execute_result"
    }
   ],
   "source": [
    "easy_df = CREATE_EASY_DF(new_beatmaps, hit_objects_colnames)\n",
    "easy_df"
   ]
  },
  {
   "cell_type": "markdown",
   "metadata": {},
   "source": [
    "### 2. By Hit Objects"
   ]
  },
  {
   "cell_type": "markdown",
   "metadata": {},
   "source": [
    "#### Create a dataframe for all beatmaps \n",
    "* Each row represents one chunk with at least 2 hit objects\n",
    "    * i.e., First chunk merges the first 8 intervals and contains 2 hit objects. Second chunk takes the next 3 intervals and contains 3 hit objects, etc.\n",
    "* All column names are similar to what are in easy_df except that we sum over all objects (average for d_time) within each chunk\n"
   ]
  },
  {
   "cell_type": "code",
   "execution_count": 6,
   "metadata": {},
   "outputs": [
    {
     "data": {
      "text/html": [
       "<div>\n",
       "<style scoped>\n",
       "    .dataframe tbody tr th:only-of-type {\n",
       "        vertical-align: middle;\n",
       "    }\n",
       "\n",
       "    .dataframe tbody tr th {\n",
       "        vertical-align: top;\n",
       "    }\n",
       "\n",
       "    .dataframe thead th {\n",
       "        text-align: right;\n",
       "    }\n",
       "</style>\n",
       "<table border=\"1\" class=\"dataframe\">\n",
       "  <thead>\n",
       "    <tr style=\"text-align: right;\">\n",
       "      <th></th>\n",
       "      <th>num_hit_objects</th>\n",
       "      <th>chunks</th>\n",
       "      <th>failtimes_norm_sum</th>\n",
       "      <th>coord_dist_sum_sum</th>\n",
       "      <th>repeat_count_sum_sum</th>\n",
       "      <th>duration_sum_sum</th>\n",
       "      <th>d_time_avg_avg</th>\n",
       "    </tr>\n",
       "  </thead>\n",
       "  <tbody>\n",
       "    <tr>\n",
       "      <th>0</th>\n",
       "      <td>2</td>\n",
       "      <td>8</td>\n",
       "      <td>0.000000</td>\n",
       "      <td>0.000000</td>\n",
       "      <td>2</td>\n",
       "      <td>0</td>\n",
       "      <td>779.375000</td>\n",
       "    </tr>\n",
       "    <tr>\n",
       "      <th>1</th>\n",
       "      <td>3</td>\n",
       "      <td>3</td>\n",
       "      <td>0.000000</td>\n",
       "      <td>0.000000</td>\n",
       "      <td>3</td>\n",
       "      <td>0</td>\n",
       "      <td>581.500000</td>\n",
       "    </tr>\n",
       "    <tr>\n",
       "      <th>2</th>\n",
       "      <td>2</td>\n",
       "      <td>3</td>\n",
       "      <td>0.000000</td>\n",
       "      <td>0.000000</td>\n",
       "      <td>2</td>\n",
       "      <td>0</td>\n",
       "      <td>697.666667</td>\n",
       "    </tr>\n",
       "    <tr>\n",
       "      <th>3</th>\n",
       "      <td>3</td>\n",
       "      <td>2</td>\n",
       "      <td>0.000038</td>\n",
       "      <td>0.000000</td>\n",
       "      <td>2</td>\n",
       "      <td>0</td>\n",
       "      <td>697.500000</td>\n",
       "    </tr>\n",
       "    <tr>\n",
       "      <th>4</th>\n",
       "      <td>2</td>\n",
       "      <td>2</td>\n",
       "      <td>0.000171</td>\n",
       "      <td>0.000000</td>\n",
       "      <td>3</td>\n",
       "      <td>0</td>\n",
       "      <td>697.500000</td>\n",
       "    </tr>\n",
       "    <tr>\n",
       "      <th>...</th>\n",
       "      <td>...</td>\n",
       "      <td>...</td>\n",
       "      <td>...</td>\n",
       "      <td>...</td>\n",
       "      <td>...</td>\n",
       "      <td>...</td>\n",
       "      <td>...</td>\n",
       "    </tr>\n",
       "    <tr>\n",
       "      <th>31</th>\n",
       "      <td>3</td>\n",
       "      <td>2</td>\n",
       "      <td>0.002323</td>\n",
       "      <td>0.000000</td>\n",
       "      <td>3</td>\n",
       "      <td>0</td>\n",
       "      <td>697.500000</td>\n",
       "    </tr>\n",
       "    <tr>\n",
       "      <th>32</th>\n",
       "      <td>3</td>\n",
       "      <td>3</td>\n",
       "      <td>0.002818</td>\n",
       "      <td>243.706791</td>\n",
       "      <td>3</td>\n",
       "      <td>697</td>\n",
       "      <td>698.000000</td>\n",
       "    </tr>\n",
       "    <tr>\n",
       "      <th>33</th>\n",
       "      <td>3</td>\n",
       "      <td>5</td>\n",
       "      <td>0.003914</td>\n",
       "      <td>0.000000</td>\n",
       "      <td>4</td>\n",
       "      <td>0</td>\n",
       "      <td>436.000000</td>\n",
       "    </tr>\n",
       "    <tr>\n",
       "      <th>34</th>\n",
       "      <td>4</td>\n",
       "      <td>1</td>\n",
       "      <td>0.004885</td>\n",
       "      <td>280.000000</td>\n",
       "      <td>4</td>\n",
       "      <td>697</td>\n",
       "      <td>261.500000</td>\n",
       "    </tr>\n",
       "    <tr>\n",
       "      <th>35</th>\n",
       "      <td>3</td>\n",
       "      <td>1</td>\n",
       "      <td>0.001933</td>\n",
       "      <td>340.640573</td>\n",
       "      <td>2</td>\n",
       "      <td>1046</td>\n",
       "      <td>930.666667</td>\n",
       "    </tr>\n",
       "  </tbody>\n",
       "</table>\n",
       "<p>24372 rows × 7 columns</p>\n",
       "</div>"
      ],
      "text/plain": [
       "    num_hit_objects  chunks  failtimes_norm_sum  coord_dist_sum_sum  \\\n",
       "0                 2       8            0.000000            0.000000   \n",
       "1                 3       3            0.000000            0.000000   \n",
       "2                 2       3            0.000000            0.000000   \n",
       "3                 3       2            0.000038            0.000000   \n",
       "4                 2       2            0.000171            0.000000   \n",
       "..              ...     ...                 ...                 ...   \n",
       "31                3       2            0.002323            0.000000   \n",
       "32                3       3            0.002818          243.706791   \n",
       "33                3       5            0.003914            0.000000   \n",
       "34                4       1            0.004885          280.000000   \n",
       "35                3       1            0.001933          340.640573   \n",
       "\n",
       "    repeat_count_sum_sum  duration_sum_sum  d_time_avg_avg  \n",
       "0                      2                 0      779.375000  \n",
       "1                      3                 0      581.500000  \n",
       "2                      2                 0      697.666667  \n",
       "3                      2                 0      697.500000  \n",
       "4                      3                 0      697.500000  \n",
       "..                   ...               ...             ...  \n",
       "31                     3                 0      697.500000  \n",
       "32                     3               697      698.000000  \n",
       "33                     4                 0      436.000000  \n",
       "34                     4               697      261.500000  \n",
       "35                     2              1046      930.666667  \n",
       "\n",
       "[24372 rows x 7 columns]"
      ]
     },
     "execution_count": 6,
     "metadata": {},
     "output_type": "execute_result"
    }
   ],
   "source": [
    "min_size = 2\n",
    "partition_all_df = CREATE_PARTITION_DF(new_beatmaps, easy_df, min_size)\n",
    "partition_all_df"
   ]
  },
  {
   "cell_type": "markdown",
   "metadata": {},
   "source": [
    "## Model Fitting"
   ]
  },
  {
   "cell_type": "markdown",
   "metadata": {},
   "source": [
    "### 1. Linear Regression Model"
   ]
  },
  {
   "cell_type": "code",
   "execution_count": 28,
   "metadata": {},
   "outputs": [
    {
     "name": "stdout",
     "output_type": "stream",
     "text": [
      "Coefficients for linear regression are [-1.31000474e-08 -3.37017458e-06  6.31559274e-04  5.75965759e-07\n",
      " -7.62538189e-08] and the intercept is 0.0018493555145184316\n",
      "mse for linear regression is 0.0003062843300254793\n",
      "r^2 for linear regression is 0.00212703482224319\n"
     ]
    },
    {
     "data": {
      "image/png": "[encoded data removed]",
      "text/plain": [
       "<Figure size 432x288 with 1 Axes>"
      ]
     },
     "metadata": {
      "needs_background": "light"
     },
     "output_type": "display_data"
    }
   ],
   "source": [
    "df_for_linearReg = easy_df.dropna()\n",
    "X = df_for_linearReg[[\"time\", \"coord_dist_sum\", \"repeat_count_sum\", \"duration_sum\", \"d_time_avg\"]]\n",
    "y = df_for_linearReg.failtimes_norm\n",
    "testSize = 0.3\n",
    "X_train, X_test, y_train, y_test = train_test_split(X, y, test_size = testSize)\n",
    " \n",
    "# train the model\n",
    "lm = LinearRegression()\n",
    "lm.fit(X_train, y_train)\n",
    " \n",
    "# return model coefficients\n",
    "print(\"Coefficients for linear regression are\",lm.coef_, \"and the intercept is\",lm.intercept_)\n",
    " \n",
    "# plot\n",
    "y_pred = lm.predict(X_test)\n",
    "plt.plot(y_test, y_pred, \".\")\n",
    " \n",
    "print(\"mse for linear regression is\", mean_squared_error(y_test, y_pred))\n",
    "print(\"r^2 for linear regression is\",r2_score(y_test, y_pred))\n",
    "##correlation matrix, residual plot"
   ]
  },
  {
   "cell_type": "code",
   "execution_count": 29,
   "metadata": {},
   "outputs": [
    {
     "data": {
      "image/png": "[encoded data removed]",
      "text/plain": [
       "<Figure size 432x288 with 1 Axes>"
      ]
     },
     "metadata": {
      "needs_background": "light"
     },
     "output_type": "display_data"
    }
   ],
   "source": [
    "##qq plot\n",
    "stats.probplot(y_train, dist=\"norm\", plot=pylab)\n",
    "pylab.show()"
   ]
  },
  {
   "cell_type": "code",
   "execution_count": 30,
   "metadata": {},
   "outputs": [
    {
     "data": {
      "image/png": "[encoded data removed]",
      "text/plain": [
       "<Figure size 432x288 with 1 Axes>"
      ]
     },
     "metadata": {
      "needs_background": "light"
     },
     "output_type": "display_data"
    }
   ],
   "source": [
    "small = np.sort(df_for_linearReg.failtimes_norm)[4000:10000]\n",
    "stats.probplot(small, dist=\"norm\", plot=pylab)\n",
    "pylab.show()"
   ]
  },
  {
   "cell_type": "markdown",
   "metadata": {},
   "source": [
    "### 2. KNN Regression Model\n",
    "We attempted to try a KNN Regression Model. However, after doing research into the topic, we found that KNN models work best with 2 predictors. Since our data has over 2 predictors, we decided that the KNN Regression Model was not the right choice for this problem."
   ]
  },
  {
   "cell_type": "code",
   "execution_count": null,
   "metadata": {},
   "outputs": [],
   "source": []
  },
  {
   "cell_type": "markdown",
   "metadata": {},
   "source": [
    "### 3. XGBoost Random Forest Regression Model"
   ]
  },
  {
   "cell_type": "code",
   "execution_count": 31,
   "metadata": {},
   "outputs": [],
   "source": [
    "df_for_XGBoost = partition_all_df\n",
    "X = df_for_XGBoost[[\"coord_dist_sum_sum\", \"repeat_count_sum_sum\", \"duration_sum_sum\", \"d_time_avg_sum\"]]\n",
    "y = df_for_XGBoost.failtimes_norm_sum"
   ]
  },
  {
   "cell_type": "code",
   "execution_count": 32,
   "metadata": {},
   "outputs": [
    {
     "name": "stderr",
     "output_type": "stream",
     "text": [
      "/home/ec2-user/.local/share/virtualenvs/dsu-mlpp-LeXi4iVD/lib/python3.8/site-packages/xgboost/data.py:112: UserWarning: Use subset (sliced data) of np.ndarray is not recommended because it will generate extra copies and increase memory consumption\n",
      "  warnings.warn(\n"
     ]
    }
   ],
   "source": [
    "y_pred_point2, y_test_point2, rmse_percent_point2 = Xgboost_est_pp_model().train_test_model(X, y, 0.2)"
   ]
  },
  {
   "cell_type": "code",
   "execution_count": 33,
   "metadata": {},
   "outputs": [],
   "source": [
    "y_pred_vs_real_df_point2 = pd.DataFrame({\"y_pred\": y_pred_point2, \"y_real\": y_test_point2})"
   ]
  },
  {
   "cell_type": "code",
   "execution_count": 34,
   "metadata": {},
   "outputs": [
    {
     "data": {
      "text/plain": [
       "<AxesSubplot:>"
      ]
     },
     "execution_count": 34,
     "metadata": {},
     "output_type": "execute_result"
    },
    {
     "data": {
      "image/png": "[encoded data removed]",
      "text/plain": [
       "<Figure size 432x288 with 1 Axes>"
      ]
     },
     "metadata": {
      "needs_background": "light"
     },
     "output_type": "display_data"
    }
   ],
   "source": [
    "sns.lineplot(data = y_pred_vs_real_df_point2)"
   ]
  },
  {
   "cell_type": "code",
   "execution_count": null,
   "metadata": {},
   "outputs": [],
   "source": []
  },
  {
   "cell_type": "code",
   "execution_count": null,
   "metadata": {},
   "outputs": [],
   "source": []
  }
 ],
 "metadata": {
  "kernelspec": {
   "display_name": "dsu-mlpp-env",
   "language": "python",
   "name": "dsu-mlpp-env"
  },
  "language_info": {
   "codemirror_mode": {
    "name": "ipython",
    "version": 3
   },
   "file_extension": ".py",
   "mimetype": "text/x-python",
   "name": "python",
   "nbconvert_exporter": "python",
   "pygments_lexer": "ipython3",
   "version": "3.8.5"
  }
 },
 "nbformat": 4,
 "nbformat_minor": 4
}
