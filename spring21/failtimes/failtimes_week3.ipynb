{
 "cells": [
  {
   "cell_type": "code",
   "execution_count": 39,
   "metadata": {},
   "outputs": [],
   "source": [
    "import sys\n",
    "sys.path.append('../..')\n",
    "import pandas as pd\n",
    "from pymongo import UpdateOne\n",
    "import numpy as np\n",
    "from config import client\n",
    "import matplotlib.pyplot as plt\n",
    "import numpy as np\n",
    "import pandas as pd\n",
    "import matplotlib.pyplot as plt"
   ]
  },
  {
   "cell_type": "markdown",
   "metadata": {},
   "source": [
    "## Data Retrieval"
   ]
  },
  {
   "cell_type": "code",
   "execution_count": 15,
   "metadata": {},
   "outputs": [],
   "source": [
    "db = client[\"osu_mlpp_db1\"]\n",
    "\n",
    "# top_bm = list(db.osu_beatmaps.find({}, {\"playcount\" : 1}))\n",
    "# some_bm = [53]\n",
    "\n",
    "\n",
    "failtimes = list(db.osu_beatmap_failtimes.find({\"type\" : \"fail\"}, {\"_id\" : 0, \"type\":0}))\n"
   ]
  },
  {
   "cell_type": "code",
   "execution_count": 44,
   "metadata": {},
   "outputs": [],
   "source": [
    "for one_bm in failtimes:\n",
    "    bm_id = one_bm[\"beatmap_id\"]\n",
    "    performance_array = [value for value in one_bm.values()][1:]\n",
    "    db.osu_beatmap_failtimes.update_one( \n",
    "        {\"beatmap_id\" : bm_id, \"type\" : \"fail\"},\n",
    "        {\"$set\": {\"performance_array\" : performance_array}})"
   ]
  },
  {
   "cell_type": "code",
   "execution_count": null,
   "metadata": {},
   "outputs": [],
   "source": []
  }
 ],
 "metadata": {
  "kernelspec": {
   "display_name": "dsu-mlpp-env",
   "language": "python",
   "name": "dsu-mlpp-env"
  },
  "language_info": {
   "codemirror_mode": {
    "name": "ipython",
    "version": 3
   },
   "file_extension": ".py",
   "mimetype": "text/x-python",
   "name": "python",
   "nbconvert_exporter": "python",
   "pygments_lexer": "ipython3",
   "version": "3.8.5"
  }
 },
 "nbformat": 4,
 "nbformat_minor": 4
}
