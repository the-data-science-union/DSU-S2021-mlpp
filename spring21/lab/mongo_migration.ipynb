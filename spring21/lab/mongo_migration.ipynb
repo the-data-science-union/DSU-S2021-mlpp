{
 "cells": [
  {
   "cell_type": "code",
   "execution_count": 2,
   "metadata": {},
   "outputs": [],
   "source": [
    "import sys\n",
    "sys.path.append('../..')\n",
    "\n",
    "from pymongo import ASCENDING as A\n",
    "from tqdm import tqdm\n",
    "\n",
    "from config import client\n",
    "import sql_parser"
   ]
  },
  {
   "cell_type": "code",
   "execution_count": 5,
   "metadata": {},
   "outputs": [],
   "source": [
    "KEYS = {\n",
    "    'osu_beatmap_difficulty': [(\"beatmap_id\", A), (\"mods\", A)],\n",
    "    'osu_beatmap_difficulty_attribs': [(\"beatmap_id\", A), (\"mods\", A), (\"attrib_id\", A)],\n",
    "    'osu_beatmap_failtimes': [(\"beatmap_id\", A), (\"type\", A)],\n",
    "    'osu_user_beatmap_playcount': [(\"user_id\", A), (\"beatmap_id\", A)],\n",
    "}"
   ]
  },
  {
   "cell_type": "code",
   "execution_count": null,
   "metadata": {},
   "outputs": [],
   "source": [
    "sql_parser.parse_dump(\n",
    "    path = '../../../data/2021_04_03_performance_mlpp_osu_random/',\n",
    "    db = client['osu_mlpp_db1'],\n",
    "    keys=KEYS\n",
    ")"
   ]
  },
  {
   "cell_type": "code",
   "execution_count": null,
   "metadata": {
    "tags": []
   },
   "outputs": [],
   "source": [
    "sql_parser.parse_dump(\n",
    "    path = '../../../data/2021_04_01_performance_osu_top/',\n",
    "    db = client['osu_top_db'],\n",
    "    toMigrate=[\n",
    "        'osu_user_stats',\n",
    "        'osu_scores_high',\n",
    "        'osu_user_beatmap_playcount',\n",
    "        'sample_users'\n",
    "    ],\n",
    "    keys=KEYS\n",
    ")"
   ]
  },
  {
   "cell_type": "code",
   "execution_count": null,
   "metadata": {},
   "outputs": [],
   "source": [
    "from pymongo import UpdateOne\n",
    "import numpy as np"
   ]
  },
  {
   "cell_type": "code",
   "execution_count": 6,
   "metadata": {},
   "outputs": [],
   "source": [
    "osu_db = client['osu_mlpp_db1']"
   ]
  },
  {
   "cell_type": "code",
   "execution_count": 7,
   "metadata": {},
   "outputs": [
    {
     "data": {
      "text/plain": [
       "'user_id_1_date_1'"
      ]
     },
     "execution_count": 7,
     "metadata": {},
     "output_type": "execute_result"
    }
   ],
   "source": [
    "osu_db.osu_scores_high.create_index('user_id')\n",
    "osu_db.osu_scores_high.create_index('beatmap_id')\n",
    "osu_db.osu_scores_high.create_index('date')\n",
    "osu_db.osu_scores_high.create_index([('user_id', A), ('date', A)])"
   ]
  },
  {
   "cell_type": "code",
   "execution_count": 8,
   "metadata": {},
   "outputs": [],
   "source": [
    "def bonus_table():\n",
    "    cnt_bonus = []\n",
    "    curr = 1\n",
    "    for i in range(100000):\n",
    "        curr *= .9994\n",
    "        cnt_bonus.append(416.6667 * (1 - curr))\n",
    "    return np.array(cnt_bonus)"
   ]
  },
  {
   "cell_type": "code",
   "execution_count": 9,
   "metadata": {},
   "outputs": [],
   "source": [
    "bonus = bonus_table()\n",
    "user_ids = osu_db.osu_user_stats.find().distinct('_id')"
   ]
  },
  {
   "cell_type": "code",
   "execution_count": null,
   "metadata": {},
   "outputs": [],
   "source": [
    "for user_id in tqdm(user_ids):\n",
    "    scores = list(osu_db.osu_scores_high.find(\n",
    "        {'user_id': user_id}, {'pp': 1, 'date': 1}).sort('date'))\n",
    "    score_hist = list(map(lambda x: x['pp'] if x['pp'] else 0, scores))\n",
    "    pp_hist = np.array(fast_pp_hist(score_hist))\n",
    "    bonus_pp_hist = pp_hist + bonus[:len(pp_hist)]\n",
    "\n",
    "    score_updates = []\n",
    "    for i in range(len(scores)):\n",
    "        query = {'_id': scores[i]['_id']}\n",
    "        update = {\n",
    "            '$set': {\n",
    "                'mlpp.est_user_pp_raw': pp_hist[i],\n",
    "                'mlpp.est_user_pp': bonus_pp_hist[i]\n",
    "            }\n",
    "        }\n",
    "        score_updates.append(UpdateOne(query, update))\n",
    "\n",
    "    osu_db.osu_scores_high.bulk_write(score_updates)\n",
    "\n",
    "    osu_db.osu_user_stats.update_one({'_id': user_id}, {\n",
    "        '$set': {\n",
    "            'mlpp.est_current_pp_raw': pp_hist[-1],\n",
    "            'mlpp.est_current_pp': bonus_pp_hist[-1]\n",
    "        }\n",
    "    })"
   ]
  },
  {
   "cell_type": "code",
   "execution_count": null,
   "metadata": {},
   "outputs": [],
   "source": [
    "import os\n",
    "\n",
    "from config import client\n",
    "from beatmap_parser.beatmap_parser.beatmap import parse_hit_objects\n",
    "from beatmap_parser.beatmap_parser.errors import FileFormatError"
   ]
  },
  {
   "cell_type": "code",
   "execution_count": null,
   "metadata": {},
   "outputs": [],
   "source": [
    "osu_db = client['osu_mlpp_db1']\n",
    "songs_path = \"../../../data/2021_04_01_osu_files\""
   ]
  },
  {
   "cell_type": "code",
   "execution_count": null,
   "metadata": {},
   "outputs": [],
   "source": [
    "beatmap_ids = osu_db.osu_beatmaps.distinct('_id')"
   ]
  },
  {
   "cell_type": "code",
   "execution_count": null,
   "metadata": {},
   "outputs": [],
   "source": [
    "broken_paths = []\n",
    "invalid_paths = []\n",
    "\n",
    "for _id in (pbar := tqdm(beatmap_ids)):\n",
    "    path = os.path.join(songs_path, f'{_id}.osu')\n",
    "    query = {'_id': _id}\n",
    "    \n",
    "    update = {\n",
    "        '$set': {\n",
    "            'mlpp.hit_objects': None\n",
    "        }\n",
    "    }\n",
    "    \n",
    "    try:\n",
    "        if os.path.exists(path):\n",
    "            with open(path, encoding='latin-1') as file:\n",
    "                update['$set']['mlpp.hit_objects'] = parse_hit_objects(file)\n",
    "    except FileFormatError:\n",
    "        invalid_paths.append(path)\n",
    "    except Exception as e:\n",
    "        broken_paths.append(path)\n",
    "    \n",
    "    osu_db.osu_beatmaps.update_one(query, update)\n",
    "    \n",
    "    pbar.set_description(f'(Errors: {len(broken_paths)} Invalid: {len(invalid_paths)}) ')"
   ]
  },
  {
   "cell_type": "code",
   "execution_count": null,
   "metadata": {},
   "outputs": [],
   "source": [
    "N = osu_db.osu_beatmap_failtimes.count_documents({})\n",
    "for doc in tqdm(osu_db.osu_beatmap_failtimes.find(), total=N):\n",
    "    arr = [doc[f'p{i + 1}'] for i in range(100)]\n",
    "    \n",
    "    query = {\n",
    "        '_id': doc['beatmap_id']\n",
    "    }\n",
    "    \n",
    "    update = {\n",
    "        '$set': {\n",
    "            f'mlpp.{doc[\"type\"]}': arr\n",
    "        }\n",
    "    }\n",
    "    \n",
    "    osu_db.osu_beatmaps.update_one(query, update)"
   ]
  }
 ],
 "metadata": {
  "kernelspec": {
   "display_name": "dsu-mlpp-env",
   "language": "python",
   "name": "dsu-mlpp-env"
  },
  "language_info": {
   "codemirror_mode": {
    "name": "ipython",
    "version": 3
   },
   "file_extension": ".py",
   "mimetype": "text/x-python",
   "name": "python",
   "nbconvert_exporter": "python",
   "pygments_lexer": "ipython3",
   "version": "3.8.5"
  }
 },
 "nbformat": 4,
 "nbformat_minor": 4
}
