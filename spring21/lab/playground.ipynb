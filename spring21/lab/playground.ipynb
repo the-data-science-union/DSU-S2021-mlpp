{
 "cells": [
  {
   "cell_type": "code",
   "execution_count": 1,
   "metadata": {},
   "outputs": [],
   "source": [
    "%load_ext autoreload\n",
    "%autoreload 2"
   ]
  },
  {
   "cell_type": "code",
   "execution_count": 69,
   "metadata": {},
   "outputs": [],
   "source": [
    "import sys\n",
    "sys.path.append('../..')\n",
    "from matplotlib import pyplot as plt\n",
    "\n",
    "from dataset import BeatmapSamples\n",
    "from config import client\n",
    "osu_db = client['osu_mlpp_db1']"
   ]
  },
  {
   "cell_type": "code",
   "execution_count": 3,
   "metadata": {},
   "outputs": [],
   "source": [
    "bms = list(osu_db.osu_beatmaps.find().sort('playcount', -1).limit(1000))"
   ]
  },
  {
   "cell_type": "code",
   "execution_count": 35,
   "metadata": {},
   "outputs": [],
   "source": [
    "fails = np.asarray(bms[-1]['mlpp']['fail'])"
   ]
  },
  {
   "cell_type": "code",
   "execution_count": 47,
   "metadata": {},
   "outputs": [],
   "source": [
    "difficulty_duration = [(x['difficultyrating'], x['total_length']) for x in osu_db.osu_beatmaps.find(None, {'total_length': 1, 'difficultyrating': 1})]"
   ]
  },
  {
   "cell_type": "code",
   "execution_count": 55,
   "metadata": {},
   "outputs": [],
   "source": [
    "difficulty_duration = sorted(list(filter(lambda x: x[0] <= 10, difficulty_duration)), key=lambda x: x[0])\n",
    "x, y = zip(*difficulty_duration)"
   ]
  },
  {
   "cell_type": "code",
   "execution_count": 60,
   "metadata": {},
   "outputs": [],
   "source": [
    "bs = BeatmapSamples(osu_db.osu_beatmaps, osu_db.failtimes_dataset_500_1, 1, p_min = 0, fail_min=100, drain_min = 6)"
   ]
  },
  {
   "cell_type": "code",
   "execution_count": 79,
   "metadata": {},
   "outputs": [],
   "source": [
    "import torch"
   ]
  },
  {
   "cell_type": "code",
   "execution_count": 86,
   "metadata": {},
   "outputs": [
    {
     "data": {
      "text/plain": [
       "tensor([1])"
      ]
     },
     "execution_count": 86,
     "metadata": {},
     "output_type": "execute_result"
    }
   ],
   "source": [
    "torch.tensor(1).unsqueeze(0)"
   ]
  },
  {
   "cell_type": "code",
   "execution_count": 76,
   "metadata": {},
   "outputs": [],
   "source": [
    "import numpy as np\n",
    "\n",
    "res = list(osu_db.failtimes_dataset_500_1.find(None, {'Y': 1}))\n",
    "\n",
    "id_arr = [x['_id'] for x in res]\n",
    "\n",
    "Y_arr = np.asarray([x['Y'][0] for x in res])\n",
    "Y_arr = BeatmapSamples.log_t_equalize(Y_arr)"
   ]
  }
 ],
 "metadata": {
  "kernelspec": {
   "display_name": "dsu-mlpp-env",
   "language": "python",
   "name": "dsu-mlpp-env"
  },
  "language_info": {
   "codemirror_mode": {
    "name": "ipython",
    "version": 3
   },
   "file_extension": ".py",
   "mimetype": "text/x-python",
   "name": "python",
   "nbconvert_exporter": "python",
   "pygments_lexer": "ipython3",
   "version": "3.8.5"
  }
 },
 "nbformat": 4,
 "nbformat_minor": 4
}
