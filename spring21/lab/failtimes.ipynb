{
 "cells": [
  {
   "cell_type": "code",
   "execution_count": 1,
   "metadata": {},
   "outputs": [],
   "source": [
    "%load_ext autoreload\n",
    "%autoreload 2"
   ]
  },
  {
   "cell_type": "code",
   "execution_count": 2,
   "metadata": {},
   "outputs": [],
   "source": [
    "import sys\n",
    "sys.path.append('../..')\n",
    "\n",
    "import numpy as np\n",
    "import torch\n",
    "from torch import nn\n",
    "from torch.utils.data import DataLoader\n",
    "from tqdm import tqdm\n",
    "from matplotlib import pyplot as plt\n",
    "\n",
    "import math\n",
    "import random\n",
    "\n",
    "from config import client\n",
    "from dataset import BeatmapSamples, BeatmapDataset, ShufflePairs\n",
    "from model import Siamese\n",
    "from pytorchtools import EarlyStopping\n",
    "from utils import Stopwatch"
   ]
  },
  {
   "cell_type": "code",
   "execution_count": 3,
   "metadata": {},
   "outputs": [],
   "source": [
    "device = torch.device('cuda' if torch.cuda.is_available() else 'cpu')"
   ]
  },
  {
   "cell_type": "code",
   "execution_count": 5,
   "metadata": {},
   "outputs": [],
   "source": [
    "osu_db = client['osu_mlpp_db1']"
   ]
  },
  {
   "cell_type": "code",
   "execution_count": 6,
   "metadata": {},
   "outputs": [
    {
     "name": "stderr",
     "output_type": "stream",
     "text": [
      "100%|██████████| 1000/1000 [00:27<00:00, 36.10it/s]\n"
     ]
    }
   ],
   "source": [
    "TRAIN_REGRESSION = False\n",
    "N = 1000\n",
    "RATIO_MIN = 1.5\n",
    "\n",
    "MODEL_PATH = f\"{'regression' if TRAIN_REGRESSION else 'binary'}_N{N}_rm{RATIO_MIN}.pt\"\n",
    "\n",
    "sample = BeatmapSamples(\n",
    "    osu_db.osu_beatmaps, \n",
    "    osu_db.mlpp_failtimes_experiment, \n",
    "    N, \n",
    "    probability=TRAIN_REGRESSION,\n",
    "    ratio_min = RATIO_MIN,\n",
    "    fail_min= 1000, \n",
    "    drain_min = 3\n",
    ")\n",
    "\n",
    "sample.clear_out()\n",
    "sample.generate()"
   ]
  },
  {
   "cell_type": "code",
   "execution_count": 7,
   "metadata": {},
   "outputs": [],
   "source": [
    "train_dataset, test_dataset = BeatmapDataset.split(osu_db.mlpp_failtimes_experiment, .8)"
   ]
  },
  {
   "cell_type": "code",
   "execution_count": 8,
   "metadata": {},
   "outputs": [],
   "source": [
    "learning_rate = .001\n",
    "batch_size = 32\n",
    "num_epochs = 100"
   ]
  },
  {
   "cell_type": "code",
   "execution_count": 9,
   "metadata": {},
   "outputs": [
    {
     "name": "stdout",
     "output_type": "stream",
     "text": [
      "EarlyStopping counter: 1 out of 7\n",
      "EarlyStopping counter: 2 out of 7\n",
      "EarlyStopping counter: 3 out of 7\n",
      "Epoch [10/100], Train Loss: 0.4875, Valid Loss: 0.5169, Time: 1.30s\n",
      "EarlyStopping counter: 1 out of 7\n",
      "EarlyStopping counter: 2 out of 7\n",
      "EarlyStopping counter: 3 out of 7\n",
      "EarlyStopping counter: 4 out of 7\n",
      "EarlyStopping counter: 5 out of 7\n",
      "Epoch [20/100], Train Loss: 0.4647, Valid Loss: 0.5153, Time: 1.35s\n",
      "EarlyStopping counter: 6 out of 7\n",
      "EarlyStopping counter: 7 out of 7\n",
      "Stopping\n"
     ]
    }
   ],
   "source": [
    "train_loader = DataLoader(train_dataset, batch_size=batch_size)\n",
    "valid_loader = DataLoader(test_dataset, batch_size=batch_size)\n",
    "\n",
    "timer = Stopwatch()\n",
    "early_stopping = EarlyStopping(path=MODEL_PATH)\n",
    "\n",
    "n_total_steps = math.ceil(len(train_dataset) / batch_size)\n",
    "\n",
    "model = Siamese().to(device)\n",
    "\n",
    "criterion = nn.MSELoss() if TRAIN_REGRESSION else nn.BCELoss()\n",
    "optimizer = torch.optim.SGD(model.parameters(), lr=learning_rate)\n",
    "\n",
    "avg_train_losses = []\n",
    "avg_valid_losses = []\n",
    "\n",
    "for epoch in range(num_epochs):\n",
    "    timer.start()\n",
    "    \n",
    "    train_losses = []\n",
    "    valid_losses = []\n",
    "    \n",
    "    model.train()\n",
    "    for i, (x1, x2, labels) in enumerate(train_loader):\n",
    "        \n",
    "        x1 = x1.to(device)\n",
    "        x2 = x2.to(device)\n",
    "        labels = labels.to(device)\n",
    "        \n",
    "        optimizer.zero_grad()\n",
    "        \n",
    "        outputs = model(x1, x2)\n",
    "        loss = criterion(outputs, labels)\n",
    "        loss.backward()\n",
    "        optimizer.step()\n",
    "        \n",
    "        train_losses.append(loss.item())\n",
    "    \n",
    "    model.eval()\n",
    "    for x1, x2, labels in valid_loader:\n",
    "        \n",
    "        x1 = x1.to(device)\n",
    "        x2 = x2.to(device)\n",
    "        labels = labels.to(device)\n",
    "        \n",
    "        outputs = model(x1, x2)\n",
    "        loss = criterion(outputs, labels)\n",
    "        \n",
    "        valid_losses.append(loss.item())\n",
    "    \n",
    "    train_loss = np.average(train_losses)\n",
    "    valid_loss = np.average(valid_losses)\n",
    "    \n",
    "    avg_train_losses.append(train_loss)\n",
    "    avg_valid_losses.append(valid_loss)\n",
    "    \n",
    "    timer.stop()\n",
    "    \n",
    "    if (epoch + 1) % 10 == 0: \n",
    "        print(f'Epoch [{epoch+1}/{num_epochs}], Train Loss: {train_loss:.4f}, Valid Loss: {valid_loss:.4f}, Time: {timer.elapsed:.2f}s')\n",
    "    \n",
    "    timer.reset()\n",
    "    \n",
    "    early_stopping(valid_loss, model)\n",
    "    \n",
    "    if early_stopping.early_stop:\n",
    "        print(\"Stopping\")\n",
    "        break\n"
   ]
  },
  {
   "cell_type": "code",
   "execution_count": 10,
   "metadata": {},
   "outputs": [
    {
     "data": {
      "text/plain": [
       "[<matplotlib.lines.Line2D at 0x7f43613190d0>]"
      ]
     },
     "execution_count": 10,
     "metadata": {},
     "output_type": "execute_result"
    },
    {
     "data": {
      "image/png": "[encoded data removed]",
      "text/plain": [
       "<Figure size 432x288 with 1 Axes>"
      ]
     },
     "metadata": {
      "needs_background": "light"
     },
     "output_type": "display_data"
    }
   ],
   "source": [
    "from matplotlib import pyplot as plt\n",
    "plt.plot(avg_train_losses)\n",
    "plt.plot(avg_valid_losses)"
   ]
  },
  {
   "cell_type": "code",
   "execution_count": 63,
   "metadata": {},
   "outputs": [
    {
     "data": {
      "text/plain": [
       "<All keys matched successfully>"
      ]
     },
     "execution_count": 63,
     "metadata": {},
     "output_type": "execute_result"
    }
   ],
   "source": [
    "model.load_state_dict(torch.load(\"binary_N1000_rm1.5.pt\"))"
   ]
  },
  {
   "cell_type": "code",
   "execution_count": 50,
   "metadata": {},
   "outputs": [
    {
     "name": "stderr",
     "output_type": "stream",
     "text": [
      "100%|██████████| 1000/1000 [00:25<00:00, 38.54it/s]\n"
     ]
    }
   ],
   "source": [
    "sample = BeatmapSamples(osu_db.osu_beatmaps, osu_db.mlpp_failtimes_control, 1000, ratio_min = 1.5, fail_min=1000, drain_min = 3)\n",
    "sample.clear_out()\n",
    "sample.generate()"
   ]
  },
  {
   "cell_type": "code",
   "execution_count": 51,
   "metadata": {},
   "outputs": [],
   "source": [
    "full_dataset = BeatmapDataset(osu_db.mlpp_failtimes_control)\n",
    "full_loader = DataLoader(full_dataset, batch_size=batch_size)"
   ]
  },
  {
   "cell_type": "code",
   "execution_count": 64,
   "metadata": {},
   "outputs": [
    {
     "name": "stdout",
     "output_type": "stream",
     "text": [
      "0.7649811984958796\n"
     ]
    }
   ],
   "source": [
    "out_all = []\n",
    "out1_all = []\n",
    "\n",
    "with torch.no_grad():\n",
    "    n_samples = 0\n",
    "    n_correct = 0\n",
    "    \n",
    "    for X1, X2, Y in full_loader:\n",
    "\n",
    "        X1 = X1.to(device)\n",
    "        X2 = X2.to(device)\n",
    "        Y = torch.round(Y).to(device)\n",
    "        \n",
    "        out1 = model.forward_one(X1)\n",
    "        out = model.forward(X1, X2)\n",
    "        predicted = torch.round(out)\n",
    "\n",
    "        n_samples += Y.size(0)\n",
    "        n_correct += (Y == predicted).type(torch.float32).sum().item()\n",
    "        \n",
    "        out_all.extend(out.squeeze().tolist())\n",
    "        out1_all.extend(out1.squeeze().tolist())\n",
    "\n",
    "out_all = torch.tensor(out_all)\n",
    "out1_all = torch.tensor(out1_all)\n",
    "\n",
    "print(n_correct/n_samples)"
   ]
  },
  {
   "cell_type": "code",
   "execution_count": 46,
   "metadata": {},
   "outputs": [
    {
     "data": {
      "image/png": "[encoded data removed]",
      "text/plain": [
       "<Figure size 432x288 with 1 Axes>"
      ]
     },
     "metadata": {
      "needs_background": "light"
     },
     "output_type": "display_data"
    }
   ],
   "source": [
    "_ = plt.hist(out1_all.tolist(), range=(-5, 5), bins=50)"
   ]
  },
  {
   "cell_type": "code",
   "execution_count": 47,
   "metadata": {},
   "outputs": [
    {
     "data": {
      "image/png": "[encoded data removed]",
      "text/plain": [
       "<Figure size 432x288 with 1 Axes>"
      ]
     },
     "metadata": {
      "needs_background": "light"
     },
     "output_type": "display_data"
    }
   ],
   "source": [
    "_ = plt.hist(out_all.tolist())"
   ]
  },
  {
   "cell_type": "code",
   "execution_count": 48,
   "metadata": {},
   "outputs": [
    {
     "name": "stdout",
     "output_type": "stream",
     "text": [
      "tensor(0.4949) tensor(0.5000)\n"
     ]
    }
   ],
   "source": [
    "pred_all = torch.round(out_all)\n",
    "print(pred_all.mean(), pred_all.std())"
   ]
  }
 ],
 "metadata": {
  "kernelspec": {
   "display_name": "dsu-mlpp-env",
   "language": "python",
   "name": "dsu-mlpp-env"
  },
  "language_info": {
   "codemirror_mode": {
    "name": "ipython",
    "version": 3
   },
   "file_extension": ".py",
   "mimetype": "text/x-python",
   "name": "python",
   "nbconvert_exporter": "python",
   "pygments_lexer": "ipython3",
   "version": "3.8.5"
  }
 },
 "nbformat": 4,
 "nbformat_minor": 4
}
