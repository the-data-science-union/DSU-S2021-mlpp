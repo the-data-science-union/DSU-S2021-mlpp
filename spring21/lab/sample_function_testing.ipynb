{
 "cells": [
  {
   "cell_type": "code",
   "execution_count": 3,
   "metadata": {},
   "outputs": [],
   "source": [
    "import sys\n",
    "sys.path.append(\"../..\")\n",
    "import numpy as np\n",
    "import random\n",
    "import matplotlib.pyplot as plt\n",
    "\n",
    "from config import client"
   ]
  },
  {
   "cell_type": "code",
   "execution_count": 4,
   "metadata": {},
   "outputs": [],
   "source": [
    "osu_db = client.osu_random_db"
   ]
  },
  {
   "cell_type": "code",
   "execution_count": 5,
   "metadata": {},
   "outputs": [],
   "source": [
    "def sample_function(rank_score):\n",
    "    return 4.2 * np.exp(-5.941878135093015 + 0.0006782525709886764 * rank_score)"
   ]
  },
  {
   "cell_type": "code",
   "execution_count": 6,
   "metadata": {},
   "outputs": [],
   "source": [
    "all_users_rank_score = list(osu_db.osu_user_stats.find({},{'rank_score': 1}))"
   ]
  },
  {
   "cell_type": "code",
   "execution_count": 7,
   "metadata": {},
   "outputs": [],
   "source": [
    "def should_sample_user(rank_score):\n",
    "    return random.random() < sample_function(rank_score)"
   ]
  },
  {
   "cell_type": "code",
   "execution_count": 8,
   "metadata": {},
   "outputs": [],
   "source": [
    "def sample_users():\n",
    "    random.shuffle(all_users_rank_score)\n",
    "\n",
    "    sampled_user_ids = []\n",
    "    for u in all_users_rank_score:\n",
    "        if (should_sample_user(u['rank_score'])):\n",
    "            sampled_user_ids.append(u['_id'])\n",
    "    \n",
    "    return sampled_user_ids"
   ]
  },
  {
   "cell_type": "code",
   "execution_count": 9,
   "metadata": {},
   "outputs": [],
   "source": [
    "avg_number_users_sampled = np.mean([len(sample_users()) for _ in range(50)])"
   ]
  },
  {
   "cell_type": "code",
   "execution_count": 10,
   "metadata": {},
   "outputs": [],
   "source": [
    "sampled_user_ids = sample_users()"
   ]
  },
  {
   "cell_type": "code",
   "execution_count": 11,
   "metadata": {},
   "outputs": [],
   "source": [
    "sampled_scores_est_pp = list(\n",
    "    osu_db.osu_scores_high.find({\n",
    "        'user_id': {\n",
    "            '$in': sampled_user_ids\n",
    "        }\n",
    "    }, {'mlpp.est_user_pp': 1})\n",
    ")"
   ]
  },
  {
   "cell_type": "code",
   "execution_count": 12,
   "metadata": {},
   "outputs": [],
   "source": [
    "sampled_est_pp = [s['mlpp']['est_user_pp'] for s in sampled_scores_est_pp]"
   ]
  },
  {
   "cell_type": "code",
   "execution_count": 13,
   "metadata": {},
   "outputs": [
    {
     "data": {
      "text/plain": [
       "1545265"
      ]
     },
     "execution_count": 13,
     "metadata": {},
     "output_type": "execute_result"
    }
   ],
   "source": [
    "len(sampled_est_pp)"
   ]
  },
  {
   "cell_type": "code",
   "execution_count": 14,
   "metadata": {},
   "outputs": [
    {
     "data": {
      "image/png": "[encoded data removed]",
      "text/plain": [
       "<Figure size 432x288 with 1 Axes>"
      ]
     },
     "metadata": {
      "needs_background": "light"
     },
     "output_type": "display_data"
    }
   ],
   "source": [
    "_ = plt.hist(sampled_est_pp, bins=50)"
   ]
  }
 ],
 "metadata": {
  "kernelspec": {
   "display_name": "dsu-mlpp-env",
   "language": "python",
   "name": "dsu-mlpp-env"
  },
  "language_info": {
   "codemirror_mode": {
    "name": "ipython",
    "version": 3
   },
   "file_extension": ".py",
   "mimetype": "text/x-python",
   "name": "python",
   "nbconvert_exporter": "python",
   "pygments_lexer": "ipython3",
   "version": "3.8.5"
  }
 },
 "nbformat": 4,
 "nbformat_minor": 4
}
