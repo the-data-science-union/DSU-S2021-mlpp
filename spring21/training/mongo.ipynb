{
 "cells": [
  {
   "cell_type": "markdown",
   "metadata": {},
   "source": [
    "config contains the client (similar to mysql connector), which gives us access to the database"
   ]
  },
  {
   "cell_type": "markdown",
   "metadata": {},
   "source": [
    "NOTE: Throughout this tutorial, there are REFER tags. This notebook is meant to get you started and aware of what's available in mongo that we will commonly use. The REFER tags will point you to additional operators, commands, and functions outside of what is shown here."
   ]
  },
  {
   "cell_type": "code",
   "execution_count": 57,
   "metadata": {},
   "outputs": [],
   "source": [
    "import sys\n",
    "sys.path.append(\"../..\")\n",
    "from pprint import pprint\n",
    "\n",
    "from config import client"
   ]
  },
  {
   "cell_type": "markdown",
   "metadata": {},
   "source": [
    "Declaring the Database to be used from the Mongo Server. Here, we'll just use the playground."
   ]
  },
  {
   "cell_type": "code",
   "execution_count": 58,
   "metadata": {},
   "outputs": [],
   "source": [
    "db = client['playground']"
   ]
  },
  {
   "cell_type": "markdown",
   "metadata": {},
   "source": [
    "Creating a New Collection in the Database (replace with your name, otherwise you may be using someone else's!)"
   ]
  },
  {
   "cell_type": "code",
   "execution_count": 59,
   "metadata": {},
   "outputs": [],
   "source": [
    "YOUR_NAME = \"victor\" # goes here"
   ]
  },
  {
   "cell_type": "code",
   "execution_count": 60,
   "metadata": {},
   "outputs": [],
   "source": [
    "basket = db[f'{YOUR_NAME}s_fruit_basket'] "
   ]
  },
  {
   "cell_type": "markdown",
   "metadata": {},
   "source": [
    "Inserting a document into the collection (notice the freedom you have)"
   ]
  },
  {
   "cell_type": "code",
   "execution_count": 61,
   "metadata": {},
   "outputs": [
    {
     "data": {
      "text/plain": [
       "<pymongo.results.InsertOneResult at 0x7fa381981d00>"
      ]
     },
     "execution_count": 61,
     "metadata": {},
     "output_type": "execute_result"
    }
   ],
   "source": [
    "basket.insert_one(\n",
    "    {\n",
    "        'fruit': 'apple', \n",
    "        'price': 1.25,\n",
    "        'details': {\n",
    "            'color': 'red'\n",
    "        }\n",
    "    },\n",
    ")"
   ]
  },
  {
   "cell_type": "markdown",
   "metadata": {},
   "source": [
    "Inserting many documents into the collection"
   ]
  },
  {
   "cell_type": "code",
   "execution_count": 62,
   "metadata": {},
   "outputs": [
    {
     "data": {
      "text/plain": [
       "<pymongo.results.InsertManyResult at 0x7fa3818a0ac0>"
      ]
     },
     "execution_count": 62,
     "metadata": {},
     "output_type": "execute_result"
    }
   ],
   "source": [
    "basket.insert_many([\n",
    "    {\n",
    "        'fruit': 'banana',\n",
    "        'price': .50,\n",
    "        'details': {\n",
    "            'color': 'yellow'\n",
    "        }\n",
    "    },\n",
    "    {\n",
    "        'fruit': 'strawberry',\n",
    "        'price': .20,\n",
    "        'details': {\n",
    "            'color': 'red'\n",
    "        }\n",
    "    },\n",
    "])"
   ]
  },
  {
   "cell_type": "markdown",
   "metadata": {},
   "source": [
    "Finding a single document with a field"
   ]
  },
  {
   "cell_type": "code",
   "execution_count": 63,
   "metadata": {},
   "outputs": [
    {
     "data": {
      "text/plain": [
       "{'_id': ObjectId('60669e1914bbdb315c63aa60'),\n",
       " 'fruit': 'banana',\n",
       " 'price': 0.5,\n",
       " 'details': {'color': 'yellow'}}"
      ]
     },
     "execution_count": 63,
     "metadata": {},
     "output_type": "execute_result"
    }
   ],
   "source": [
    "basket.find_one({\n",
    "    'fruit': 'banana'\n",
    "})"
   ]
  },
  {
   "cell_type": "markdown",
   "metadata": {},
   "source": [
    "Finding a document with a nested field"
   ]
  },
  {
   "cell_type": "code",
   "execution_count": 64,
   "metadata": {},
   "outputs": [
    {
     "data": {
      "text/plain": [
       "<pymongo.cursor.Cursor at 0x7fa381975eb0>"
      ]
     },
     "execution_count": 64,
     "metadata": {},
     "output_type": "execute_result"
    }
   ],
   "source": [
    "result = basket.find({\n",
    "    'details': {\n",
    "        'color': 'red'\n",
    "    }\n",
    "})\n",
    "\n",
    "result"
   ]
  },
  {
   "cell_type": "markdown",
   "metadata": {},
   "source": [
    "Wait what happened, we didn't get apple and strawberry back! That's because find_one returns the document itself. The find function returns a cursor to retrieve the documents we want."
   ]
  },
  {
   "cell_type": "code",
   "execution_count": 65,
   "metadata": {},
   "outputs": [
    {
     "name": "stdout",
     "output_type": "stream",
     "text": [
      "{'_id': ObjectId('60669e1914bbdb315c63aa5f'),\n",
      " 'details': {'color': 'red'},\n",
      " 'fruit': 'apple',\n",
      " 'price': 1.25}\n",
      "{'_id': ObjectId('60669e1914bbdb315c63aa61'),\n",
      " 'details': {'color': 'red'},\n",
      " 'fruit': 'strawberry',\n",
      " 'price': 0.2}\n"
     ]
    }
   ],
   "source": [
    "for fruit in result:\n",
    "    pprint(fruit)"
   ]
  },
  {
   "cell_type": "markdown",
   "metadata": {},
   "source": [
    "There we go! The cursor no longer works anymore:"
   ]
  },
  {
   "cell_type": "code",
   "execution_count": 66,
   "metadata": {},
   "outputs": [
    {
     "ename": "StopIteration",
     "evalue": "",
     "output_type": "error",
     "traceback": [
      "\u001b[0;31m---------------------------------------------------------------------------\u001b[0m",
      "\u001b[0;31mStopIteration\u001b[0m                             Traceback (most recent call last)",
      "\u001b[0;32m<ipython-input-66-d75a27682eb8>\u001b[0m in \u001b[0;36m<module>\u001b[0;34m\u001b[0m\n\u001b[0;32m----> 1\u001b[0;31m \u001b[0mresult\u001b[0m\u001b[0;34m.\u001b[0m\u001b[0mnext\u001b[0m\u001b[0;34m(\u001b[0m\u001b[0;34m)\u001b[0m \u001b[0;31m# gets the next document, but none are left\u001b[0m\u001b[0;34m\u001b[0m\u001b[0;34m\u001b[0m\u001b[0m\n\u001b[0m",
      "\u001b[0;32m~/.local/share/virtualenvs/dsu-mlpp-LeXi4iVD/lib/python3.8/site-packages/pymongo/cursor.py\u001b[0m in \u001b[0;36mnext\u001b[0;34m(self)\u001b[0m\n\u001b[1;32m   1213\u001b[0m                 \u001b[0;32mreturn\u001b[0m \u001b[0mself\u001b[0m\u001b[0;34m.\u001b[0m\u001b[0m__data\u001b[0m\u001b[0;34m.\u001b[0m\u001b[0mpopleft\u001b[0m\u001b[0;34m(\u001b[0m\u001b[0;34m)\u001b[0m\u001b[0;34m\u001b[0m\u001b[0;34m\u001b[0m\u001b[0m\n\u001b[1;32m   1214\u001b[0m         \u001b[0;32melse\u001b[0m\u001b[0;34m:\u001b[0m\u001b[0;34m\u001b[0m\u001b[0;34m\u001b[0m\u001b[0m\n\u001b[0;32m-> 1215\u001b[0;31m             \u001b[0;32mraise\u001b[0m \u001b[0mStopIteration\u001b[0m\u001b[0;34m\u001b[0m\u001b[0;34m\u001b[0m\u001b[0m\n\u001b[0m\u001b[1;32m   1216\u001b[0m \u001b[0;34m\u001b[0m\u001b[0m\n\u001b[1;32m   1217\u001b[0m     \u001b[0m__next__\u001b[0m \u001b[0;34m=\u001b[0m \u001b[0mnext\u001b[0m\u001b[0;34m\u001b[0m\u001b[0;34m\u001b[0m\u001b[0m\n",
      "\u001b[0;31mStopIteration\u001b[0m: "
     ]
    }
   ],
   "source": [
    "result.next() # gets the next document, but none are left"
   ]
  },
  {
   "cell_type": "markdown",
   "metadata": {},
   "source": [
    "Some other filters commonly used are:\n",
    "1. < (lt), > (gt), <= (lte), >= (gte) \n",
    "2. in\n",
    "\n",
    "REFER: https://docs.mongodb.com/manual/reference/operator/query/"
   ]
  },
  {
   "cell_type": "code",
   "execution_count": 81,
   "metadata": {},
   "outputs": [
    {
     "data": {
      "text/plain": [
       "[{'_id': ObjectId('60669e1914bbdb315c63aa60'),\n",
       "  'fruit': 'banana',\n",
       "  'price': 0.75,\n",
       "  'details': {'color': 'yellow'}}]"
      ]
     },
     "execution_count": 81,
     "metadata": {},
     "output_type": "execute_result"
    }
   ],
   "source": [
    "list(\n",
    "    basket.find({\n",
    "        'price': {\n",
    "            '$lte': 1.00\n",
    "        }\n",
    "    })\n",
    ")"
   ]
  },
  {
   "cell_type": "code",
   "execution_count": 86,
   "metadata": {},
   "outputs": [
    {
     "data": {
      "text/plain": [
       "[{'_id': ObjectId('60669e1914bbdb315c63aa5f'),\n",
       "  'fruit': 'apple',\n",
       "  'price': 1.75,\n",
       "  'details': {'color': 'red'}},\n",
       " {'_id': ObjectId('60669e1914bbdb315c63aa61'),\n",
       "  'fruit': 'strawberry',\n",
       "  'price': 1.75,\n",
       "  'details': {'color': 'red',\n",
       "   'updated': datetime.datetime(2021, 4, 2, 4, 32, 21, 195000)}},\n",
       " {'_id': ObjectId('60669e5514bbdb315c63aa62'),\n",
       "  'fruit': 'melon',\n",
       "  'price': 3.0,\n",
       "  'details': {'color': 'green'}}]"
      ]
     },
     "execution_count": 86,
     "metadata": {},
     "output_type": "execute_result"
    }
   ],
   "source": [
    "list(\n",
    "    basket.find({\n",
    "        'details.color': {\n",
    "            '$in': ['red', 'green']\n",
    "        }\n",
    "    })\n",
    ")"
   ]
  },
  {
   "cell_type": "markdown",
   "metadata": {},
   "source": [
    "Find accepts a second argument that allows you to pick the fields you want. This is useful when we handle really large data, but only need a couple fields:"
   ]
  },
  {
   "cell_type": "code",
   "execution_count": null,
   "metadata": {},
   "outputs": [],
   "source": [
    "result = basket.find({}, {\n",
    "    'fruit': True # Indicate the fields you want selected\n",
    "}) # empty dict for first argument means we are selecting all documents\n",
    "\n",
    "list(result) # waill convert the cursor into the list of documents found"
   ]
  },
  {
   "cell_type": "markdown",
   "metadata": {},
   "source": [
    "The \\_id is always passed. Instead of choosing the fields you wish to _include_, you can choose the ones to _exclude_."
   ]
  },
  {
   "cell_type": "code",
   "execution_count": 67,
   "metadata": {
    "tags": []
   },
   "outputs": [
    {
     "data": {
      "text/plain": [
       "[{'_id': ObjectId('60669e1914bbdb315c63aa60'),\n",
       "  'fruit': 'banana',\n",
       "  'price': 0.5,\n",
       "  'details': {}}]"
      ]
     },
     "execution_count": 67,
     "metadata": {},
     "output_type": "execute_result"
    }
   ],
   "source": [
    "result = basket.find(\n",
    "    {\n",
    "        'fruit': 'banana' # You can use both arguments together!\n",
    "    }, {\n",
    "        'details.color': False  # Indicate the fields you want excluded (you can do nested with '.')\n",
    "    })  \n",
    "\n",
    "list(result)"
   ]
  },
  {
   "cell_type": "markdown",
   "metadata": {},
   "source": [
    "Update a document by filtering with the first argument, and setting with the second"
   ]
  },
  {
   "cell_type": "code",
   "execution_count": 68,
   "metadata": {},
   "outputs": [
    {
     "data": {
      "text/plain": [
       "{'_id': ObjectId('60669e1914bbdb315c63aa60'),\n",
       " 'fruit': 'banana',\n",
       " 'price': 0.75,\n",
       " 'details': {'color': 'yellow'}}"
      ]
     },
     "execution_count": 68,
     "metadata": {},
     "output_type": "execute_result"
    }
   ],
   "source": [
    "basket.update_one({\n",
    "    'fruit': 'banana'\n",
    "},\n",
    "    {\n",
    "        '$set': {\n",
    "            'price': .75\n",
    "        }\n",
    "    }\n",
    ")\n",
    "\n",
    "basket.find_one({'fruit': 'banana'})"
   ]
  },
  {
   "cell_type": "markdown",
   "metadata": {},
   "source": [
    "Update many documents\n",
    "\n",
    "For more update operators REFER: https://docs.mongodb.com/manual/reference/operator/update/"
   ]
  },
  {
   "cell_type": "code",
   "execution_count": 71,
   "metadata": {
    "tags": []
   },
   "outputs": [
    {
     "data": {
      "text/plain": [
       "[{'_id': ObjectId('60669e1914bbdb315c63aa5f'),\n",
       "  'fruit': 'apple',\n",
       "  'price': 1.75,\n",
       "  'details': {'color': 'red'}},\n",
       " {'_id': ObjectId('60669e1914bbdb315c63aa61'),\n",
       "  'fruit': 'strawberry',\n",
       "  'price': 1.75,\n",
       "  'details': {'color': 'red'}}]"
      ]
     },
     "execution_count": 71,
     "metadata": {},
     "output_type": "execute_result"
    }
   ],
   "source": [
    "basket.update_many({\n",
    "    'details.color': 'red'\n",
    "},\n",
    "    {\n",
    "        '$set': {\n",
    "            'price': 1.75\n",
    "        }\n",
    "    }\n",
    ")\n",
    "\n",
    "list(basket.find({'details.color': 'red'}))"
   ]
  },
  {
   "cell_type": "markdown",
   "metadata": {},
   "source": [
    "There may be situations where you'd like several different tasks done together. Introducing bulk write:"
   ]
  },
  {
   "cell_type": "code",
   "execution_count": 72,
   "metadata": {},
   "outputs": [
    {
     "data": {
      "text/plain": [
       "<pymongo.results.BulkWriteResult at 0x7fa3818a0b80>"
      ]
     },
     "execution_count": 72,
     "metadata": {},
     "output_type": "execute_result"
    }
   ],
   "source": [
    "from pymongo import UpdateOne, InsertOne\n",
    "from datetime import datetime\n",
    "\n",
    "updates_to_fruit_basket = [\n",
    "    UpdateOne(  # same syntax as .update_one\n",
    "        {\n",
    "            'fruit': 'strawberry'\n",
    "        },\n",
    "        {\n",
    "            '$set': {\n",
    "                'details.updated': datetime.now()  # new date field\n",
    "            }\n",
    "        }\n",
    "    ),\n",
    "    InsertOne(\n",
    "        {\n",
    "            'fruit': 'melon',\n",
    "            'price': 3.00,\n",
    "            'details': {\n",
    "                'color': 'green'\n",
    "            }\n",
    "        }\n",
    "    )\n",
    "]\n",
    "\n",
    "basket.bulk_write(updates_to_fruit_basket)"
   ]
  },
  {
   "cell_type": "code",
   "execution_count": 73,
   "metadata": {},
   "outputs": [
    {
     "data": {
      "text/plain": [
       "[{'_id': ObjectId('60669e1914bbdb315c63aa5f'),\n",
       "  'fruit': 'apple',\n",
       "  'price': 1.75,\n",
       "  'details': {'color': 'red'}},\n",
       " {'_id': ObjectId('60669e1914bbdb315c63aa60'),\n",
       "  'fruit': 'banana',\n",
       "  'price': 0.75,\n",
       "  'details': {'color': 'yellow'}},\n",
       " {'_id': ObjectId('60669e1914bbdb315c63aa61'),\n",
       "  'fruit': 'strawberry',\n",
       "  'price': 1.75,\n",
       "  'details': {'color': 'red',\n",
       "   'updated': datetime.datetime(2021, 4, 2, 4, 32, 21, 195000)}},\n",
       " {'_id': ObjectId('60669e5514bbdb315c63aa62'),\n",
       "  'fruit': 'melon',\n",
       "  'price': 3.0,\n",
       "  'details': {'color': 'green'}}]"
      ]
     },
     "execution_count": 73,
     "metadata": {},
     "output_type": "execute_result"
    }
   ],
   "source": [
    "list(basket.find({}))"
   ]
  },
  {
   "cell_type": "markdown",
   "metadata": {},
   "source": [
    "For performance, you can index fields to speed up sorting and retrieval\n",
    "\n",
    "You can index on multiple fields! REFER: https://docs.mongodb.com/manual/core/index-multikey/"
   ]
  },
  {
   "cell_type": "code",
   "execution_count": 74,
   "metadata": {},
   "outputs": [
    {
     "data": {
      "text/plain": [
       "'fruit_1'"
      ]
     },
     "execution_count": 74,
     "metadata": {},
     "output_type": "execute_result"
    }
   ],
   "source": [
    "basket.create_index('fruit')"
   ]
  },
  {
   "cell_type": "markdown",
   "metadata": {},
   "source": [
    "Speaking of sorting..."
   ]
  },
  {
   "cell_type": "code",
   "execution_count": 76,
   "metadata": {},
   "outputs": [
    {
     "data": {
      "text/plain": [
       "[{'_id': ObjectId('60669e1914bbdb315c63aa5f'),\n",
       "  'fruit': 'apple',\n",
       "  'price': 1.75,\n",
       "  'details': {'color': 'red'}},\n",
       " {'_id': ObjectId('60669e1914bbdb315c63aa60'),\n",
       "  'fruit': 'banana',\n",
       "  'price': 0.75,\n",
       "  'details': {'color': 'yellow'}},\n",
       " {'_id': ObjectId('60669e5514bbdb315c63aa62'),\n",
       "  'fruit': 'melon',\n",
       "  'price': 3.0,\n",
       "  'details': {'color': 'green'}},\n",
       " {'_id': ObjectId('60669e1914bbdb315c63aa61'),\n",
       "  'fruit': 'strawberry',\n",
       "  'price': 1.75,\n",
       "  'details': {'color': 'red',\n",
       "   'updated': datetime.datetime(2021, 4, 2, 4, 32, 21, 195000)}}]"
      ]
     },
     "execution_count": 76,
     "metadata": {},
     "output_type": "execute_result"
    }
   ],
   "source": [
    "list(basket.find({}).sort('fruit')) # alphabetical"
   ]
  },
  {
   "cell_type": "markdown",
   "metadata": {},
   "source": [
    "For more complicated sorting REFER: https://docs.mongodb.com/manual/reference/method/cursor.sort/"
   ]
  },
  {
   "cell_type": "code",
   "execution_count": 103,
   "metadata": {},
   "outputs": [
    {
     "data": {
      "text/plain": [
       "[{'_id': ObjectId('60669e5514bbdb315c63aa62'),\n",
       "  'fruit': 'melon',\n",
       "  'price': 3.0,\n",
       "  'details': {'color': 'green'}},\n",
       " {'_id': ObjectId('60669e1914bbdb315c63aa5f'),\n",
       "  'fruit': 'apple',\n",
       "  'price': 1.75,\n",
       "  'details': {'color': 'red'}},\n",
       " {'_id': ObjectId('60669e1914bbdb315c63aa61'),\n",
       "  'fruit': 'strawberry',\n",
       "  'price': 1.75,\n",
       "  'details': {'color': 'red',\n",
       "   'updated': datetime.datetime(2021, 4, 2, 4, 32, 21, 195000)}},\n",
       " {'_id': ObjectId('60669e1914bbdb315c63aa60'),\n",
       "  'fruit': 'banana',\n",
       "  'price': 0.75,\n",
       "  'details': {'color': 'yellow'}}]"
      ]
     },
     "execution_count": 103,
     "metadata": {},
     "output_type": "execute_result"
    }
   ],
   "source": [
    "list(basket.find({}).sort('details.color')) #remember, you can use the nested '.' syntax anywhere!"
   ]
  },
  {
   "cell_type": "markdown",
   "metadata": {},
   "source": [
    "Perhaps you'd like to do several operations in sequence. Introducing aggregation pipelines:\n",
    "\n",
    "For more aggregation operators REFER: https://docs.mongodb.com/manual/reference/operator/aggregation/"
   ]
  },
  {
   "cell_type": "code",
   "execution_count": 104,
   "metadata": {},
   "outputs": [],
   "source": [
    "# You define the steps of your pipeline\n",
    "pipeline = [\n",
    "    # step 1: Filtering\n",
    "    {\n",
    "        '$match': {  # equivalent to find. Aggregation commands are named differently\n",
    "            'details.color': 'red',\n",
    "            'price': {  # just showing you can filter on multiple fields at once\n",
    "                '$lt': 100.00  # doesn't filter any fruits out, since none of our fruits are overpriced :)\n",
    "            }\n",
    "        }\n",
    "    },\n",
    "    # step 2: Setting & updating fields\n",
    "    {\n",
    "        '$set': {  # set a field to each document in our result\n",
    "            'description': 'rounding prices down',\n",
    "            'price': {\n",
    "                '$floor': '$price'  # append $ to fields that need to be referenced\n",
    "            }\n",
    "        }\n",
    "    },\n",
    "    # step 3: Sorting by price\n",
    "    {\n",
    "        '$sort': {\n",
    "            'price': 1\n",
    "        }\n",
    "    }\n",
    "]"
   ]
  },
  {
   "cell_type": "markdown",
   "metadata": {},
   "source": [
    "Performing the aggregation, note the description and the price. Remember, aggregation doesn't change what's in the database (unless you tell it to)."
   ]
  },
  {
   "cell_type": "code",
   "execution_count": 106,
   "metadata": {},
   "outputs": [
    {
     "data": {
      "text/plain": [
       "[{'_id': ObjectId('60669e1914bbdb315c63aa5f'),\n",
       "  'fruit': 'apple',\n",
       "  'price': 1.0,\n",
       "  'details': {'color': 'red'},\n",
       "  'description': 'rounding prices down'},\n",
       " {'_id': ObjectId('60669e1914bbdb315c63aa61'),\n",
       "  'fruit': 'strawberry',\n",
       "  'price': 1.0,\n",
       "  'details': {'color': 'red',\n",
       "   'updated': datetime.datetime(2021, 4, 2, 4, 32, 21, 195000)},\n",
       "  'description': 'rounding prices down'}]"
      ]
     },
     "execution_count": 106,
     "metadata": {},
     "output_type": "execute_result"
    }
   ],
   "source": [
    "list(basket.aggregate(pipeline))"
   ]
  }
 ],
 "metadata": {
  "kernelspec": {
   "display_name": "dsu-mlpp-env",
   "language": "python",
   "name": "dsu-mlpp-env"
  },
  "language_info": {
   "codemirror_mode": {
    "name": "ipython",
    "version": 3
   },
   "file_extension": ".py",
   "mimetype": "text/x-python",
   "name": "python",
   "nbconvert_exporter": "python",
   "pygments_lexer": "ipython3",
   "version": "3.8.5"
  }
 },
 "nbformat": 4,
 "nbformat_minor": 4
}
