{
 "cells": [
  {
   "cell_type": "markdown",
   "metadata": {},
   "source": [
    "## PyTorch Model"
   ]
  },
  {
   "cell_type": "code",
   "execution_count": 1,
   "metadata": {},
   "outputs": [],
   "source": [
    "import sys\n",
    "sys.path.append('../..')\n",
    "import os\n",
    "from tqdm import tqdm\n",
    "from config import client\n",
    "from pymongo import MongoClient\n",
    "import pandas as pd\n",
    "import torch\n",
    "import matplotlib.pyplot as plt\n",
    "import math\n",
    "import numpy as np\n",
    "from torch import nn, optim\n",
    "from torch.utils.data import Dataset, DataLoader\n",
    "import seaborn as sns\n",
    "from mlpp.data_modeling.preliminary_modeling import get_dataframe\n",
    "from tqdm.notebook import tqdm\n",
    "from sklearn.preprocessing import MinMaxScaler    \n",
    "from sklearn.model_selection import train_test_split\n",
    "from sklearn.metrics import mean_squared_error, r2_score"
   ]
  },
  {
   "cell_type": "code",
   "execution_count": 2,
   "metadata": {},
   "outputs": [],
   "source": [
    "osu_db = client['osu_random_db']"
   ]
  },
  {
   "cell_type": "markdown",
   "metadata": {},
   "source": [
    "## Import Data"
   ]
  },
  {
   "cell_type": "code",
   "execution_count": 3,
   "metadata": {},
   "outputs": [
    {
     "data": {
      "text/html": [
       "<div>\n",
       "<style scoped>\n",
       "    .dataframe tbody tr th:only-of-type {\n",
       "        vertical-align: middle;\n",
       "    }\n",
       "\n",
       "    .dataframe tbody tr th {\n",
       "        vertical-align: top;\n",
       "    }\n",
       "\n",
       "    .dataframe thead th {\n",
       "        text-align: right;\n",
       "    }\n",
       "</style>\n",
       "<table border=\"1\" class=\"dataframe\">\n",
       "  <thead>\n",
       "    <tr style=\"text-align: right;\">\n",
       "      <th></th>\n",
       "      <th>count50</th>\n",
       "      <th>count100</th>\n",
       "      <th>count300</th>\n",
       "      <th>countmiss</th>\n",
       "      <th>countgeki</th>\n",
       "      <th>countkatu</th>\n",
       "      <th>perfect</th>\n",
       "      <th>countNormal</th>\n",
       "      <th>countSlider</th>\n",
       "      <th>countSpinner</th>\n",
       "      <th>countTotal</th>\n",
       "      <th>diff_approach</th>\n",
       "      <th>diff_drain</th>\n",
       "      <th>diff_overall</th>\n",
       "      <th>diff_size</th>\n",
       "      <th>hit_length</th>\n",
       "      <th>est_user_pp</th>\n",
       "    </tr>\n",
       "  </thead>\n",
       "  <tbody>\n",
       "    <tr>\n",
       "      <th>0</th>\n",
       "      <td>2</td>\n",
       "      <td>76</td>\n",
       "      <td>133</td>\n",
       "      <td>5</td>\n",
       "      <td>4</td>\n",
       "      <td>20</td>\n",
       "      <td>0</td>\n",
       "      <td>155</td>\n",
       "      <td>60</td>\n",
       "      <td>1</td>\n",
       "      <td>278</td>\n",
       "      <td>5.0</td>\n",
       "      <td>4.0</td>\n",
       "      <td>5.0</td>\n",
       "      <td>5.0</td>\n",
       "      <td>155</td>\n",
       "      <td>114.756841</td>\n",
       "    </tr>\n",
       "    <tr>\n",
       "      <th>1</th>\n",
       "      <td>6</td>\n",
       "      <td>24</td>\n",
       "      <td>70</td>\n",
       "      <td>5</td>\n",
       "      <td>14</td>\n",
       "      <td>11</td>\n",
       "      <td>0</td>\n",
       "      <td>79</td>\n",
       "      <td>24</td>\n",
       "      <td>2</td>\n",
       "      <td>133</td>\n",
       "      <td>5.0</td>\n",
       "      <td>5.0</td>\n",
       "      <td>5.0</td>\n",
       "      <td>5.0</td>\n",
       "      <td>64</td>\n",
       "      <td>132.594611</td>\n",
       "    </tr>\n",
       "    <tr>\n",
       "      <th>2</th>\n",
       "      <td>2</td>\n",
       "      <td>7</td>\n",
       "      <td>185</td>\n",
       "      <td>1</td>\n",
       "      <td>36</td>\n",
       "      <td>5</td>\n",
       "      <td>0</td>\n",
       "      <td>158</td>\n",
       "      <td>37</td>\n",
       "      <td>0</td>\n",
       "      <td>232</td>\n",
       "      <td>3.0</td>\n",
       "      <td>2.0</td>\n",
       "      <td>3.0</td>\n",
       "      <td>3.0</td>\n",
       "      <td>209</td>\n",
       "      <td>63.021358</td>\n",
       "    </tr>\n",
       "    <tr>\n",
       "      <th>3</th>\n",
       "      <td>2</td>\n",
       "      <td>19</td>\n",
       "      <td>230</td>\n",
       "      <td>11</td>\n",
       "      <td>63</td>\n",
       "      <td>11</td>\n",
       "      <td>0</td>\n",
       "      <td>249</td>\n",
       "      <td>12</td>\n",
       "      <td>1</td>\n",
       "      <td>276</td>\n",
       "      <td>4.0</td>\n",
       "      <td>3.0</td>\n",
       "      <td>4.0</td>\n",
       "      <td>5.0</td>\n",
       "      <td>145</td>\n",
       "      <td>61.159836</td>\n",
       "    </tr>\n",
       "    <tr>\n",
       "      <th>4</th>\n",
       "      <td>5</td>\n",
       "      <td>41</td>\n",
       "      <td>87</td>\n",
       "      <td>9</td>\n",
       "      <td>38</td>\n",
       "      <td>19</td>\n",
       "      <td>0</td>\n",
       "      <td>92</td>\n",
       "      <td>44</td>\n",
       "      <td>6</td>\n",
       "      <td>198</td>\n",
       "      <td>5.0</td>\n",
       "      <td>5.0</td>\n",
       "      <td>5.0</td>\n",
       "      <td>6.0</td>\n",
       "      <td>129</td>\n",
       "      <td>57.935610</td>\n",
       "    </tr>\n",
       "  </tbody>\n",
       "</table>\n",
       "</div>"
      ],
      "text/plain": [
       "   count50  count100  count300  countmiss  countgeki  countkatu  perfect  \\\n",
       "0        2        76       133          5          4         20        0   \n",
       "1        6        24        70          5         14         11        0   \n",
       "2        2         7       185          1         36          5        0   \n",
       "3        2        19       230         11         63         11        0   \n",
       "4        5        41        87          9         38         19        0   \n",
       "\n",
       "   countNormal  countSlider  countSpinner  countTotal  diff_approach  \\\n",
       "0          155           60             1         278            5.0   \n",
       "1           79           24             2         133            5.0   \n",
       "2          158           37             0         232            3.0   \n",
       "3          249           12             1         276            4.0   \n",
       "4           92           44             6         198            5.0   \n",
       "\n",
       "   diff_drain  diff_overall  diff_size  hit_length  est_user_pp  \n",
       "0         4.0           5.0        5.0         155   114.756841  \n",
       "1         5.0           5.0        5.0          64   132.594611  \n",
       "2         2.0           3.0        3.0         209    63.021358  \n",
       "3         3.0           4.0        5.0         145    61.159836  \n",
       "4         5.0           5.0        6.0         129    57.935610  "
      ]
     },
     "execution_count": 3,
     "metadata": {},
     "output_type": "execute_result"
    }
   ],
   "source": [
    "df = get_dataframe(osu_db.week_9_sample_users, osu_db.osu_scores_high, osu_db.osu_beatmaps)\n",
    "df.head()"
   ]
  },
  {
   "cell_type": "code",
   "execution_count": 19,
   "metadata": {},
   "outputs": [],
   "source": [
    "def showCorr():\n",
    "    correlation = df.astype('float64').corr()\n",
    "    f, ax = plt.subplots(figsize = (14, 12))\n",
    "    plt.title(\"Correlation of Attributes\")\n",
    "    sns.heatmap(correlation, annot = True)\n",
    "    plt.show()"
   ]
  },
  {
   "cell_type": "markdown",
   "metadata": {},
   "source": [
    "From this point on, the code is taken from https://towardsdatascience.com/pytorch-tabular-regression-428e9c9ac93"
   ]
  },
  {
   "cell_type": "markdown",
   "metadata": {},
   "source": [
    "## Create Input and Output Data"
   ]
  },
  {
   "cell_type": "code",
   "execution_count": 4,
   "metadata": {},
   "outputs": [],
   "source": [
    "X = df.iloc[:, 0:-1] #input\n",
    "y = df.iloc[:, -1] #output"
   ]
  },
  {
   "cell_type": "markdown",
   "metadata": {},
   "source": [
    "## Train - Validation - Test"
   ]
  },
  {
   "cell_type": "code",
   "execution_count": 5,
   "metadata": {},
   "outputs": [],
   "source": [
    "# Train - Test\n",
    "X_trainval, X_test, y_trainval, y_test = train_test_split(X, y, test_size=0.2, random_state=1)\n",
    "\n",
    "# Split train into train-val\n",
    "X_train, X_val, y_train, y_val = train_test_split(X_trainval, y_trainval, test_size=0.1, random_state=2)"
   ]
  },
  {
   "cell_type": "code",
   "execution_count": 6,
   "metadata": {},
   "outputs": [],
   "source": [
    "# Normalize input \n",
    "scaler = MinMaxScaler()\n",
    "X_train= scaler.fit_transform(X_train)\n",
    "X_val = scaler.transform(X_val)\n",
    "X_test = scaler.transform(X_test)\n",
    "X_train, y_train = np.array(X_train), np.array(y_train)\n",
    "X_val, y_val = np.array(X_val), np.array(y_val)\n",
    "X_test, y_test = np.array(X_test), np.array(y_test)"
   ]
  },
  {
   "cell_type": "markdown",
   "metadata": {},
   "source": [
    "## Neural Network"
   ]
  },
  {
   "cell_type": "code",
   "execution_count": 8,
   "metadata": {},
   "outputs": [],
   "source": [
    "class RegressionDataset(Dataset):\n",
    "    \n",
    "    def __init__(self, X_data, y_data):\n",
    "        self.X_data = X_data\n",
    "        self.y_data = y_data\n",
    "        \n",
    "    def __getitem__(self, index):\n",
    "        return self.X_data[index], self.y_data[index]\n",
    "        \n",
    "    def __len__ (self):\n",
    "        return len(self.X_data)\n",
    "\n",
    "train_dataset = RegressionDataset(torch.from_numpy(X_train).float(), torch.from_numpy(y_train).float())\n",
    "val_dataset = RegressionDataset(torch.from_numpy(X_val).float(), torch.from_numpy(y_val).float())\n",
    "test_dataset = RegressionDataset(torch.from_numpy(X_test).float(), torch.from_numpy(y_test).float())"
   ]
  },
  {
   "cell_type": "code",
   "execution_count": 9,
   "metadata": {},
   "outputs": [],
   "source": [
    "EPOCHS = 250\n",
    "BATCH_SIZE = 17 \n",
    "LEARNING_RATE = 0.01\n",
    "NUM_FEATURES = len(X.columns)"
   ]
  },
  {
   "cell_type": "code",
   "execution_count": 10,
   "metadata": {},
   "outputs": [],
   "source": [
    "train_loader = DataLoader(dataset=train_dataset, batch_size=BATCH_SIZE, shuffle=True)\n",
    "val_loader = DataLoader(dataset=val_dataset, batch_size=1)\n",
    "test_loader = DataLoader(dataset=test_dataset, batch_size=1)"
   ]
  },
  {
   "cell_type": "code",
   "execution_count": 21,
   "metadata": {},
   "outputs": [],
   "source": [
    "class MultipleRegression(nn.Module):\n",
    "    def __init__(self, num_features):\n",
    "        super(MultipleRegression, self).__init__()\n",
    "        \n",
    "        self.layer_1 = nn.Linear(num_features, 16)\n",
    "        self.layer_2 = nn.Linear(16, 32)\n",
    "        self.layer_3 = nn.Linear(32, 16)\n",
    "        self.layer_out = nn.Linear(16, 1)\n",
    "        self.relu = nn.ReLU()\n",
    "    \n",
    "    def forward(self, inputs):\n",
    "        x = self.relu(self.layer_1(inputs))\n",
    "        x = self.relu(self.layer_2(x))\n",
    "        x = self.relu(self.layer_3(x))\n",
    "        x = self.layer_out(x)\n",
    "        return (x)\n",
    "    \n",
    "    def predict(self, test_inputs):\n",
    "        x = self.relu(self.layer_1(test_inputs))\n",
    "        x = self.relu(self.layer_2(x))\n",
    "        x = self.relu(self.layer_3(x))\n",
    "        x = self.layer_out(x)\n",
    "        return (x)"
   ]
  },
  {
   "cell_type": "code",
   "execution_count": 12,
   "metadata": {},
   "outputs": [
    {
     "name": "stdout",
     "output_type": "stream",
     "text": [
      "cpu\n"
     ]
    }
   ],
   "source": [
    "device = torch.device(\"cuda:0\" if torch.cuda.is_available() else \"cpu\")\n",
    "print(device)"
   ]
  },
  {
   "cell_type": "code",
   "execution_count": 13,
   "metadata": {},
   "outputs": [
    {
     "name": "stdout",
     "output_type": "stream",
     "text": [
      "MultipleRegression(\n",
      "  (layer_1): Linear(in_features=16, out_features=16, bias=True)\n",
      "  (layer_2): Linear(in_features=16, out_features=32, bias=True)\n",
      "  (layer_3): Linear(in_features=32, out_features=16, bias=True)\n",
      "  (layer_out): Linear(in_features=16, out_features=1, bias=True)\n",
      "  (relu): ReLU()\n",
      ")\n"
     ]
    }
   ],
   "source": [
    "model = MultipleRegression(NUM_FEATURES)\n",
    "model.to(device)\n",
    "print(model)\n",
    "criterion = nn.MSELoss()\n",
    "optimizer = optim.Adam(model.parameters(), lr=LEARNING_RATE)"
   ]
  },
  {
   "cell_type": "markdown",
   "metadata": {},
   "source": [
    "## Train Model"
   ]
  },
  {
   "cell_type": "code",
   "execution_count": 14,
   "metadata": {},
   "outputs": [],
   "source": [
    "loss_stats = {\n",
    "    'train': [],\n",
    "    \"val\": []\n",
    "}"
   ]
  },
  {
   "cell_type": "code",
   "execution_count": 15,
   "metadata": {},
   "outputs": [
    {
     "name": "stdout",
     "output_type": "stream",
     "text": [
      "Begin training.\n"
     ]
    },
    {
     "data": {
      "application/vnd.jupyter.widget-view+json": {
       "model_id": "8effb42a026b43fe8ce59d9c2efdce85",
       "version_major": 2,
       "version_minor": 0
      },
      "text/plain": [
       "  0%|          | 0/250 [00:00<?, ?it/s]"
      ]
     },
     "metadata": {},
     "output_type": "display_data"
    },
    {
     "name": "stdout",
     "output_type": "stream",
     "text": [
      "Epoch 001: | Train Loss: 2500.38916 | Val Loss: 2393.59098\n",
      "Epoch 002: | Train Loss: 2380.80109 | Val Loss: 2311.45283\n",
      "Epoch 003: | Train Loss: 2332.48383 | Val Loss: 2292.25872\n",
      "Epoch 004: | Train Loss: 2312.10177 | Val Loss: 2297.72074\n",
      "Epoch 005: | Train Loss: 2301.12581 | Val Loss: 2291.72646\n",
      "Epoch 006: | Train Loss: 2297.39157 | Val Loss: 2288.77033\n",
      "Epoch 007: | Train Loss: 2288.90327 | Val Loss: 2287.32096\n",
      "Epoch 008: | Train Loss: 2286.84667 | Val Loss: 2290.97725\n",
      "Epoch 009: | Train Loss: 2285.16274 | Val Loss: 2339.14165\n",
      "Epoch 010: | Train Loss: 2277.84510 | Val Loss: 2274.55183\n",
      "Epoch 011: | Train Loss: 2277.74204 | Val Loss: 2400.40669\n",
      "Epoch 012: | Train Loss: 2279.00396 | Val Loss: 2274.64207\n",
      "Epoch 013: | Train Loss: 2275.14724 | Val Loss: 2261.40682\n",
      "Epoch 014: | Train Loss: 2275.75768 | Val Loss: 2314.23862\n",
      "Epoch 015: | Train Loss: 2273.16934 | Val Loss: 2322.26198\n",
      "Epoch 016: | Train Loss: 2270.94588 | Val Loss: 2267.20839\n",
      "Epoch 017: | Train Loss: 2269.50166 | Val Loss: 2257.01384\n",
      "Epoch 018: | Train Loss: 2265.15251 | Val Loss: 2278.27280\n",
      "Epoch 019: | Train Loss: 2266.81339 | Val Loss: 2259.47070\n",
      "Epoch 020: | Train Loss: 2265.09843 | Val Loss: 2302.95982\n",
      "Epoch 021: | Train Loss: 2267.41467 | Val Loss: 2271.42597\n",
      "Epoch 022: | Train Loss: 2265.08787 | Val Loss: 2260.18700\n",
      "Epoch 023: | Train Loss: 2263.84838 | Val Loss: 2251.52618\n",
      "Epoch 024: | Train Loss: 2263.56662 | Val Loss: 2309.38123\n",
      "Epoch 025: | Train Loss: 2261.34782 | Val Loss: 2255.90511\n",
      "Epoch 026: | Train Loss: 2262.24412 | Val Loss: 2261.36446\n",
      "Epoch 027: | Train Loss: 2261.16981 | Val Loss: 2262.18842\n",
      "Epoch 028: | Train Loss: 2261.92648 | Val Loss: 2293.61092\n",
      "Epoch 029: | Train Loss: 2260.38507 | Val Loss: 2253.73229\n",
      "Epoch 030: | Train Loss: 2259.05012 | Val Loss: 2262.93789\n",
      "Epoch 031: | Train Loss: 2259.25697 | Val Loss: 2252.17708\n",
      "Epoch 032: | Train Loss: 2258.16002 | Val Loss: 2265.80554\n",
      "Epoch 033: | Train Loss: 2259.27954 | Val Loss: 2286.31856\n",
      "Epoch 034: | Train Loss: 2257.37721 | Val Loss: 2261.86714\n",
      "Epoch 035: | Train Loss: 2258.14108 | Val Loss: 2273.57361\n",
      "Epoch 036: | Train Loss: 2257.71503 | Val Loss: 2258.06195\n",
      "Epoch 037: | Train Loss: 2256.41233 | Val Loss: 2272.79887\n",
      "Epoch 038: | Train Loss: 2256.73351 | Val Loss: 2253.57298\n",
      "Epoch 039: | Train Loss: 2254.64273 | Val Loss: 2274.75971\n",
      "Epoch 040: | Train Loss: 2254.81048 | Val Loss: 2254.64801\n",
      "Epoch 041: | Train Loss: 2256.57668 | Val Loss: 2260.46428\n",
      "Epoch 042: | Train Loss: 2254.19320 | Val Loss: 2303.18692\n",
      "Epoch 043: | Train Loss: 2254.83439 | Val Loss: 2268.26849\n",
      "Epoch 044: | Train Loss: 2252.51856 | Val Loss: 2266.04907\n",
      "Epoch 045: | Train Loss: 2254.13162 | Val Loss: 2258.21343\n",
      "Epoch 046: | Train Loss: 2252.17269 | Val Loss: 2301.64163\n",
      "Epoch 047: | Train Loss: 2253.85724 | Val Loss: 2261.85610\n",
      "Epoch 048: | Train Loss: 2253.54489 | Val Loss: 2253.69553\n",
      "Epoch 049: | Train Loss: 2254.75465 | Val Loss: 2250.23341\n",
      "Epoch 050: | Train Loss: 2253.35035 | Val Loss: 2261.47707\n",
      "Epoch 051: | Train Loss: 2253.38308 | Val Loss: 2256.67745\n",
      "Epoch 052: | Train Loss: 2254.73262 | Val Loss: 2245.97988\n",
      "Epoch 053: | Train Loss: 2252.39206 | Val Loss: 2273.63813\n",
      "Epoch 054: | Train Loss: 2252.07603 | Val Loss: 2285.15626\n",
      "Epoch 055: | Train Loss: 2254.13471 | Val Loss: 2331.16971\n",
      "Epoch 056: | Train Loss: 2253.20401 | Val Loss: 2251.79909\n",
      "Epoch 057: | Train Loss: 2252.36436 | Val Loss: 2314.08582\n",
      "Epoch 058: | Train Loss: 2252.22512 | Val Loss: 2259.09804\n",
      "Epoch 059: | Train Loss: 2250.62970 | Val Loss: 2251.68785\n",
      "Epoch 060: | Train Loss: 2251.26325 | Val Loss: 2259.52032\n",
      "Epoch 061: | Train Loss: 2253.12768 | Val Loss: 2248.80319\n",
      "Epoch 062: | Train Loss: 2252.28458 | Val Loss: 2257.38139\n",
      "Epoch 063: | Train Loss: 2250.98338 | Val Loss: 2252.45841\n",
      "Epoch 064: | Train Loss: 2251.81311 | Val Loss: 2253.15677\n",
      "Epoch 065: | Train Loss: 2251.58732 | Val Loss: 2247.74100\n",
      "Epoch 066: | Train Loss: 2250.93471 | Val Loss: 2250.13172\n",
      "Epoch 067: | Train Loss: 2249.90159 | Val Loss: 2266.34338\n",
      "Epoch 068: | Train Loss: 2252.32498 | Val Loss: 2256.36746\n",
      "Epoch 069: | Train Loss: 2248.81172 | Val Loss: 2266.61269\n",
      "Epoch 070: | Train Loss: 2249.84437 | Val Loss: 2253.04378\n",
      "Epoch 071: | Train Loss: 2249.38145 | Val Loss: 2265.38411\n",
      "Epoch 072: | Train Loss: 2250.20985 | Val Loss: 2250.26585\n",
      "Epoch 073: | Train Loss: 2249.83234 | Val Loss: 2294.03088\n",
      "Epoch 074: | Train Loss: 2250.18809 | Val Loss: 2248.51815\n",
      "Epoch 075: | Train Loss: 2250.71464 | Val Loss: 2268.60081\n",
      "Epoch 076: | Train Loss: 2250.36639 | Val Loss: 2259.99372\n",
      "Epoch 077: | Train Loss: 2248.99035 | Val Loss: 2303.93630\n",
      "Epoch 078: | Train Loss: 2250.21405 | Val Loss: 2252.68886\n",
      "Epoch 079: | Train Loss: 2249.55031 | Val Loss: 2247.83351\n",
      "Epoch 080: | Train Loss: 2248.61092 | Val Loss: 2257.11822\n",
      "Epoch 081: | Train Loss: 2250.02806 | Val Loss: 2259.92812\n",
      "Epoch 082: | Train Loss: 2249.22063 | Val Loss: 2249.28326\n",
      "Epoch 083: | Train Loss: 2248.36379 | Val Loss: 2261.98517\n",
      "Epoch 084: | Train Loss: 2247.91307 | Val Loss: 2270.41155\n",
      "Epoch 085: | Train Loss: 2250.10678 | Val Loss: 2249.22637\n",
      "Epoch 086: | Train Loss: 2249.03575 | Val Loss: 2261.59309\n",
      "Epoch 087: | Train Loss: 2246.92541 | Val Loss: 2254.66123\n",
      "Epoch 088: | Train Loss: 2248.61727 | Val Loss: 2259.51109\n",
      "Epoch 089: | Train Loss: 2248.42107 | Val Loss: 2255.66392\n",
      "Epoch 090: | Train Loss: 2247.07466 | Val Loss: 2261.20488\n",
      "Epoch 091: | Train Loss: 2249.04519 | Val Loss: 2294.68291\n",
      "Epoch 092: | Train Loss: 2248.41685 | Val Loss: 2251.16629\n",
      "Epoch 093: | Train Loss: 2247.67130 | Val Loss: 2304.08551\n",
      "Epoch 094: | Train Loss: 2248.50155 | Val Loss: 2248.24535\n",
      "Epoch 095: | Train Loss: 2249.76168 | Val Loss: 2256.85814\n",
      "Epoch 096: | Train Loss: 2248.92095 | Val Loss: 2249.22746\n",
      "Epoch 097: | Train Loss: 2247.73584 | Val Loss: 2261.88397\n",
      "Epoch 098: | Train Loss: 2247.88223 | Val Loss: 2257.66391\n",
      "Epoch 099: | Train Loss: 2246.17990 | Val Loss: 2267.74106\n",
      "Epoch 100: | Train Loss: 2248.49409 | Val Loss: 2262.01115\n",
      "Epoch 101: | Train Loss: 2248.03188 | Val Loss: 2248.80080\n",
      "Epoch 102: | Train Loss: 2248.32687 | Val Loss: 2303.40352\n",
      "Epoch 103: | Train Loss: 2247.36884 | Val Loss: 2249.21331\n",
      "Epoch 104: | Train Loss: 2247.82068 | Val Loss: 2260.39298\n",
      "Epoch 105: | Train Loss: 2246.03143 | Val Loss: 2259.02084\n",
      "Epoch 106: | Train Loss: 2247.01465 | Val Loss: 2262.54044\n",
      "Epoch 107: | Train Loss: 2248.41083 | Val Loss: 2262.13608\n",
      "Epoch 108: | Train Loss: 2248.35605 | Val Loss: 2265.60274\n",
      "Epoch 109: | Train Loss: 2246.73280 | Val Loss: 2263.47004\n",
      "Epoch 110: | Train Loss: 2247.27446 | Val Loss: 2256.53932\n",
      "Epoch 111: | Train Loss: 2247.50428 | Val Loss: 2249.79866\n",
      "Epoch 112: | Train Loss: 2247.14175 | Val Loss: 2265.23150\n",
      "Epoch 113: | Train Loss: 2247.35171 | Val Loss: 2250.68558\n",
      "Epoch 114: | Train Loss: 2249.16654 | Val Loss: 2282.10001\n",
      "Epoch 115: | Train Loss: 2246.38408 | Val Loss: 2251.06653\n",
      "Epoch 116: | Train Loss: 2246.34658 | Val Loss: 2245.16062\n",
      "Epoch 117: | Train Loss: 2248.55694 | Val Loss: 2261.11556\n",
      "Epoch 118: | Train Loss: 2247.59913 | Val Loss: 2246.03978\n",
      "Epoch 119: | Train Loss: 2248.26696 | Val Loss: 2247.78742\n",
      "Epoch 120: | Train Loss: 2246.67332 | Val Loss: 2257.07109\n",
      "Epoch 121: | Train Loss: 2247.90139 | Val Loss: 2250.42160\n",
      "Epoch 122: | Train Loss: 2246.16387 | Val Loss: 2246.40657\n",
      "Epoch 123: | Train Loss: 2246.95858 | Val Loss: 2252.77797\n",
      "Epoch 124: | Train Loss: 2247.01683 | Val Loss: 2252.63477\n",
      "Epoch 125: | Train Loss: 2248.02170 | Val Loss: 2242.35606\n",
      "Epoch 126: | Train Loss: 2247.90733 | Val Loss: 2249.71190\n",
      "Epoch 127: | Train Loss: 2248.80481 | Val Loss: 2248.66269\n",
      "Epoch 128: | Train Loss: 2246.39162 | Val Loss: 2251.44143\n",
      "Epoch 129: | Train Loss: 2247.39342 | Val Loss: 2252.08989\n",
      "Epoch 130: | Train Loss: 2246.37792 | Val Loss: 2249.21308\n",
      "Epoch 131: | Train Loss: 2245.11432 | Val Loss: 2250.40947\n",
      "Epoch 132: | Train Loss: 2245.99185 | Val Loss: 2257.24924\n",
      "Epoch 133: | Train Loss: 2247.03443 | Val Loss: 2244.97282\n",
      "Epoch 134: | Train Loss: 2247.07216 | Val Loss: 2303.53920\n",
      "Epoch 135: | Train Loss: 2246.82857 | Val Loss: 2251.02264\n",
      "Epoch 136: | Train Loss: 2246.66211 | Val Loss: 2247.92211\n",
      "Epoch 137: | Train Loss: 2244.56962 | Val Loss: 2246.70872\n",
      "Epoch 138: | Train Loss: 2246.86246 | Val Loss: 2252.83618\n",
      "Epoch 139: | Train Loss: 2246.37092 | Val Loss: 2251.48072\n",
      "Epoch 140: | Train Loss: 2248.16604 | Val Loss: 2269.30499\n",
      "Epoch 141: | Train Loss: 2246.32990 | Val Loss: 2245.86815\n",
      "Epoch 142: | Train Loss: 2246.75552 | Val Loss: 2250.11676\n",
      "Epoch 143: | Train Loss: 2246.00631 | Val Loss: 2277.69990\n",
      "Epoch 144: | Train Loss: 2246.21388 | Val Loss: 2290.38555\n",
      "Epoch 145: | Train Loss: 2246.81259 | Val Loss: 2265.23447\n",
      "Epoch 146: | Train Loss: 2246.36110 | Val Loss: 2246.76768\n",
      "Epoch 147: | Train Loss: 2245.69559 | Val Loss: 2252.88510\n",
      "Epoch 148: | Train Loss: 2245.12202 | Val Loss: 2251.44874\n",
      "Epoch 149: | Train Loss: 2245.58808 | Val Loss: 2275.40455\n",
      "Epoch 150: | Train Loss: 2245.42153 | Val Loss: 2260.43612\n",
      "Epoch 151: | Train Loss: 2246.07442 | Val Loss: 2268.74892\n",
      "Epoch 152: | Train Loss: 2245.79680 | Val Loss: 2250.24918\n",
      "Epoch 153: | Train Loss: 2246.71728 | Val Loss: 2257.52043\n",
      "Epoch 154: | Train Loss: 2246.09249 | Val Loss: 2247.15026\n",
      "Epoch 155: | Train Loss: 2245.73774 | Val Loss: 2255.51175\n",
      "Epoch 156: | Train Loss: 2245.54491 | Val Loss: 2256.53235\n",
      "Epoch 157: | Train Loss: 2246.38034 | Val Loss: 2246.35567\n",
      "Epoch 158: | Train Loss: 2245.78121 | Val Loss: 2257.07107\n",
      "Epoch 159: | Train Loss: 2246.57857 | Val Loss: 2249.81642\n",
      "Epoch 160: | Train Loss: 2245.89716 | Val Loss: 2258.75546\n",
      "Epoch 161: | Train Loss: 2245.54272 | Val Loss: 2266.37327\n",
      "Epoch 162: | Train Loss: 2244.58264 | Val Loss: 2249.15144\n",
      "Epoch 163: | Train Loss: 2245.23872 | Val Loss: 2245.52356\n",
      "Epoch 164: | Train Loss: 2243.50381 | Val Loss: 2279.26957\n",
      "Epoch 165: | Train Loss: 2244.90841 | Val Loss: 2266.11873\n",
      "Epoch 166: | Train Loss: 2244.75044 | Val Loss: 2258.45290\n",
      "Epoch 167: | Train Loss: 2246.12335 | Val Loss: 2291.74869\n",
      "Epoch 168: | Train Loss: 2246.16506 | Val Loss: 2255.52361\n",
      "Epoch 169: | Train Loss: 2244.13457 | Val Loss: 2249.22888\n",
      "Epoch 170: | Train Loss: 2244.26840 | Val Loss: 2278.41876\n",
      "Epoch 171: | Train Loss: 2244.42110 | Val Loss: 2251.41947\n",
      "Epoch 172: | Train Loss: 2245.30781 | Val Loss: 2246.71464\n",
      "Epoch 173: | Train Loss: 2245.76309 | Val Loss: 2266.78121\n",
      "Epoch 174: | Train Loss: 2246.62087 | Val Loss: 2253.38084\n",
      "Epoch 175: | Train Loss: 2246.81165 | Val Loss: 2259.74842\n",
      "Epoch 176: | Train Loss: 2245.87040 | Val Loss: 2261.48740\n",
      "Epoch 177: | Train Loss: 2244.29234 | Val Loss: 2258.54655\n",
      "Epoch 178: | Train Loss: 2245.03489 | Val Loss: 2245.17764\n",
      "Epoch 179: | Train Loss: 2245.09322 | Val Loss: 2264.45391\n",
      "Epoch 180: | Train Loss: 2244.60728 | Val Loss: 2249.34105\n",
      "Epoch 181: | Train Loss: 2244.95303 | Val Loss: 2259.80403\n",
      "Epoch 182: | Train Loss: 2244.16062 | Val Loss: 2248.48947\n",
      "Epoch 183: | Train Loss: 2245.52671 | Val Loss: 2252.41888\n",
      "Epoch 184: | Train Loss: 2246.50743 | Val Loss: 2265.58188\n",
      "Epoch 185: | Train Loss: 2244.63062 | Val Loss: 2256.66164\n",
      "Epoch 186: | Train Loss: 2244.46015 | Val Loss: 2276.63123\n",
      "Epoch 187: | Train Loss: 2244.36385 | Val Loss: 2253.56276\n",
      "Epoch 188: | Train Loss: 2245.48560 | Val Loss: 2271.34194\n",
      "Epoch 189: | Train Loss: 2244.50371 | Val Loss: 2249.52721\n",
      "Epoch 190: | Train Loss: 2245.68598 | Val Loss: 2249.22571\n",
      "Epoch 191: | Train Loss: 2243.93154 | Val Loss: 2253.50198\n",
      "Epoch 192: | Train Loss: 2247.08629 | Val Loss: 2258.00866\n",
      "Epoch 193: | Train Loss: 2245.78505 | Val Loss: 2246.78221\n",
      "Epoch 194: | Train Loss: 2243.53734 | Val Loss: 2254.07885\n",
      "Epoch 195: | Train Loss: 2244.68762 | Val Loss: 2248.14144\n",
      "Epoch 196: | Train Loss: 2245.59131 | Val Loss: 2253.64217\n",
      "Epoch 197: | Train Loss: 2244.42838 | Val Loss: 2246.54835\n",
      "Epoch 198: | Train Loss: 2244.39133 | Val Loss: 2289.10742\n",
      "Epoch 199: | Train Loss: 2246.12100 | Val Loss: 2245.43546\n",
      "Epoch 200: | Train Loss: 2244.35146 | Val Loss: 2271.68810\n",
      "Epoch 201: | Train Loss: 2244.94498 | Val Loss: 2247.83474\n",
      "Epoch 202: | Train Loss: 2246.87120 | Val Loss: 2274.60189\n",
      "Epoch 203: | Train Loss: 2245.38605 | Val Loss: 2255.93752\n",
      "Epoch 204: | Train Loss: 2245.68249 | Val Loss: 2244.32276\n",
      "Epoch 205: | Train Loss: 2244.80763 | Val Loss: 2249.37685\n",
      "Epoch 206: | Train Loss: 2243.57780 | Val Loss: 2282.17080\n",
      "Epoch 207: | Train Loss: 2244.28402 | Val Loss: 2250.31277\n",
      "Epoch 208: | Train Loss: 2244.72568 | Val Loss: 2265.59359\n",
      "Epoch 209: | Train Loss: 2244.26678 | Val Loss: 2247.08703\n",
      "Epoch 210: | Train Loss: 2243.71314 | Val Loss: 2256.49888\n",
      "Epoch 211: | Train Loss: 2243.76298 | Val Loss: 2249.57997\n",
      "Epoch 212: | Train Loss: 2244.79581 | Val Loss: 2247.38326\n",
      "Epoch 213: | Train Loss: 2244.58401 | Val Loss: 2250.74401\n",
      "Epoch 214: | Train Loss: 2245.09493 | Val Loss: 2253.40767\n",
      "Epoch 215: | Train Loss: 2243.32807 | Val Loss: 2250.21600\n",
      "Epoch 216: | Train Loss: 2244.67761 | Val Loss: 2258.08682\n",
      "Epoch 217: | Train Loss: 2245.12563 | Val Loss: 2263.51068\n",
      "Epoch 218: | Train Loss: 2245.81306 | Val Loss: 2279.38354\n",
      "Epoch 219: | Train Loss: 2243.35083 | Val Loss: 2243.64960\n",
      "Epoch 220: | Train Loss: 2244.22596 | Val Loss: 2252.50982\n",
      "Epoch 221: | Train Loss: 2243.63811 | Val Loss: 2250.45956\n",
      "Epoch 222: | Train Loss: 2243.45911 | Val Loss: 2262.28966\n",
      "Epoch 223: | Train Loss: 2244.89863 | Val Loss: 2249.13928\n",
      "Epoch 224: | Train Loss: 2244.28684 | Val Loss: 2259.03555\n",
      "Epoch 225: | Train Loss: 2242.93001 | Val Loss: 2245.70628\n",
      "Epoch 226: | Train Loss: 2246.90356 | Val Loss: 2254.93737\n",
      "Epoch 227: | Train Loss: 2243.98401 | Val Loss: 2253.28302\n",
      "Epoch 228: | Train Loss: 2243.58217 | Val Loss: 2243.63044\n",
      "Epoch 229: | Train Loss: 2244.94774 | Val Loss: 2270.86417\n",
      "Epoch 230: | Train Loss: 2245.32746 | Val Loss: 2245.14130\n",
      "Epoch 231: | Train Loss: 2244.38049 | Val Loss: 2246.43288\n",
      "Epoch 232: | Train Loss: 2244.50734 | Val Loss: 2244.60723\n",
      "Epoch 233: | Train Loss: 2244.01459 | Val Loss: 2245.59968\n",
      "Epoch 234: | Train Loss: 2244.42411 | Val Loss: 2244.94977\n",
      "Epoch 235: | Train Loss: 2243.58551 | Val Loss: 2253.43067\n",
      "Epoch 236: | Train Loss: 2244.10362 | Val Loss: 2249.87926\n",
      "Epoch 237: | Train Loss: 2243.84632 | Val Loss: 2265.92710\n",
      "Epoch 238: | Train Loss: 2243.18577 | Val Loss: 2247.60699\n",
      "Epoch 239: | Train Loss: 2244.28609 | Val Loss: 2263.62237\n",
      "Epoch 240: | Train Loss: 2244.08426 | Val Loss: 2246.83804\n",
      "Epoch 241: | Train Loss: 2243.99647 | Val Loss: 2295.31522\n",
      "Epoch 242: | Train Loss: 2244.17692 | Val Loss: 2272.05612\n",
      "Epoch 243: | Train Loss: 2243.70327 | Val Loss: 2256.35222\n",
      "Epoch 244: | Train Loss: 2243.64987 | Val Loss: 2244.12236\n",
      "Epoch 245: | Train Loss: 2243.23604 | Val Loss: 2251.73896\n",
      "Epoch 246: | Train Loss: 2244.44230 | Val Loss: 2290.62877\n",
      "Epoch 247: | Train Loss: 2244.48210 | Val Loss: 2251.66332\n",
      "Epoch 248: | Train Loss: 2243.24092 | Val Loss: 2243.64626\n",
      "Epoch 249: | Train Loss: 2244.30676 | Val Loss: 2248.20117\n",
      "Epoch 250: | Train Loss: 2244.46732 | Val Loss: 2248.01926\n"
     ]
    }
   ],
   "source": [
    "print(\"Begin training.\")\n",
    "for e in tqdm(range(1, EPOCHS+1)):\n",
    "    \n",
    "    # TRAINING\n",
    "    train_epoch_loss = 0\n",
    "    model.train()\n",
    "    for X_train_batch, y_train_batch in train_loader:\n",
    "        X_train_batch, y_train_batch = X_train_batch.to(device), y_train_batch.to(device)\n",
    "        optimizer.zero_grad()\n",
    "        \n",
    "        y_train_pred = model(X_train_batch)\n",
    "        \n",
    "        train_loss = criterion(y_train_pred, y_train_batch.unsqueeze(1))\n",
    "        \n",
    "        train_loss.backward()\n",
    "        optimizer.step()\n",
    "        \n",
    "        train_epoch_loss += train_loss.item()\n",
    "        \n",
    "        \n",
    "    # VALIDATION    \n",
    "    with torch.no_grad():\n",
    "        \n",
    "        val_epoch_loss = 0\n",
    "        \n",
    "        model.eval()\n",
    "        for X_val_batch, y_val_batch in val_loader:\n",
    "            X_val_batch, y_val_batch = X_val_batch.to(device), y_val_batch.to(device)\n",
    "            \n",
    "            y_val_pred = model(X_val_batch)\n",
    "                        \n",
    "            val_loss = criterion(y_val_pred, y_val_batch.unsqueeze(1))\n",
    "            \n",
    "            val_epoch_loss += val_loss.item()\n",
    "    loss_stats['train'].append(train_epoch_loss/len(train_loader))\n",
    "    loss_stats['val'].append(val_epoch_loss/len(val_loader))                              \n",
    "    \n",
    "    print(f'Epoch {e+0:03}: | Train Loss: {train_epoch_loss/len(train_loader):.5f} | Val Loss: {val_epoch_loss/len(val_loader):.5f}')"
   ]
  },
  {
   "cell_type": "markdown",
   "metadata": {},
   "source": [
    "## Visualize Loss and Accuracy "
   ]
  },
  {
   "cell_type": "code",
   "execution_count": 16,
   "metadata": {},
   "outputs": [
    {
     "data": {
      "text/plain": [
       "Text(0.5, 1.0, 'Train-Val Loss/Epoch')"
      ]
     },
     "execution_count": 16,
     "metadata": {},
     "output_type": "execute_result"
    },
    {
     "data": {
      "image/png": "[encoded data removed]",
      "text/plain": [
       "<Figure size 1080x576 with 1 Axes>"
      ]
     },
     "metadata": {
      "needs_background": "light"
     },
     "output_type": "display_data"
    }
   ],
   "source": [
    "train_val_loss_df = pd.DataFrame.from_dict(loss_stats).reset_index().melt(id_vars=['index']).rename(columns={\"index\":\"epochs\"})\n",
    "plt.figure(figsize=(15,8))\n",
    "sns.lineplot(data=train_val_loss_df, x = \"epochs\", y=\"value\", hue=\"variable\").set_title('Train-Val Loss/Epoch')"
   ]
  },
  {
   "cell_type": "markdown",
   "metadata": {},
   "source": [
    "## Test Model"
   ]
  },
  {
   "cell_type": "code",
   "execution_count": 17,
   "metadata": {},
   "outputs": [],
   "source": [
    "y_pred_list = []\n",
    "with torch.no_grad():\n",
    "    model.eval()\n",
    "    for X_batch, _ in test_loader:\n",
    "        X_batch = X_batch.to(device)\n",
    "        y_test_pred = model(X_batch)\n",
    "        y_pred_list.append(y_test_pred.cpu().numpy())\n",
    "y_pred_list = [a.squeeze().tolist() for a in y_pred_list]"
   ]
  },
  {
   "cell_type": "code",
   "execution_count": 18,
   "metadata": {},
   "outputs": [
    {
     "name": "stdout",
     "output_type": "stream",
     "text": [
      "Root Mean Squared Error : 46.83656288501654\n"
     ]
    }
   ],
   "source": [
    "rmse = math.sqrt(mean_squared_error(y_test, y_pred_list))\n",
    "print(\"Root Mean Squared Error :\", rmse)"
   ]
  }
 ],
 "metadata": {
  "kernelspec": {
   "display_name": "dsu-mlpp-env",
   "language": "python",
   "name": "dsu-mlpp-env"
  },
  "language_info": {
   "codemirror_mode": {
    "name": "ipython",
    "version": 3
   },
   "file_extension": ".py",
   "mimetype": "text/x-python",
   "name": "python",
   "nbconvert_exporter": "python",
   "pygments_lexer": "ipython3",
   "version": "3.8.5"
  }
 },
 "nbformat": 4,
 "nbformat_minor": 4
}
