{
 "cells": [
  {
   "cell_type": "markdown",
   "metadata": {
    "cell_id": "00000-b3ed711f-3670-47ea-ac79-f3caa877a429",
    "deepnote_cell_type": "markdown"
   },
   "source": [
    "## Notebook Objective: Analyze the Most Popular Beatmaps and their Attributes"
   ]
  },
  {
   "cell_type": "code",
   "execution_count": null,
   "metadata": {
    "cell_id": "00001-b7675bc8-e527-4b27-99e1-bc17c7f903a7",
    "deepnote_cell_type": "code"
   },
   "outputs": [],
   "source": [
    "import sys\n",
    "sys.path.append('../..')\n",
    "from pymongo import UpdateOne\n",
    "import pandas as pd\n",
    "import matplotlib.pyplot as plt\n",
    "from exploration.config import mongo_inst\n",
    "from pymongo import MongoClient\n",
    "import seaborn as sns\n",
    "from mlpp.data_collection.sample import ScoresSubset, get_more_recent_than"
   ]
  },
  {
   "cell_type": "code",
   "execution_count": null,
   "metadata": {
    "cell_id": "00002-0f6b13ac-8fa7-4888-a7fe-dea7a50b838c",
    "deepnote_cell_type": "code"
   },
   "outputs": [],
   "source": [
    "client = MongoClient('localhost', 27017)\n",
    "db = client.osu_random_db\n",
    "data = mongo_inst[\"osu_random_db\"]\n",
    "\n",
    "osu_subset = ScoresSubset(data['osu_scores_high'], data['osu_user_stats'])"
   ]
  },
  {
   "cell_type": "code",
   "execution_count": null,
   "metadata": {
    "cell_id": "00003-e6fcbebe-ce56-4e3b-a5b3-94e01eef75c0",
    "deepnote_cell_type": "code"
   },
   "outputs": [],
   "source": [
    "new_subset, user_ids = osu_subset.init_random_sample(data['sample_scores_1M'], data['sample_users_1M'])\n",
    "#creating a new collection of 1 million scores"
   ]
  },
  {
   "cell_type": "code",
   "execution_count": null,
   "metadata": {
    "cell_id": "00004-29af0aeb-12c5-48c8-9085-8613d4b3901a",
    "deepnote_cell_type": "code"
   },
   "outputs": [],
   "source": [
    "collection = data[\"sample_scores_1M\"]\n",
    "get_more_recent_than(collection, 2018, 12, 1, 0, 0, 0, \"sample_scores_500k\")\n",
    "#got 500k sample scores more recent than 12/1/2018 (last 2 years)\n",
    "#get_more_recent_than function is in the file Sample.py"
   ]
  },
  {
   "cell_type": "code",
   "execution_count": null,
   "metadata": {
    "cell_id": "00005-1f381ed5-7585-4863-bd06-46a15bae5bb6",
    "deepnote_cell_type": "code"
   },
   "outputs": [],
   "source": [
    "collection2 = data[\"sample_scores_500k\"]"
   ]
  },
  {
   "cell_type": "code",
   "execution_count": null,
   "metadata": {
    "cell_id": "00006-0c56600a-da99-470e-b949-b94e9193b43a",
    "deepnote_cell_type": "code"
   },
   "outputs": [],
   "source": [
    "\"\"\"\n",
    "max est user pp in collection of 500k\n",
    "\"\"\"\n",
    "cursor=db.sample_scores_500k.aggregate(\n",
    "   [\n",
    "     {\n",
    "       \"$group\":\n",
    "         {\n",
    "           \"_id\": {},\n",
    "           \"max\": { \"$max\": \"$mlpp.est_user_pp\" }\n",
    "         }\n",
    "     }\n",
    "   ]\n",
    ")\n",
    "for document in cursor:\n",
    "    print(document)\n",
    "print(document['max'])\n",
    "max_pp = document['max']"
   ]
  },
  {
   "cell_type": "markdown",
   "metadata": {
    "cell_id": "00007-3d19c193-1282-4b31-a999-6835d59a8809",
    "deepnote_cell_type": "markdown"
   },
   "source": [
    "## Objective 1: Create a \"Uniform\" Collection "
   ]
  },
  {
   "cell_type": "code",
   "execution_count": null,
   "metadata": {
    "cell_id": "00008-1b740e89-63fe-42ea-8f90-c4b9f637cd06",
    "deepnote_cell_type": "code"
   },
   "outputs": [],
   "source": [
    "a = 0\n",
    "b = 100\n",
    "\n",
    "while b <= max_pp:\n",
    "    db.uniform_collection2.insert_many(\n",
    "        collection2.aggregate([\n",
    "        {\n",
    "        '$match': {\n",
    "            'mlpp.est_user_pp' : {\n",
    "                '$gt': a,\n",
    "                '$lt': b,\n",
    "            }\n",
    "        }\n",
    "    },\n",
    "    {'$sample': {\n",
    "        'size': 800\n",
    "    }\n",
    "}\n",
    "        \n",
    "])\n",
    "    )\n",
    "    a = b\n",
    "    b += 100\n",
    "# creates a new \"uniform\" collection"
   ]
  },
  {
   "cell_type": "markdown",
   "metadata": {
    "cell_id": "00009-11807f83-b232-4e34-b523-2c0dfc780e49",
    "deepnote_cell_type": "markdown"
   },
   "source": [
    "## Objective 2: Create a Collection of the 1000 Most Popular Beatmaps"
   ]
  },
  {
   "cell_type": "code",
   "execution_count": null,
   "metadata": {
    "cell_id": "00010-a3af4a19-5a49-42ea-9970-944f631a5526",
    "deepnote_cell_type": "code"
   },
   "outputs": [],
   "source": [
    "#once you have a uniform collection, use this to have a collection with the most 1000 popular maps:\n",
    "db.uniform_collection2.aggregate([\n",
    "    {\n",
    "        '$group': {\n",
    "            '_id': '$beatmap_id', \n",
    "            'count': {\n",
    "                '$sum': 1\n",
    "            }\n",
    "        }\n",
    "    }, {\n",
    "        '$sort': {\n",
    "            'count': -1\n",
    "        }\n",
    "    }, {\n",
    "        '$limit': 1000\n",
    "    }, {\n",
    "        '$out': 'oneThousand_most_popular_maps2'\n",
    "    }\n",
    "])"
   ]
  },
  {
   "cell_type": "markdown",
   "metadata": {
    "cell_id": "00011-6136afd8-9b64-4882-af20-90b92d69f096",
    "deepnote_cell_type": "markdown"
   },
   "source": [
    "## Objective 3: Relationship as Score Count Decreases"
   ]
  },
  {
   "cell_type": "code",
   "execution_count": null,
   "metadata": {
    "cell_id": "00012-c0d86ea0-0ecb-46e2-8d86-7d2893c7210f",
    "deepnote_cell_type": "code"
   },
   "outputs": [],
   "source": [
    "g=[]\n",
    "h=[]\n",
    "x=db.oneThousand_most_popular_maps2\n",
    "x1=x.find({},{ \"_id\": 0, \"count\": 1}) #finds only the count column in the collection\n",
    "y1=x.find({},{ \"_id\": 1, \"count\": 0})\n",
    "\n",
    "# for i in x.find({},{ \"_id\": 0, \"count\": 1}):\n",
    "#     print(i)\n",
    "\n",
    "for i in x1:\n",
    "    g.append(i['count'])\n",
    "for i in x.find({},{ \"_id\": 1, \"count\": 0}):\n",
    "    h.append(i['_id'])\n",
    "\n",
    "plt.plot(g,'ro') #automatically index x \n",
    "plt.xlabel('index')\n",
    "plt.ylabel('count')\n",
    "plt.title('Relationship as Score Count Decreases')\n",
    "\n",
    "#Score count seems to decrease exponentially"
   ]
  },
  {
   "cell_type": "markdown",
   "metadata": {
    "cell_id": "00013-4c714c84-4915-4d8f-acfc-19fc17ab07b9",
    "deepnote_cell_type": "markdown"
   },
   "source": [
    "## Objective 4 & 6: Feature Distribution Analysis"
   ]
  },
  {
   "cell_type": "code",
   "execution_count": null,
   "metadata": {
    "cell_id": "00014-722767e8-4658-4e61-9eaf-5f1f01091953",
    "deepnote_cell_type": "code"
   },
   "outputs": [],
   "source": [
    "collection = data[\"osu_beatmap_attribs\"]"
   ]
  },
  {
   "cell_type": "code",
   "execution_count": null,
   "metadata": {
    "cell_id": "00015-0c0ebecb-c197-4c37-b3b2-d81f20a92643",
    "deepnote_cell_type": "code"
   },
   "outputs": [],
   "source": [
    "db.osu_beatmaps_attribs_modZero.insert_many(\n",
    "    collection.aggregate([\n",
    "    {\n",
    "        '$match': {\n",
    "            'mods': 0\n",
    "            }\n",
    "    }\n",
    "]))\n",
    "\n",
    "#creating a collection from the beatmap_attrib with only documents containing mod zero"
   ]
  },
  {
   "cell_type": "code",
   "execution_count": null,
   "metadata": {
    "cell_id": "00016-5a676bc6-beb9-45a5-a9d0-bb8ca44416a1",
    "deepnote_cell_type": "code"
   },
   "outputs": [],
   "source": [
    "collection = data['oneThousand_most_popular_maps2']"
   ]
  },
  {
   "cell_type": "code",
   "execution_count": null,
   "metadata": {
    "cell_id": "00017-b3de9212-cc4f-4d08-8235-595969cc2951",
    "deepnote_cell_type": "code"
   },
   "outputs": [],
   "source": [
    "cursor = collection.find({},{\"_id\":1})\n",
    "l = []\n",
    "for el in cursor:\n",
    "    l.append(el)\n",
    "listOfIds = []\n",
    "for i in range(1000):\n",
    "    listOfIds.append(l[i]['_id'])\n",
    "#list of id's among the 1k most popular beatmaps"
   ]
  },
  {
   "cell_type": "code",
   "execution_count": null,
   "metadata": {
    "cell_id": "00018-a16b07de-ecce-41a5-85d2-12ae4a747366",
    "deepnote_cell_type": "code"
   },
   "outputs": [],
   "source": [
    "collection2 = data['osu_beatmap_attribs']"
   ]
  },
  {
   "cell_type": "code",
   "execution_count": null,
   "metadata": {
    "cell_id": "00019-7fc819e4-27ca-4d46-acdc-85f4629ba4b2",
    "deepnote_cell_type": "code"
   },
   "outputs": [],
   "source": [
    "for _id in listOfIds:\n",
    "    db.oneThousand_Beatmaps_attribs.insert_many(\n",
    "        collection2.aggregate([\n",
    "                {'$match' : {\n",
    "                    \"_id\" : _id }\n",
    "                }\n",
    "            ] ))\n",
    "#from the beatmap attrib collection, creating a new collection with beatmap attrib for the 1k most popular maps"
   ]
  },
  {
   "cell_type": "code",
   "execution_count": null,
   "metadata": {
    "cell_id": "00020-ab8eb704-17f6-4282-ae68-d982d4d9d7d4",
    "deepnote_cell_type": "code"
   },
   "outputs": [],
   "source": [
    "collection = data[\"osu_beatmaps_attribs_modZero\"]"
   ]
  },
  {
   "cell_type": "markdown",
   "metadata": {
    "cell_id": "00021-48aa94bf-6744-4226-ad7d-0fca56340e5e",
    "deepnote_cell_type": "markdown"
   },
   "source": [
    "Distribution for attribute 5"
   ]
  },
  {
   "cell_type": "code",
   "execution_count": null,
   "metadata": {
    "cell_id": "00022-a27fb176-fdc4-44f3-83cc-185e468f3135",
    "deepnote_cell_type": "code"
   },
   "outputs": [],
   "source": [
    "db.attrib_5.insert_many(\n",
    "        collection.aggregate([\n",
    "        {'$match':{\n",
    "        \"beatmap_id\": {\n",
    "            '$in': listOfIds\n",
    "        },\n",
    "        \"attrib_id\": 5,\n",
    "    } \n",
    "    }\n",
    "])\n",
    "    )"
   ]
  },
  {
   "cell_type": "code",
   "execution_count": null,
   "metadata": {
    "cell_id": "00023-cc22e9a5-01c9-4256-8558-b6451d64c51a",
    "deepnote_cell_type": "code"
   },
   "outputs": [],
   "source": [
    "c1=[]\n",
    "d=[]\n",
    "t=db.attrib_5\n",
    "x=t.find({},{ \"_id\": 1, \"count\": 0})\n",
    "y=t.find({},{ \"_id\": 0, \"value\": 1})\n",
    "\n",
    "for i in y:\n",
    "    d.append(i['value'])\n",
    "for i in x:\n",
    "    c1.append(i[\"beatmap_id\"])\n",
    "\n",
    "plt.hist(d)\n",
    "plt.show()"
   ]
  },
  {
   "cell_type": "markdown",
   "metadata": {
    "cell_id": "00024-3dcb9d86-23fc-43bd-9e13-7bbf144463ca",
    "deepnote_cell_type": "markdown"
   },
   "source": [
    "Distribution for attribute 17"
   ]
  },
  {
   "cell_type": "code",
   "execution_count": null,
   "metadata": {
    "cell_id": "00025-739df2d4-0bfb-4d38-8d0d-a34c20988f11",
    "deepnote_cell_type": "code"
   },
   "outputs": [],
   "source": [
    "db.attrib_17.insert_many(\n",
    "    collection.aggregate([\n",
    "    {'$match':{\n",
    "    \"beatmap_id\": {\n",
    "        '$in': listOfIds\n",
    "    },\n",
    "    \"attrib_id\": 17,\n",
    "    } \n",
    "    }\n",
    "])\n",
    "    )"
   ]
  },
  {
   "cell_type": "code",
   "execution_count": null,
   "metadata": {
    "cell_id": "00026-0b2febe0-4642-42ea-8f77-3afdbe0328c8",
    "deepnote_cell_type": "code"
   },
   "outputs": [],
   "source": [
    "j=[]\n",
    "k=[]\n",
    "t=db.attrib_17\n",
    "x=t.find({},{ \"_id\": 1, \"count\": 0})\n",
    "y=t.find({},{ \"_id\": 0, \"value\": 1})\n",
    "\n",
    "for i in y:\n",
    "    k.append(i['value'])\n",
    "for i in x:\n",
    "    j.append(i[\"beatmap_id\"])\n",
    "    \n",
    "k\n",
    "plt.hist(k)\n",
    "plt.show()"
   ]
  },
  {
   "cell_type": "markdown",
   "metadata": {
    "cell_id": "00027-46273cbf-583b-4195-a467-a36dfde98ba8",
    "deepnote_cell_type": "markdown"
   },
   "source": [
    "Distribution for attribute 1"
   ]
  },
  {
   "cell_type": "code",
   "execution_count": null,
   "metadata": {
    "cell_id": "00028-ee8fddf0-f9cb-4564-8dac-fb2d3ef202a7",
    "deepnote_cell_type": "code"
   },
   "outputs": [],
   "source": [
    "db.attrib_1.insert_many(\n",
    "    collection.aggregate([\n",
    "    {'$match':{\n",
    "    \"beatmap_id\": {\n",
    "        '$in': listOfIds\n",
    "    },\n",
    "    \"attrib_id\": 1,\n",
    "    } \n",
    "    }\n",
    "])\n",
    "    )"
   ]
  },
  {
   "cell_type": "code",
   "execution_count": null,
   "metadata": {
    "cell_id": "00029-b984eb96-dff2-4976-8df1-e11d396fc1b0",
    "deepnote_cell_type": "code"
   },
   "outputs": [],
   "source": [
    "j=[]\n",
    "k=[]\n",
    "t=db.attrib_1\n",
    "x=t.find({},{ \"_id\": 1, \"count\": 0})\n",
    "y=t.find({},{ \"_id\": 0, \"value\": 1})\n",
    "\n",
    "for i in y:\n",
    "    k.append(i['value'])\n",
    "for i in x:\n",
    "    j.append(i[\"beatmap_id\"])\n",
    "    \n",
    "k\n",
    "plt.hist(k)\n",
    "plt.show()"
   ]
  },
  {
   "cell_type": "markdown",
   "metadata": {
    "cell_id": "00030-8aebfb96-00bb-4436-a81a-81af3cce7efe",
    "deepnote_cell_type": "markdown"
   },
   "source": [
    "Distribution for attribute 3"
   ]
  },
  {
   "cell_type": "code",
   "execution_count": null,
   "metadata": {
    "cell_id": "00031-7651f698-2f51-4c67-9c95-965a9ac022d9",
    "deepnote_cell_type": "code"
   },
   "outputs": [],
   "source": [
    "db.attrib_3.insert_many(\n",
    "    collection.aggregate([\n",
    "    {'$match':{\n",
    "    \"beatmap_id\": {\n",
    "        '$in': listOfIds\n",
    "    },\n",
    "    \"attrib_id\": 3,\n",
    "    } \n",
    "    }\n",
    "])\n",
    "    )"
   ]
  },
  {
   "cell_type": "code",
   "execution_count": null,
   "metadata": {
    "cell_id": "00032-1662d017-f348-48be-b20a-b6a82b25f072",
    "deepnote_cell_type": "code"
   },
   "outputs": [],
   "source": [
    "j=[]\n",
    "k=[]\n",
    "t=db.attrib_3\n",
    "x=t.find({},{ \"_id\": 1, \"count\": 0})\n",
    "y=t.find({},{ \"_id\": 0, \"value\": 1})\n",
    "\n",
    "for i in y:\n",
    "    k.append(i['value'])\n",
    "for i in x:\n",
    "    j.append(i[\"beatmap_id\"])\n",
    "    \n",
    "k\n",
    "plt.hist(k)\n",
    "plt.show()"
   ]
  },
  {
   "cell_type": "markdown",
   "metadata": {
    "cell_id": "00033-90a5bd11-f6ed-4361-9e8a-2e463459c78d",
    "deepnote_cell_type": "markdown"
   },
   "source": [
    "Distribution for Attribute 7"
   ]
  },
  {
   "cell_type": "code",
   "execution_count": null,
   "metadata": {
    "cell_id": "00034-df4cc943-a0de-46d9-9132-c7e1dbcd7ece",
    "deepnote_cell_type": "code"
   },
   "outputs": [],
   "source": [
    "db.attrib_7.insert_many(\n",
    "    collection.aggregate([\n",
    "    {'$match':{\n",
    "    \"beatmap_id\": {\n",
    "        '$in': listOfIds\n",
    "    },\n",
    "    \"attrib_id\": 7,\n",
    "    } \n",
    "    }\n",
    "])\n",
    "    )"
   ]
  },
  {
   "cell_type": "code",
   "execution_count": null,
   "metadata": {
    "cell_id": "00035-ea293c1e-4245-4c78-a163-bbf767bf4c59",
    "deepnote_cell_type": "code"
   },
   "outputs": [],
   "source": [
    "j=[]\n",
    "k=[]\n",
    "t=db.attrib_7\n",
    "x=t.find({},{ \"_id\": 1, \"count\": 0})\n",
    "y=t.find({},{ \"_id\": 0, \"value\": 1})\n",
    "\n",
    "for i in y:\n",
    "    k.append(i['value'])\n",
    "for i in x:\n",
    "    j.append(i[\"beatmap_id\"])\n",
    "    \n",
    "k\n",
    "plt.hist(k)\n",
    "plt.show()"
   ]
  },
  {
   "cell_type": "markdown",
   "metadata": {
    "cell_id": "00036-de372835-1eee-410a-9821-ecc7c59212c5",
    "deepnote_cell_type": "markdown"
   },
   "source": [
    "Distribution for attribute 9"
   ]
  },
  {
   "cell_type": "code",
   "execution_count": null,
   "metadata": {
    "cell_id": "00037-695525ea-d15b-4d29-b456-e2b57dd3380a",
    "deepnote_cell_type": "code"
   },
   "outputs": [],
   "source": [
    "db.attrib_9.insert_many(\n",
    "    collection.aggregate([\n",
    "    {'$match':{\n",
    "    \"beatmap_id\": {\n",
    "        '$in': listOfIds\n",
    "    },\n",
    "    \"attrib_id\": 9,\n",
    "    } \n",
    "    }\n",
    "])\n",
    "    )"
   ]
  },
  {
   "cell_type": "code",
   "execution_count": null,
   "metadata": {
    "cell_id": "00038-a03bd60b-9193-4cb4-b9a7-966dd34a96be",
    "deepnote_cell_type": "code"
   },
   "outputs": [],
   "source": [
    "j=[]\n",
    "k=[]\n",
    "t=db.attrib_9\n",
    "x=t.find({},{ \"_id\": 1, \"count\": 0})\n",
    "y=t.find({},{ \"_id\": 0, \"value\": 1})\n",
    "\n",
    "for i in y:\n",
    "    k.append(i['value'])\n",
    "for i in x:\n",
    "    j.append(i[\"beatmap_id\"])\n",
    "    \n",
    "k\n",
    "plt.hist(k)\n",
    "plt.show()"
   ]
  },
  {
   "cell_type": "markdown",
   "metadata": {
    "cell_id": "00039-feb32b29-715f-4bb6-8442-213baaa02688",
    "deepnote_cell_type": "markdown"
   },
   "source": [
    "Distribution for attribute 11"
   ]
  },
  {
   "cell_type": "code",
   "execution_count": null,
   "metadata": {
    "cell_id": "00040-b7c1ef45-5d6b-434b-9357-256161fd3daa",
    "deepnote_cell_type": "code"
   },
   "outputs": [],
   "source": [
    "db.attrib_11.insert_many(\n",
    "    collection.aggregate([\n",
    "    {'$match':{\n",
    "    \"beatmap_id\": {\n",
    "        '$in': listOfIds\n",
    "    },\n",
    "    \"attrib_id\": 11,\n",
    "    } \n",
    "    }\n",
    "])\n",
    "    )"
   ]
  },
  {
   "cell_type": "code",
   "execution_count": null,
   "metadata": {
    "cell_id": "00041-8e8359f0-3a8e-4c3e-8b13-ae16606fb29d",
    "deepnote_cell_type": "code"
   },
   "outputs": [],
   "source": [
    "j=[]\n",
    "k=[]\n",
    "t=db.attrib_11\n",
    "x=t.find({},{ \"_id\": 1, \"count\": 0})\n",
    "y=t.find({},{ \"_id\": 0, \"value\": 1})\n",
    "\n",
    "for i in y:\n",
    "    k.append(i['value'])\n",
    "for i in x:\n",
    "    j.append(i[\"beatmap_id\"])\n",
    "    \n",
    "k\n",
    "plt.hist(k)\n",
    "plt.show()"
   ]
  },
  {
   "cell_type": "markdown",
   "metadata": {
    "cell_id": "00042-6fa21a3e-c936-44a9-9ef8-c80400ac3de7",
    "deepnote_cell_type": "markdown"
   },
   "source": [
    "## Objective 5: Star/OD Correlation with Popularity of Beatmap"
   ]
  },
  {
   "cell_type": "code",
   "execution_count": null,
   "metadata": {
    "cell_id": "00043-5cf65c27-e4f3-457b-8690-03e9376b3d34",
    "deepnote_cell_type": "code"
   },
   "outputs": [],
   "source": [
    "df = pd.DataFrame(list(db.oneThousand_most_popular_maps2.find({})))\n",
    "df.sort_values([\"_id\"], inplace = True)\n",
    "df.reset_index(inplace = True)\n",
    "a = df[\"count\"]"
   ]
  },
  {
   "cell_type": "code",
   "execution_count": null,
   "metadata": {
    "cell_id": "00044-a8fea01c-5b8c-4f0a-8b4a-39616b8b069a",
    "deepnote_cell_type": "code"
   },
   "outputs": [],
   "source": [
    "df1 = pd.DataFrame()\n",
    "df1[\"beatmap_id\"] = j\n",
    "df1['Star Difficulty'] = k\n",
    "df1[\"count\"] = a\n",
    "df1.sort_values(by = [\"count\"], axis = 0, ascending = False, inplace = True)\n",
    "c = df1[\"count\"]\n",
    "sd = df1[\"Star Difficulty\"]\n",
    "df1"
   ]
  },
  {
   "cell_type": "code",
   "execution_count": null,
   "metadata": {
    "cell_id": "00045-a5c2725b-5d7e-40cd-9106-f726a2d94e7a",
    "deepnote_cell_type": "code"
   },
   "outputs": [],
   "source": [
    "plt.scatter(c, sd)"
   ]
  },
  {
   "cell_type": "code",
   "execution_count": null,
   "metadata": {
    "cell_id": "00046-5a214153-bd6c-4e2c-984a-ec2860535101",
    "deepnote_cell_type": "code"
   },
   "outputs": [],
   "source": [
    "df2 = pd.DataFrame()\n",
    "df2[\"beatmap_id\"] = c1\n",
    "df2['OD'] = d\n",
    "df2[\"count\"] = a\n",
    "df2\n",
    "\n",
    "#recall d is the list of OD values "
   ]
  },
  {
   "cell_type": "code",
   "execution_count": null,
   "metadata": {
    "cell_id": "00047-097f9432-e946-42e9-90ea-c038f145ebe0",
    "deepnote_cell_type": "code"
   },
   "outputs": [],
   "source": [
    "c2 = df2[\"count\"]\n",
    "od = df2[\"OD\"]"
   ]
  },
  {
   "cell_type": "code",
   "execution_count": null,
   "metadata": {
    "cell_id": "00048-557eec3e-93f8-4dca-afe6-0c0c25ef041a",
    "deepnote_cell_type": "code"
   },
   "outputs": [],
   "source": [
    "plt.scatter(c2, od)"
   ]
  },
  {
   "cell_type": "markdown",
   "metadata": {
    "cell_id": "00049-b6e1f29c-4d9a-40ae-815e-e17211a1fd67",
    "deepnote_cell_type": "markdown"
   },
   "source": [
    "## Objective 7: Heatmap of Correlation Between Attributes"
   ]
  },
  {
   "cell_type": "code",
   "execution_count": null,
   "metadata": {
    "cell_id": "00050-650e63cd-cedc-4694-a759-9c0fb585d5be",
    "deepnote_cell_type": "code"
   },
   "outputs": [],
   "source": [
    "df3 = pd.DataFrame(list(db.osu_beatmaps_attribs_modZero.find({})))\n",
    "df3.drop([\"_id\",\"mods\"], axis = 1, inplace = True)"
   ]
  },
  {
   "cell_type": "code",
   "execution_count": null,
   "metadata": {
    "cell_id": "00051-7ad51031-90e2-41ef-bedb-702e7e9decf0",
    "deepnote_cell_type": "code"
   },
   "outputs": [],
   "source": [
    "df3.head(20)"
   ]
  },
  {
   "cell_type": "code",
   "execution_count": null,
   "metadata": {
    "cell_id": "00052-546bf316-0393-4d4c-b1dc-02dd0a64a3e0",
    "deepnote_cell_type": "code"
   },
   "outputs": [],
   "source": [
    "col = df3['attrib_id'].unique()\n",
    "ind = df3['beatmap_id'].unique()\n",
    "DF = pd.DataFrame(columns=col, index=ind)\n",
    "\n",
    "\n",
    "g=df3.groupby(['beatmap_id', 'attrib_id'])\n",
    "\n",
    "for name, group in g:\n",
    "    bmap = name[0]\n",
    "    attr = name[1]\n",
    "    val = float(group['value'])\n",
    "    DF.at[bmap, attr] = val\n",
    "\n",
    "\n",
    "DF.head()"
   ]
  },
  {
   "cell_type": "code",
   "execution_count": null,
   "metadata": {
    "cell_id": "00053-1c685cc6-9dff-49d8-b25e-992728c5f8ce",
    "deepnote_cell_type": "code"
   },
   "outputs": [],
   "source": [
    "DF.columns = [\"Aim\", \"Speed\", \"OD\", \"AR\", \"Max_Combo\", \"Strain\", \"Star Difficulty\"]"
   ]
  },
  {
   "cell_type": "code",
   "execution_count": null,
   "metadata": {
    "cell_id": "00054-816a48a2-0c15-4c0e-a616-99aa039684b5",
    "deepnote_cell_type": "code"
   },
   "outputs": [],
   "source": [
    "DF.reset_index()"
   ]
  },
  {
   "cell_type": "code",
   "execution_count": null,
   "metadata": {
    "cell_id": "00055-93eeda6d-ba78-423c-90c8-3e1246feaaef",
    "deepnote_cell_type": "code"
   },
   "outputs": [],
   "source": [
    "correlation = DF.astype('float64').corr()\n",
    "f, ax = plt.subplots(figsize = (14, 12))\n",
    "plt.title(\"Correlation of Attributes\")\n",
    "sns.heatmap(correlation, annot = True)\n",
    "plt.show()\n",
    "\n"
   ]
  },
  {
   "cell_type": "code",
   "execution_count": null,
   "metadata": {
    "cell_id": "00056-43757b2a-51c2-4949-b7da-9013ac4e889c",
    "deepnote_cell_type": "code"
   },
   "outputs": [],
   "source": [
    "# collections = db.list_collection_names() \n",
    "# print (\"collections:\", collections, \"\\n\")\n",
    "\n",
    "#All of the collection in the database"
   ]
  },
  {
   "cell_type": "markdown",
   "metadata": {
    "cell_id": "00057-637ee2db-f0b2-4e90-9313-4d0f29bdd11d",
    "deepnote_cell_type": "markdown"
   },
   "source": [
    "## Objective 8: Conclusion"
   ]
  },
  {
   "cell_type": "code",
   "execution_count": null,
   "metadata": {
    "cell_id": "00058-a8fb9f97-2894-4efd-bfe2-63204c3f1ec4",
    "deepnote_cell_type": "code"
   },
   "outputs": [],
   "source": [
    "# Attribute AR is left skewed\n",
    "# Attrib Max Combo is right skewed\n",
    "# Aim and Star Difficulty, Strain and Star Dificulty are highly correlated \n",
    "# Speed and OD, AR and OD are highly correlated \n",
    "# Players tend "
   ]
  }
 ],
 "metadata": {
  "deepnote": {},
  "deepnote_execution_queue": [],
  "deepnote_notebook_id": "30921bc0-c4f9-49cd-bfde-129388b5a2a8",
  "kernelspec": {
   "display_name": "Python 3",
   "language": "python",
   "name": "python3"
  },
  "language_info": {
   "codemirror_mode": {
    "name": "ipython",
    "version": 3
   },
   "file_extension": ".py",
   "mimetype": "text/x-python",
   "name": "python",
   "nbconvert_exporter": "python",
   "pygments_lexer": "ipython3",
   "version": "3.8.5"
  }
 },
 "nbformat": 4,
 "nbformat_minor": 5
}
