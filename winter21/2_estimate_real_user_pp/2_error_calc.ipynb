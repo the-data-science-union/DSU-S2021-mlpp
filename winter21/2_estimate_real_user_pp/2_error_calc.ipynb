{
 "cells": [
  {
   "cell_type": "code",
   "execution_count": null,
   "metadata": {
    "cell_id": "00000-47a1f3f7-7379-4e2b-b5f6-1868e003b07d",
    "deepnote_cell_type": "code"
   },
   "outputs": [],
   "source": [
    "import sys\n",
    "sys.path.append('../..')\n",
    "import pandas as pd\n",
    "from pymongo import UpdateOne\n",
    "from pymongo import MongoClient\n",
    "from tqdm import tqdm\n",
    "import numpy as np\n",
    "from exploration.config import mongo_inst\n",
    "from mlpp.data_collection.sample import osuDumpSampler\n",
    "import datetime\n",
    "from datetime import datetime\n",
    "import pprint\n",
    "import matplotlib.pyplot as plt\n",
    "import pickle \n",
    "from fastdtw import fastdtw\n",
    "from scipy.spatial.distance import euclidean\n",
    "import numpy as np\n",
    "import pandas as pd\n",
    "import matplotlib.pyplot as plt"
   ]
  },
  {
   "cell_type": "markdown",
   "metadata": {
    "cell_id": "00001-a0180432-996a-44e2-8aa7-aad9ffb37747",
    "deepnote_cell_type": "markdown"
   },
   "source": [
    "# Data Retrievel"
   ]
  },
  {
   "cell_type": "markdown",
   "metadata": {
    "cell_id": "00002-6af4c1e8-e780-454b-807a-6e5d1ca4a4f7",
    "deepnote_cell_type": "markdown"
   },
   "source": [
    "### Find users that have more than 50 data points & creates a new list of user ids"
   ]
  },
  {
   "cell_type": "code",
   "execution_count": null,
   "metadata": {
    "cell_id": "00003-a1d32fed-1720-43a1-a24b-bc2c04c075f7",
    "deepnote_cell_type": "code"
   },
   "outputs": [],
   "source": [
    "client = MongoClient(port=27017)\n",
    "top_db = mongo_inst[\"osu_top_db\"]\n",
    "user_ids = list(map(lambda c: c['_id'], top_db['osu_user_stats'].find({}, {})))"
   ]
  },
  {
   "cell_type": "code",
   "execution_count": null,
   "metadata": {
    "cell_id": "00004-e662fc18-9e69-46d7-b71d-97d378989da0",
    "deepnote_cell_type": "code"
   },
   "outputs": [],
   "source": [
    "big_user_ids = []\n",
    "for i in user_ids:\n",
    "    datapts = len(list(top_db.osu_track_updates.find({\"user_id\": i}, {\"date\":1})))\n",
    "    if datapts > 50: #arbitrary number\n",
    "        big_user_ids.append(i)"
   ]
  },
  {
   "cell_type": "markdown",
   "metadata": {
    "cell_id": "00005-82400054-4033-4b05-b36c-3425f2ff66a4",
    "deepnote_cell_type": "markdown"
   },
   "source": [
    "\n",
    "### Find the date & real_pp and then sort by date\n"
   ]
  },
  {
   "cell_type": "code",
   "execution_count": null,
   "metadata": {
    "cell_id": "00006-023f7d5d-3588-456d-8920-9fddcfd2798d",
    "deepnote_cell_type": "code"
   },
   "outputs": [],
   "source": [
    "real_pp = {}\n",
    "for i in big_user_ids:\n",
    "    real_pp[i] = list(top_db.osu_track_updates.find( {\"user_id\": i}, {\"_id\":0, \"timestamp\": 1, \"pp_raw\":1}))\n",
    "    real_pp[i].sort(key = lambda x:x[\"timestamp\"])"
   ]
  },
  {
   "cell_type": "markdown",
   "metadata": {
    "cell_id": "00007-b2e2b0f9-c95a-4808-8a5e-415abbe9e1ca",
    "deepnote_cell_type": "markdown"
   },
   "source": [
    "### Find the date and est_user_pp and then sort by date"
   ]
  },
  {
   "cell_type": "code",
   "execution_count": null,
   "metadata": {
    "cell_id": "00008-b87d7625-b4e0-4562-80c3-164b58c8f6c5",
    "deepnote_cell_type": "code"
   },
   "outputs": [],
   "source": [
    "est_pp = {}\n",
    "for i in big_user_ids:\n",
    "    est_pp[i] = list(top_db.osu_scores_high.find( {\"user_id\": i}, {\"_id\":0, \"date\": 1, \"mlpp.est_user_pp\":1}))\n",
    "    est_pp[i].sort(key = lambda x:x[\"date\"]) "
   ]
  },
  {
   "cell_type": "markdown",
   "metadata": {
    "cell_id": "00009-1bec2fa3-4b58-4678-89a7-f524bf439579",
    "deepnote_cell_type": "markdown"
   },
   "source": [
    "### Find the overlap time periods"
   ]
  },
  {
   "cell_type": "code",
   "execution_count": null,
   "metadata": {
    "cell_id": "00010-e44690a7-1e17-4199-9b91-017c9eae8d0d",
    "deepnote_cell_type": "code"
   },
   "outputs": [],
   "source": [
    "time_comparison = {}\n",
    "for i in big_user_ids:\n",
    "    earliest_est_date = est_pp[i][0][\"date\"]\n",
    "    earliest_real_date = real_pp[i][0][\"timestamp\"]\n",
    "    latest_est_date = est_pp[i][-1][\"date\"]\n",
    "    latest_real_date = real_pp[i][-1][\"timestamp\"]\n",
    "    if earliest_est_date >= earliest_real_date:\n",
    "        start = earliest_est_date\n",
    "    else:\n",
    "        start = earliest_real_date\n",
    "    if latest_est_date <= latest_real_date:\n",
    "        end = latest_est_date\n",
    "    else:\n",
    "        end = latest_real_date\n",
    "    time_comparison[i] = {\"start\": start, \"end\": end}"
   ]
  },
  {
   "cell_type": "markdown",
   "metadata": {
    "cell_id": "00011-55096b7d-92a7-4755-b0a2-c6cec20df3c5",
    "deepnote_cell_type": "markdown"
   },
   "source": [
    "### Clean the data for users who do not have time overlap between real and est"
   ]
  },
  {
   "cell_type": "code",
   "execution_count": null,
   "metadata": {
    "cell_id": "00012-45bc490f-4227-426b-aa56-b5705cbc8a3c",
    "deepnote_cell_type": "code"
   },
   "outputs": [],
   "source": [
    "bad_users = []\n",
    "\n",
    "for user in time_comparison:\n",
    "    if time_comparison[user][\"start\"] >= time_comparison[user][\"end\"]:\n",
    "        bad_users.append(user)\n",
    "\n",
    "big_user_ids = [ele for ele in big_user_ids if ele not in bad_users]\n",
    "\n",
    "for user in bad_users:\n",
    "    del real_pp[user]\n",
    "    del est_pp[user]\n",
    "    del time_comparison[user]"
   ]
  },
  {
   "cell_type": "markdown",
   "metadata": {
    "cell_id": "00013-14501696-82ad-4bfe-b3c4-89f5b5ef8746",
    "deepnote_cell_type": "markdown"
   },
   "source": [
    "### Create tables to store the data"
   ]
  },
  {
   "cell_type": "code",
   "execution_count": null,
   "metadata": {
    "cell_id": "00014-ed01aed9-8e81-4a2c-a0f2-34a5eb71ba7e",
    "deepnote_cell_type": "code"
   },
   "outputs": [],
   "source": [
    "def CREATE_REAL_USER_TABLE (one_user_id):\n",
    "    real_start_time = []\n",
    "    real_pp_points = []\n",
    "    for i in real_pp[one_user_id]:\n",
    "        real_start_time.append(i[\"timestamp\"])\n",
    "        real_pp_points.append(i[\"pp_raw\"])\n",
    "    real_table = np.column_stack((real_start_time, real_pp_points))\n",
    "    return real_table"
   ]
  },
  {
   "cell_type": "code",
   "execution_count": null,
   "metadata": {
    "cell_id": "00015-53bc8cf3-9524-43fb-a9d9-b5e5a2d0fa1e",
    "deepnote_cell_type": "code"
   },
   "outputs": [],
   "source": [
    "real_table_for_all = {}\n",
    "for user in big_user_ids:\n",
    "    real_table_for_all[user] = CREATE_REAL_USER_TABLE(user)"
   ]
  },
  {
   "cell_type": "code",
   "execution_count": null,
   "metadata": {
    "cell_id": "00016-678ede0b-3301-4ec5-85ba-22b516ffbc86",
    "deepnote_cell_type": "code"
   },
   "outputs": [],
   "source": [
    "def CREATE_EST_USER_TABLE (one_user_id):\n",
    "    est_start_time = []\n",
    "    est_pp_points = []\n",
    "    for i in est_pp[one_user_id]:\n",
    "        est_start_time.append(i[\"date\"])\n",
    "        est_pp_points.append(i[\"mlpp\"][\"est_user_pp\"])\n",
    "    est_table = np.column_stack((est_start_time, est_pp_points))\n",
    "    return est_table"
   ]
  },
  {
   "cell_type": "code",
   "execution_count": null,
   "metadata": {
    "cell_id": "00017-9abf705d-60cd-45a8-8468-edd8e4e4df88",
    "deepnote_cell_type": "code"
   },
   "outputs": [],
   "source": [
    "est_table_for_all = {}\n",
    "for user in big_user_ids:\n",
    "    est_table_for_all[user] = CREATE_EST_USER_TABLE(user)"
   ]
  },
  {
   "cell_type": "markdown",
   "metadata": {
    "cell_id": "00018-2bf0862f-e5a2-4fea-81c5-127b440d4b53",
    "deepnote_cell_type": "markdown"
   },
   "source": [
    "# Calculate error"
   ]
  },
  {
   "cell_type": "code",
   "execution_count": null,
   "metadata": {
    "cell_id": "00019-bcd723ef-b264-4c24-8ad1-a54c2e6a43ba",
    "deepnote_cell_type": "code"
   },
   "outputs": [],
   "source": [
    "def GET_REAL_NPOINTS(n, user):\n",
    "    real_within = real_table_for_all[user][real_table_for_all[user][:,0] >= time_comparison[user][\"start\"]]\n",
    "    real_within = real_within[real_within[:,0] <= time_comparison[user][\"end\"]]\n",
    "    real_xp = real_within[:,0]\n",
    "    real_fp = real_within[:,1]\n",
    "\n",
    "    begin = real_xp[0] \n",
    "    end = real_xp[-1] \n",
    "    real_date_list = [] \n",
    "    delta = (end - begin)/n\n",
    "    for i in range(1, n + 1): \n",
    "        real_date_list.append((begin+i*delta).timestamp())\n",
    "\n",
    "    k  = 0\n",
    "    for i in real_xp:\n",
    "        real_xp[k] = i.timestamp()\n",
    "        k+=1\n",
    "\n",
    "    real_npoints = np.interp(real_date_list,list(real_xp),list(real_fp))\n",
    "    return real_npoints"
   ]
  },
  {
   "cell_type": "code",
   "execution_count": null,
   "metadata": {
    "cell_id": "00020-cf1e6da1-95b6-4f82-a660-bfefbec89036",
    "deepnote_cell_type": "code"
   },
   "outputs": [],
   "source": [
    "def GET_EST_NPOINTS(n, user):\n",
    "    est_within = est_table_for_all[user][est_table_for_all[user][:,0] >= time_comparison[user][\"start\"]]\n",
    "    est_within = est_within[est_within[:,0] <= time_comparison[user][\"end\"]]\n",
    "    xp = est_within[:,0]\n",
    "    fp = est_within[:,1]\n",
    "\n",
    "    begin = xp[0] \n",
    "    end = xp[-1] \n",
    "    date_list = [] \n",
    "    delta = (end - begin)/n\n",
    "    for i in range(1, n + 1): \n",
    "        date_list.append((begin+i*delta).timestamp())\n",
    "\n",
    "    k  = 0\n",
    "    for i in xp:\n",
    "        xp[k] = i.timestamp()\n",
    "        k+=1\n",
    "\n",
    "    est_npoints = np.interp(date_list,list(xp),list(fp))\n",
    "    return est_npoints"
   ]
  },
  {
   "cell_type": "markdown",
   "metadata": {
    "cell_id": "00021-6eb6fb56-4f4a-4648-8cfa-a8e6b39f4def",
    "deepnote_cell_type": "markdown"
   },
   "source": [
    "### MSE"
   ]
  },
  {
   "cell_type": "code",
   "execution_count": null,
   "metadata": {
    "cell_id": "00022-5948a738-e68a-41e2-a725-461c9b9d4d57",
    "deepnote_cell_type": "code"
   },
   "outputs": [],
   "source": [
    "def GET_MSE(n, user):\n",
    "    real_points = GET_REAL_NPOINTS(n, user)\n",
    "    est_points = GET_EST_NPOINTS(n, user)\n",
    "    mse_for_one = (np.square(real_points - est_points)).mean()\n",
    "    return mse_for_one"
   ]
  },
  {
   "cell_type": "code",
   "execution_count": null,
   "metadata": {
    "cell_id": "00023-3d3186ac-198d-476c-9190-3119458623d7",
    "deepnote_cell_type": "code"
   },
   "outputs": [],
   "source": [
    "mse_for_all = {}\n",
    "\n",
    "for user in big_user_ids:\n",
    "    mse_for_all[user] = GET_MSE(50, user)"
   ]
  },
  {
   "cell_type": "markdown",
   "metadata": {
    "cell_id": "00024-6457df83-fd38-4d7b-9f8c-81f22ffafdda",
    "deepnote_cell_type": "markdown"
   },
   "source": [
    "### Difference in area"
   ]
  },
  {
   "cell_type": "code",
   "execution_count": null,
   "metadata": {
    "cell_id": "00025-ca012959-4ceb-4bf6-b3c9-5053e83d6803",
    "deepnote_cell_type": "code"
   },
   "outputs": [],
   "source": [
    "def GET_AREA(n, user, intervals):\n",
    "    #interval is an arbitrary number, it is the width of the small rectangles, we used 1000 before\n",
    "    a = time_comparison[user][\"start\"].timestamp()\n",
    "    b = time_comparison[user][\"end\"].timestamp()\n",
    "    dx = (b - a) / intervals\n",
    "    x_midpoint = np.linspace(dx / 2, b - dx / 2, intervals)\n",
    "    total_area_between_curves = 0\n",
    "    real_nPoints = GET_REAL_NPOINTS(n, user)\n",
    "    est_nPoints = GET_EST_NPOINTS(n, user)\n",
    "    for i in range(0, n):\n",
    "        real_midpoint_riemann = real_nPoints[i] * dx\n",
    "        est_midpoint_riemann = est_nPoints[i] * dx\n",
    "        area_between_curves_one_point = abs(real_midpoint_riemann - est_midpoint_riemann)\n",
    "        total_area_between_curves += area_between_curves_one_point\n",
    "    total_area_between_curves = total_area_between_curves / 86400\n",
    "    return total_area_between_curves"
   ]
  },
  {
   "cell_type": "code",
   "execution_count": null,
   "metadata": {
    "cell_id": "00026-206935a4-9084-49eb-98c5-d8b5aed019b4",
    "deepnote_cell_type": "code"
   },
   "outputs": [],
   "source": [
    "area_for_all = {}\n",
    "\n",
    "for user in big_user_ids:\n",
    "    area_for_all[user] = GET_AREA(10000, user, 1000)"
   ]
  },
  {
   "cell_type": "markdown",
   "metadata": {
    "cell_id": "00027-871efcd9-fd15-49f0-b128-58e6aedeca38",
    "deepnote_cell_type": "markdown"
   },
   "source": [
    "### Dynamic Time Warping"
   ]
  },
  {
   "cell_type": "code",
   "execution_count": null,
   "metadata": {
    "cell_id": "00028-bc49b4de-0208-4200-85bb-6405b782993e",
    "deepnote_cell_type": "code"
   },
   "outputs": [],
   "source": [
    "def GET_DTW(user):\n",
    "    real_within = real_table_for_all[user][real_table_for_all[user][:,0] >= time_comparison[user][\"start\"]]\n",
    "    real_within = real_within[real_within[:,0] <= time_comparison[user][\"end\"]]\n",
    "    est_within = est_table_for_all[user][est_table_for_all[user][:,0] >= time_comparison[user][\"start\"]]\n",
    "    est_within = est_within[est_within[:,0] <= time_comparison[user][\"end\"]]\n",
    "    distance = fastdtw(real_within[:,1], est_within[:,1], dist=euclidean)[0]\n",
    "    return distance"
   ]
  },
  {
   "cell_type": "code",
   "execution_count": null,
   "metadata": {
    "cell_id": "00029-a5fbb45b-19d3-4867-8c2b-3c7c6e773146",
    "deepnote_cell_type": "code"
   },
   "outputs": [],
   "source": [
    "dtw_for_all = {}\n",
    "\n",
    "for user in big_user_ids:\n",
    "    dtw_for_all[user] = GET_DTW(user)"
   ]
  },
  {
   "cell_type": "markdown",
   "metadata": {
    "cell_id": "00030-734b0edf-f501-4a1b-8160-d78e27a0910e",
    "deepnote_cell_type": "markdown"
   },
   "source": [
    "### Merge errors calculated through three methods to one dataframe"
   ]
  },
  {
   "cell_type": "code",
   "execution_count": null,
   "metadata": {
    "cell_id": "00031-cda7cfbe-bf3c-4932-bd22-90112d0c9669",
    "deepnote_cell_type": "code"
   },
   "outputs": [],
   "source": [
    "error_df = pd.DataFrame({'mse_for_all':pd.Series(mse_for_all),'area_for_all':pd.Series(area_for_all), 'dtw_for_all':pd.Series(dtw_for_all)})\n",
    "error_df"
   ]
  }
 ],
 "metadata": {
  "deepnote": {},
  "deepnote_execution_queue": [],
  "deepnote_notebook_id": "3ecc5afa-17de-4df7-903a-04487a54d3f6",
  "kernelspec": {
   "display_name": "Python 3",
   "language": "python",
   "name": "python3"
  },
  "language_info": {
   "codemirror_mode": {
    "name": "ipython",
    "version": 3
   },
   "file_extension": ".py",
   "mimetype": "text/x-python",
   "name": "python",
   "nbconvert_exporter": "python",
   "pygments_lexer": "ipython3",
   "version": "3.8.5"
  }
 },
 "nbformat": 4,
 "nbformat_minor": 5
}
