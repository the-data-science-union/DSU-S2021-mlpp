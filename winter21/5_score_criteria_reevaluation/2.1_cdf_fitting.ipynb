{
 "cells": [
  {
   "cell_type": "markdown",
   "metadata": {
    "cell_id": "00001-9cd2f0fd-ce22-43ea-b54f-468e9c5ab208",
    "deepnote_cell_type": "markdown"
   },
   "source": [
    "# Sigmoid Criteria Curve Fitting: CDF Approach\n",
    "**Contributors:** Karen Nguyen, Sophie Yun, Emily Gong\n",
    "\n",
    "**Achievement:** \n",
    "\n",
    "**Requirements:**\n"
   ]
  },
  {
   "cell_type": "markdown",
   "metadata": {
    "cell_id": "00002-f8b9ef3c-27b0-45e3-8031-11794fdd2946",
    "deepnote_cell_type": "markdown"
   },
   "source": [
    "## Import packages \n",
    "**This is a note:** Please have markdown before each cell. In this format!"
   ]
  },
  {
   "cell_type": "code",
   "execution_count": 1,
   "metadata": {
    "cell_id": "00003-da78831e-0bda-42b2-9423-681bf842d762",
    "deepnote_cell_type": "code"
   },
   "outputs": [
    {
     "ename": "ModuleNotFoundError",
     "evalue": "No module named 'pymongo'",
     "output_type": "error",
     "traceback": [
      "\u001b[0;31m---------------------------------------------------------------------------\u001b[0m",
      "\u001b[0;31mModuleNotFoundError\u001b[0m                       Traceback (most recent call last)",
      "\u001b[0;32m<ipython-input-1-d1bae88d01a0>\u001b[0m in \u001b[0;36m<module>\u001b[0;34m\u001b[0m\n\u001b[1;32m      1\u001b[0m \u001b[0;32mimport\u001b[0m \u001b[0msys\u001b[0m\u001b[0;34m\u001b[0m\u001b[0;34m\u001b[0m\u001b[0m\n\u001b[1;32m      2\u001b[0m \u001b[0msys\u001b[0m\u001b[0;34m.\u001b[0m\u001b[0mpath\u001b[0m\u001b[0;34m.\u001b[0m\u001b[0mappend\u001b[0m\u001b[0;34m(\u001b[0m\u001b[0;34m'../..'\u001b[0m\u001b[0;34m)\u001b[0m\u001b[0;34m\u001b[0m\u001b[0;34m\u001b[0m\u001b[0m\n\u001b[0;32m----> 3\u001b[0;31m \u001b[0;32mfrom\u001b[0m \u001b[0mpymongo\u001b[0m \u001b[0;32mimport\u001b[0m \u001b[0mUpdateOne\u001b[0m\u001b[0;34m\u001b[0m\u001b[0;34m\u001b[0m\u001b[0m\n\u001b[0m\u001b[1;32m      4\u001b[0m \u001b[0;32mfrom\u001b[0m \u001b[0mpymongo\u001b[0m \u001b[0;32mimport\u001b[0m \u001b[0mMongoClient\u001b[0m\u001b[0;34m\u001b[0m\u001b[0;34m\u001b[0m\u001b[0m\n\u001b[1;32m      5\u001b[0m \u001b[0;32mfrom\u001b[0m \u001b[0mtqdm\u001b[0m \u001b[0;32mimport\u001b[0m \u001b[0mtqdm\u001b[0m\u001b[0;34m\u001b[0m\u001b[0;34m\u001b[0m\u001b[0m\n",
      "\u001b[0;31mModuleNotFoundError\u001b[0m: No module named 'pymongo'"
     ]
    }
   ],
   "source": [
    "import sys\n",
    "sys.path.append('../..')\n",
    "from pymongo import UpdateOne\n",
    "from pymongo import MongoClient\n",
    "from tqdm import tqdm\n",
    "import matplotlib.pyplot as plt\n",
    "import numpy as np\n",
    "import scipy\n",
    "from scipy.stats import norm \n",
    "from scipy.optimize import curve_fit\n",
    "import seaborn as sns\n",
    "from scipy.stats import t\n",
    "from mlpp.data_modeling.sigmoid_fitting import *\n",
    "import pandas as pd"
   ]
  },
  {
   "cell_type": "markdown",
   "metadata": {
    "cell_id": "00004-6dd92467-6407-41c3-8c15-6a7a75f97552",
    "deepnote_cell_type": "markdown"
   },
   "source": [
    "## Instantiate mongo instance, classes, and any config/global vars"
   ]
  },
  {
   "cell_type": "code",
   "execution_count": null,
   "metadata": {
    "cell_id": "00005-ad86773a-518d-443c-a89b-e1ae93d1626f",
    "deepnote_cell_type": "code"
   },
   "outputs": [],
   "source": [
    "client = MongoClient(port=27017)\n",
    "db = client.osu_random_db\n",
    "bm_ids = list(map(lambda c: c['_id'], db['beatmap_criteria_curve'].find({}, {})))"
   ]
  },
  {
   "cell_type": "markdown",
   "metadata": {
    "cell_id": "00006-e1f93b61-27b3-40f2-a803-fc4b3bddd763",
    "deepnote_cell_type": "markdown"
   },
   "source": [
    "## Load the curve data\n",
    "**Note:** Get total and n_pass under no_mod for all beatmaps"
   ]
  },
  {
   "cell_type": "code",
   "execution_count": null,
   "metadata": {
    "cell_id": "00007-3fd7aced-a90f-4c8d-b4cf-dffe6e3a4c94",
    "deepnote_cell_type": "code"
   },
   "outputs": [],
   "source": [
    "bm_data = {}\n",
    "for i in bm_ids:\n",
    "    bm_data[i] = list(db['beatmap_criteria_curve'].find({\"_id\": i}, {\"_id\": 0, \"no_mod.total\": 1, \"no_mod.n_pass\": 1}))"
   ]
  },
  {
   "cell_type": "markdown",
   "metadata": {
    "cell_id": "00008-11d03ce9-bdc7-4664-8224-e1937c571b52",
    "deepnote_cell_type": "markdown"
   },
   "source": [
    "**Note:** Calculate the n_pass/total for each user with total = 0 removed"
   ]
  },
  {
   "cell_type": "code",
   "execution_count": null,
   "metadata": {
    "cell_id": "00009-17f57981-f396-4cf6-ab87-1df6a9e8c998",
    "deepnote_cell_type": "code"
   },
   "outputs": [],
   "source": [
    "def find_nPassOverTotal_for_one_beatmap (bm):\n",
    "    bm_total_nPass = list (zip (bm_data[bm][0][\"no_mod\"][\"total\"], bm_data[bm][0][\"no_mod\"][\"n_pass\"]))\n",
    "    bm_total_nPass_noZero = [total_nPass for total_nPass in bm_total_nPass if total_nPass[0] != 0]\n",
    "    y = np.asarray(list(zip(*bm_total_nPass_noZero))[1]) / np.asarray(list(zip(*bm_total_nPass_noZero))[0])\n",
    "    return y\n",
    "bm_ys = {}\n",
    "for i in bm_ids:\n",
    "    bm_ys[i] = find_nPassOverTotal_for_one_beatmap (i)"
   ]
  },
  {
   "cell_type": "markdown",
   "metadata": {
    "cell_id": "00010-496be33b-520b-4dc9-9daa-1ac3dc7e1320",
    "deepnote_cell_type": "markdown"
   },
   "source": [
    "## Run all Normal CDF curve fits and store in a collection"
   ]
  },
  {
   "cell_type": "code",
   "execution_count": null,
   "metadata": {
    "cell_id": "00011-b266f861-7138-4b6f-a61a-9902767d8656",
    "deepnote_cell_type": "code"
   },
   "outputs": [],
   "source": [
    "fitted_curves_with_errors = {}\n",
    "\n",
    "for i in bm_ys.keys():\n",
    "    fitted_curves_with_errors[i] = fit_normal_cdf(bm_ys[i])"
   ]
  },
  {
   "cell_type": "code",
   "execution_count": null,
   "metadata": {
    "cell_id": "00012-85427855-3736-4a57-a8fe-1a5f797af35e",
    "deepnote_cell_type": "code"
   },
   "outputs": [],
   "source": [
    "# visualization example beatmaps\n",
    "good = 713935\n",
    "fig, (ax1, ax2) = plt.subplots(1, 2, figsize=(15, 5))\n",
    "fig.suptitle('Example of Norm CDF Fits with Low Error Rate VS High Error Rate')\n",
    "x1 = range(len(find_nPassOverTotal_for_one_beatmap(good)))\n",
    "y1 = find_nPassOverTotal_for_one_beatmap(good)\n",
    "ax1.plot(scipy.stats.norm(find_nPassOverTotal_for_one_beatmap(good)[0]).cdf(x1))\n",
    "ax1.scatter(x1, y1, color = \"orange\")\n",
    "ax1.set(ylabel = \"nPass/total\")\n",
    "\n",
    "bad = 848233\n",
    "x2 = range(len(find_nPassOverTotal_for_one_beatmap(bad)))\n",
    "y2 = find_nPassOverTotal_for_one_beatmap(bad)\n",
    "ax2.plot(scipy.stats.norm(find_nPassOverTotal_for_one_beatmap(bad)[0]).cdf(x2))\n",
    "ax2.scatter(x2, y2, color = \"orange\")\n",
    "ax2.set(ylabel = \"nPass/total\")"
   ]
  },
  {
   "cell_type": "code",
   "execution_count": null,
   "metadata": {
    "cell_id": "00013-302fea74-1c6c-4002-8d76-24dddd6a803b",
    "deepnote_cell_type": "code"
   },
   "outputs": [],
   "source": [
    "unsuccessful_bm = {id: fitAndMse for (id, fitAndMse) in fitted_curves_with_errors.items() if isinstance(fitAndMse, str)}\n",
    "n = len(fitted_curves_with_errors)\n",
    "success_rate = (n - len(unsuccessful_bm))/n\n",
    "avg_mse = np.mean([fitAndMse[1] for (id, fitAndMse) in fitted_curves_with_errors.items() if isinstance(fitAndMse[1], float)])\n",
    "print(\"success rate for all is:\", success_rate)\n",
    "print(\"average mse for all is:\", avg_mse)"
   ]
  },
  {
   "cell_type": "code",
   "execution_count": null,
   "metadata": {
    "cell_id": "00014-6085c83f-8a8e-4f4b-bc94-251a4f658383",
    "deepnote_cell_type": "code"
   },
   "outputs": [],
   "source": [
    "for el in bm_ids: \n",
    "    success = False if el in unsuccessful_bm.keys() else True\n",
    "    mean = None if el in unsuccessful_bm.keys() else fitted_curves_with_errors[el][0][0]\n",
    "    sd = None if el in unsuccessful_bm.keys() else fitted_curves_with_errors[el][0][1]\n",
    "    mse = None if el in unsuccessful_bm.keys() else fitted_curves_with_errors[el][1]\n",
    "    \n",
    "    db.beatmap_criteria_curve.update_one( \n",
    "        {\"_id\" : el},\n",
    "        {\"$set\": {\"no_mod.mlpp.normalCDF.success\" : success,\n",
    "                  \"no_mod.mlpp.normalCDF.params.mean\" : mean,\n",
    "                  \"no_mod.mlpp.normalCDF.params.sd\" : sd,\n",
    "                  \"no_mod.mlpp.normalCDF.mse\" : mse}}\n",
    "    )"
   ]
  },
  {
   "cell_type": "markdown",
   "metadata": {
    "cell_id": "00015-52a70c2f-dd1d-4d16-b134-a151fc7a2525",
    "deepnote_cell_type": "markdown"
   },
   "source": [
    "## Load the beatmap attribs data"
   ]
  },
  {
   "cell_type": "code",
   "execution_count": null,
   "metadata": {
    "cell_id": "00016-53198415-6852-4134-92d9-1559aadcb2b9",
    "deepnote_cell_type": "code"
   },
   "outputs": [],
   "source": [
    "bm_attribs_data = {}\n",
    "for i in bm_ids:\n",
    "    bm_attribs_data[i] = list(db['osu_beatmap_attribs'].find({\"beatmap_id\": i, \"mods\": 0, \"attrib_id\":17}, {\"_id\": 0, \"value\": 1}))"
   ]
  },
  {
   "cell_type": "markdown",
   "metadata": {
    "cell_id": "00017-c945ff8c-5afa-4191-8acd-f2570bf058cf",
    "deepnote_cell_type": "markdown"
   },
   "source": [
    "## Dataframe of Correlation between CDF mean/std with attribs\n",
    "**Note:** Each beatmap maps the same mean, sd, mse mapped to its different attrib_ids"
   ]
  },
  {
   "cell_type": "code",
   "execution_count": null,
   "metadata": {
    "cell_id": "00018-1149db69-3a35-4054-9019-bbd204e94f3d",
    "deepnote_cell_type": "code"
   },
   "outputs": [],
   "source": [
    "# creating a dataframe with rows as bm_ids and columns as mean, std, mse, and star difficulties\n",
    "attrib_array = []\n",
    "mean_array = []\n",
    "sd_array = []\n",
    "mse_array = []\n",
    "successful_ids = [bm for bm in bm_ids if bm not in unsuccessful_bm.keys()]\n",
    "for bm in successful_ids:\n",
    "    attrib_array.append(bm_attribs_data[bm][0][\"value\"])\n",
    "    mean_array.append(fitted_curves_with_errors[bm][0][0]) \n",
    "    sd_array.append(fitted_curves_with_errors[bm][0][1]) \n",
    "    mse_array.append(fitted_curves_with_errors[bm][1])"
   ]
  },
  {
   "cell_type": "code",
   "execution_count": null,
   "metadata": {
    "cell_id": "00019-24cc4932-3bda-4e98-9645-8cbb375c33cb",
    "deepnote_cell_type": "code"
   },
   "outputs": [],
   "source": [
    "new_df = pd.DataFrame(successful_ids)\n",
    "new_df[\"star\"] = np.array(attrib_array)\n",
    "new_df[\"mean\"] = np.array(mean_array)\n",
    "new_df[\"sd\"] = np.array(sd_array)\n",
    "new_df[\"mse\"] = np.array(mse_array)\n",
    "new_df.columns = [\"Successful_ids\", \"Star_difficulties\", \"Mean\", \"Sd\", \"MSE\"]\n",
    "new_df"
   ]
  },
  {
   "cell_type": "markdown",
   "metadata": {
    "cell_id": "00020-ce756f53-ba8b-40b4-9130-5a9e26e5058e",
    "deepnote_cell_type": "markdown"
   },
   "source": [
    "## Summary Table of Success Rate and MSE for Normal CDF Curve Fit"
   ]
  },
  {
   "cell_type": "code",
   "execution_count": null,
   "metadata": {
    "cell_id": "00021-fc6dc26f-d446-4fb0-98ca-5db7d6cdbd66",
    "deepnote_cell_type": "code"
   },
   "outputs": [],
   "source": [
    "unsuccessful_attrib_data = bm_attribs_data[list(unsuccessful_bm.keys())[0]]\n",
    "unsuccessful_attrib_array = [id_dict[\"value\"] for id_dict in unsuccessful_attrib_data]\n",
    "\n",
    "unsuccessful_attrib_low = [a for a in unsuccessful_attrib_array if a >= 1 and a < 4]\n",
    "unsuccessful_attrib_med = [a for a in unsuccessful_attrib_array if a >= 4 and a < 6]\n",
    "unsuccessful_attrib_high = [a for a in unsuccessful_attrib_array if a >= 6]\n",
    "\n",
    "successful_attrib_low = [a for a in attrib_array if a >= 1 and a < 4]\n",
    "successful_attrib_med = [a for a in attrib_array if a >= 4 and a < 6]\n",
    "successful_attrib_high = [a for a in attrib_array if a >= 6]"
   ]
  },
  {
   "cell_type": "code",
   "execution_count": null,
   "metadata": {
    "cell_id": "00022-bc5391a5-4124-4819-a93e-3ae6c5fd6820",
    "deepnote_cell_type": "code"
   },
   "outputs": [],
   "source": [
    "attrib_and_mse = list(zip(attrib_array, mse_array))\n",
    "error_low_array = [aAndM[1] for aAndM in attrib_and_mse if aAndM[0] >= 1 and aAndM[0] < 4]\n",
    "error_med_array = [aAndM[1] for aAndM in attrib_and_mse if aAndM[0] >= 4 and aAndM[0] < 6]\n",
    "error_high_array = [aAndM[1] for aAndM in attrib_and_mse if aAndM[0] >= 6]\n",
    "success_error_summary = {\n",
    "    \"1-4\": [len(successful_attrib_low) / (len(unsuccessful_attrib_low) + len(successful_attrib_low)), np.mean(error_low_array)],\n",
    "    \"4-6\": [len(successful_attrib_med) / (len(unsuccessful_attrib_med) + len(successful_attrib_med)), np.mean(error_med_array)],\n",
    "    \"6+\": [len(successful_attrib_high) / (len(unsuccessful_attrib_high) + len(successful_attrib_high)), np.mean(error_high_array)],\n",
    "    \"All\": [len(attrib_array) / (len(unsuccessful_attrib_array) + len(attrib_array)), np.mean(mse_array)]\n",
    "}\n",
    "success_error_summary_df = pd.DataFrame(success_error_summary)\n",
    "success_error_summary_df.index = [\"Success_rate\", \"Error_rate\"]"
   ]
  },
  {
   "cell_type": "code",
   "execution_count": null,
   "metadata": {
    "cell_id": "00023-dbe020b6-c908-43a7-b801-0dff6385dfc9",
    "deepnote_cell_type": "code"
   },
   "outputs": [],
   "source": [
    "success_error_summary_df"
   ]
  },
  {
   "cell_type": "markdown",
   "metadata": {
    "cell_id": "00024-9c1a3d8d-905a-4eb3-b81c-a4f55d127a70",
    "deepnote_cell_type": "markdown"
   },
   "source": [
    "## Run all T CDF curve fits and store in a collection"
   ]
  },
  {
   "cell_type": "code",
   "execution_count": null,
   "metadata": {
    "cell_id": "00025-f1ae70e8-a961-4de7-96de-9006503103b5",
    "deepnote_cell_type": "code"
   },
   "outputs": [],
   "source": [
    "fitted_tcdf_with_errors = {}\n",
    "\n",
    "for i in bm_ys.keys():\n",
    "    fitted_tcdf_with_errors[i] = fit_t_cdf(bm_ys[i])"
   ]
  },
  {
   "cell_type": "code",
   "execution_count": null,
   "metadata": {
    "cell_id": "00026-dcda6bda-6268-40bf-a601-b94329dda847",
    "deepnote_cell_type": "code"
   },
   "outputs": [],
   "source": [
    "unsuccessful_bm = {id: fitAndMse for (id, fitAndMse) in fitted_tcdf_with_errors.items() if isinstance(fitAndMse, str)}\n",
    "n = len(fitted_curves_with_errors)\n",
    "success_rate = (n - len(unsuccessful_bm))/n\n",
    "avg_mse = np.mean([fitAndMse[1][0] for (id, fitAndMse) in fitted_tcdf_with_errors.items() if isinstance(fitAndMse[1][0], float)])\n",
    "print(\"success rate for all is:\", success_rate)\n",
    "print(\"average mse for all is:\", avg_mse)"
   ]
  },
  {
   "cell_type": "code",
   "execution_count": null,
   "metadata": {
    "cell_id": "00027-fd0e4987-bdb9-4c89-85d8-0717d8dde4db",
    "deepnote_cell_type": "code"
   },
   "outputs": [],
   "source": [
    "good = 1262009\n",
    "fig, (ax1, ax2) = plt.subplots(1, 2, figsize=(15, 5))\n",
    "fig.suptitle('Example of T-CDF Fits with Low Error Rate VS High Error Rate')\n",
    "x1 = range(len(find_nPassOverTotal_for_one_beatmap(good)))\n",
    "y1 = find_nPassOverTotal_for_one_beatmap(good)\n",
    "df1,mse1 = fit_t_cdf(y1)\n",
    "ax1.plot(scipy.stats.t(df1).cdf(x1), label = \"T CDF\")\n",
    "ax1.plot(scipy.stats.norm(find_nPassOverTotal_for_one_beatmap(good)[0]).cdf(x1), color = \"red\", label = \"Normal CDF\")\n",
    "ax1.scatter(x1, y1, color = \"orange\")\n",
    "ax1.set(ylabel = \"nPass/total\")\n",
    "leg1 = ax1.legend();\n",
    "\n",
    "bad = 848233\n",
    "x2 = range(len(find_nPassOverTotal_for_one_beatmap(bad)))\n",
    "y2 = find_nPassOverTotal_for_one_beatmap(bad)\n",
    "df2,mse2 = fit_t_cdf(y2)\n",
    "ax2.plot(scipy.stats.t(df2).cdf(x2), label = \"T CDF\")\n",
    "ax2.plot(scipy.stats.norm(find_nPassOverTotal_for_one_beatmap(bad)[0]).cdf(x2), color =  \"red\", label = \"Normal CDF\")\n",
    "ax2.scatter(x2, y2, color = \"orange\")\n",
    "ax2.set(ylabel = \"nPass/total\")\n",
    "leg2 = ax2.legend()"
   ]
  },
  {
   "cell_type": "code",
   "execution_count": null,
   "metadata": {
    "cell_id": "00028-46f75e36-4b02-40d6-a199-c21ccd2865b2",
    "deepnote_cell_type": "code"
   },
   "outputs": [],
   "source": [
    "for el in bm_ids: \n",
    "    success = False if el in unsuccessful_bm.keys() else True\n",
    "    df = None if el in unsuccessful_bm.keys() else fitted_tcdf_with_errors[el][0][0]\n",
    "    mse = None if el in unsuccessful_bm.keys() else fitted_tcdf_with_errors[el][1][0]\n",
    "    \n",
    "    db.beatmap_criteria_curve.update_one( \n",
    "        {\"_id\" : el},\n",
    "        {\"$set\": {\"no_mod.mlpp.tCDF.success\" : success,\n",
    "                  \"no_mod.mlpp.tCDF.params.df\" : df,\n",
    "                  \"no_mod.mlpp.tCDF.mse\" : mse}}\n",
    "    )"
   ]
  }
 ],
 "metadata": {
  "deepnote": {},
  "deepnote_execution_queue": [],
  "deepnote_notebook_id": "406fe400-5df3-4cf9-b6df-4619683ebc6b",
  "kernelspec": {
   "display_name": "Python 3",
   "language": "python",
   "name": "python3"
  },
  "language_info": {
   "codemirror_mode": {
    "name": "ipython",
    "version": 3
   },
   "file_extension": ".py",
   "mimetype": "text/x-python",
   "name": "python",
   "nbconvert_exporter": "python",
   "pygments_lexer": "ipython3",
   "version": "3.8.5"
  }
 },
 "nbformat": 4,
 "nbformat_minor": 4
}
