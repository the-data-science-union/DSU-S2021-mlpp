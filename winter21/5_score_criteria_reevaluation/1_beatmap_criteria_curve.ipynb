{
 "cells": [
  {
   "cell_type": "code",
   "execution_count": 1,
   "metadata": {
    "cell_id": "00000-df5e1489-946c-4bf8-918b-0a4bafc3ee89",
    "deepnote_cell_type": "code",
    "deepnote_to_be_reexecuted": false,
    "execution_millis": 1114,
    "execution_start": 1614829547695,
    "source_hash": "f2d5d61c"
   },
   "outputs": [],
   "source": [
    "import sys\n",
    "sys.path.append('../..')\n",
    "\n",
    "import os\n",
    "import numpy as np\n",
    "from tqdm import tqdm\n",
    "import matplotlib.pyplot as plt\n",
    "import math\n",
    "from config import ATLAS_CONNECTION_STRING\n",
    "from pymongo import MongoClient"
   ]
  },
  {
   "cell_type": "code",
   "execution_count": 2,
   "metadata": {
    "cell_id": "00001-5db5e530-4a6b-4011-85d5-5ba331906ef5",
    "deepnote_cell_type": "code",
    "deepnote_to_be_reexecuted": false,
    "execution_millis": 36,
    "execution_start": 1614829550019,
    "source_hash": "f8ab6523",
    "tags": []
   },
   "outputs": [],
   "source": [
    "client = MongoClient(ATLAS_CONNECTION_STRING)\n",
    "osu_db = client['osu_random_db']"
   ]
  },
  {
   "cell_type": "code",
   "execution_count": 3,
   "metadata": {
    "cell_id": "00001-58d105a1-6905-47ef-939a-2d2133057b8e",
    "deepnote_cell_type": "code",
    "deepnote_to_be_reexecuted": false,
    "execution_millis": 1,
    "execution_start": 1614829551731,
    "source_hash": "4a3b868"
   },
   "outputs": [],
   "source": [
    "MIN_ACC, PP_RANGE, PP_INTERVAL, MAX_PP = .9, 200, 100, 10000\n",
    "INTERVALS = math.ceil((MAX_PP - PP_RANGE) / PP_INTERVAL)"
   ]
  },
  {
   "cell_type": "code",
   "execution_count": 4,
   "metadata": {
    "cell_id": "00002-05b75432-905e-4dbe-9a9d-45027b190cca",
    "deepnote_cell_type": "code",
    "deepnote_to_be_reexecuted": false,
    "execution_millis": 6,
    "execution_start": 1614829552401,
    "source_hash": "5a36ace3"
   },
   "outputs": [],
   "source": [
    "bm_popularity_pipeline = [\n",
    "    {\n",
    "        '$group': {\n",
    "            '_id': '$beatmap_id',\n",
    "            'count': {\n",
    "                '$sum': 1\n",
    "            }\n",
    "        }\n",
    "    },\n",
    "    {\n",
    "        '$sort': {\n",
    "            'count': -1\n",
    "        }\n",
    "    }\n",
    "]"
   ]
  },
  {
   "cell_type": "code",
   "execution_count": 5,
   "metadata": {
    "cell_id": "00004-1788ccbf-2a14-4afd-93f3-46c36b177e26",
    "deepnote_cell_type": "code"
   },
   "outputs": [],
   "source": [
    "def compute_acc(score):\n",
    "    c50, c100, c300, cmiss = score['count50'], score['count100'], score['count300'], score['countmiss']\n",
    "    return (c50 / 6 + c100 / 3 + c300) / (c50 + c100 + c300 + cmiss)"
   ]
  },
  {
   "cell_type": "code",
   "execution_count": 6,
   "metadata": {
    "cell_id": "00005-2a4dec1a-b87f-43a4-8383-e472aa75ee99",
    "deepnote_cell_type": "code"
   },
   "outputs": [],
   "source": [
    "def criteria_curve(scores):\n",
    "    est_pp = [s['mlpp']['est_user_pp'] for s in scores]\n",
    "    acc = [compute_acc(s) for s in scores]\n",
    "\n",
    "    criteria_pass = np.asarray(acc) > MIN_ACC\n",
    "    cummulative_pass = np.cumsum(np.insert(criteria_pass, 0, False))\n",
    "\n",
    "    total, n_pass = np.zeros(INTERVALS), np.zeros(INTERVALS)\n",
    "    j_s, j_e = 0, 0\n",
    "\n",
    "    for i in range(INTERVALS):\n",
    "        b = i * PP_INTERVAL\n",
    "\n",
    "        while j_s < len(est_pp) - 1 and est_pp[j_s] < b:\n",
    "            j_s+=1\n",
    "        \n",
    "        while j_e < len(est_pp) - 1 and est_pp[j_e] < b + PP_RANGE:\n",
    "            j_e+=1\n",
    "        \n",
    "        total[i] = j_e - j_s\n",
    "        n_pass[i] = cummulative_pass[j_e] - cummulative_pass[j_s]\n",
    "    \n",
    "    return total, n_pass"
   ]
  },
  {
   "cell_type": "code",
   "execution_count": 7,
   "metadata": {
    "cell_id": "00006-81b7bf69-813a-4311-8661-ee85853ee8e9",
    "deepnote_cell_type": "code"
   },
   "outputs": [],
   "source": [
    "def to_criteria_curve_doc(bm_id):\n",
    "\n",
    "    fields = {\n",
    "        'count50': 1,\n",
    "        'count100': 1,\n",
    "        'count300': 1,\n",
    "        'countmiss': 1,\n",
    "        'mlpp.est_user_pp': 1\n",
    "    }\n",
    "\n",
    "    def beatmapQuery(q): return list(\n",
    "        osu_db['osu_scores_high'].find(\n",
    "            {\n",
    "                'beatmap_id': bm['_id'],\n",
    "                **q\n",
    "            },\n",
    "            fields\n",
    "        ).sort('mlpp.est_user_pp')\n",
    "    )\n",
    "\n",
    "    scores_nm = beatmapQuery({'enabled_mods': 0})\n",
    "    scores_all = beatmapQuery({})\n",
    "\n",
    "    total_nm, n_pass_nm = criteria_curve(scores_nm)\n",
    "    total_unfiltered, n_pass_unfiltered = criteria_curve(scores_unfiltered)\n",
    "\n",
    "    doc = {\n",
    "        '_id': bm['_id'],\n",
    "        'no_mod': {\n",
    "            'total': total_nm.tolist(),\n",
    "            'n_pass': n_pass_nm.tolist()\n",
    "        },\n",
    "        'all_scores': {\n",
    "            'total': total_unfiltered.tolist(),\n",
    "            'n_pass': n_pass_unfiltered.tolist()\n",
    "        }\n",
    "    }\n",
    "\n",
    "    osu_db['beatmap_criteria_curve'].insert(doc)"
   ]
  },
  {
   "cell_type": "code",
   "execution_count": 8,
   "metadata": {
    "cell_id": "00003-ef1e173e-1798-40a9-9402-ec6f5faa560a",
    "deepnote_cell_type": "code",
    "deepnote_to_be_reexecuted": false,
    "execution_millis": 8088,
    "execution_start": 1614829612819,
    "source_hash": "d5f775e4"
   },
   "outputs": [],
   "source": [
    "top_bm = list(osu_db['osu_scores_high'].aggregate(bm_popularity_pipeline))"
   ]
  },
  {
   "cell_type": "code",
   "execution_count": 9,
   "metadata": {
    "cell_id": "00007-deab0150-9d90-491f-ad8b-2e87c062db1f",
    "deepnote_cell_type": "code"
   },
   "outputs": [
    {
     "name": "stderr",
     "output_type": "stream",
     "text": [
      "  0%|          | 0/3000 [00:08<?, ?it/s]\n"
     ]
    },
    {
     "ename": "NameError",
     "evalue": "name 'scores_unfiltered' is not defined",
     "output_type": "error",
     "traceback": [
      "\u001b[0;31m---------------------------------------------------------------------------\u001b[0m",
      "\u001b[0;31mNameError\u001b[0m                                 Traceback (most recent call last)",
      "\u001b[0;32m<ipython-input-9-dfac25a7e505>\u001b[0m in \u001b[0;36m<module>\u001b[0;34m\u001b[0m\n\u001b[1;32m      1\u001b[0m \u001b[0;32mfor\u001b[0m \u001b[0mbm\u001b[0m \u001b[0;32min\u001b[0m \u001b[0mtqdm\u001b[0m\u001b[0;34m(\u001b[0m\u001b[0mtop_bm\u001b[0m\u001b[0;34m[\u001b[0m\u001b[0;34m:\u001b[0m\u001b[0;36m3000\u001b[0m\u001b[0;34m]\u001b[0m\u001b[0;34m)\u001b[0m\u001b[0;34m:\u001b[0m\u001b[0;34m\u001b[0m\u001b[0;34m\u001b[0m\u001b[0m\n\u001b[0;32m----> 2\u001b[0;31m     \u001b[0mto_criteria_curve_doc\u001b[0m\u001b[0;34m(\u001b[0m\u001b[0mbm\u001b[0m\u001b[0;34m[\u001b[0m\u001b[0;34m'_id'\u001b[0m\u001b[0;34m]\u001b[0m\u001b[0;34m)\u001b[0m\u001b[0;34m\u001b[0m\u001b[0;34m\u001b[0m\u001b[0m\n\u001b[0m",
      "\u001b[0;32m<ipython-input-7-791f9f9dfb46>\u001b[0m in \u001b[0;36mto_criteria_curve_doc\u001b[0;34m(bm_id)\u001b[0m\n\u001b[1;32m     23\u001b[0m \u001b[0;34m\u001b[0m\u001b[0m\n\u001b[1;32m     24\u001b[0m     \u001b[0mtotal_nm\u001b[0m\u001b[0;34m,\u001b[0m \u001b[0mn_pass_nm\u001b[0m \u001b[0;34m=\u001b[0m \u001b[0mcriteria_curve\u001b[0m\u001b[0;34m(\u001b[0m\u001b[0mscores_nm\u001b[0m\u001b[0;34m)\u001b[0m\u001b[0;34m\u001b[0m\u001b[0;34m\u001b[0m\u001b[0m\n\u001b[0;32m---> 25\u001b[0;31m     \u001b[0mtotal_unfiltered\u001b[0m\u001b[0;34m,\u001b[0m \u001b[0mn_pass_unfiltered\u001b[0m \u001b[0;34m=\u001b[0m \u001b[0mcriteria_curve\u001b[0m\u001b[0;34m(\u001b[0m\u001b[0mscores_unfiltered\u001b[0m\u001b[0;34m)\u001b[0m\u001b[0;34m\u001b[0m\u001b[0;34m\u001b[0m\u001b[0m\n\u001b[0m\u001b[1;32m     26\u001b[0m \u001b[0;34m\u001b[0m\u001b[0m\n\u001b[1;32m     27\u001b[0m     doc = {\n",
      "\u001b[0;31mNameError\u001b[0m: name 'scores_unfiltered' is not defined"
     ]
    }
   ],
   "source": [
    "for bm in tqdm(top_bm[:3000]):\n",
    "    to_criteria_curve_doc(bm['_id'])"
   ]
  },
  {
   "cell_type": "code",
   "execution_count": null,
   "metadata": {
    "cell_id": "00009-b9412049-53ac-4e74-ad87-598c3b95445f",
    "deepnote_cell_type": "code"
   },
   "outputs": [],
   "source": [
    "total, n_pass = np.zeros(INTERVALS), np.zeros(INTERVALS)\n",
    "\n",
    "for i in range(INTERVALS):\n",
    "    b = i * PP_INTERVAL\n",
    "\n",
    "    for j in range(len(est_pp)):\n",
    "        if b < est_pp[j] < b + PP_RANGE:\n",
    "            total[i] += 1\n",
    "            n_pass[i] += criteria_pass[j]"
   ]
  }
 ],
 "metadata": {
  "deepnote": {},
  "deepnote_execution_queue": [],
  "deepnote_notebook_id": "15548394-a2d9-450e-9c9c-a753440d6e85",
  "kernelspec": {
   "display_name": "dsu-mlpp-env",
   "language": "python",
   "name": "dsu-mlpp-env"
  },
  "language_info": {
   "codemirror_mode": {
    "name": "ipython",
    "version": 3
   },
   "file_extension": ".py",
   "mimetype": "text/x-python",
   "name": "python",
   "nbconvert_exporter": "python",
   "pygments_lexer": "ipython3",
   "version": "3.8.5"
  }
 },
 "nbformat": 4,
 "nbformat_minor": 4
}
