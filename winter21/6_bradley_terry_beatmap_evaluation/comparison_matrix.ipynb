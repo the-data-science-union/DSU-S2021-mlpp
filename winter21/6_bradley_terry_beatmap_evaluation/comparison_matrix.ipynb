{
 "cells": [
  {
   "cell_type": "code",
   "execution_count": null,
   "metadata": {},
   "outputs": [],
   "source": [
    "import sys\n",
    "sys.path.append('../..')\n",
    "from config import client\n",
    "\n",
    "from pymongo import UpdateOne\n",
    "from tqdm import tqdm\n",
    "from mlpp.data_modeling.bradley_terry import beatmap_comparisons\n",
    "\n",
    "from mlpp.data_collection.sample import ScoresSubset"
   ]
  },
  {
   "cell_type": "code",
   "execution_count": null,
   "metadata": {},
   "outputs": [],
   "source": [
    "osu_db = client['osu_random_db']\n",
    "sample_3k = ScoresSubset(osu_db['scores_sample_3k'], osu_db['users_sample_3k'])"
   ]
  },
  {
   "cell_type": "code",
   "execution_count": null,
   "metadata": {},
   "outputs": [],
   "source": [
    "user_ids = [u['_id'] for u in sample_3k.user_stats.find({}, {'_id': 1})]"
   ]
  },
  {
   "cell_type": "code",
   "execution_count": null,
   "metadata": {},
   "outputs": [],
   "source": [
    "comps = []\n",
    "for user_id in tqdm(user_ids):\n",
    "    player_comps = beatmap_comparisons(sample_3k, user_id)\n",
    "    if player_comps != None:\n",
    "        comps.extend(player_comps)\n",
    "    else:\n",
    "        print(f'Error extracting comparisons from {user_id}')"
   ]
  }
 ],
 "metadata": {
  "kernelspec": {
   "display_name": "dsu-mlpp-env",
   "language": "python",
   "name": "dsu-mlpp-env"
  },
  "language_info": {
   "codemirror_mode": {
    "name": "ipython",
    "version": 3
   },
   "file_extension": ".py",
   "mimetype": "text/x-python",
   "name": "python",
   "nbconvert_exporter": "python",
   "pygments_lexer": "ipython3",
   "version": "3.8.5"
  }
 },
 "nbformat": 4,
 "nbformat_minor": 4
}
