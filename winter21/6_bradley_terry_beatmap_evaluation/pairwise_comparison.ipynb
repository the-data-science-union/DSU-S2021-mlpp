{
 "cells": [
  {
   "cell_type": "code",
   "execution_count": 1,
   "metadata": {},
   "outputs": [],
   "source": [
    "import sys\n",
    "sys.path.append('../..')\n",
    "\n",
    "import choix\n",
    "import numpy as np\n",
    "import pandas as pd\n",
    "import seaborn as sns\n",
    "from matplotlib import pyplot as plt\n",
    "\n",
    "from config import client\n",
    "from mlpp.data_modeling.bradley_terry import prepare_comparisons, beatmap_frequency"
   ]
  },
  {
   "cell_type": "code",
   "execution_count": 75,
   "metadata": {},
   "outputs": [],
   "source": [
    "osu_db = client['osu_random_db']\n",
    "comps = np.load(\"comparisons_3k.npy\")\n",
    "MATRIX_SIZE = 100"
   ]
  },
  {
   "cell_type": "code",
   "execution_count": 76,
   "metadata": {},
   "outputs": [],
   "source": [
    "freqs = beatmap_frequency(comps).T\n",
    "top_ids = freqs[0][:MATRIX_SIZE]\n",
    "\n",
    "index_comps, index = prepare_comparisons(comps, beatmaps=top_ids)"
   ]
  },
  {
   "cell_type": "code",
   "execution_count": 77,
   "metadata": {},
   "outputs": [],
   "source": [
    "bms = list(osu_db['osu_beatmaps'].find({'_id': {'$in': top_ids.tolist()}}))\n",
    "bms.sort(key = lambda bm: index[bm['_id']])\n",
    "\n",
    "star_diffs = np.fromiter(map(lambda bm: bm['difficultyrating'], bms), dtype='float64')"
   ]
  },
  {
   "cell_type": "code",
   "execution_count": 78,
   "metadata": {},
   "outputs": [],
   "source": [
    "params = choix.lsr_pairwise(MATRIX_SIZE, index_comps, alpha=.0001)"
   ]
  },
  {
   "cell_type": "code",
   "execution_count": 79,
   "metadata": {},
   "outputs": [],
   "source": [
    "min_delta = np.min(star_diffs) - np.min(params)\n",
    "bt_diffs = params + min_delta"
   ]
  },
  {
   "cell_type": "code",
   "execution_count": 96,
   "metadata": {},
   "outputs": [
    {
     "data": {
      "application/vnd.jupyter.widget-view+json": {
       "model_id": "22ae5633ff174c4da18f222f1b9349c2",
       "version_major": 2,
       "version_minor": 0
      },
      "text/plain": [
       "Canvas(toolbar=Toolbar(toolitems=[('Home', 'Reset original view', 'home', 'home'), ('Back', 'Back to previous …"
      ]
     },
     "metadata": {},
     "output_type": "display_data"
    }
   ],
   "source": [
    "%matplotlib widget\n",
    "_ = plt.hist(star_diffs, bins = 50, alpha = .8)\n",
    "_ = plt.hist(bt_diffs, bins = 50, alpha = .8)"
   ]
  },
  {
   "cell_type": "code",
   "execution_count": 69,
   "metadata": {},
   "outputs": [],
   "source": [
    "for i in range(MATRIX_SIZE):\n",
    "    bms[i]['bt_diff'] = bt_diffs[i]\n",
    "df = pd.DataFrame(bms)\n",
    "df.rename(columns = {'difficultyrating':'star_diff'}, inplace = True)"
   ]
  },
  {
   "cell_type": "code",
   "execution_count": 70,
   "metadata": {},
   "outputs": [],
   "source": [
    "df_slice = df[[\"_id\", \"filename\", \"star_diff\", \"bt_diff\"]]"
   ]
  },
  {
   "cell_type": "code",
   "execution_count": 71,
   "metadata": {},
   "outputs": [
    {
     "data": {
      "text/html": [
       "<div>\n",
       "<style scoped>\n",
       "    .dataframe tbody tr th:only-of-type {\n",
       "        vertical-align: middle;\n",
       "    }\n",
       "\n",
       "    .dataframe tbody tr th {\n",
       "        vertical-align: top;\n",
       "    }\n",
       "\n",
       "    .dataframe thead th {\n",
       "        text-align: right;\n",
       "    }\n",
       "</style>\n",
       "<table border=\"1\" class=\"dataframe\">\n",
       "  <thead>\n",
       "    <tr style=\"text-align: right;\">\n",
       "      <th></th>\n",
       "      <th>_id</th>\n",
       "      <th>filename</th>\n",
       "      <th>star_diff</th>\n",
       "      <th>bt_diff</th>\n",
       "    </tr>\n",
       "  </thead>\n",
       "  <tbody>\n",
       "    <tr>\n",
       "      <th>0</th>\n",
       "      <td>1892353</td>\n",
       "      <td>Koda Kumi - Guess Who Is Back (TV Size) (Sotar...</td>\n",
       "      <td>3.52259</td>\n",
       "      <td>3.783101</td>\n",
       "    </tr>\n",
       "    <tr>\n",
       "      <th>1</th>\n",
       "      <td>737284</td>\n",
       "      <td>Stonebank - The Pressure (Asserin) [Light Insa...</td>\n",
       "      <td>3.89490</td>\n",
       "      <td>3.683881</td>\n",
       "    </tr>\n",
       "    <tr>\n",
       "      <th>2</th>\n",
       "      <td>872455</td>\n",
       "      <td>toby fox - Hopes and Dreams (pkk) [Hard].osu</td>\n",
       "      <td>2.99997</td>\n",
       "      <td>2.280757</td>\n",
       "    </tr>\n",
       "    <tr>\n",
       "      <th>3</th>\n",
       "      <td>872456</td>\n",
       "      <td>toby fox - Hopes and Dreams (pkk) [Normal].osu</td>\n",
       "      <td>2.16526</td>\n",
       "      <td>1.962206</td>\n",
       "    </tr>\n",
       "    <tr>\n",
       "      <th>4</th>\n",
       "      <td>1572874</td>\n",
       "      <td>Helblinde - Putin's Boner (Sotarks) [Kin's Har...</td>\n",
       "      <td>3.55288</td>\n",
       "      <td>2.841478</td>\n",
       "    </tr>\n",
       "    <tr>\n",
       "      <th>...</th>\n",
       "      <td>...</td>\n",
       "      <td>...</td>\n",
       "      <td>...</td>\n",
       "      <td>...</td>\n",
       "    </tr>\n",
       "    <tr>\n",
       "      <th>995</th>\n",
       "      <td>1118196</td>\n",
       "      <td>Porter Robinson &amp; Madeon - Shelter (Monstrata)...</td>\n",
       "      <td>4.37942</td>\n",
       "      <td>4.669754</td>\n",
       "    </tr>\n",
       "    <tr>\n",
       "      <th>996</th>\n",
       "      <td>847863</td>\n",
       "      <td>Feint - Tower Of Heaven (You Are Slaves) (eLy)...</td>\n",
       "      <td>3.30733</td>\n",
       "      <td>1.827098</td>\n",
       "    </tr>\n",
       "    <tr>\n",
       "      <th>997</th>\n",
       "      <td>172024</td>\n",
       "      <td>Avicii - Levels (Nightcore Mix) (Kiyro) [Riki'...</td>\n",
       "      <td>1.83799</td>\n",
       "      <td>1.759087</td>\n",
       "    </tr>\n",
       "    <tr>\n",
       "      <th>998</th>\n",
       "      <td>1992698</td>\n",
       "      <td>LiSA - Gurenge (TV Size) (xChippy) [Hard].osu</td>\n",
       "      <td>3.04237</td>\n",
       "      <td>5.191350</td>\n",
       "    </tr>\n",
       "    <tr>\n",
       "      <th>999</th>\n",
       "      <td>778239</td>\n",
       "      <td>Doma Umaru [CV.Tanaka Aimi] - KakushintekiMeta...</td>\n",
       "      <td>3.33668</td>\n",
       "      <td>4.425743</td>\n",
       "    </tr>\n",
       "  </tbody>\n",
       "</table>\n",
       "<p>1000 rows × 4 columns</p>\n",
       "</div>"
      ],
      "text/plain": [
       "         _id                                           filename  star_diff  \\\n",
       "0    1892353  Koda Kumi - Guess Who Is Back (TV Size) (Sotar...    3.52259   \n",
       "1     737284  Stonebank - The Pressure (Asserin) [Light Insa...    3.89490   \n",
       "2     872455       toby fox - Hopes and Dreams (pkk) [Hard].osu    2.99997   \n",
       "3     872456     toby fox - Hopes and Dreams (pkk) [Normal].osu    2.16526   \n",
       "4    1572874  Helblinde - Putin's Boner (Sotarks) [Kin's Har...    3.55288   \n",
       "..       ...                                                ...        ...   \n",
       "995  1118196  Porter Robinson & Madeon - Shelter (Monstrata)...    4.37942   \n",
       "996   847863  Feint - Tower Of Heaven (You Are Slaves) (eLy)...    3.30733   \n",
       "997   172024  Avicii - Levels (Nightcore Mix) (Kiyro) [Riki'...    1.83799   \n",
       "998  1992698      LiSA - Gurenge (TV Size) (xChippy) [Hard].osu    3.04237   \n",
       "999   778239  Doma Umaru [CV.Tanaka Aimi] - KakushintekiMeta...    3.33668   \n",
       "\n",
       "      bt_diff  \n",
       "0    3.783101  \n",
       "1    3.683881  \n",
       "2    2.280757  \n",
       "3    1.962206  \n",
       "4    2.841478  \n",
       "..        ...  \n",
       "995  4.669754  \n",
       "996  1.827098  \n",
       "997  1.759087  \n",
       "998  5.191350  \n",
       "999  4.425743  \n",
       "\n",
       "[1000 rows x 4 columns]"
      ]
     },
     "execution_count": 71,
     "metadata": {},
     "output_type": "execute_result"
    }
   ],
   "source": [
    "df_slice"
   ]
  },
  {
   "cell_type": "code",
   "execution_count": 72,
   "metadata": {},
   "outputs": [
    {
     "data": {
      "application/vnd.jupyter.widget-view+json": {
       "model_id": "d83f87712ac5488fa823a48bd19e5e2b",
       "version_major": 2,
       "version_minor": 0
      },
      "text/plain": [
       "Canvas(toolbar=Toolbar(toolitems=[('Home', 'Reset original view', 'home', 'home'), ('Back', 'Back to previous …"
      ]
     },
     "metadata": {},
     "output_type": "display_data"
    },
    {
     "data": {
      "text/plain": [
       "<AxesSubplot:xlabel='star_diff', ylabel='bt_diff'>"
      ]
     },
     "execution_count": 72,
     "metadata": {},
     "output_type": "execute_result"
    }
   ],
   "source": [
    "%matplotlib widget\n",
    "sns.regplot(x=\"star_diff\", y=\"bt_diff\", data = df_slice,  scatter_kws={'s':5})"
   ]
  },
  {
   "cell_type": "code",
   "execution_count": 73,
   "metadata": {},
   "outputs": [
    {
     "data": {
      "text/plain": [
       "array([[1.        , 0.71831267],\n",
       "       [0.71831267, 1.        ]])"
      ]
     },
     "execution_count": 73,
     "metadata": {},
     "output_type": "execute_result"
    }
   ],
   "source": [
    "np.corrcoef(star_diffs, bt_diffs)"
   ]
  },
  {
   "cell_type": "code",
   "execution_count": 74,
   "metadata": {},
   "outputs": [
    {
     "data": {
      "application/vnd.jupyter.widget-view+json": {
       "model_id": "60337978e3ac45c48ccc820edaf97f03",
       "version_major": 2,
       "version_minor": 0
      },
      "text/plain": [
       "Canvas(toolbar=Toolbar(toolitems=[('Home', 'Reset original view', 'home', 'home'), ('Back', 'Back to previous …"
      ]
     },
     "metadata": {},
     "output_type": "display_data"
    },
    {
     "data": {
      "text/plain": [
       "<matplotlib.colorbar.Colorbar at 0x7fae7bf489a0>"
      ]
     },
     "execution_count": 74,
     "metadata": {},
     "output_type": "execute_result"
    }
   ],
   "source": [
    "%matplotlib widget\n",
    "m, b = np.polyfit(star_diffs, bt_diffs, 1)\n",
    "plt.scatter(x=star_diffs, y=bt_diffs, c=freqs[1][:MATRIX_SIZE], s=5, cmap=\"viridis_r\")\n",
    "plt.plot(star_diffs, m * star_diffs + b)\n",
    "plt.title(\"Diff for top 100 Beatmaps\")\n",
    "plt.xlabel(\"star_diff\")\n",
    "plt.ylabel(\"bt_diff\")\n",
    "plt.colorbar()"
   ]
  }
 ],
 "metadata": {
  "kernelspec": {
   "display_name": "dsu-mlpp-env",
   "language": "python",
   "name": "dsu-mlpp-env"
  },
  "language_info": {
   "codemirror_mode": {
    "name": "ipython",
    "version": 3
   },
   "file_extension": ".py",
   "mimetype": "text/x-python",
   "name": "python",
   "nbconvert_exporter": "python",
   "pygments_lexer": "ipython3",
   "version": "3.8.5"
  }
 },
 "nbformat": 4,
 "nbformat_minor": 4
}
