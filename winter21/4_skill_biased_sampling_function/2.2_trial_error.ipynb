{
 "cells": [
  {
   "cell_type": "code",
   "execution_count": 1,
   "metadata": {},
   "outputs": [],
   "source": [
    "import sys\n",
    "sys.path.append('../..')\n",
    "import numpy as np\n",
    "import pandas as pd\n",
    "import matplotlib.pyplot as plt\n",
    "from scipy import stats as st\n",
    "from random import random\n",
    "from datetime import datetime\n",
    "from tqdm import tqdm\n",
    "\n",
    "from config import client\n",
    "from mlpp.data_collection import curve_utils\n",
    "from mlpp.data_collection.sample import ScoresSubset\n",
    "from mlpp.data_collection.sample_func import displacement_err, SampleConfig, SampleFunctionGenerator as SFG"
   ]
  },
  {
   "cell_type": "code",
   "execution_count": 23,
   "metadata": {},
   "outputs": [],
   "source": [
    "NUM_BINS = 200\n",
    "MAX_PP = 20000\n",
    "DATE_LIMIT = datetime(2019,1,1)\n",
    "SAMPLE_CONFIG = SampleConfig(date_limit = DATE_LIMIT, max_pp = MAX_PP, n_bins = NUM_BINS)"
   ]
  },
  {
   "cell_type": "code",
   "execution_count": 158,
   "metadata": {},
   "outputs": [],
   "source": [
    "osu_db = client['osu_random_db']\n",
    "val_db = client['val_random_db']\n",
    "subset_3k = ScoresSubset(osu_db.osu_scores_high, osu_db.osu_user_stats)\n",
    "# subset_3k = ScoresSubset(val_db.osu_scores_high, val_db.osu_user_stats)"
   ]
  },
  {
   "cell_type": "code",
   "execution_count": 232,
   "metadata": {},
   "outputs": [],
   "source": [
    "a = -7\n",
    "get_b = lambda x: (np.log(2-x) - a) / x / 20000"
   ]
  },
  {
   "cell_type": "code",
   "execution_count": 233,
   "metadata": {},
   "outputs": [],
   "source": [
    "def linear_exp(a, b, x):\n",
    "    return np.exp(a + b * x)"
   ]
  },
  {
   "cell_type": "code",
   "execution_count": 234,
   "metadata": {},
   "outputs": [],
   "source": [
    "S = .5\n",
    "\n",
    "b = get_b(S)\n",
    "f = lambda x: linear_exp(a, b, x)"
   ]
  },
  {
   "cell_type": "code",
   "execution_count": 235,
   "metadata": {},
   "outputs": [],
   "source": [
    "data = subset_3k.simulate(f, SAMPLE_CONFIG)"
   ]
  },
  {
   "cell_type": "code",
   "execution_count": 236,
   "metadata": {},
   "outputs": [
    {
     "data": {
      "text/plain": [
       "138047"
      ]
     },
     "execution_count": 236,
     "metadata": {},
     "output_type": "execute_result"
    }
   ],
   "source": [
    "len(data)"
   ]
  },
  {
   "cell_type": "code",
   "execution_count": 237,
   "metadata": {},
   "outputs": [
    {
     "data": {
      "text/plain": [
       "(array([1740., 1277., 1257., 1172., 1473., 1090., 1489., 1768., 2295.,\n",
       "        2220., 2456., 2110., 3066., 2340., 2232., 2278., 2548., 3327.,\n",
       "        2712., 2944., 3083., 3798., 5670., 4616., 3721., 5113., 3552.,\n",
       "        5783., 4912., 2647., 4257., 4223., 5328., 6597., 4596., 2783.,\n",
       "        2195., 6985., 5270., 1542., 2242., 1309., 2012., 1016.,  557.,\n",
       "         237.,  512.,  623.,  808.,  266.]),\n",
       " array([2.50000020e-01, 2.44570671e+02, 4.88891341e+02, 7.33212012e+02,\n",
       "        9.77532682e+02, 1.22185335e+03, 1.46617402e+03, 1.71049469e+03,\n",
       "        1.95481536e+03, 2.19913603e+03, 2.44345670e+03, 2.68777738e+03,\n",
       "        2.93209805e+03, 3.17641872e+03, 3.42073939e+03, 3.66506006e+03,\n",
       "        3.90938073e+03, 4.15370140e+03, 4.39802207e+03, 4.64234274e+03,\n",
       "        4.88666341e+03, 5.13098408e+03, 5.37530475e+03, 5.61962542e+03,\n",
       "        5.86394609e+03, 6.10826676e+03, 6.35258743e+03, 6.59690810e+03,\n",
       "        6.84122877e+03, 7.08554944e+03, 7.32987011e+03, 7.57419079e+03,\n",
       "        7.81851146e+03, 8.06283213e+03, 8.30715280e+03, 8.55147347e+03,\n",
       "        8.79579414e+03, 9.04011481e+03, 9.28443548e+03, 9.52875615e+03,\n",
       "        9.77307682e+03, 1.00173975e+04, 1.02617182e+04, 1.05060388e+04,\n",
       "        1.07503595e+04, 1.09946802e+04, 1.12390008e+04, 1.14833215e+04,\n",
       "        1.17276422e+04, 1.19719629e+04, 1.22162835e+04]),\n",
       " <BarContainer object of 50 artists>)"
      ]
     },
     "execution_count": 237,
     "metadata": {},
     "output_type": "execute_result"
    },
    {
     "data": {
      "image/png": "[encoded data removed]",
      "text/plain": [
       "<Figure size 432x288 with 1 Axes>"
      ]
     },
     "metadata": {
      "needs_background": "light"
     },
     "output_type": "display_data"
    }
   ],
   "source": [
    "plt.hist(data, bins= 50)"
   ]
  },
  {
   "cell_type": "code",
   "execution_count": 165,
   "metadata": {},
   "outputs": [
    {
     "data": {
      "text/plain": [
       "0.20781434793896214"
      ]
     },
     "execution_count": 165,
     "metadata": {},
     "output_type": "execute_result"
    }
   ],
   "source": [
    "displacement_err(data)"
   ]
  },
  {
   "cell_type": "code",
   "execution_count": null,
   "metadata": {},
   "outputs": [],
   "source": []
  }
 ],
 "metadata": {
  "kernelspec": {
   "display_name": "dsu-mlpp-env",
   "language": "python",
   "name": "dsu-mlpp-env"
  },
  "language_info": {
   "codemirror_mode": {
    "name": "ipython",
    "version": 3
   },
   "file_extension": ".py",
   "mimetype": "text/x-python",
   "name": "python",
   "nbconvert_exporter": "python",
   "pygments_lexer": "ipython3",
   "version": "3.8.5"
  }
 },
 "nbformat": 4,
 "nbformat_minor": 4
}
