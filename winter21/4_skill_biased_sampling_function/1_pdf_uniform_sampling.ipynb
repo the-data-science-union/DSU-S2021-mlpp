{
  "cells": [
    {
      "cell_type": "markdown",
      "source": "# Naive Sampling function - Sample with uniform estimate user pp scores\n**Contributors:** Victor Lin",
      "metadata": {
        "cell_id": "00000-706a700c-462a-4bfe-8f2b-1b19e4d1fd1d",
        "deepnote_cell_type": "markdown"
      }
    },
    {
      "cell_type": "code",
      "metadata": {
        "cell_id": "00001-e361b6a2-251c-4f27-8a74-83a272369236",
        "deepnote_cell_type": "code"
      },
      "source": "import sys\nsys.path.append('../..')\nfrom datetime import datetime\nimport matplotlib.pyplot as plt\nimport numpy as np\nimport scipy.stats as st\nfrom exploration.config import mongo_inst\nfrom mlpp.data_collection.sample import use_random_sample, get_custom_user_ids\nfrom mlpp.data_collection.sample_func import sampleFuncGenerator\nfrom mlpp.data_collection.distributions import best_fit_distribution\n\nimport logging\nlogger = logging.getLogger()\nlogger.setLevel(logging.DEBUG)",
      "execution_count": null,
      "outputs": []
    },
    {
      "cell_type": "code",
      "metadata": {
        "cell_id": "00002-bde001a2-48d2-4909-a13a-7a771b904dd6",
        "deepnote_cell_type": "code"
      },
      "source": "osu_random_db = mongo_inst['osu_random_db']\n\nosu_dump = (osu_random_db['osu_scores_high'], osu_random_db['osu_user_stats'])\nosu_scores_high, osu_user_stats = osu_dump\n\npdf_dump = (osu_random_db['scores_sample_3k'], osu_random_db['users_sample_3k'])\npdf_scores_sample, pdf_users_sample = pdf_dump\n\nDATE_LIMIT = datetime(2019,1,1)\n\ngenerator = sampleFuncGenerator(date_limit = DATE_LIMIT)",
      "execution_count": null,
      "outputs": []
    },
    {
      "cell_type": "code",
      "metadata": {
        "cell_id": "00003-1248dbf0-c75e-496b-9715-e006805ee282",
        "deepnote_cell_type": "code"
      },
      "source": "user_ids = use_random_sample(*osu_dump, *pdf_dump, 3000)",
      "execution_count": null,
      "outputs": []
    },
    {
      "cell_type": "code",
      "metadata": {
        "cell_id": "00004-a7a1894a-373c-472b-9ca8-a1e9ab50820c",
        "deepnote_cell_type": "code"
      },
      "source": "scores = list(pdf_scores_sample.find({'date': {'$gt': DATE_LIMIT}}, {'mlpp': 1, '_id': 0}))\n\npp_data_raw = [s['mlpp']['est_user_raw_pp'] for s in scores]\npp_data = [s['mlpp']['est_user_pp'] for s in scores]",
      "execution_count": null,
      "outputs": []
    },
    {
      "cell_type": "code",
      "metadata": {
        "cell_id": "00005-860c8119-a338-48b8-b8f3-043a4332ca35",
        "deepnote_cell_type": "code"
      },
      "source": "fig, axs = plt.subplots(1, 2)\nfig.set_figwidth(15)\n_ = axs[0].hist(pp_data_raw, bins = 200)\n_ = axs[1].hist(pp_data, bins = 200)",
      "execution_count": null,
      "outputs": []
    },
    {
      "cell_type": "code",
      "metadata": {
        "cell_id": "00006-41cecc04-0a31-442e-a47f-6e411e118ebf",
        "deepnote_cell_type": "code"
      },
      "source": "# best_dist, best_params = best_fit_distribution(pp_data)\n\nbest_dist = st.recipinvgauss\nbest_params = best_dist.fit(pp_data)",
      "execution_count": null,
      "outputs": []
    },
    {
      "cell_type": "code",
      "metadata": {
        "cell_id": "00007-b532a21b-b2d5-4cd7-9c2b-b3f7a30c2cd5",
        "deepnote_cell_type": "code"
      },
      "source": "arg = best_params[:-2]\nloc = best_params[-2]\nscale = best_params[-1]\npdf = lambda i: best_dist.pdf(i, loc=loc, scale=scale, *arg)",
      "execution_count": null,
      "outputs": []
    },
    {
      "cell_type": "code",
      "metadata": {
        "cell_id": "00008-e8d53849-3804-4606-aa35-0400d439592f",
        "deepnote_cell_type": "code"
      },
      "source": "plt.figure(figsize=(10,6))\n\nest_pp_pdf = best_dist.pdf(np.arange(1, 7000), loc=loc, scale=scale, *arg)\n\n_ = plt.hist(pp_data, bins = 200, density=True)\n_ = plt.plot(est_pp_pdf)",
      "execution_count": null,
      "outputs": []
    },
    {
      "cell_type": "code",
      "metadata": {
        "cell_id": "00009-ace0cfd7-b50d-4737-b94e-e734cb7b1c6a",
        "deepnote_cell_type": "code"
      },
      "source": "SAMPLE_PROPORTIONS = np.asarray([.01, .02, .05, .1])\npcnts = [int(prop * 100) for prop in SAMPLE_PROPORTIONS]\n\nsample_funcs = [generator.pdf(pdf_scores_sample, st.recipinvgauss, prop) for prop in SAMPLE_PROPORTIONS]",
      "execution_count": null,
      "outputs": []
    },
    {
      "cell_type": "code",
      "metadata": {
        "cell_id": "00010-9b08b056-24ae-4c4d-b92f-1186bc8a2e4d",
        "deepnote_cell_type": "code"
      },
      "source": "for i, f in enumerate(sample_funcs):\n    plt.plot(f, label = f'{pcnts[i]}%')\n\n_ = plt.legend(loc='upper left')",
      "execution_count": null,
      "outputs": []
    },
    {
      "cell_type": "code",
      "metadata": {
        "cell_id": "00011-ee1c1151-1a7c-4b5e-88de-7c944d6b5404",
        "deepnote_cell_type": "code"
      },
      "source": "def test_pcnt_sampled(sample_func):\n    sampled_users = get_custom_user_ids(osu_user_stats, sample_func)\n\n    sampled_scores = osu_scores_high.find({\n            'user_id': {\n                '$in': sampled_users\n            },\n            'date': {\n                '$gt': DATE_LIMIT\n            }\n    }, {'mlpp.est_user_pp': 1})\n\n    return sampled_scores.count() / osu_scores_high.count()",
      "execution_count": null,
      "outputs": []
    },
    {
      "cell_type": "code",
      "metadata": {
        "cell_id": "00012-c5b29c09-ff5a-4d06-8b1d-83954a0e6f1c",
        "deepnote_cell_type": "code"
      },
      "source": "from tqdm import tqdm\npcnt_1_avg_of_expected = sum(test_pcnt_sampled(sample_funcs[0]) / .01 for i in tqdm(range(10))) / 10\npcnt_2_avg_of_expected = sum(test_pcnt_sampled(sample_funcs[1]) / .02 for i in tqdm(range(10))) / 10\n\nprint(f'\\n\\nProportion of expected 1%: {pcnt_1_avg_of_expected:.2f}')\nprint(f'Proportion of expected 2%: {pcnt_2_avg_of_expected:.2f}')",
      "execution_count": null,
      "outputs": []
    },
    {
      "cell_type": "code",
      "metadata": {
        "cell_id": "00013-52b02d01-28ac-4286-9a27-37d35fb0053f",
        "deepnote_cell_type": "code"
      },
      "source": "PROP_BONUS_FACTOR = 1 / pcnt_1_avg_of_expected\nSAMPLE_PROPORTIONS *= PROP_BONUS_FACTOR\n\nsample_funcs = [sampleFuncGenerator().pdf(pdf_scores_sample, st.recipinvgauss, prop) for prop in SAMPLE_PROPORTIONS]",
      "execution_count": null,
      "outputs": []
    },
    {
      "cell_type": "code",
      "metadata": {
        "cell_id": "00014-bd9ff935-fc59-4efa-a377-97d7ada29bb0",
        "deepnote_cell_type": "code"
      },
      "source": "samples = []\n\nfor i, f in enumerate(sample_funcs):\n    samples.append(generator.test_sample_func(*osu_dump, sample_funcs[i]))\n\n    scores = samples[-1][0]\n    pcnt_scores = 100 * len(scores) / osu_scores_high.count()\n    print(f\"{pcnts[i]}% Sampling: {pcnt_scores:.2f}% sampled\")\n\nscore_pp = [[s['mlpp']['est_user_pp'] for s in sc] for sc, u in samples]",
      "execution_count": null,
      "outputs": []
    },
    {
      "cell_type": "code",
      "metadata": {
        "cell_id": "00015-9dd5f49e-bdc9-4379-b865-533a61b11691",
        "deepnote_cell_type": "code"
      },
      "source": "fig, axs = plt.subplots(4, figsize=(6, 18))\n\nfor i in range(len(SAMPLE_PROPORTIONS)):\n    ax = axs[i]\n    ax.hist(score_pp[i], bins = 50, label = f'{pcnts[i]}%', density = True)\n    ax.plot([0, 7000], [1/7000, 1/7000])\n    ax.set(xlabel = \"Proportion\", ylabel=\"Score est pp\")\n    ax.set_title(f'{pcnts[i]}% Sample')\n\n_ = plt.tight_layout()",
      "execution_count": null,
      "outputs": []
    },
    {
      "cell_type": "markdown",
      "source": "<a style='text-decoration:none;line-height:16px;display:flex;color:#5B5B62;padding:10px;justify-content:end;' href='https://deepnote.com?utm_source=created-in-deepnote-cell&projectId=f93d0822-db5a-47ef-9a78-57b8adfbeb20' target=\"_blank\">\n<img style='display:inline;max-height:16px;margin:0px;margin-right:7.5px;' src='data:image/svg+xml;base64,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' > </img>\nCreated in <span style='font-weight:600;margin-left:4px;'>Deepnote</span></a>",
      "metadata": {
        "tags": [],
        "created_in_deepnote_cell": true,
        "deepnote_cell_type": "markdown"
      }
    }
  ],
  "nbformat": 4,
  "nbformat_minor": 2,
  "metadata": {
    "kernelspec": {
      "display_name": "Python 3",
      "language": "python",
      "name": "python3"
    },
    "language_info": {
      "codemirror_mode": {
        "name": "ipython"
      },
      "file_extension": ".py",
      "mimetype": "text/x-python",
      "name": "python",
      "nbconvert_exporter": "python"
    },
    "deepnote_notebook_id": "1417ec27-7092-46b0-b574-e1d8b5cdbefb",
    "deepnote": {},
    "deepnote_execution_queue": []
  }
}