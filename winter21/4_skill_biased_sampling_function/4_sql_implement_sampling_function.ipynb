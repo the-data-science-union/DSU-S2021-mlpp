{
 "cells": [
  {
   "cell_type": "code",
   "execution_count": 3,
   "metadata": {
    "cell_id": "00000-3735e6a5-457b-4f04-ba1f-3f3e0e823f36",
    "deepnote_cell_type": "code"
   },
   "outputs": [],
   "source": [
    "import sys\n",
    "sys.path.append('../..')\n",
    "\n",
    "import numpy as np\n",
    "from config import client\n",
    "from mlpp.data_collection.sample import ScoresSubset"
   ]
  },
  {
   "cell_type": "code",
   "execution_count": 4,
   "metadata": {
    "cell_id": "00001-2f4bd641-d476-40a9-9002-4df5a8469a64",
    "deepnote_cell_type": "code"
   },
   "outputs": [],
   "source": [
    " val_random_db = client['val_random_db']\n",
    " val_subset = ScoresSubset(val_random_db['osu_scores_high'], val_random_db['osu_user_stats'])"
   ]
  },
  {
   "cell_type": "code",
   "execution_count": null,
   "metadata": {
    "cell_id": "00004-c5751025-883d-426a-a92a-53346371b5b6",
    "deepnote_cell_type": "code"
   },
   "outputs": [],
   "source": [
    "with sql_inst('osu_random_2021_02') as conn:\n",
    "    with conn.cursor() as cursor:\n",
    "        cursor.execute(\n",
    "            '''\n",
    "            DROP TABLE IF EXISTS sample_func;\n",
    "            CREATE TABLE sample_func  (user_pp INT PRIMARY KEY, probability FLOAT NOT NULL);\n",
    "            ALTER TABLE sample_func AUTO_INCREMENT=100;\n",
    "            '''\n",
    "        )\n",
    "    conn.commit()\n",
    "\n",
    "    with conn.cursor() as cursor:\n",
    "        cursor.executemany(\n",
    "            '''\n",
    "            INSERT INTO sample_func VALUES\n",
    "            (%s, %s)\n",
    "            '''\n",
    "        , values)\n",
    "    conn.commit()"
   ]
  },
  {
   "cell_type": "code",
   "execution_count": null,
   "metadata": {
    "cell_id": "00005-6fb55cdb-1300-4b59-bb1a-c81d6dc45be2",
    "deepnote_cell_type": "code"
   },
   "outputs": [],
   "source": [
    "from datetime import datetime\n",
    "from mlpp.data_collection.sample_func import sampleFuncGenerator\n",
    "\n",
    "with sql_inst('osu_random_2021_02') as conn:\n",
    "    with conn.cursor() as cursor:\n",
    "        cursor.execute(\n",
    "            '''\n",
    "            SELECT * FROM osu_user_stats\n",
    "            WHERE rank_score < 7000 AND RAND() <= (\n",
    "                SELECT probability FROM sample_func\n",
    "                WHERE user_pp = FLOOR(rank_score)\n",
    "                LIMIT 1\n",
    "            )\n",
    "            '''\n",
    "        )\n",
    "\n",
    "        sampled_users = [u[0] for u in cursor]\n",
    "        print(sampled_users)\n",
    "\n",
    "        sampled_scores = list(\n",
    "            mongo_inst['val_random_db']['osu_scores_high'].find({\n",
    "                'user_id': {\n",
    "                    '$in': sampled_users\n",
    "                },\n",
    "                'date': {\n",
    "                    '$gt': datetime(2019, 1, 1)\n",
    "                }\n",
    "            }, {'mlpp.est_user_pp': 1})\n",
    "        )\n",
    "\n",
    "        data = list(map(lambda s: s['mlpp']['est_user_pp'],sampled_scores))\n",
    "\n",
    "        print(sampleFuncGenerator.prop_displaced(data))\n",
    "    "
   ]
  },
  {
   "cell_type": "code",
   "execution_count": null,
   "metadata": {
    "cell_id": "00006-fc7046b9-793d-47ea-823a-feba30215925",
    "deepnote_cell_type": "code"
   },
   "outputs": [],
   "source": [
    "NUM_BINS = 200\n",
    "MAX_PP = 7000\n",
    "DATE_LIMIT = datetime(2019,1,1)\n",
    "\n",
    "generator = sampleFuncGenerator(date_limit = DATE_LIMIT, max_pp = MAX_PP, n_bins = NUM_BINS)"
   ]
  },
  {
   "cell_type": "code",
   "execution_count": null,
   "metadata": {
    "cell_id": "00007-585d5046-87cc-4b77-a7b5-a7cfeddf6dc6",
    "deepnote_cell_type": "code"
   },
   "outputs": [],
   "source": [
    "def simulate_fit(fit, dump = osu_dump):\n",
    "    sc, _ = generator.simulate(*dump, fit)\n",
    "    score_pp = list(map(lambda s: s['mlpp']['est_user_pp'], sc))\n",
    "    return score_pp"
   ]
  },
  {
   "cell_type": "code",
   "execution_count": null,
   "metadata": {
    "cell_id": "00008-162ab2de-90f9-42eb-bf01-aaa5e13c967a",
    "deepnote_cell_type": "code"
   },
   "outputs": [],
   "source": [
    "sample = simulate_fit(greedy_func, val_dump)\n",
    "cap = len(sample) / 50"
   ]
  },
  {
   "cell_type": "code",
   "execution_count": null,
   "metadata": {
    "cell_id": "00009-e6764c36-3c13-465a-8554-ce5df36bc57c",
    "deepnote_cell_type": "code"
   },
   "outputs": [],
   "source": [
    "len(sample)/ val_dump[0].count()"
   ]
  },
  {
   "cell_type": "code",
   "execution_count": null,
   "metadata": {
    "cell_id": "00010-c907964e-9193-47cc-a4c9-c3e25a3ec41b",
    "deepnote_cell_type": "code"
   },
   "outputs": [],
   "source": [
    "users_7k_up = [u['_id'] for u in val_dump[1].find({'rank_score': {'$gt': 7000}}, {'_id': 1})]"
   ]
  },
  {
   "cell_type": "code",
   "execution_count": null,
   "metadata": {
    "cell_id": "00011-d8aadc01-d7d3-4975-a773-0ea90863e4d8",
    "deepnote_cell_type": "code"
   },
   "outputs": [],
   "source": [
    "random_scores_pipeline = [\n",
    "    {'$match': {\n",
    "        'date': {'$gt': datetime(2019, 1, 1)},\n",
    "        'user_id': {'$nin': users_7k_up}\n",
    "    }},\n",
    "    {'$sample': {'size': len(sample)}},\n",
    "    {'$project': {'mlpp': {'est_user_pp': 1}}}\n",
    "]"
   ]
  },
  {
   "cell_type": "code",
   "execution_count": null,
   "metadata": {
    "cell_id": "00012-1101386b-beb7-4ff7-8326-9d88969c5856",
    "deepnote_cell_type": "code"
   },
   "outputs": [],
   "source": [
    "random_sample = [s['mlpp']['est_user_pp'] for s in val_dump[0].aggregate(random_scores_pipeline)]"
   ]
  },
  {
   "cell_type": "code",
   "execution_count": null,
   "metadata": {
    "cell_id": "00013-9bc74512-a23f-48c8-8bb3-d1be181763a7",
    "deepnote_cell_type": "code"
   },
   "outputs": [],
   "source": [
    "sampleFuncGenerator.prop_displaced(sample)"
   ]
  },
  {
   "cell_type": "code",
   "execution_count": null,
   "metadata": {
    "cell_id": "00014-82cdd8c4-1bba-4a56-b37e-20a417ba40c3",
    "deepnote_cell_type": "code"
   },
   "outputs": [],
   "source": [
    "import matplotlib.pyplot as plt\n",
    "\n",
    "fig, axs = plt.subplots(1, 2, figsize = (20, 8))\n",
    "axs[0].hist(random_sample, bins = 50)\n",
    "axs[0].plot([0, 7000], [cap, cap])\n",
    "axs[0].set_title('Random 1% sample')\n",
    "axs[0].annotate(f'Error: 40.6%', [5500, 5000], fontsize=20)\n",
    "axs[0].set(xlabel = 'Score est user PP', ylabel='Count')\n",
    "axs[1].hist(sample, bins = 50)\n",
    "axs[1].plot([0, 7000], [cap, cap])\n",
    "axs[1].annotate(f'Error: 12.4%', [5500, 1500], fontsize=20)\n",
    "axs[1].set_title('Sampling function 1% sample')\n",
    "axs[1].set(xlabel = 'Score est user PP', ylabel='Count')"
   ]
  },
  {
   "cell_type": "markdown",
   "metadata": {
    "created_in_deepnote_cell": true,
    "deepnote_cell_type": "markdown",
    "tags": []
   },
   "source": [
    "<a style='text-decoration:none;line-height:16px;display:flex;color:#5B5B62;padding:10px;justify-content:end;' href='https://deepnote.com?utm_source=created-in-deepnote-cell&projectId=f93d0822-db5a-47ef-9a78-57b8adfbeb20' target=\"_blank\">\n",
    "<img style='display:inline;max-height:16px;margin:0px;margin-right:7.5px;' src='data:image/svg+xml;base64,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' > </img>\n",
    "Created in <span style='font-weight:600;margin-left:4px;'>Deepnote</span></a>"
   ]
  }
 ],
 "metadata": {
  "deepnote": {},
  "deepnote_execution_queue": [],
  "deepnote_notebook_id": "ed1a54b1-9a78-41e8-afd3-3b700bcde805",
  "kernelspec": {
   "display_name": "dsu-mlpp-env",
   "language": "python",
   "name": "dsu-mlpp-env"
  },
  "language_info": {
   "codemirror_mode": {
    "name": "ipython",
    "version": 3
   },
   "file_extension": ".py",
   "mimetype": "text/x-python",
   "name": "python",
   "nbconvert_exporter": "python",
   "pygments_lexer": "ipython3",
   "version": "3.8.5"
  }
 },
 "nbformat": 4,
 "nbformat_minor": 4
}
