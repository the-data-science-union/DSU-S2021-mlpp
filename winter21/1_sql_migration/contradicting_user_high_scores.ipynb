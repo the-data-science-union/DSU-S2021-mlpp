{
  "cells": [
    {
      "cell_type": "markdown",
      "source": "# Determine the frequency and cause of contradicting highscores\n**Contributors:** Victor Lin\n\n**Achievement:** The frequency of duplicate scores (scores from the same player, beatmap, and mods) was found to be 778, or ~.00078% of the 10M scores present across all dumps. Duplicates can be safely ignored for the data cleaning process.\n\n**Requirements:**\n\n1. *exploration/sql_migration/random_dump_migration.ipynb*",
      "metadata": {
        "cell_id": "00000-ad8d96e8-85a3-44f3-89d5-93d657d581f9",
        "deepnote_cell_type": "markdown"
      }
    },
    {
      "cell_type": "markdown",
      "source": "## Introduction\nSimilar to the exploration of user crossover between random dumps, this notebook takes a closer look at contradicting user highscores, for the same beatmap and dump, found in *random_dump_migration.ipynb*",
      "metadata": {
        "cell_id": "00001-9c5a8e0d-8732-4083-86f0-dbab66c05cd3",
        "deepnote_cell_type": "markdown"
      }
    },
    {
      "cell_type": "code",
      "metadata": {
        "cell_id": "00002-6e300212-f720-40a1-909b-e624cdb10ab1",
        "deepnote_cell_type": "code"
      },
      "source": "import sys\nsys.path.append('../..')\nfrom exploration.config import sql_inst, mongo_inst",
      "execution_count": null,
      "outputs": []
    },
    {
      "cell_type": "code",
      "metadata": {
        "cell_id": "00003-8958d28d-d17c-4967-8224-e4abc69e0a15",
        "deepnote_cell_type": "code"
      },
      "source": "osu_random_db = mongo_inst['osu_random_db']",
      "execution_count": null,
      "outputs": []
    },
    {
      "cell_type": "markdown",
      "source": "## Contradicting Highscores Pipeline Filter\nDefine a pipeline that groups highscores by identical (user_id, beatmap_id, and mods) index. Filter for groups with more than one highscore found (aka, contradicting highscores)",
      "metadata": {
        "cell_id": "00004-7bc21927-f1f5-4caa-b06a-3af60441c6b2",
        "deepnote_cell_type": "markdown"
      }
    },
    {
      "cell_type": "code",
      "metadata": {
        "cell_id": "00005-f7815dbb-6c1e-4896-a910-80b7c2c00047",
        "deepnote_cell_type": "code"
      },
      "source": "pipeline = [\n    {\n        '$group': {\n            '_id': {\n                'user_id': '$user_id',\n                'beatmap_id': '$beatmap_id',\n                'enabled_mods': '$enabled_mods'\n            },\n            'count': {\n                \n                '$sum': 1\n            }\n        }\n    },\n    {\n        '$match': {\n            'count': {\n                '$gt': 1\n            }\n        }\n    },\n\n]\n\nduplicate_indecies = osu_random_db['osu_scores_high'].aggregate(pipeline, allowDiskUse = True)",
      "execution_count": null,
      "outputs": []
    },
    {
      "cell_type": "markdown",
      "source": "## Querying highscores from each multi-index\nFor the Aug - Jan dumps, it appears there are only cases of 2 contradicting highscores for each index (as opposed to 3 or more)",
      "metadata": {
        "cell_id": "00006-876a689d-c609-46a3-8e71-7ee2c1ea6d53",
        "deepnote_cell_type": "markdown"
      }
    },
    {
      "cell_type": "code",
      "metadata": {
        "cell_id": "00007-1199b413-3c38-488d-826b-f4fcdd58542d",
        "deepnote_cell_type": "code"
      },
      "source": "duplicate_highscores = []\n\nfor duplicate_index in duplicate_indecies:\n    index = duplicate_index['_id']\n    duplicate_highscores.extend(osu_random_db['osu_scores_high'].find(index, {'mlpp': 0}))",
      "execution_count": null,
      "outputs": []
    },
    {
      "cell_type": "markdown",
      "source": "## Investigating Highscores with DataFrame\nReordered table columns to have the 3 indexed columsn (beatmap_id, user_id, enabled_mods) to be first",
      "metadata": {
        "cell_id": "00008-16f9a420-394c-47c7-9755-c8d852fbbf49",
        "deepnote_cell_type": "markdown"
      }
    },
    {
      "cell_type": "code",
      "metadata": {
        "cell_id": "00009-8e09358b-be88-4ca2-aade-9bab40a2df98",
        "deepnote_cell_type": "code"
      },
      "source": "import pandas as pd\ndf = pd.DataFrame(duplicate_highscores)\ndf.set_index(['beatmap_id', 'user_id', 'enabled_mods'])\n\ncols = df.columns.tolist()\ncols = cols[1:3] + cols[-6:-5] + cols[:1] + cols[3: -6] + cols[-5:]\ndf = df[cols]",
      "execution_count": null,
      "outputs": []
    },
    {
      "cell_type": "markdown",
      "source": "## Tables for first 5 contradicting pairs of highscores\nIt appears that for each pair, one highscore was submitted in 2011 or 2012 and one in 2017. Perhaps there was a change to score storage in this time that occasionally missed duplicates.",
      "metadata": {
        "cell_id": "00010-399b9c8c-da6e-4197-bfb3-2b878988d27a",
        "deepnote_cell_type": "markdown"
      }
    },
    {
      "cell_type": "code",
      "metadata": {
        "cell_id": "00011-56f35973-f787-4818-be8f-a4948a64d1a5",
        "deepnote_cell_type": "code"
      },
      "source": "from IPython.display import display\n\nfor i in range(5):\n    print(f'\\n\\nContradicting highscores GROUP {i + 1}')\n    display(df[2 * i: 2 * (i + 1)])",
      "execution_count": 46,
      "outputs": [
        {
          "output_type": "stream",
          "name": "stdout",
          "text": "\n\nContradicting highscores GROUP 1\n"
        },
        {
          "output_type": "display_data",
          "data": {
            "text/plain": "   beatmap_id  user_id  enabled_mods         _id    score  maxcombo rank  \\\n0       82249   125326             0  2352651667  1924818       239    B   \n1       82249   125326             0   819090105  7711092       672    S   \n\n   count50  count100  count300  countmiss  countgeki  countkatu  perfect  \\\n0        6        39       420          4         67         15        0   \n1        0        23       446          0         74         15        0   \n\n                 date       pp  replay  hidden country_acronym  \n0 2017-08-16 05:44:25  24.0668       0       0              NL  \n1 2012-08-09 16:44:31  69.1838       0       0              NL  ",
            "text/html": "<div>\n<style scoped>\n    .dataframe tbody tr th:only-of-type {\n        vertical-align: middle;\n    }\n\n    .dataframe tbody tr th {\n        vertical-align: top;\n    }\n\n    .dataframe thead th {\n        text-align: right;\n    }\n</style>\n<table border=\"1\" class=\"dataframe\">\n  <thead>\n    <tr style=\"text-align: right;\">\n      <th></th>\n      <th>beatmap_id</th>\n      <th>user_id</th>\n      <th>enabled_mods</th>\n      <th>_id</th>\n      <th>score</th>\n      <th>maxcombo</th>\n      <th>rank</th>\n      <th>count50</th>\n      <th>count100</th>\n      <th>count300</th>\n      <th>countmiss</th>\n      <th>countgeki</th>\n      <th>countkatu</th>\n      <th>perfect</th>\n      <th>date</th>\n      <th>pp</th>\n      <th>replay</th>\n      <th>hidden</th>\n      <th>country_acronym</th>\n    </tr>\n  </thead>\n  <tbody>\n    <tr>\n      <th>0</th>\n      <td>82249</td>\n      <td>125326</td>\n      <td>0</td>\n      <td>2352651667</td>\n      <td>1924818</td>\n      <td>239</td>\n      <td>B</td>\n      <td>6</td>\n      <td>39</td>\n      <td>420</td>\n      <td>4</td>\n      <td>67</td>\n      <td>15</td>\n      <td>0</td>\n      <td>2017-08-16 05:44:25</td>\n      <td>24.0668</td>\n      <td>0</td>\n      <td>0</td>\n      <td>NL</td>\n    </tr>\n    <tr>\n      <th>1</th>\n      <td>82249</td>\n      <td>125326</td>\n      <td>0</td>\n      <td>819090105</td>\n      <td>7711092</td>\n      <td>672</td>\n      <td>S</td>\n      <td>0</td>\n      <td>23</td>\n      <td>446</td>\n      <td>0</td>\n      <td>74</td>\n      <td>15</td>\n      <td>0</td>\n      <td>2012-08-09 16:44:31</td>\n      <td>69.1838</td>\n      <td>0</td>\n      <td>0</td>\n      <td>NL</td>\n    </tr>\n  </tbody>\n</table>\n</div>"
          },
          "metadata": {}
        },
        {
          "output_type": "stream",
          "name": "stdout",
          "text": "\n\nContradicting highscores GROUP 2\n"
        },
        {
          "output_type": "display_data",
          "data": {
            "text/plain": "   beatmap_id  user_id  enabled_mods         _id    score  maxcombo rank  \\\n2       34208   222108             0  2405680539  2555898       438    A   \n3       34208   222108             0   414144947  1135712       236    B   \n\n   count50  count100  count300  countmiss  countgeki  countkatu  perfect  \\\n2        1        14       267          1         46         11        0   \n3        7        43       229          4         33         18        0   \n\n                 date       pp  replay  hidden country_acronym  \n2 2017-11-15 10:53:20  32.6380       0       0              BE  \n3 2011-08-24 10:58:25  15.3665       0       0              BE  ",
            "text/html": "<div>\n<style scoped>\n    .dataframe tbody tr th:only-of-type {\n        vertical-align: middle;\n    }\n\n    .dataframe tbody tr th {\n        vertical-align: top;\n    }\n\n    .dataframe thead th {\n        text-align: right;\n    }\n</style>\n<table border=\"1\" class=\"dataframe\">\n  <thead>\n    <tr style=\"text-align: right;\">\n      <th></th>\n      <th>beatmap_id</th>\n      <th>user_id</th>\n      <th>enabled_mods</th>\n      <th>_id</th>\n      <th>score</th>\n      <th>maxcombo</th>\n      <th>rank</th>\n      <th>count50</th>\n      <th>count100</th>\n      <th>count300</th>\n      <th>countmiss</th>\n      <th>countgeki</th>\n      <th>countkatu</th>\n      <th>perfect</th>\n      <th>date</th>\n      <th>pp</th>\n      <th>replay</th>\n      <th>hidden</th>\n      <th>country_acronym</th>\n    </tr>\n  </thead>\n  <tbody>\n    <tr>\n      <th>2</th>\n      <td>34208</td>\n      <td>222108</td>\n      <td>0</td>\n      <td>2405680539</td>\n      <td>2555898</td>\n      <td>438</td>\n      <td>A</td>\n      <td>1</td>\n      <td>14</td>\n      <td>267</td>\n      <td>1</td>\n      <td>46</td>\n      <td>11</td>\n      <td>0</td>\n      <td>2017-11-15 10:53:20</td>\n      <td>32.6380</td>\n      <td>0</td>\n      <td>0</td>\n      <td>BE</td>\n    </tr>\n    <tr>\n      <th>3</th>\n      <td>34208</td>\n      <td>222108</td>\n      <td>0</td>\n      <td>414144947</td>\n      <td>1135712</td>\n      <td>236</td>\n      <td>B</td>\n      <td>7</td>\n      <td>43</td>\n      <td>229</td>\n      <td>4</td>\n      <td>33</td>\n      <td>18</td>\n      <td>0</td>\n      <td>2011-08-24 10:58:25</td>\n      <td>15.3665</td>\n      <td>0</td>\n      <td>0</td>\n      <td>BE</td>\n    </tr>\n  </tbody>\n</table>\n</div>"
          },
          "metadata": {}
        },
        {
          "output_type": "stream",
          "name": "stdout",
          "text": "\n\nContradicting highscores GROUP 3\n"
        },
        {
          "output_type": "display_data",
          "data": {
            "text/plain": "   beatmap_id  user_id  enabled_mods         _id     score  maxcombo rank  \\\n4       31819   313045             0  2317893925  11367840       602    A   \n5       31819   313045             0   227036885  24931740      1145    S   \n\n   count50  count100  count300  countmiss  countgeki  countkatu  perfect  \\\n4       10        57       895          6         41         17        0   \n5        3        69       896          0         43         19        0   \n\n                 date        pp  replay  hidden country_acronym  \n4 2017-06-14 20:31:29   68.2835       0       0              CO  \n5 2011-01-30 15:19:55  124.2720       0       0              CO  ",
            "text/html": "<div>\n<style scoped>\n    .dataframe tbody tr th:only-of-type {\n        vertical-align: middle;\n    }\n\n    .dataframe tbody tr th {\n        vertical-align: top;\n    }\n\n    .dataframe thead th {\n        text-align: right;\n    }\n</style>\n<table border=\"1\" class=\"dataframe\">\n  <thead>\n    <tr style=\"text-align: right;\">\n      <th></th>\n      <th>beatmap_id</th>\n      <th>user_id</th>\n      <th>enabled_mods</th>\n      <th>_id</th>\n      <th>score</th>\n      <th>maxcombo</th>\n      <th>rank</th>\n      <th>count50</th>\n      <th>count100</th>\n      <th>count300</th>\n      <th>countmiss</th>\n      <th>countgeki</th>\n      <th>countkatu</th>\n      <th>perfect</th>\n      <th>date</th>\n      <th>pp</th>\n      <th>replay</th>\n      <th>hidden</th>\n      <th>country_acronym</th>\n    </tr>\n  </thead>\n  <tbody>\n    <tr>\n      <th>4</th>\n      <td>31819</td>\n      <td>313045</td>\n      <td>0</td>\n      <td>2317893925</td>\n      <td>11367840</td>\n      <td>602</td>\n      <td>A</td>\n      <td>10</td>\n      <td>57</td>\n      <td>895</td>\n      <td>6</td>\n      <td>41</td>\n      <td>17</td>\n      <td>0</td>\n      <td>2017-06-14 20:31:29</td>\n      <td>68.2835</td>\n      <td>0</td>\n      <td>0</td>\n      <td>CO</td>\n    </tr>\n    <tr>\n      <th>5</th>\n      <td>31819</td>\n      <td>313045</td>\n      <td>0</td>\n      <td>227036885</td>\n      <td>24931740</td>\n      <td>1145</td>\n      <td>S</td>\n      <td>3</td>\n      <td>69</td>\n      <td>896</td>\n      <td>0</td>\n      <td>43</td>\n      <td>19</td>\n      <td>0</td>\n      <td>2011-01-30 15:19:55</td>\n      <td>124.2720</td>\n      <td>0</td>\n      <td>0</td>\n      <td>CO</td>\n    </tr>\n  </tbody>\n</table>\n</div>"
          },
          "metadata": {}
        },
        {
          "output_type": "stream",
          "name": "stdout",
          "text": "\n\nContradicting highscores GROUP 4\n"
        },
        {
          "output_type": "display_data",
          "data": {
            "text/plain": "   beatmap_id  user_id  enabled_mods         _id     score  maxcombo rank  \\\n6      120695   313045             0   638942003   4283606       338    A   \n7      120695   313045             0  2261310360  10552114       756    A   \n\n   count50  count100  count300  countmiss  countgeki  countkatu  perfect  \\\n6        0        27       659          6        161         15        0   \n7        0        16       674          2        163         14        0   \n\n                 date        pp  replay  hidden country_acronym  \n6 2012-03-24 13:27:01   70.4094       0       0              CO  \n7 2017-03-04 22:28:55  149.9820       0       0              CO  ",
            "text/html": "<div>\n<style scoped>\n    .dataframe tbody tr th:only-of-type {\n        vertical-align: middle;\n    }\n\n    .dataframe tbody tr th {\n        vertical-align: top;\n    }\n\n    .dataframe thead th {\n        text-align: right;\n    }\n</style>\n<table border=\"1\" class=\"dataframe\">\n  <thead>\n    <tr style=\"text-align: right;\">\n      <th></th>\n      <th>beatmap_id</th>\n      <th>user_id</th>\n      <th>enabled_mods</th>\n      <th>_id</th>\n      <th>score</th>\n      <th>maxcombo</th>\n      <th>rank</th>\n      <th>count50</th>\n      <th>count100</th>\n      <th>count300</th>\n      <th>countmiss</th>\n      <th>countgeki</th>\n      <th>countkatu</th>\n      <th>perfect</th>\n      <th>date</th>\n      <th>pp</th>\n      <th>replay</th>\n      <th>hidden</th>\n      <th>country_acronym</th>\n    </tr>\n  </thead>\n  <tbody>\n    <tr>\n      <th>6</th>\n      <td>120695</td>\n      <td>313045</td>\n      <td>0</td>\n      <td>638942003</td>\n      <td>4283606</td>\n      <td>338</td>\n      <td>A</td>\n      <td>0</td>\n      <td>27</td>\n      <td>659</td>\n      <td>6</td>\n      <td>161</td>\n      <td>15</td>\n      <td>0</td>\n      <td>2012-03-24 13:27:01</td>\n      <td>70.4094</td>\n      <td>0</td>\n      <td>0</td>\n      <td>CO</td>\n    </tr>\n    <tr>\n      <th>7</th>\n      <td>120695</td>\n      <td>313045</td>\n      <td>0</td>\n      <td>2261310360</td>\n      <td>10552114</td>\n      <td>756</td>\n      <td>A</td>\n      <td>0</td>\n      <td>16</td>\n      <td>674</td>\n      <td>2</td>\n      <td>163</td>\n      <td>14</td>\n      <td>0</td>\n      <td>2017-03-04 22:28:55</td>\n      <td>149.9820</td>\n      <td>0</td>\n      <td>0</td>\n      <td>CO</td>\n    </tr>\n  </tbody>\n</table>\n</div>"
          },
          "metadata": {}
        },
        {
          "output_type": "stream",
          "name": "stdout",
          "text": "\n\nContradicting highscores GROUP 5\n"
        },
        {
          "output_type": "display_data",
          "data": {
            "text/plain": "   beatmap_id  user_id  enabled_mods         _id    score  maxcombo rank  \\\n8       63499   330565             0   387012375  9377320       601    S   \n9       63499   330565             0  2331103163  9260730       601    S   \n\n   count50  count100  count300  countmiss  countgeki  countkatu  perfect  \\\n8        1        24       478          0         74         16        1   \n9        0        34       469          0         73         18        1   \n\n                 date       pp  replay  hidden country_acronym  \n8 2011-07-29 09:02:27  99.9510       0       0              CN  \n9 2017-07-09 07:08:13  92.3771       0       0              CN  ",
            "text/html": "<div>\n<style scoped>\n    .dataframe tbody tr th:only-of-type {\n        vertical-align: middle;\n    }\n\n    .dataframe tbody tr th {\n        vertical-align: top;\n    }\n\n    .dataframe thead th {\n        text-align: right;\n    }\n</style>\n<table border=\"1\" class=\"dataframe\">\n  <thead>\n    <tr style=\"text-align: right;\">\n      <th></th>\n      <th>beatmap_id</th>\n      <th>user_id</th>\n      <th>enabled_mods</th>\n      <th>_id</th>\n      <th>score</th>\n      <th>maxcombo</th>\n      <th>rank</th>\n      <th>count50</th>\n      <th>count100</th>\n      <th>count300</th>\n      <th>countmiss</th>\n      <th>countgeki</th>\n      <th>countkatu</th>\n      <th>perfect</th>\n      <th>date</th>\n      <th>pp</th>\n      <th>replay</th>\n      <th>hidden</th>\n      <th>country_acronym</th>\n    </tr>\n  </thead>\n  <tbody>\n    <tr>\n      <th>8</th>\n      <td>63499</td>\n      <td>330565</td>\n      <td>0</td>\n      <td>387012375</td>\n      <td>9377320</td>\n      <td>601</td>\n      <td>S</td>\n      <td>1</td>\n      <td>24</td>\n      <td>478</td>\n      <td>0</td>\n      <td>74</td>\n      <td>16</td>\n      <td>1</td>\n      <td>2011-07-29 09:02:27</td>\n      <td>99.9510</td>\n      <td>0</td>\n      <td>0</td>\n      <td>CN</td>\n    </tr>\n    <tr>\n      <th>9</th>\n      <td>63499</td>\n      <td>330565</td>\n      <td>0</td>\n      <td>2331103163</td>\n      <td>9260730</td>\n      <td>601</td>\n      <td>S</td>\n      <td>0</td>\n      <td>34</td>\n      <td>469</td>\n      <td>0</td>\n      <td>73</td>\n      <td>18</td>\n      <td>1</td>\n      <td>2017-07-09 07:08:13</td>\n      <td>92.3771</td>\n      <td>0</td>\n      <td>0</td>\n      <td>CN</td>\n    </tr>\n  </tbody>\n</table>\n</div>"
          },
          "metadata": {}
        }
      ]
    },
    {
      "cell_type": "markdown",
      "source": "## Tables for last 5 contradicting pairs of highscores\nThe score _ids for the first 4 pairs are extremely close, and in the 3rd and 4th pair the other columns are the exact same. This may be an unintentional double submission on the serverside. Overall, contradicting highscores appear to be due to server-side errors, and we should simply choose the higher score.",
      "metadata": {
        "cell_id": "00012-8d801d85-5638-41ab-ab87-15ddf34a60cf",
        "deepnote_cell_type": "markdown"
      }
    },
    {
      "cell_type": "code",
      "metadata": {
        "cell_id": "00013-a3991ba2-ca72-4888-a2d4-2e3f0f66678e",
        "deepnote_cell_type": "code"
      },
      "source": "N = len(duplicate_indecies)\nfor i in range(N - 5, N):\n    print(f'\\n\\nContradicting highscores GROUP {i + 1}')\n    display(df[2 * i: 2 * (i + 1)])",
      "execution_count": 53,
      "outputs": [
        {
          "output_type": "stream",
          "name": "stdout",
          "text": "\n\nContradicting highscores GROUP 147\n"
        },
        {
          "output_type": "display_data",
          "data": {
            "text/plain": "     beatmap_id   user_id  enabled_mods         _id   score  maxcombo rank  \\\n292     1257655  16367408            16  3116695797  526492       206    A   \n293     1257655  16367408            16  3116695798  502325       169    A   \n\n     count50  count100  count300  countmiss  countgeki  countkatu  perfect  \\\n292        2        21       148          0         16         14        0   \n293        2        15       154          0         18         12        0   \n\n                   date       pp  replay  hidden country_acronym  \n292 2020-06-09 19:42:04  8.17476       0       0              MX  \n293 2020-06-09 19:42:04  7.24461       0       0              MX  ",
            "text/html": "<div>\n<style scoped>\n    .dataframe tbody tr th:only-of-type {\n        vertical-align: middle;\n    }\n\n    .dataframe tbody tr th {\n        vertical-align: top;\n    }\n\n    .dataframe thead th {\n        text-align: right;\n    }\n</style>\n<table border=\"1\" class=\"dataframe\">\n  <thead>\n    <tr style=\"text-align: right;\">\n      <th></th>\n      <th>beatmap_id</th>\n      <th>user_id</th>\n      <th>enabled_mods</th>\n      <th>_id</th>\n      <th>score</th>\n      <th>maxcombo</th>\n      <th>rank</th>\n      <th>count50</th>\n      <th>count100</th>\n      <th>count300</th>\n      <th>countmiss</th>\n      <th>countgeki</th>\n      <th>countkatu</th>\n      <th>perfect</th>\n      <th>date</th>\n      <th>pp</th>\n      <th>replay</th>\n      <th>hidden</th>\n      <th>country_acronym</th>\n    </tr>\n  </thead>\n  <tbody>\n    <tr>\n      <th>292</th>\n      <td>1257655</td>\n      <td>16367408</td>\n      <td>16</td>\n      <td>3116695797</td>\n      <td>526492</td>\n      <td>206</td>\n      <td>A</td>\n      <td>2</td>\n      <td>21</td>\n      <td>148</td>\n      <td>0</td>\n      <td>16</td>\n      <td>14</td>\n      <td>0</td>\n      <td>2020-06-09 19:42:04</td>\n      <td>8.17476</td>\n      <td>0</td>\n      <td>0</td>\n      <td>MX</td>\n    </tr>\n    <tr>\n      <th>293</th>\n      <td>1257655</td>\n      <td>16367408</td>\n      <td>16</td>\n      <td>3116695798</td>\n      <td>502325</td>\n      <td>169</td>\n      <td>A</td>\n      <td>2</td>\n      <td>15</td>\n      <td>154</td>\n      <td>0</td>\n      <td>18</td>\n      <td>12</td>\n      <td>0</td>\n      <td>2020-06-09 19:42:04</td>\n      <td>7.24461</td>\n      <td>0</td>\n      <td>0</td>\n      <td>MX</td>\n    </tr>\n  </tbody>\n</table>\n</div>"
          },
          "metadata": {}
        },
        {
          "output_type": "stream",
          "name": "stdout",
          "text": "\n\nContradicting highscores GROUP 148\n"
        },
        {
          "output_type": "display_data",
          "data": {
            "text/plain": "     beatmap_id   user_id  enabled_mods         _id  score  maxcombo rank  \\\n294      821752  16576576             0  3040973988  32536        36    C   \n295      821752  16576576             0  3040973986  36122        64    D   \n\n     count50  count100  count300  countmiss  countgeki  countkatu  perfect  \\\n294        5        16        40          2          8         10        0   \n295        7        18        37          1          9          7        0   \n\n                   date        pp  replay  hidden country_acronym  \n294 2020-04-02 09:35:49  0.402358       0       0              US  \n295 2020-04-02 09:35:49  0.640620       0       0              US  ",
            "text/html": "<div>\n<style scoped>\n    .dataframe tbody tr th:only-of-type {\n        vertical-align: middle;\n    }\n\n    .dataframe tbody tr th {\n        vertical-align: top;\n    }\n\n    .dataframe thead th {\n        text-align: right;\n    }\n</style>\n<table border=\"1\" class=\"dataframe\">\n  <thead>\n    <tr style=\"text-align: right;\">\n      <th></th>\n      <th>beatmap_id</th>\n      <th>user_id</th>\n      <th>enabled_mods</th>\n      <th>_id</th>\n      <th>score</th>\n      <th>maxcombo</th>\n      <th>rank</th>\n      <th>count50</th>\n      <th>count100</th>\n      <th>count300</th>\n      <th>countmiss</th>\n      <th>countgeki</th>\n      <th>countkatu</th>\n      <th>perfect</th>\n      <th>date</th>\n      <th>pp</th>\n      <th>replay</th>\n      <th>hidden</th>\n      <th>country_acronym</th>\n    </tr>\n  </thead>\n  <tbody>\n    <tr>\n      <th>294</th>\n      <td>821752</td>\n      <td>16576576</td>\n      <td>0</td>\n      <td>3040973988</td>\n      <td>32536</td>\n      <td>36</td>\n      <td>C</td>\n      <td>5</td>\n      <td>16</td>\n      <td>40</td>\n      <td>2</td>\n      <td>8</td>\n      <td>10</td>\n      <td>0</td>\n      <td>2020-04-02 09:35:49</td>\n      <td>0.402358</td>\n      <td>0</td>\n      <td>0</td>\n      <td>US</td>\n    </tr>\n    <tr>\n      <th>295</th>\n      <td>821752</td>\n      <td>16576576</td>\n      <td>0</td>\n      <td>3040973986</td>\n      <td>36122</td>\n      <td>64</td>\n      <td>D</td>\n      <td>7</td>\n      <td>18</td>\n      <td>37</td>\n      <td>1</td>\n      <td>9</td>\n      <td>7</td>\n      <td>0</td>\n      <td>2020-04-02 09:35:49</td>\n      <td>0.640620</td>\n      <td>0</td>\n      <td>0</td>\n      <td>US</td>\n    </tr>\n  </tbody>\n</table>\n</div>"
          },
          "metadata": {}
        },
        {
          "output_type": "stream",
          "name": "stdout",
          "text": "\n\nContradicting highscores GROUP 149\n"
        },
        {
          "output_type": "display_data",
          "data": {
            "text/plain": "     beatmap_id   user_id  enabled_mods         _id   score  maxcombo rank  \\\n296     1884614  16576870             0  3045971177  668500       162    C   \n297     1884614  16576870             0  3045971178  668500       162    C   \n\n     count50  count100  count300  countmiss  countgeki  countkatu  perfect  \\\n296        8        54       239          7         45         28        0   \n297        8        54       239          7         45         28        0   \n\n                   date       pp  replay  hidden country_acronym  \n296 2020-04-07 09:55:58  10.7168       1       0              RU  \n297 2020-04-07 09:55:58  10.7168       1       0              RU  ",
            "text/html": "<div>\n<style scoped>\n    .dataframe tbody tr th:only-of-type {\n        vertical-align: middle;\n    }\n\n    .dataframe tbody tr th {\n        vertical-align: top;\n    }\n\n    .dataframe thead th {\n        text-align: right;\n    }\n</style>\n<table border=\"1\" class=\"dataframe\">\n  <thead>\n    <tr style=\"text-align: right;\">\n      <th></th>\n      <th>beatmap_id</th>\n      <th>user_id</th>\n      <th>enabled_mods</th>\n      <th>_id</th>\n      <th>score</th>\n      <th>maxcombo</th>\n      <th>rank</th>\n      <th>count50</th>\n      <th>count100</th>\n      <th>count300</th>\n      <th>countmiss</th>\n      <th>countgeki</th>\n      <th>countkatu</th>\n      <th>perfect</th>\n      <th>date</th>\n      <th>pp</th>\n      <th>replay</th>\n      <th>hidden</th>\n      <th>country_acronym</th>\n    </tr>\n  </thead>\n  <tbody>\n    <tr>\n      <th>296</th>\n      <td>1884614</td>\n      <td>16576870</td>\n      <td>0</td>\n      <td>3045971177</td>\n      <td>668500</td>\n      <td>162</td>\n      <td>C</td>\n      <td>8</td>\n      <td>54</td>\n      <td>239</td>\n      <td>7</td>\n      <td>45</td>\n      <td>28</td>\n      <td>0</td>\n      <td>2020-04-07 09:55:58</td>\n      <td>10.7168</td>\n      <td>1</td>\n      <td>0</td>\n      <td>RU</td>\n    </tr>\n    <tr>\n      <th>297</th>\n      <td>1884614</td>\n      <td>16576870</td>\n      <td>0</td>\n      <td>3045971178</td>\n      <td>668500</td>\n      <td>162</td>\n      <td>C</td>\n      <td>8</td>\n      <td>54</td>\n      <td>239</td>\n      <td>7</td>\n      <td>45</td>\n      <td>28</td>\n      <td>0</td>\n      <td>2020-04-07 09:55:58</td>\n      <td>10.7168</td>\n      <td>1</td>\n      <td>0</td>\n      <td>RU</td>\n    </tr>\n  </tbody>\n</table>\n</div>"
          },
          "metadata": {}
        },
        {
          "output_type": "stream",
          "name": "stdout",
          "text": "\n\nContradicting highscores GROUP 150\n"
        },
        {
          "output_type": "display_data",
          "data": {
            "text/plain": "     beatmap_id   user_id  enabled_mods         _id   score  maxcombo rank  \\\n298     2279985  16630180             0  3048885837  598556       226    X   \n299     2279985  16630180             0  3048885838  598556       226    X   \n\n     count50  count100  count300  countmiss  countgeki  countkatu  perfect  \\\n298        0         0       133          0         27          0        1   \n299        0         0       133          0         27          0        1   \n\n                   date       pp  replay  hidden country_acronym  \n298 2020-04-10 06:46:29  16.2466       0       0              ID  \n299 2020-04-10 06:46:29  16.2466       0       0              ID  ",
            "text/html": "<div>\n<style scoped>\n    .dataframe tbody tr th:only-of-type {\n        vertical-align: middle;\n    }\n\n    .dataframe tbody tr th {\n        vertical-align: top;\n    }\n\n    .dataframe thead th {\n        text-align: right;\n    }\n</style>\n<table border=\"1\" class=\"dataframe\">\n  <thead>\n    <tr style=\"text-align: right;\">\n      <th></th>\n      <th>beatmap_id</th>\n      <th>user_id</th>\n      <th>enabled_mods</th>\n      <th>_id</th>\n      <th>score</th>\n      <th>maxcombo</th>\n      <th>rank</th>\n      <th>count50</th>\n      <th>count100</th>\n      <th>count300</th>\n      <th>countmiss</th>\n      <th>countgeki</th>\n      <th>countkatu</th>\n      <th>perfect</th>\n      <th>date</th>\n      <th>pp</th>\n      <th>replay</th>\n      <th>hidden</th>\n      <th>country_acronym</th>\n    </tr>\n  </thead>\n  <tbody>\n    <tr>\n      <th>298</th>\n      <td>2279985</td>\n      <td>16630180</td>\n      <td>0</td>\n      <td>3048885837</td>\n      <td>598556</td>\n      <td>226</td>\n      <td>X</td>\n      <td>0</td>\n      <td>0</td>\n      <td>133</td>\n      <td>0</td>\n      <td>27</td>\n      <td>0</td>\n      <td>1</td>\n      <td>2020-04-10 06:46:29</td>\n      <td>16.2466</td>\n      <td>0</td>\n      <td>0</td>\n      <td>ID</td>\n    </tr>\n    <tr>\n      <th>299</th>\n      <td>2279985</td>\n      <td>16630180</td>\n      <td>0</td>\n      <td>3048885838</td>\n      <td>598556</td>\n      <td>226</td>\n      <td>X</td>\n      <td>0</td>\n      <td>0</td>\n      <td>133</td>\n      <td>0</td>\n      <td>27</td>\n      <td>0</td>\n      <td>1</td>\n      <td>2020-04-10 06:46:29</td>\n      <td>16.2466</td>\n      <td>0</td>\n      <td>0</td>\n      <td>ID</td>\n    </tr>\n  </tbody>\n</table>\n</div>"
          },
          "metadata": {}
        },
        {
          "output_type": "stream",
          "name": "stdout",
          "text": "\n\nContradicting highscores GROUP 151\n"
        },
        {
          "output_type": "display_data",
          "data": {
            "text/plain": "     beatmap_id   user_id  enabled_mods         _id  score  maxcombo rank  \\\n300     1937471  18927678             1  3297712219  36834        52    C   \n301     1937471  18927678             1  3297715568  37412        48    C   \n\n     count50  count100  count300  countmiss  countgeki  countkatu  perfect  \\\n300        2        14        55          1         12         10        0   \n301        0        14        57          1         14         10        0   \n\n                   date       pp  replay  hidden country_acronym  \n300 2020-10-28 03:27:58  1.50850       0       0              FR  \n301 2020-10-28 03:31:50  1.44036       0       0              FR  ",
            "text/html": "<div>\n<style scoped>\n    .dataframe tbody tr th:only-of-type {\n        vertical-align: middle;\n    }\n\n    .dataframe tbody tr th {\n        vertical-align: top;\n    }\n\n    .dataframe thead th {\n        text-align: right;\n    }\n</style>\n<table border=\"1\" class=\"dataframe\">\n  <thead>\n    <tr style=\"text-align: right;\">\n      <th></th>\n      <th>beatmap_id</th>\n      <th>user_id</th>\n      <th>enabled_mods</th>\n      <th>_id</th>\n      <th>score</th>\n      <th>maxcombo</th>\n      <th>rank</th>\n      <th>count50</th>\n      <th>count100</th>\n      <th>count300</th>\n      <th>countmiss</th>\n      <th>countgeki</th>\n      <th>countkatu</th>\n      <th>perfect</th>\n      <th>date</th>\n      <th>pp</th>\n      <th>replay</th>\n      <th>hidden</th>\n      <th>country_acronym</th>\n    </tr>\n  </thead>\n  <tbody>\n    <tr>\n      <th>300</th>\n      <td>1937471</td>\n      <td>18927678</td>\n      <td>1</td>\n      <td>3297712219</td>\n      <td>36834</td>\n      <td>52</td>\n      <td>C</td>\n      <td>2</td>\n      <td>14</td>\n      <td>55</td>\n      <td>1</td>\n      <td>12</td>\n      <td>10</td>\n      <td>0</td>\n      <td>2020-10-28 03:27:58</td>\n      <td>1.50850</td>\n      <td>0</td>\n      <td>0</td>\n      <td>FR</td>\n    </tr>\n    <tr>\n      <th>301</th>\n      <td>1937471</td>\n      <td>18927678</td>\n      <td>1</td>\n      <td>3297715568</td>\n      <td>37412</td>\n      <td>48</td>\n      <td>C</td>\n      <td>0</td>\n      <td>14</td>\n      <td>57</td>\n      <td>1</td>\n      <td>14</td>\n      <td>10</td>\n      <td>0</td>\n      <td>2020-10-28 03:31:50</td>\n      <td>1.44036</td>\n      <td>0</td>\n      <td>0</td>\n      <td>FR</td>\n    </tr>\n  </tbody>\n</table>\n</div>"
          },
          "metadata": {}
        }
      ]
    },
    {
      "cell_type": "markdown",
      "source": "<a style='text-decoration:none;line-height:16px;display:flex;color:#5B5B62;padding:10px;justify-content:end;' href='https://deepnote.com?utm_source=created-in-deepnote-cell&projectId=f93d0822-db5a-47ef-9a78-57b8adfbeb20' target=\"_blank\">\n<img style='display:inline;max-height:16px;margin:0px;margin-right:7.5px;' src='data:image/svg+xml;base64,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' > </img>\nCreated in <span style='font-weight:600;margin-left:4px;'>Deepnote</span></a>",
      "metadata": {
        "tags": [],
        "created_in_deepnote_cell": true,
        "deepnote_cell_type": "markdown"
      }
    }
  ],
  "nbformat": 4,
  "nbformat_minor": 2,
  "metadata": {
    "kernelspec": {
      "display_name": "Python 3",
      "language": "python",
      "name": "python3"
    },
    "language_info": {
      "codemirror_mode": {
        "name": "ipython"
      },
      "file_extension": ".py",
      "mimetype": "text/x-python",
      "name": "python",
      "nbconvert_exporter": "python"
    },
    "deepnote_notebook_id": "43b8f9bb-db83-472b-8f74-02e80b0d9b62",
    "deepnote": {},
    "deepnote_execution_queue": []
  }
}