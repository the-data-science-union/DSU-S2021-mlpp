{
 "cells": [
  {
   "cell_type": "markdown",
   "metadata": {
    "cell_id": "00000-6374a612-0b6d-446f-affa-27190bc1015a",
    "deepnote_cell_type": "markdown"
   },
   "source": [
    "# Determine the frequency of duplicate scores across several osu random dump\n",
    "**Contributors:** Victor Lin\n",
    "\n",
    "**Achievement:** The frequency of duplicate scores (scores from the same player, beatmap, and mods) was found to be 778, or ~.00078% of the 10M scores present across all dumps. Duplicates can be safely ignored for the data cleaning process.\n",
    "\n",
    "**Requirements:**\n",
    "\n",
    "1. env must be set with MySQL DB & Mongo log-in info\n",
    "2. MySQL DB has imported osu standard dumps (random or top) from https://data.ppy.sh/"
   ]
  },
  {
   "cell_type": "markdown",
   "metadata": {
    "cell_id": "00001-8f63d216-0662-4c0f-8ff3-a44ee7deb308",
    "deepnote_cell_type": "markdown"
   },
   "source": [
    "## Introduction\n",
    "Isolated osu random dumps contain 10k unique players. However, there can be player crossover *between* dumps. This leads to the possibility of duplicate scores, where a player in an older dump updates their score for a particular beatmap+mod, resulting in a repeat in the new dump.\n",
    "\n",
    "The SQL pipeline to pinpoint the frequency of these duplicates falls under 2 steps:\n",
    "\n",
    "1. Reduce Player Search Space\n",
    "\n",
    "2. Calculate Duplicate Frequency"
   ]
  },
  {
   "cell_type": "code",
   "execution_count": null,
   "metadata": {
    "cell_id": "00002-7f8dca1e-c728-4ca5-9f9d-b0cf3d9d512a",
    "deepnote_cell_type": "code"
   },
   "outputs": [],
   "source": [
    "import sys\n",
    "sys.path.append('../..')\n",
    "import pymysql\n",
    "import pandas as pd\n",
    "from exploration.config import sql_inst"
   ]
  },
  {
   "cell_type": "code",
   "execution_count": null,
   "metadata": {
    "cell_id": "00003-68a54434-109f-4753-b36f-e95845afce3b",
    "deepnote_cell_type": "code"
   },
   "outputs": [],
   "source": [
    "random_dump_titles = [\n",
    "    \"osu_random_2020_08\",\n",
    "    \"osu_random_2020_09\",\n",
    "    \"osu_random_2020_10\",\n",
    "    \"osu_random_2020_11\",\n",
    "    \"osu_random_2020_12\",\n",
    "    \"osu_random_2021_01\"\n",
    "]"
   ]
  },
  {
   "cell_type": "markdown",
   "metadata": {
    "cell_id": "00004-328a62da-9d13-4bb0-9faf-ba086d0a0884",
    "deepnote_cell_type": "markdown"
   },
   "source": [
    "## 1) Reduce Search Space\n",
    "Union all osu_user_stats tables to identify only the players with crossover. No need to search other players, as they cannot have duplicates."
   ]
  },
  {
   "cell_type": "code",
   "execution_count": null,
   "metadata": {
    "cell_id": "00005-defacd1c-0560-41db-bb83-63c7f5c0c96b",
    "deepnote_cell_type": "code"
   },
   "outputs": [],
   "source": [
    "def find_repeat_users(dump_titles):\n",
    "    template = \"(SELECT user_id FROM {}.osu_user_stats)\".format\n",
    "    QUERY_UNION_USER_ID = '\\nUNION ALL\\n'.join(map(template, random_dump_titles))\n",
    "\n",
    "    with sql_inst.cursor() as cursor:\n",
    "        cursor.execute(\n",
    "            f\"\"\"\n",
    "            SELECT user_id\n",
    "            FROM (\n",
    "                {QUERY_UNION_USER_ID}\n",
    "            )as USERS_INCLUDING_DUPE\n",
    "            GROUP BY user_id\n",
    "            HAVING COUNT(*) > 1\n",
    "            ORDER BY COUNT(*) DESC \n",
    "            \"\"\"\n",
    "        )\n",
    "\n",
    "        return tuple(row[0] for row in cursor)\n",
    "\n",
    "REPEAT_USERS_TUPLE = find_repeat_users(random_dump_titles)"
   ]
  },
  {
   "cell_type": "markdown",
   "metadata": {
    "cell_id": "00006-28b44c9c-a865-4ccf-a1c1-8fe6796fd2a0",
    "deepnote_cell_type": "markdown"
   },
   "source": [
    "## 2) Frequency Calculation\n",
    "Only for osu highscores from the players identified, group scores by unique (player, beatmap, mod) combinations. Accumulate the frequency of groups > 1 (aka duplicate scores)"
   ]
  },
  {
   "cell_type": "code",
   "execution_count": null,
   "metadata": {
    "cell_id": "00007-9b85a55a-20c9-4d02-8fa6-715117fb716f",
    "deepnote_cell_type": "code"
   },
   "outputs": [],
   "source": [
    "def get_repeat_freq_table(repeat_users):\n",
    "    template = (\"\"\"\n",
    "    SELECT score_id, user_id, beatmap_id, enabled_mods\n",
    "            FROM {}.osu_scores_high\n",
    "            WHERE\n",
    "            user_id IN \"\"\" + str(REPEAT_USERS_TUPLE)\n",
    "    ).format\n",
    "\n",
    "    QUERY_USERS_UNION_SCORES = '\\nUNION\\n'.join(map(template, random_dump_titles))\n",
    "\n",
    "    query = f\"\"\"\n",
    "            SELECT B.num_dumps, COUNT(*) as freq FROM (\n",
    "                SELECT COUNT(*) as num_dumps FROM (\n",
    "                    {QUERY_USERS_UNION_SCORES}\n",
    "                ) as A\n",
    "                GROUP BY A.user_id, A.beatmap_id, A.enabled_mods\n",
    "            ) as B\n",
    "            WHERE B.num_dumps > 1\n",
    "            GROUP BY B.num_dumps\n",
    "            \"\"\"\n",
    "\n",
    "    return pd.read_sql(query, sql_inst)\n",
    "\n",
    "get_repeat_freq_table(REPEAT_USERS_TUPLE)"
   ]
  },
  {
   "cell_type": "markdown",
   "metadata": {
    "cell_id": "00008-c3530f31-f30d-4ca0-bbf2-14337f226c81",
    "deepnote_cell_type": "markdown"
   },
   "source": [
    "## Interpretation\n",
    "The above table shows score repeats for 2 dumps were found 778 times out of all 6 osu random dumps. There were no scores that were found across 3 or more dumps. This makes sense, as the probability of each additional dump update should exponentially decreases."
   ]
  },
  {
   "cell_type": "markdown",
   "metadata": {
    "created_in_deepnote_cell": true,
    "deepnote_cell_type": "markdown",
    "tags": []
   },
   "source": [
    "<a style='text-decoration:none;line-height:16px;display:flex;color:#5B5B62;padding:10px;justify-content:end;' href='https://deepnote.com?utm_source=created-in-deepnote-cell&projectId=f93d0822-db5a-47ef-9a78-57b8adfbeb20' target=\"_blank\">\n",
    "<img style='display:inline;max-height:16px;margin:0px;margin-right:7.5px;' src='data:image/svg+xml;base64,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' > </img>\n",
    "Created in <span style='font-weight:600;margin-left:4px;'>Deepnote</span></a>"
   ]
  }
 ],
 "metadata": {
  "deepnote": {},
  "deepnote_execution_queue": [],
  "deepnote_notebook_id": "a9e224e0-e9c8-43e1-bbec-9104672b684c",
  "kernelspec": {
   "display_name": "Python 3",
   "language": "python",
   "name": "python3"
  },
  "language_info": {
   "codemirror_mode": {
    "name": "ipython",
    "version": 3
   },
   "file_extension": ".py",
   "mimetype": "text/x-python",
   "name": "python",
   "nbconvert_exporter": "python",
   "pygments_lexer": "ipython3",
   "version": "3.8.5"
  }
 },
 "nbformat": 4,
 "nbformat_minor": 4
}
